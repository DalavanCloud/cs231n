{
 "metadata": {
  "kernelspec": {
   "display_name": "Python 2",
   "language": "python",
   "name": "python2"
  },
  "language_info": {
   "codemirror_mode": {
    "name": "ipython",
    "version": 2
   },
   "file_extension": ".py",
   "mimetype": "text/x-python",
   "name": "python",
   "nbconvert_exporter": "python",
   "pygments_lexer": "ipython2",
   "version": "2.7.6"
  },
  "name": "",
  "signature": "sha256:0ad5c2d0e6a0f6f90900f8333ef621f557340e787a93b6d82aa15d9df5f8d581"
 },
 "nbformat": 3,
 "nbformat_minor": 0,
 "worksheets": [
  {
   "cells": [
    {
     "cell_type": "markdown",
     "metadata": {},
     "source": [
      "# Convolutional Networks\n",
      "So far we have worked with deep fully-connected networks, using them to explore different optimization strategies and network architectures. Fully-connected networks are a good testbed for experimentation because they are very computationally efficient, but in practice all state-of-the-art results use convolutional networks instead.\n",
      "\n",
      "First you will implement several layer types that are used in convolutional networks. You will then use these layers to train a convolutional network on the CIFAR-10 dataset."
     ]
    },
    {
     "cell_type": "code",
     "collapsed": false,
     "input": [
      "# As usual, a bit of setup\n",
      "\n",
      "import numpy as np\n",
      "import matplotlib.pyplot as plt\n",
      "from cs231n.classifiers.cnn import *\n",
      "from cs231n.data_utils import get_CIFAR10_data\n",
      "from cs231n.gradient_check import eval_numerical_gradient_array, eval_numerical_gradient\n",
      "from cs231n.layers import *\n",
      "from cs231n.fast_layers import *\n",
      "from cs231n.solver import Solver\n",
      "\n",
      "%matplotlib inline\n",
      "plt.rcParams['figure.figsize'] = (10.0, 8.0) # set default size of plots\n",
      "plt.rcParams['image.interpolation'] = 'nearest'\n",
      "plt.rcParams['image.cmap'] = 'gray'\n",
      "\n",
      "# for auto-reloading external modules\n",
      "# see http://stackoverflow.com/questions/1907993/autoreload-of-modules-in-ipython\n",
      "%load_ext autoreload\n",
      "%autoreload 2\n",
      "\n",
      "def rel_error(x, y):\n",
      "  \"\"\" returns relative error \"\"\"\n",
      "  return np.max(np.abs(x - y) / (np.maximum(1e-8, np.abs(x) + np.abs(y))))"
     ],
     "language": "python",
     "metadata": {},
     "outputs": [
      {
       "output_type": "stream",
       "stream": "stdout",
       "text": [
        "The autoreload extension is already loaded. To reload it, use:\n",
        "  %reload_ext autoreload\n"
       ]
      }
     ],
     "prompt_number": 6
    },
    {
     "cell_type": "code",
     "collapsed": false,
     "input": [
      "# Load the (preprocessed) CIFAR10 data.\n",
      "\n",
      "data = get_CIFAR10_data()\n",
      "for k, v in data.iteritems():\n",
      "  print '%s: ' % k, v.shape"
     ],
     "language": "python",
     "metadata": {},
     "outputs": [
      {
       "output_type": "stream",
       "stream": "stdout",
       "text": [
        "X_val:  (1000, 3, 32, 32)"
       ]
      },
      {
       "output_type": "stream",
       "stream": "stdout",
       "text": [
        "\n",
        "X_train:  (49000, 3, 32, 32)\n",
        "X_test:  (1000, 3, 32, 32)\n",
        "y_val:  (1000,)\n",
        "y_train:  (49000,)\n",
        "y_test:  (1000,)\n"
       ]
      }
     ],
     "prompt_number": 7
    },
    {
     "cell_type": "markdown",
     "metadata": {},
     "source": [
      "# Convolution: Naive forward pass\n",
      "The core of a convolutional network is the convolution operation. In the file `cs231n/layers.py`, implement the forward pass for the convolution layer in the function `conv_forward_naive`. \n",
      "\n",
      "You don't have to worry too much about efficiency at this point; just write the code in whatever way you find most clear.\n",
      "\n",
      "You can test your implementation by running the following:"
     ]
    },
    {
     "cell_type": "code",
     "collapsed": false,
     "input": [
      "x_shape = (2, 3, 4, 4)\n",
      "w_shape = (3, 3, 4, 4)\n",
      "x = np.linspace(-0.1, 0.5, num=np.prod(x_shape)).reshape(x_shape)\n",
      "w = np.linspace(-0.2, 0.3, num=np.prod(w_shape)).reshape(w_shape)\n",
      "b = np.linspace(-0.1, 0.2, num=3)\n",
      "\n",
      "conv_param = {'stride': 2, 'pad': 1}\n",
      "out, _ = conv_forward_naive(x, w, b, conv_param)\n",
      "correct_out = np.array([[[[[-0.08759809, -0.10987781],\n",
      "                           [-0.18387192, -0.2109216 ]],\n",
      "                          [[ 0.21027089,  0.21661097],\n",
      "                           [ 0.22847626,  0.23004637]],\n",
      "                          [[ 0.50813986,  0.54309974],\n",
      "                           [ 0.64082444,  0.67101435]]],\n",
      "                         [[[-0.98053589, -1.03143541],\n",
      "                           [-1.19128892, -1.24695841]],\n",
      "                          [[ 0.69108355,  0.66880383],\n",
      "                           [ 0.59480972,  0.56776003]],\n",
      "                          [[ 2.36270298,  2.36904306],\n",
      "                           [ 2.38090835,  2.38247847]]]]])\n",
      "\n",
      "# Compare your output to ours; difference should be around 1e-8\n",
      "print 'Testing conv_forward_naive'\n",
      "print 'difference: ', rel_error(out, correct_out)"
     ],
     "language": "python",
     "metadata": {},
     "outputs": [
      {
       "output_type": "stream",
       "stream": "stdout",
       "text": [
        "Testing conv_forward_naive\n",
        "difference:  2.21214764175e-08\n"
       ]
      }
     ],
     "prompt_number": 8
    },
    {
     "cell_type": "markdown",
     "metadata": {},
     "source": [
      "# Aside: Image processing via convolutions\n",
      "\n",
      "As fun way to both check your implementation and gain a better understanding of the type of operation that convolutional layers can perform, we will set up an input containing two images and manually set up filters that perform common image processing operations (grayscale conversion and edge detection). The convolution forward pass will apply these operations to each of the input images. We can then visualize the results as a sanity check."
     ]
    },
    {
     "cell_type": "code",
     "collapsed": false,
     "input": [
      "from scipy.misc import imread, imresize\n",
      "\n",
      "kitten, puppy = imread('kitten.jpg'), imread('puppy.jpg')\n",
      "# kitten is wide, and puppy is already square\n",
      "d = kitten.shape[1] - kitten.shape[0]\n",
      "kitten_cropped = kitten[:, d/2:-d/2, :]\n",
      "\n",
      "img_size = 200   # Make this smaller if it runs too slow\n",
      "x = np.zeros((2, 3, img_size, img_size))\n",
      "x[0, :, :, :] = imresize(puppy, (img_size, img_size)).transpose((2, 0, 1))\n",
      "x[1, :, :, :] = imresize(kitten_cropped, (img_size, img_size)).transpose((2, 0, 1))\n",
      "\n",
      "# Set up a convolutional weights holding 2 filters, each 3x3\n",
      "w = np.zeros((2, 3, 3, 3))\n",
      "\n",
      "# The first filter converts the image to grayscale.\n",
      "# Set up the red, green, and blue channels of the filter.\n",
      "w[0, 0, :, :] = [[0, 0, 0], [0, 0.3, 0], [0, 0, 0]]\n",
      "w[0, 1, :, :] = [[0, 0, 0], [0, 0.6, 0], [0, 0, 0]]\n",
      "w[0, 2, :, :] = [[0, 0, 0], [0, 0.1, 0], [0, 0, 0]]\n",
      "\n",
      "# Second filter detects horizontal edges in the blue channel.\n",
      "w[1, 2, :, :] = [[1, 2, 1], [0, 0, 0], [-1, -2, -1]]\n",
      "\n",
      "# Vector of biases. We don't need any bias for the grayscale\n",
      "# filter, but for the edge detection filter we want to add 128\n",
      "# to each output so that nothing is negative.\n",
      "b = np.array([0, 128])\n",
      "\n",
      "# Compute the result of convolving each input in x with each filter in w,\n",
      "# offsetting by b, and storing the results in out.\n",
      "out, _ = conv_forward_naive(x, w, b, {'stride': 1, 'pad': 1})\n",
      "\n",
      "def imshow_noax(img, normalize=True):\n",
      "    \"\"\" Tiny helper to show images as uint8 and remove axis labels \"\"\"\n",
      "    if normalize:\n",
      "        img_max, img_min = np.max(img), np.min(img)\n",
      "        img = 255.0 * (img - img_min) / (img_max - img_min)\n",
      "    plt.imshow(img.astype('uint8'))\n",
      "    plt.gca().axis('off')\n",
      "\n",
      "# Show the original images and the results of the conv operation\n",
      "plt.subplot(2, 3, 1)\n",
      "imshow_noax(puppy, normalize=False)\n",
      "plt.title('Original image')\n",
      "plt.subplot(2, 3, 2)\n",
      "imshow_noax(out[0, 0])\n",
      "plt.title('Grayscale')\n",
      "plt.subplot(2, 3, 3)\n",
      "imshow_noax(out[0, 1])\n",
      "plt.title('Edges')\n",
      "plt.subplot(2, 3, 4)\n",
      "imshow_noax(kitten_cropped, normalize=False)\n",
      "plt.subplot(2, 3, 5)\n",
      "imshow_noax(out[1, 0])\n",
      "plt.subplot(2, 3, 6)\n",
      "imshow_noax(out[1, 1])\n",
      "plt.show()"
     ],
     "language": "python",
     "metadata": {},
     "outputs": [
      {
       "metadata": {},
       "output_type": "display_data",
       "png": "[encoded data removed]",
       "text": [
        "<matplotlib.figure.Figure at 0x7f10db9e2890>"
       ]
      }
     ],
     "prompt_number": 4
    },
    {
     "cell_type": "markdown",
     "metadata": {},
     "source": [
      "# Convolution: Naive backward pass\n",
      "Implement the backward pass for the convolution operation in the function `conv_backward_naive` in the file `cs231n/layers.py`. Again, you don't need to worry too much about computational efficiency.\n",
      "\n",
      "When you are done, run the following to check your backward pass with a numeric gradient check."
     ]
    },
    {
     "cell_type": "code",
     "collapsed": false,
     "input": [
      "x = np.random.randn(4, 3, 5, 5)\n",
      "w = np.random.randn(2, 3, 3, 3)\n",
      "b = np.random.randn(2,)\n",
      "dout = np.random.randn(4, 2, 5, 5)\n",
      "conv_param = {'stride': 1, 'pad': 1}\n",
      "\n",
      "dx_num = eval_numerical_gradient_array(lambda x: conv_forward_naive(x, w, b, conv_param)[0], x, dout)\n",
      "dw_num = eval_numerical_gradient_array(lambda w: conv_forward_naive(x, w, b, conv_param)[0], w, dout)\n",
      "db_num = eval_numerical_gradient_array(lambda b: conv_forward_naive(x, w, b, conv_param)[0], b, dout)\n",
      "\n",
      "out, cache = conv_forward_naive(x, w, b, conv_param)\n",
      "dx, dw, db = conv_backward_naive(dout, cache)\n",
      "\n",
      "# Your errors should be around 1e-9'\n",
      "print 'Testing conv_backward_naive function'\n",
      "print 'dx error: ', rel_error(dx, dx_num)\n",
      "print 'dw error: ', rel_error(dw, dw_num)\n",
      "print 'db error: ', rel_error(db, db_num)"
     ],
     "language": "python",
     "metadata": {},
     "outputs": [
      {
       "output_type": "stream",
       "stream": "stdout",
       "text": [
        "Testing conv_backward_naive function\n",
        "dx error:  1.34039145958e-09\n",
        "dw error:  4.97084548852e-10\n",
        "db error:  8.61994642675e-12\n"
       ]
      }
     ],
     "prompt_number": 9
    },
    {
     "cell_type": "markdown",
     "metadata": {},
     "source": [
      "# Max pooling: Naive forward\n",
      "Implement the forward pass for the max-pooling operation in the function `max_pool_forward_naive` in the file `cs231n/layers.py`. Again, don't worry too much about computational efficiency.\n",
      "\n",
      "Check your implementation by running the following:"
     ]
    },
    {
     "cell_type": "code",
     "collapsed": false,
     "input": [
      "x_shape = (2, 3, 4, 4)\n",
      "x = np.linspace(-0.3, 0.4, num=np.prod(x_shape)).reshape(x_shape)\n",
      "pool_param = {'pool_width': 2, 'pool_height': 2, 'stride': 2}\n",
      "\n",
      "out, _ = max_pool_forward_naive(x, pool_param)\n",
      "\n",
      "correct_out = np.array([[[[-0.26315789, -0.24842105],\n",
      "                          [-0.20421053, -0.18947368]],\n",
      "                         [[-0.14526316, -0.13052632],\n",
      "                          [-0.08631579, -0.07157895]],\n",
      "                         [[-0.02736842, -0.01263158],\n",
      "                          [ 0.03157895,  0.04631579]]],\n",
      "                        [[[ 0.09052632,  0.10526316],\n",
      "                          [ 0.14947368,  0.16421053]],\n",
      "                         [[ 0.20842105,  0.22315789],\n",
      "                          [ 0.26736842,  0.28210526]],\n",
      "                         [[ 0.32631579,  0.34105263],\n",
      "                          [ 0.38526316,  0.4       ]]]])\n",
      "\n",
      "# Compare your output with ours. Difference should be around 1e-8.\n",
      "print 'Testing max_pool_forward_naive function:'\n",
      "print 'difference: ', rel_error(out, correct_out)"
     ],
     "language": "python",
     "metadata": {},
     "outputs": [
      {
       "output_type": "stream",
       "stream": "stdout",
       "text": [
        "Testing max_pool_forward_naive function:\n",
        "difference:  4.16666651573e-08\n"
       ]
      }
     ],
     "prompt_number": 11
    },
    {
     "cell_type": "markdown",
     "metadata": {},
     "source": [
      "# Max pooling: Naive backward\n",
      "Implement the backward pass for the max-pooling operation in the function `max_pool_backward_naive` in the file `cs231n/layers.py`. You don't need to worry about computational efficiency.\n",
      "\n",
      "Check your implementation with numeric gradient checking by running the following:"
     ]
    },
    {
     "cell_type": "code",
     "collapsed": false,
     "input": [
      "x = np.random.randn(3, 2, 8, 8)\n",
      "dout = np.random.randn(3, 2, 4, 4)\n",
      "pool_param = {'pool_height': 2, 'pool_width': 2, 'stride': 2}\n",
      "\n",
      "dx_num = eval_numerical_gradient_array(lambda x: max_pool_forward_naive(x, pool_param)[0], x, dout)\n",
      "\n",
      "out, cache = max_pool_forward_naive(x, pool_param)\n",
      "dx = max_pool_backward_naive(dout, cache)\n",
      "\n",
      "# Your error should be around 1e-12\n",
      "print 'Testing max_pool_backward_naive function:'\n",
      "print 'dx error: ', rel_error(dx, dx_num)"
     ],
     "language": "python",
     "metadata": {},
     "outputs": [
      {
       "output_type": "stream",
       "stream": "stdout",
       "text": [
        "Testing max_pool_backward_naive function:\n",
        "dx error:  3.27562480182e-12\n"
       ]
      }
     ],
     "prompt_number": 15
    },
    {
     "cell_type": "markdown",
     "metadata": {},
     "source": [
      "# Fast layers\n",
      "Making convolution and pooling layers fast can be challenging. To spare you the pain, we've provided fast implementations of the forward and backward passes for convolution and pooling layers in the file `cs231n/fast_layers.py`.\n",
      "\n",
      "The fast convolution implementation depends on a Cython extension; to compile it you need to run the following from the `cs231n` directory:\n",
      "\n",
      "```bash\n",
      "python setup.py build_ext --inplace\n",
      "```\n",
      "\n",
      "The API for the fast versions of the convolution and pooling layers is exactly the same as the naive versions that you implemented above: the forward pass receives data, weights, and parameters and produces outputs and a cache object; the backward pass recieves upstream derivatives and the cache object and produces gradients with respect to the data and weights.\n",
      "\n",
      "**NOTE:** The fast implementation for pooling will onlyperf orm optimally if the pooling regions are non-overlapping and tile the input. If these conditions are not met then the fast pooling implementation will not be much faster than the naive implementation.\n",
      "\n",
      "You can compare the performance of the naive and fast versions of these layers by running the following:"
     ]
    },
    {
     "cell_type": "code",
     "collapsed": false,
     "input": [
      "from cs231n.fast_layers import conv_forward_fast, conv_backward_fast\n",
      "from time import time\n",
      "\n",
      "x = np.random.randn(100, 3, 31, 31)\n",
      "w = np.random.randn(25, 3, 3, 3)\n",
      "b = np.random.randn(25,)\n",
      "dout = np.random.randn(100, 25, 16, 16)\n",
      "conv_param = {'stride': 2, 'pad': 1}\n",
      "\n",
      "t0 = time()\n",
      "out_naive, cache_naive = conv_forward_naive(x, w, b, conv_param)\n",
      "t1 = time()\n",
      "out_fast, cache_fast = conv_forward_fast(x, w, b, conv_param)\n",
      "t2 = time()\n",
      "\n",
      "print 'Testing conv_forward_fast:'\n",
      "print 'Naive: %fs' % (t1 - t0)\n",
      "print 'Fast: %fs' % (t2 - t1)\n",
      "print 'Speedup: %fx' % ((t1 - t0) / (t2 - t1))\n",
      "print 'Difference: ', rel_error(out_naive, out_fast)\n",
      "\n",
      "t0 = time()\n",
      "dx_naive, dw_naive, db_naive = conv_backward_naive(dout, cache_naive)\n",
      "t1 = time()\n",
      "dx_fast, dw_fast, db_fast = conv_backward_fast(dout, cache_fast)\n",
      "t2 = time()\n",
      "\n",
      "print '\\nTesting conv_backward_fast:'\n",
      "print 'Naive: %fs' % (t1 - t0)\n",
      "print 'Fast: %fs' % (t2 - t1)\n",
      "print 'Speedup: %fx' % ((t1 - t0) / (t2 - t1))\n",
      "print 'dx difference: ', rel_error(dx_naive, dx_fast)\n",
      "print 'dw difference: ', rel_error(dw_naive, dw_fast)\n",
      "print 'db difference: ', rel_error(db_naive, db_fast)"
     ],
     "language": "python",
     "metadata": {},
     "outputs": [
      {
       "output_type": "stream",
       "stream": "stdout",
       "text": [
        "Testing conv_forward_fast:\n",
        "Naive: 4.263596s\n",
        "Fast: 0.266802s\n",
        "Speedup: 15.980385x\n",
        "Difference:  "
       ]
      },
      {
       "output_type": "stream",
       "stream": "stdout",
       "text": [
        "4.67587190184e-11\n",
        "\n",
        "Testing conv_backward_fast:"
       ]
      },
      {
       "output_type": "stream",
       "stream": "stdout",
       "text": [
        "\n",
        "Naive: 4.285298s\n",
        "Fast: 0.044957s\n",
        "Speedup: 95.320095x\n",
        "dx difference:  3.46371797842e-11\n",
        "dw difference:  1.75786685647e-12\n",
        "db difference:  5.2995678292e-13\n"
       ]
      }
     ],
     "prompt_number": 16
    },
    {
     "cell_type": "code",
     "collapsed": false,
     "input": [
      "from cs231n.fast_layers import max_pool_forward_fast, max_pool_backward_fast\n",
      "\n",
      "x = np.random.randn(100, 3, 32, 32)\n",
      "dout = np.random.randn(100, 3, 16, 16)\n",
      "pool_param = {'pool_height': 2, 'pool_width': 2, 'stride': 2}\n",
      "\n",
      "t0 = time()\n",
      "out_naive, cache_naive = max_pool_forward_naive(x, pool_param)\n",
      "t1 = time()\n",
      "out_fast, cache_fast = max_pool_forward_fast(x, pool_param)\n",
      "t2 = time()\n",
      "\n",
      "print 'Testing pool_forward_fast:'\n",
      "print 'Naive: %fs' % (t1 - t0)\n",
      "print 'fast: %fs' % (t2 - t1)\n",
      "print 'speedup: %fx' % ((t1 - t0) / (t2 - t1))\n",
      "print 'difference: ', rel_error(out_naive, out_fast)\n",
      "\n",
      "t0 = time()\n",
      "dx_naive = max_pool_backward_naive(dout, cache_naive)\n",
      "t1 = time()\n",
      "dx_fast = max_pool_backward_fast(dout, cache_fast)\n",
      "t2 = time()\n",
      "\n",
      "print '\\nTesting pool_backward_fast:'\n",
      "print 'Naive: %fs' % (t1 - t0)\n",
      "print 'speedup: %fx' % ((t1 - t0) / (t2 - t1))\n",
      "print 'dx difference: ', rel_error(dx_naive, dx_fast)"
     ],
     "language": "python",
     "metadata": {},
     "outputs": [
      {
       "output_type": "stream",
       "stream": "stdout",
       "text": [
        "Testing pool_forward_fast:\n",
        "Naive: 0.236955s\n",
        "fast: 0.054927s\n",
        "speedup: 4.313989x\n",
        "difference:  0.0\n",
        "\n",
        "Testing pool_backward_fast:"
       ]
      },
      {
       "output_type": "stream",
       "stream": "stdout",
       "text": [
        "\n",
        "Naive: 0.223448s\n",
        "speedup: 23.358980x\n",
        "dx difference:  0.0\n"
       ]
      }
     ],
     "prompt_number": 17
    },
    {
     "cell_type": "markdown",
     "metadata": {},
     "source": [
      "# Convolutional \"sandwich\" layers\n",
      "Previously we introduced the concept of \"sandwich\" layers that combine multiple operations into commonly used patterns. In the file `cs231n/layer_utils.py` you will find sandwich layers that implement a few commonly used patterns for convolutional networks."
     ]
    },
    {
     "cell_type": "code",
     "collapsed": false,
     "input": [
      "from cs231n.layer_utils import conv_relu_pool_forward, conv_relu_pool_backward\n",
      "\n",
      "x = np.random.randn(2, 3, 16, 16)\n",
      "w = np.random.randn(3, 3, 3, 3)\n",
      "b = np.random.randn(3,)\n",
      "dout = np.random.randn(2, 3, 8, 8)\n",
      "conv_param = {'stride': 1, 'pad': 1}\n",
      "pool_param = {'pool_height': 2, 'pool_width': 2, 'stride': 2}\n",
      "\n",
      "out, cache = conv_relu_pool_forward(x, w, b, conv_param, pool_param)\n",
      "dx, dw, db = conv_relu_pool_backward(dout, cache)\n",
      "\n",
      "dx_num = eval_numerical_gradient_array(lambda x: conv_relu_pool_forward(x, w, b, conv_param, pool_param)[0], x, dout)\n",
      "dw_num = eval_numerical_gradient_array(lambda w: conv_relu_pool_forward(x, w, b, conv_param, pool_param)[0], w, dout)\n",
      "db_num = eval_numerical_gradient_array(lambda b: conv_relu_pool_forward(x, w, b, conv_param, pool_param)[0], b, dout)\n",
      "\n",
      "print 'Testing conv_relu_pool'\n",
      "print 'dx error: ', rel_error(dx_num, dx)\n",
      "print 'dw error: ', rel_error(dw_num, dw)\n",
      "print 'db error: ', rel_error(db_num, db)"
     ],
     "language": "python",
     "metadata": {},
     "outputs": [
      {
       "output_type": "stream",
       "stream": "stdout",
       "text": [
        "Testing conv_relu_pool\n",
        "dx error:  3.47772149766e-08\n",
        "dw error:  2.14124661778e-10\n",
        "db error:  4.30146396274e-11\n"
       ]
      }
     ],
     "prompt_number": 18
    },
    {
     "cell_type": "code",
     "collapsed": false,
     "input": [
      "from cs231n.layer_utils import conv_relu_forward, conv_relu_backward\n",
      "\n",
      "x = np.random.randn(2, 3, 8, 8)\n",
      "w = np.random.randn(3, 3, 3, 3)\n",
      "b = np.random.randn(3,)\n",
      "dout = np.random.randn(2, 3, 8, 8)\n",
      "conv_param = {'stride': 1, 'pad': 1}\n",
      "\n",
      "out, cache = conv_relu_forward(x, w, b, conv_param)\n",
      "dx, dw, db = conv_relu_backward(dout, cache)\n",
      "\n",
      "dx_num = eval_numerical_gradient_array(lambda x: conv_relu_forward(x, w, b, conv_param)[0], x, dout)\n",
      "dw_num = eval_numerical_gradient_array(lambda w: conv_relu_forward(x, w, b, conv_param)[0], w, dout)\n",
      "db_num = eval_numerical_gradient_array(lambda b: conv_relu_forward(x, w, b, conv_param)[0], b, dout)\n",
      "\n",
      "print 'Testing conv_relu:'\n",
      "print 'dx error: ', rel_error(dx_num, dx)\n",
      "print 'dw error: ', rel_error(dw_num, dw)\n",
      "print 'db error: ', rel_error(db_num, db)"
     ],
     "language": "python",
     "metadata": {},
     "outputs": [
      {
       "output_type": "stream",
       "stream": "stdout",
       "text": [
        "Testing conv_relu:\n",
        "dx error:  1.42863926153e-09\n",
        "dw error:  2.54312873338e-09\n",
        "db error:  2.70006907491e-09\n"
       ]
      }
     ],
     "prompt_number": 19
    },
    {
     "cell_type": "markdown",
     "metadata": {},
     "source": [
      "# Three-layer ConvNet\n",
      "Now that you have implemented all the necessary layers, we can put them together into a simple convolutional network.\n",
      "\n",
      "Open the file `cs231n/cnn.py` and complete the implementation of the `ThreeLayerConvNet` class. Run the following cells to help you debug:"
     ]
    },
    {
     "cell_type": "markdown",
     "metadata": {},
     "source": [
      "## Sanity check loss\n",
      "After you build a new network, one of the first things you should do is sanity check the loss. When we use the softmax loss, we expect the loss for random weights (and no regularization) to be about `log(C)` for `C` classes. When we add regularization this should go up."
     ]
    },
    {
     "cell_type": "code",
     "collapsed": false,
     "input": [
      "model = ThreeLayerConvNet()\n",
      "\n",
      "N = 50\n",
      "X = np.random.randn(N, 3, 32, 32)\n",
      "y = np.random.randint(10, size=N)\n",
      "\n",
      "loss, grads = model.loss(X, y)\n",
      "print 'Initial loss (no regularization): ', loss\n",
      "\n",
      "model.reg = 0.5\n",
      "loss, grads = model.loss(X, y)\n",
      "print 'Initial loss (with regularization): ', loss"
     ],
     "language": "python",
     "metadata": {},
     "outputs": [
      {
       "output_type": "stream",
       "stream": "stdout",
       "text": [
        "Initial loss (no regularization):  2.30258570129\n",
        "Initial loss (with regularization): "
       ]
      },
      {
       "output_type": "stream",
       "stream": "stdout",
       "text": [
        " 2.50860054308\n"
       ]
      }
     ],
     "prompt_number": 24
    },
    {
     "cell_type": "markdown",
     "metadata": {},
     "source": [
      "## Gradient check\n",
      "After the loss looks reasonable, use numeric gradient checking to make sure that your backward pass is correct. When you use numeric gradient checking you should use a small amount of artifical data and a small number of neurons at each layer."
     ]
    },
    {
     "cell_type": "code",
     "collapsed": false,
     "input": [
      "num_inputs = 2\n",
      "input_dim = (3, 16, 16)\n",
      "reg = 0.0\n",
      "num_classes = 10\n",
      "X = np.random.randn(num_inputs, *input_dim)\n",
      "y = np.random.randint(num_classes, size=num_inputs)\n",
      "\n",
      "model = ThreeLayerConvNet(num_filters=3, filter_size=3,\n",
      "                          input_dim=input_dim, hidden_dim=7,\n",
      "                          dtype=np.float64)\n",
      "loss, grads = model.loss(X, y)\n",
      "for param_name in sorted(grads):\n",
      "    f = lambda _: model.loss(X, y)[0]\n",
      "    param_grad_num = eval_numerical_gradient(f, model.params[param_name], verbose=False, h=1e-6)\n",
      "    e = rel_error(param_grad_num, grads[param_name])\n",
      "    print '%s max relative error: %e' % (param_name, rel_error(param_grad_num, grads[param_name]))"
     ],
     "language": "python",
     "metadata": {},
     "outputs": [
      {
       "output_type": "stream",
       "stream": "stdout",
       "text": [
        "W1 max relative error: 2.013170e-04\n",
        "W2 max relative error: 1.120469e-02"
       ]
      },
      {
       "output_type": "stream",
       "stream": "stdout",
       "text": [
        "\n",
        "W3 max relative error: 3.148859e-05"
       ]
      },
      {
       "output_type": "stream",
       "stream": "stdout",
       "text": [
        "\n",
        "b1 max relative error: 2.478440e-05\n",
        "b2 max relative error: 1.763317e-05\n",
        "b3 max relative error: 1.295690e-09\n"
       ]
      }
     ],
     "prompt_number": 29
    },
    {
     "cell_type": "markdown",
     "metadata": {},
     "source": [
      "## Overfit small data\n",
      "A nice trick is to train your model with just a few training samples. You should be able to overfit small datasets, which will result in very high training accuracy and comparatively low validation accuracy."
     ]
    },
    {
     "cell_type": "code",
     "collapsed": false,
     "input": [
      "num_train = 100\n",
      "small_data = {\n",
      "  'X_train': data['X_train'][:num_train],\n",
      "  'y_train': data['y_train'][:num_train],\n",
      "  'X_val': data['X_val'],\n",
      "  'y_val': data['y_val'],\n",
      "}\n",
      "\n",
      "model = ThreeLayerConvNet(weight_scale=1e-2)\n",
      "\n",
      "solver = Solver(model, small_data,\n",
      "                num_epochs=20, batch_size=50,\n",
      "                update_rule='adam',\n",
      "                optim_config={\n",
      "                  'learning_rate': 1e-4,\n",
      "                },\n",
      "                verbose=True, print_every=1)\n",
      "solver.train()"
     ],
     "language": "python",
     "metadata": {},
     "outputs": [
      {
       "output_type": "stream",
       "stream": "stdout",
       "text": [
        "(Iteration 1 / 40) loss: 2.314847\n",
        "(Epoch 0 / 20) train acc: 0.270000; val_acc: 0.103000"
       ]
      },
      {
       "output_type": "stream",
       "stream": "stdout",
       "text": [
        "\n",
        "(Iteration 2 / 40) loss: 2.165983"
       ]
      },
      {
       "output_type": "stream",
       "stream": "stdout",
       "text": [
        "\n",
        "(Epoch 1 / 20) train acc: 0.380000; val_acc: 0.169000"
       ]
      },
      {
       "output_type": "stream",
       "stream": "stdout",
       "text": [
        "\n",
        "(Iteration 3 / 40) loss: 1.792275"
       ]
      },
      {
       "output_type": "stream",
       "stream": "stdout",
       "text": [
        "\n",
        "(Iteration 4 / 40) loss: 2.053420"
       ]
      },
      {
       "output_type": "stream",
       "stream": "stdout",
       "text": [
        "\n",
        "(Epoch 2 / 20) train acc: 0.440000; val_acc: 0.164000"
       ]
      },
      {
       "output_type": "stream",
       "stream": "stdout",
       "text": [
        "\n",
        "(Iteration 5 / 40) loss: 1.351488"
       ]
      },
      {
       "output_type": "stream",
       "stream": "stdout",
       "text": [
        "\n",
        "(Iteration 6 / 40) loss: 1.457059"
       ]
      },
      {
       "output_type": "stream",
       "stream": "stdout",
       "text": [
        "\n",
        "(Epoch 3 / 20) train acc: 0.650000; val_acc: 0.189000"
       ]
      },
      {
       "output_type": "stream",
       "stream": "stdout",
       "text": [
        "\n",
        "(Iteration 7 / 40) loss: 1.501244"
       ]
      },
      {
       "output_type": "stream",
       "stream": "stdout",
       "text": [
        "\n",
        "(Iteration 8 / 40) loss: 0.999450"
       ]
      },
      {
       "output_type": "stream",
       "stream": "stdout",
       "text": [
        "\n",
        "(Epoch 4 / 20) train acc: 0.720000; val_acc: 0.193000"
       ]
      },
      {
       "output_type": "stream",
       "stream": "stdout",
       "text": [
        "\n",
        "(Iteration 9 / 40) loss: 1.021039"
       ]
      },
      {
       "output_type": "stream",
       "stream": "stdout",
       "text": [
        "\n",
        "(Iteration 10 / 40) loss: 0.803399"
       ]
      },
      {
       "output_type": "stream",
       "stream": "stdout",
       "text": [
        "\n",
        "(Epoch 5 / 20) train acc: 0.730000; val_acc: 0.212000"
       ]
      },
      {
       "output_type": "stream",
       "stream": "stdout",
       "text": [
        "\n",
        "(Iteration 11 / 40) loss: 0.725673"
       ]
      },
      {
       "output_type": "stream",
       "stream": "stdout",
       "text": [
        "\n",
        "(Iteration 12 / 40) loss: 0.778090"
       ]
      },
      {
       "output_type": "stream",
       "stream": "stdout",
       "text": [
        "\n",
        "(Epoch 6 / 20) train acc: 0.810000; val_acc: 0.215000"
       ]
      },
      {
       "output_type": "stream",
       "stream": "stdout",
       "text": [
        "\n",
        "(Iteration 13 / 40) loss: 0.549901"
       ]
      },
      {
       "output_type": "stream",
       "stream": "stdout",
       "text": [
        "\n",
        "(Iteration 14 / 40) loss: 0.567681"
       ]
      },
      {
       "output_type": "stream",
       "stream": "stdout",
       "text": [
        "\n",
        "(Epoch 7 / 20) train acc: 0.890000; val_acc: 0.191000"
       ]
      },
      {
       "output_type": "stream",
       "stream": "stdout",
       "text": [
        "\n",
        "(Iteration 15 / 40) loss: 0.319026"
       ]
      },
      {
       "output_type": "stream",
       "stream": "stdout",
       "text": [
        "\n",
        "(Iteration 16 / 40) loss: 0.328380"
       ]
      },
      {
       "output_type": "stream",
       "stream": "stdout",
       "text": [
        "\n",
        "(Epoch 8 / 20) train acc: 0.950000; val_acc: 0.195000"
       ]
      },
      {
       "output_type": "stream",
       "stream": "stdout",
       "text": [
        "\n",
        "(Iteration 17 / 40) loss: 0.301241"
       ]
      },
      {
       "output_type": "stream",
       "stream": "stdout",
       "text": [
        "\n",
        "(Iteration 18 / 40) loss: 0.176931"
       ]
      },
      {
       "output_type": "stream",
       "stream": "stdout",
       "text": [
        "\n",
        "(Epoch 9 / 20) train acc: 0.930000; val_acc: 0.219000"
       ]
      },
      {
       "output_type": "stream",
       "stream": "stdout",
       "text": [
        "\n",
        "(Iteration 19 / 40) loss: 0.120566"
       ]
      },
      {
       "output_type": "stream",
       "stream": "stdout",
       "text": [
        "\n",
        "(Iteration 20 / 40) loss: 0.312183"
       ]
      },
      {
       "output_type": "stream",
       "stream": "stdout",
       "text": [
        "\n",
        "(Epoch 10 / 20) train acc: 0.980000; val_acc: 0.238000"
       ]
      },
      {
       "output_type": "stream",
       "stream": "stdout",
       "text": [
        "\n",
        "(Iteration 21 / 40) loss: 0.072152"
       ]
      },
      {
       "output_type": "stream",
       "stream": "stdout",
       "text": [
        "\n",
        "(Iteration 22 / 40) loss: 0.055539"
       ]
      },
      {
       "output_type": "stream",
       "stream": "stdout",
       "text": [
        "\n",
        "(Epoch 11 / 20) train acc: 0.990000; val_acc: 0.224000"
       ]
      },
      {
       "output_type": "stream",
       "stream": "stdout",
       "text": [
        "\n",
        "(Iteration 23 / 40) loss: 0.051090"
       ]
      },
      {
       "output_type": "stream",
       "stream": "stdout",
       "text": [
        "\n",
        "(Iteration 24 / 40) loss: 0.069259"
       ]
      },
      {
       "output_type": "stream",
       "stream": "stdout",
       "text": [
        "\n",
        "(Epoch 12 / 20) train acc: 0.960000; val_acc: 0.198000"
       ]
      },
      {
       "output_type": "stream",
       "stream": "stdout",
       "text": [
        "\n",
        "(Iteration 25 / 40) loss: 0.031191"
       ]
      },
      {
       "output_type": "stream",
       "stream": "stdout",
       "text": [
        "\n",
        "(Iteration 26 / 40) loss: 0.125472"
       ]
      },
      {
       "output_type": "stream",
       "stream": "stdout",
       "text": [
        "\n",
        "(Epoch 13 / 20) train acc: 0.980000; val_acc: 0.196000"
       ]
      },
      {
       "output_type": "stream",
       "stream": "stdout",
       "text": [
        "\n",
        "(Iteration 27 / 40) loss: 0.051823"
       ]
      },
      {
       "output_type": "stream",
       "stream": "stdout",
       "text": [
        "\n",
        "(Iteration 28 / 40) loss: 0.016078"
       ]
      },
      {
       "output_type": "stream",
       "stream": "stdout",
       "text": [
        "\n",
        "(Epoch 14 / 20) train acc: 0.990000; val_acc: 0.190000"
       ]
      },
      {
       "output_type": "stream",
       "stream": "stdout",
       "text": [
        "\n",
        "(Iteration 29 / 40) loss: 0.007903"
       ]
      },
      {
       "output_type": "stream",
       "stream": "stdout",
       "text": [
        "\n",
        "(Iteration 30 / 40) loss: 0.017821"
       ]
      },
      {
       "output_type": "stream",
       "stream": "stdout",
       "text": [
        "\n",
        "(Epoch 15 / 20) train acc: 0.990000; val_acc: 0.180000"
       ]
      },
      {
       "output_type": "stream",
       "stream": "stdout",
       "text": [
        "\n",
        "(Iteration 31 / 40) loss: 0.017652"
       ]
      },
      {
       "output_type": "stream",
       "stream": "stdout",
       "text": [
        "\n",
        "(Iteration 32 / 40) loss: 0.015962"
       ]
      },
      {
       "output_type": "stream",
       "stream": "stdout",
       "text": [
        "\n",
        "(Epoch 16 / 20) train acc: 0.990000; val_acc: 0.181000"
       ]
      },
      {
       "output_type": "stream",
       "stream": "stdout",
       "text": [
        "\n",
        "(Iteration 33 / 40) loss: 0.011905"
       ]
      },
      {
       "output_type": "stream",
       "stream": "stdout",
       "text": [
        "\n",
        "(Iteration 34 / 40) loss: 0.080497"
       ]
      },
      {
       "output_type": "stream",
       "stream": "stdout",
       "text": [
        "\n",
        "(Epoch 17 / 20) train acc: 0.990000; val_acc: 0.181000"
       ]
      },
      {
       "output_type": "stream",
       "stream": "stdout",
       "text": [
        "\n",
        "(Iteration 35 / 40) loss: 0.010753"
       ]
      },
      {
       "output_type": "stream",
       "stream": "stdout",
       "text": [
        "\n",
        "(Iteration 36 / 40) loss: 0.048352"
       ]
      },
      {
       "output_type": "stream",
       "stream": "stdout",
       "text": [
        "\n",
        "(Epoch 18 / 20) train acc: 1.000000; val_acc: 0.189000"
       ]
      },
      {
       "output_type": "stream",
       "stream": "stdout",
       "text": [
        "\n",
        "(Iteration 37 / 40) loss: 0.009573"
       ]
      },
      {
       "output_type": "stream",
       "stream": "stdout",
       "text": [
        "\n",
        "(Iteration 38 / 40) loss: 0.010780"
       ]
      },
      {
       "output_type": "stream",
       "stream": "stdout",
       "text": [
        "\n",
        "(Epoch 19 / 20) train acc: 0.990000; val_acc: 0.181000"
       ]
      },
      {
       "output_type": "stream",
       "stream": "stdout",
       "text": [
        "\n",
        "(Iteration 39 / 40) loss: 0.019145"
       ]
      },
      {
       "output_type": "stream",
       "stream": "stdout",
       "text": [
        "\n",
        "(Iteration 40 / 40) loss: 0.112000"
       ]
      },
      {
       "output_type": "stream",
       "stream": "stdout",
       "text": [
        "\n",
        "(Epoch 20 / 20) train acc: 1.000000; val_acc: 0.193000"
       ]
      },
      {
       "output_type": "stream",
       "stream": "stdout",
       "text": [
        "\n"
       ]
      }
     ],
     "prompt_number": 34
    },
    {
     "cell_type": "markdown",
     "metadata": {},
     "source": [
      "Plotting the loss, training accuracy, and validation accuracy should show clear overfitting:"
     ]
    },
    {
     "cell_type": "code",
     "collapsed": false,
     "input": [
      "plt.subplot(2, 1, 1)\n",
      "plt.plot(solver.loss_history, 'o')\n",
      "plt.xlabel('iteration')\n",
      "plt.ylabel('loss')\n",
      "\n",
      "plt.subplot(2, 1, 2)\n",
      "plt.plot(solver.train_acc_history, '-o')\n",
      "plt.plot(solver.val_acc_history, '-o')\n",
      "plt.legend(['train', 'val'], loc='upper left')\n",
      "plt.xlabel('epoch')\n",
      "plt.ylabel('accuracy')\n",
      "plt.show()"
     ],
     "language": "python",
     "metadata": {},
     "outputs": [
      {
       "metadata": {},
       "output_type": "display_data",
       "png": "[encoded data removed]",
       "text": [
        "<matplotlib.figure.Figure at 0x7f10d95f0c50>"
       ]
      }
     ],
     "prompt_number": 35
    },
    {
     "cell_type": "markdown",
     "metadata": {},
     "source": [
      "## Train the net\n",
      "By training the three-layer convolutional network for one epoch, you should achieve greater than 40% accuracy on the training set:"
     ]
    },
    {
     "cell_type": "code",
     "collapsed": false,
     "input": [
      "model = ThreeLayerConvNet(weight_scale=0.001, hidden_dim=500, reg=0.001)\n",
      "\n",
      "solver = Solver(model, data,\n",
      "                num_epochs=1, batch_size=50,\n",
      "                update_rule='adam',\n",
      "                optim_config={\n",
      "                  'learning_rate': 1e-4,\n",
      "                },\n",
      "                verbose=True, print_every=20)\n",
      "solver.train()"
     ],
     "language": "python",
     "metadata": {
      "scrolled": false
     },
     "outputs": [
      {
       "output_type": "stream",
       "stream": "stdout",
       "text": [
        "(Iteration 1 / 980) loss: 2.304486\n",
        "(Epoch 0 / 1) train acc: 0.126000; val_acc: 0.113000"
       ]
      },
      {
       "output_type": "stream",
       "stream": "stdout",
       "text": [
        "\n",
        "(Iteration 21 / 980) loss: 2.012828"
       ]
      },
      {
       "output_type": "stream",
       "stream": "stdout",
       "text": [
        "\n",
        "(Iteration 41 / 980) loss: 1.973733"
       ]
      },
      {
       "output_type": "stream",
       "stream": "stdout",
       "text": [
        "\n",
        "(Iteration 61 / 980) loss: 1.808080"
       ]
      },
      {
       "output_type": "stream",
       "stream": "stdout",
       "text": [
        "\n",
        "(Iteration 81 / 980) loss: 2.111257"
       ]
      },
      {
       "output_type": "stream",
       "stream": "stdout",
       "text": [
        "\n",
        "(Iteration 101 / 980) loss: 1.595487"
       ]
      },
      {
       "output_type": "stream",
       "stream": "stdout",
       "text": [
        "\n",
        "(Iteration 121 / 980) loss: 1.834097"
       ]
      },
      {
       "output_type": "stream",
       "stream": "stdout",
       "text": [
        "\n",
        "(Iteration 141 / 980) loss: 1.689752"
       ]
      },
      {
       "output_type": "stream",
       "stream": "stdout",
       "text": [
        "\n",
        "(Iteration 161 / 980) loss: 1.453780"
       ]
      },
      {
       "output_type": "stream",
       "stream": "stdout",
       "text": [
        "\n",
        "(Iteration 181 / 980) loss: 1.524626"
       ]
      },
      {
       "output_type": "stream",
       "stream": "stdout",
       "text": [
        "\n",
        "(Iteration 201 / 980) loss: 1.506122"
       ]
      },
      {
       "output_type": "stream",
       "stream": "stdout",
       "text": [
        "\n",
        "(Iteration 221 / 980) loss: 1.434444"
       ]
      },
      {
       "output_type": "stream",
       "stream": "stdout",
       "text": [
        "\n",
        "(Iteration 241 / 980) loss: 1.355146"
       ]
      },
      {
       "output_type": "stream",
       "stream": "stdout",
       "text": [
        "\n",
        "(Iteration 261 / 980) loss: 1.504564"
       ]
      },
      {
       "output_type": "stream",
       "stream": "stdout",
       "text": [
        "\n",
        "(Iteration 281 / 980) loss: 1.494288"
       ]
      },
      {
       "output_type": "stream",
       "stream": "stdout",
       "text": [
        "\n",
        "(Iteration 301 / 980) loss: 1.536484"
       ]
      },
      {
       "output_type": "stream",
       "stream": "stdout",
       "text": [
        "\n",
        "(Iteration 321 / 980) loss: 1.254690"
       ]
      },
      {
       "output_type": "stream",
       "stream": "stdout",
       "text": [
        "\n",
        "(Iteration 341 / 980) loss: 1.617713"
       ]
      },
      {
       "output_type": "stream",
       "stream": "stdout",
       "text": [
        "\n",
        "(Iteration 361 / 980) loss: 1.684430"
       ]
      },
      {
       "output_type": "stream",
       "stream": "stdout",
       "text": [
        "\n",
        "(Iteration 381 / 980) loss: 1.390805"
       ]
      },
      {
       "output_type": "stream",
       "stream": "stdout",
       "text": [
        "\n",
        "(Iteration 401 / 980) loss: 1.588223"
       ]
      },
      {
       "output_type": "stream",
       "stream": "stdout",
       "text": [
        "\n",
        "(Iteration 421 / 980) loss: 1.610766"
       ]
      },
      {
       "output_type": "stream",
       "stream": "stdout",
       "text": [
        "\n",
        "(Iteration 441 / 980) loss: 1.211916"
       ]
      },
      {
       "output_type": "stream",
       "stream": "stdout",
       "text": [
        "\n",
        "(Iteration 461 / 980) loss: 1.493333"
       ]
      },
      {
       "output_type": "stream",
       "stream": "stdout",
       "text": [
        "\n",
        "(Iteration 481 / 980) loss: 1.460926"
       ]
      },
      {
       "output_type": "stream",
       "stream": "stdout",
       "text": [
        "\n",
        "(Iteration 501 / 980) loss: 1.224111"
       ]
      },
      {
       "output_type": "stream",
       "stream": "stdout",
       "text": [
        "\n",
        "(Iteration 521 / 980) loss: 1.519675"
       ]
      },
      {
       "output_type": "stream",
       "stream": "stdout",
       "text": [
        "\n",
        "(Iteration 541 / 980) loss: 1.454581"
       ]
      },
      {
       "output_type": "stream",
       "stream": "stdout",
       "text": [
        "\n",
        "(Iteration 561 / 980) loss: 1.199505"
       ]
      },
      {
       "output_type": "stream",
       "stream": "stdout",
       "text": [
        "\n",
        "(Iteration 581 / 980) loss: 1.629662"
       ]
      },
      {
       "output_type": "stream",
       "stream": "stdout",
       "text": [
        "\n",
        "(Iteration 601 / 980) loss: 1.256350"
       ]
      },
      {
       "output_type": "stream",
       "stream": "stdout",
       "text": [
        "\n",
        "(Iteration 621 / 980) loss: 1.266547"
       ]
      },
      {
       "output_type": "stream",
       "stream": "stdout",
       "text": [
        "\n",
        "(Iteration 641 / 980) loss: 1.560977"
       ]
      },
      {
       "output_type": "stream",
       "stream": "stdout",
       "text": [
        "\n",
        "(Iteration 661 / 980) loss: 1.349273"
       ]
      },
      {
       "output_type": "stream",
       "stream": "stdout",
       "text": [
        "\n",
        "(Iteration 681 / 980) loss: 1.578178"
       ]
      },
      {
       "output_type": "stream",
       "stream": "stdout",
       "text": [
        "\n",
        "(Iteration 701 / 980) loss: 1.395789"
       ]
      },
      {
       "output_type": "stream",
       "stream": "stdout",
       "text": [
        "\n",
        "(Iteration 721 / 980) loss: 1.250289"
       ]
      },
      {
       "output_type": "stream",
       "stream": "stdout",
       "text": [
        "\n",
        "(Iteration 741 / 980) loss: 1.293642"
       ]
      },
      {
       "output_type": "stream",
       "stream": "stdout",
       "text": [
        "\n",
        "(Iteration 761 / 980) loss: 1.390165"
       ]
      },
      {
       "output_type": "stream",
       "stream": "stdout",
       "text": [
        "\n",
        "(Iteration 781 / 980) loss: 1.157173"
       ]
      },
      {
       "output_type": "stream",
       "stream": "stdout",
       "text": [
        "\n",
        "(Iteration 801 / 980) loss: 1.262000"
       ]
      },
      {
       "output_type": "stream",
       "stream": "stdout",
       "text": [
        "\n",
        "(Iteration 821 / 980) loss: 1.142206"
       ]
      },
      {
       "output_type": "stream",
       "stream": "stdout",
       "text": [
        "\n",
        "(Iteration 841 / 980) loss: 1.496816"
       ]
      },
      {
       "output_type": "stream",
       "stream": "stdout",
       "text": [
        "\n",
        "(Iteration 861 / 980) loss: 1.287961"
       ]
      },
      {
       "output_type": "stream",
       "stream": "stdout",
       "text": [
        "\n",
        "(Iteration 881 / 980) loss: 1.203946"
       ]
      },
      {
       "output_type": "stream",
       "stream": "stdout",
       "text": [
        "\n",
        "(Iteration 901 / 980) loss: 1.780549"
       ]
      },
      {
       "output_type": "stream",
       "stream": "stdout",
       "text": [
        "\n",
        "(Iteration 921 / 980) loss: 1.184449"
       ]
      },
      {
       "output_type": "stream",
       "stream": "stdout",
       "text": [
        "\n",
        "(Iteration 941 / 980) loss: 1.344947"
       ]
      },
      {
       "output_type": "stream",
       "stream": "stdout",
       "text": [
        "\n",
        "(Iteration 961 / 980) loss: 1.347566"
       ]
      },
      {
       "output_type": "stream",
       "stream": "stdout",
       "text": [
        "\n",
        "(Epoch 1 / 1) train acc: 0.545000; val_acc: 0.541000"
       ]
      },
      {
       "output_type": "stream",
       "stream": "stdout",
       "text": [
        "\n"
       ]
      }
     ],
     "prompt_number": 38
    },
    {
     "cell_type": "markdown",
     "metadata": {},
     "source": [
      "## Visualize Filters\n",
      "You can visualize the first-layer convolutional filters from the trained network by running the following:"
     ]
    },
    {
     "cell_type": "code",
     "collapsed": false,
     "input": [
      "from cs231n.vis_utils import visualize_grid\n",
      "\n",
      "grid = visualize_grid(model.params['W1'].transpose(0, 2, 3, 1))\n",
      "plt.imshow(grid.astype('uint8'))\n",
      "plt.axis('off')\n",
      "plt.gcf().set_size_inches(5, 5)\n",
      "plt.show()"
     ],
     "language": "python",
     "metadata": {},
     "outputs": [
      {
       "metadata": {},
       "output_type": "display_data",
       "png": "[encoded data removed]",
       "text": [
        "<matplotlib.figure.Figure at 0x7f10d9811dd0>"
       ]
      },
      {
       "output_type": "stream",
       "stream": "stdout",
       "text": [
        "\n"
       ]
      }
     ],
     "prompt_number": 40
    },
    {
     "cell_type": "markdown",
     "metadata": {},
     "source": [
      "# Experiment!\n",
      "Experiment and try to get the best performance that you can on CIFAR-10 using a ConvNet. Here are some ideas to get you started:\n",
      "\n",
      "### Things you should try:\n",
      "- Filter size: Above we used 7x7; this makes pretty pictures but smaller filters may be more efficient\n",
      "- Number of filters: Above we used 32 filters. Do more or fewer do better?\n",
      "- Batch normalization: Try adding spatial batch normalization after convolution layers and vanilla batch normalization aafter affine layers. Do your networks train faster?\n",
      "- Network architecture: The network above has two layers of trainable parameters. Can you do better with a deeper network? You can implement alternative architectures in the file `cs231n/classifiers/convnet.py`. Some good architectures to try include:\n",
      "    - [conv-relu-pool]xN - conv - relu - [affine]xM - [softmax or SVM]\n",
      "    - [conv-relu-pool]XN - [affine]XM - [softmax or SVM]\n",
      "    - [conv-relu-conv-relu-pool]xN - [affine]xM - [softmax or SVM]\n",
      "\n",
      "### Tips for training\n",
      "For each network architecture that you try, you should tune the learning rate and regularization strength. When doing this there are a couple important things to keep in mind:\n",
      "\n",
      "- If the parameters are working well, you should see improvement within a few hundred iterations\n",
      "- Remember the course-to-fine approach for hyperparameter tuning: start by testing a large range of hyperparameters for just a few training iterations to find the combinations of parameters that are working at all.\n",
      "- Once you have found some sets of parameters that seem to work, search more finely around these parameters. You may need to train for more epochs.\n",
      "\n",
      "### Going above and beyond\n",
      "If you are feeling adventurous there are many other features you can implement to try and improve your performance. You are **not required** to implement any of these; however they would be good things to try for extra credit.\n",
      "\n",
      "- Alternative update steps: For the assignment we implemented SGD+momentum, RMSprop, and Adam; you could try alternatives like AdaGrad or AdaDelta.\n",
      "- Alternative activation functions such as leaky ReLU, parametric ReLU, or MaxOut.\n",
      "- Model ensembles\n",
      "- Data augmentation\n",
      "\n",
      "If you do decide to implement something extra, clearly describe it in the \"Extra Credit Description\" cell below.\n",
      "\n",
      "### What we expect\n",
      "At the very least, you should be able to train a ConvNet that gets at least 65% accuracy on the validation set. This is just a lower bound - if you are careful it should be possible to get accuracies much higher than that! Extra credit points will be awarded for particularly high-scoring models or unique approaches.\n",
      "\n",
      "You should use the space below to experiment and train your network. The final cell in this notebook should contain the training, validation, and test set accuracies for your final trained network. In this notebook you should also write an explanation of what you did, any additional features that you implemented, and any visualizations or graphs that you make in the process of training and evaluating your network.\n",
      "\n",
      "Have fun and happy training!"
     ]
    },
    {
     "cell_type": "code",
     "collapsed": true,
     "input": [
      "# Train a really good model on CIFAR-10\n",
      "from cs231n.classifiers.convnet import ConvNet\n",
      "model = ConvNet(weight_scale=0.01, hidden_dim=500, reg=0.001)\n",
      "\n",
      "solver = Solver(model, data,\n",
      "                num_epochs=4, batch_size=128,\n",
      "                update_rule='adam',\n",
      "                optim_config={\n",
      "                  'learning_rate': 1e-4,\n",
      "                },\n",
      "                verbose=True, print_every=1)\n",
      "solver.train()"
     ],
     "language": "python",
     "metadata": {},
     "outputs": [
      {
       "output_type": "stream",
       "stream": "stdout",
       "text": [
        "(Iteration 1 / 1528) loss: 2.357815\n",
        "(Epoch 0 / 4) train acc: 0.153000; val_acc: 0.181000"
       ]
      },
      {
       "output_type": "stream",
       "stream": "stdout",
       "text": [
        "\n",
        "(Iteration 2 / 1528) loss: 2.328070"
       ]
      },
      {
       "output_type": "stream",
       "stream": "stdout",
       "text": [
        "\n",
        "(Iteration 3 / 1528) loss: 2.303231"
       ]
      },
      {
       "output_type": "stream",
       "stream": "stdout",
       "text": [
        "\n",
        "(Iteration 4 / 1528) loss: 2.277318"
       ]
      },
      {
       "output_type": "stream",
       "stream": "stdout",
       "text": [
        "\n",
        "(Iteration 5 / 1528) loss: 2.198789"
       ]
      },
      {
       "output_type": "stream",
       "stream": "stdout",
       "text": [
        "\n",
        "(Iteration 6 / 1528) loss: 2.080201"
       ]
      },
      {
       "output_type": "stream",
       "stream": "stdout",
       "text": [
        "\n",
        "(Iteration 7 / 1528) loss: 2.228087"
       ]
      },
      {
       "output_type": "stream",
       "stream": "stdout",
       "text": [
        "\n",
        "(Iteration 8 / 1528) loss: 2.073088"
       ]
      },
      {
       "output_type": "stream",
       "stream": "stdout",
       "text": [
        "\n",
        "(Iteration 9 / 1528) loss: 2.085878"
       ]
      },
      {
       "output_type": "stream",
       "stream": "stdout",
       "text": [
        "\n",
        "(Iteration 10 / 1528) loss: 2.083717"
       ]
      },
      {
       "output_type": "stream",
       "stream": "stdout",
       "text": [
        "\n",
        "(Iteration 11 / 1528) loss: 2.004340"
       ]
      },
      {
       "output_type": "stream",
       "stream": "stdout",
       "text": [
        "\n",
        "(Iteration 12 / 1528) loss: 1.985478"
       ]
      },
      {
       "output_type": "stream",
       "stream": "stdout",
       "text": [
        "\n",
        "(Iteration 13 / 1528) loss: 2.060360"
       ]
      },
      {
       "output_type": "stream",
       "stream": "stdout",
       "text": [
        "\n",
        "(Iteration 14 / 1528) loss: 1.923938"
       ]
      },
      {
       "output_type": "stream",
       "stream": "stdout",
       "text": [
        "\n",
        "(Iteration 15 / 1528) loss: 1.938459"
       ]
      },
      {
       "output_type": "stream",
       "stream": "stdout",
       "text": [
        "\n",
        "(Iteration 16 / 1528) loss: 1.896614"
       ]
      },
      {
       "output_type": "stream",
       "stream": "stdout",
       "text": [
        "\n",
        "(Iteration 17 / 1528) loss: 1.886229"
       ]
      },
      {
       "output_type": "stream",
       "stream": "stdout",
       "text": [
        "\n",
        "(Iteration 18 / 1528) loss: 1.783609"
       ]
      },
      {
       "output_type": "stream",
       "stream": "stdout",
       "text": [
        "\n",
        "(Iteration 19 / 1528) loss: 1.821062"
       ]
      },
      {
       "output_type": "stream",
       "stream": "stdout",
       "text": [
        "\n",
        "(Iteration 20 / 1528) loss: 1.793767"
       ]
      },
      {
       "output_type": "stream",
       "stream": "stdout",
       "text": [
        "\n",
        "(Iteration 21 / 1528) loss: 1.784891"
       ]
      },
      {
       "output_type": "stream",
       "stream": "stdout",
       "text": [
        "\n",
        "(Iteration 22 / 1528) loss: 1.835629"
       ]
      },
      {
       "output_type": "stream",
       "stream": "stdout",
       "text": [
        "\n",
        "(Iteration 23 / 1528) loss: 1.788270"
       ]
      },
      {
       "output_type": "stream",
       "stream": "stdout",
       "text": [
        "\n",
        "(Iteration 24 / 1528) loss: 1.825570"
       ]
      },
      {
       "output_type": "stream",
       "stream": "stdout",
       "text": [
        "\n",
        "(Iteration 25 / 1528) loss: 1.740915"
       ]
      },
      {
       "output_type": "stream",
       "stream": "stdout",
       "text": [
        "\n",
        "(Iteration 26 / 1528) loss: 1.650664"
       ]
      },
      {
       "output_type": "stream",
       "stream": "stdout",
       "text": [
        "\n",
        "(Iteration 27 / 1528) loss: 1.727426"
       ]
      },
      {
       "output_type": "stream",
       "stream": "stdout",
       "text": [
        "\n",
        "(Iteration 28 / 1528) loss: 1.801882"
       ]
      },
      {
       "output_type": "stream",
       "stream": "stdout",
       "text": [
        "\n",
        "(Iteration 29 / 1528) loss: 1.762492"
       ]
      },
      {
       "output_type": "stream",
       "stream": "stdout",
       "text": [
        "\n",
        "(Iteration 30 / 1528) loss: 1.661875"
       ]
      },
      {
       "output_type": "stream",
       "stream": "stdout",
       "text": [
        "\n",
        "(Iteration 31 / 1528) loss: 1.791511"
       ]
      },
      {
       "output_type": "stream",
       "stream": "stdout",
       "text": [
        "\n",
        "(Iteration 32 / 1528) loss: 1.821438"
       ]
      },
      {
       "output_type": "stream",
       "stream": "stdout",
       "text": [
        "\n",
        "(Iteration 33 / 1528) loss: 1.661042"
       ]
      },
      {
       "output_type": "stream",
       "stream": "stdout",
       "text": [
        "\n",
        "(Iteration 34 / 1528) loss: 1.766764"
       ]
      },
      {
       "output_type": "stream",
       "stream": "stdout",
       "text": [
        "\n",
        "(Iteration 35 / 1528) loss: 1.636765"
       ]
      },
      {
       "output_type": "stream",
       "stream": "stdout",
       "text": [
        "\n",
        "(Iteration 36 / 1528) loss: 1.743876"
       ]
      },
      {
       "output_type": "stream",
       "stream": "stdout",
       "text": [
        "\n",
        "(Iteration 37 / 1528) loss: 1.687341"
       ]
      },
      {
       "output_type": "stream",
       "stream": "stdout",
       "text": [
        "\n",
        "(Iteration 38 / 1528) loss: 1.543716"
       ]
      },
      {
       "output_type": "stream",
       "stream": "stdout",
       "text": [
        "\n",
        "(Iteration 39 / 1528) loss: 1.570424"
       ]
      },
      {
       "output_type": "stream",
       "stream": "stdout",
       "text": [
        "\n",
        "(Iteration 40 / 1528) loss: 1.704898"
       ]
      },
      {
       "output_type": "stream",
       "stream": "stdout",
       "text": [
        "\n",
        "(Iteration 41 / 1528) loss: 1.606609"
       ]
      },
      {
       "output_type": "stream",
       "stream": "stdout",
       "text": [
        "\n",
        "(Iteration 42 / 1528) loss: 1.646074"
       ]
      },
      {
       "output_type": "stream",
       "stream": "stdout",
       "text": [
        "\n",
        "(Iteration 43 / 1528) loss: 1.689010"
       ]
      },
      {
       "output_type": "stream",
       "stream": "stdout",
       "text": [
        "\n",
        "(Iteration 44 / 1528) loss: 1.621535"
       ]
      },
      {
       "output_type": "stream",
       "stream": "stdout",
       "text": [
        "\n",
        "(Iteration 45 / 1528) loss: 1.561488"
       ]
      },
      {
       "output_type": "stream",
       "stream": "stdout",
       "text": [
        "\n",
        "(Iteration 46 / 1528) loss: 1.516510"
       ]
      },
      {
       "output_type": "stream",
       "stream": "stdout",
       "text": [
        "\n",
        "(Iteration 47 / 1528) loss: 1.599611"
       ]
      },
      {
       "output_type": "stream",
       "stream": "stdout",
       "text": [
        "\n",
        "(Iteration 48 / 1528) loss: 1.696284"
       ]
      },
      {
       "output_type": "stream",
       "stream": "stdout",
       "text": [
        "\n",
        "(Iteration 49 / 1528) loss: 1.534891"
       ]
      },
      {
       "output_type": "stream",
       "stream": "stdout",
       "text": [
        "\n",
        "(Iteration 50 / 1528) loss: 1.522430"
       ]
      },
      {
       "output_type": "stream",
       "stream": "stdout",
       "text": [
        "\n",
        "(Iteration 51 / 1528) loss: 1.533159"
       ]
      },
      {
       "output_type": "stream",
       "stream": "stdout",
       "text": [
        "\n",
        "(Iteration 52 / 1528) loss: 1.590678"
       ]
      },
      {
       "output_type": "stream",
       "stream": "stdout",
       "text": [
        "\n",
        "(Iteration 53 / 1528) loss: 1.540540"
       ]
      },
      {
       "output_type": "stream",
       "stream": "stdout",
       "text": [
        "\n",
        "(Iteration 54 / 1528) loss: 1.638621"
       ]
      },
      {
       "output_type": "stream",
       "stream": "stdout",
       "text": [
        "\n",
        "(Iteration 55 / 1528) loss: 1.627395"
       ]
      },
      {
       "output_type": "stream",
       "stream": "stdout",
       "text": [
        "\n",
        "(Iteration 56 / 1528) loss: 1.698017"
       ]
      },
      {
       "output_type": "stream",
       "stream": "stdout",
       "text": [
        "\n",
        "(Iteration 57 / 1528) loss: 1.620605"
       ]
      },
      {
       "output_type": "stream",
       "stream": "stdout",
       "text": [
        "\n",
        "(Iteration 58 / 1528) loss: 1.341486"
       ]
      },
      {
       "output_type": "stream",
       "stream": "stdout",
       "text": [
        "\n",
        "(Iteration 59 / 1528) loss: 1.563655"
       ]
      },
      {
       "output_type": "stream",
       "stream": "stdout",
       "text": [
        "\n",
        "(Iteration 60 / 1528) loss: 1.505162"
       ]
      },
      {
       "output_type": "stream",
       "stream": "stdout",
       "text": [
        "\n",
        "(Iteration 61 / 1528) loss: 1.469794"
       ]
      },
      {
       "output_type": "stream",
       "stream": "stdout",
       "text": [
        "\n",
        "(Iteration 62 / 1528) loss: 1.766708"
       ]
      },
      {
       "output_type": "stream",
       "stream": "stdout",
       "text": [
        "\n",
        "(Iteration 63 / 1528) loss: 1.546746"
       ]
      },
      {
       "output_type": "stream",
       "stream": "stdout",
       "text": [
        "\n",
        "(Iteration 64 / 1528) loss: 1.554829"
       ]
      },
      {
       "output_type": "stream",
       "stream": "stdout",
       "text": [
        "\n",
        "(Iteration 65 / 1528) loss: 1.446201"
       ]
      },
      {
       "output_type": "stream",
       "stream": "stdout",
       "text": [
        "\n",
        "(Iteration 66 / 1528) loss: 1.252681"
       ]
      },
      {
       "output_type": "stream",
       "stream": "stdout",
       "text": [
        "\n",
        "(Iteration 67 / 1528) loss: 1.491061"
       ]
      },
      {
       "output_type": "stream",
       "stream": "stdout",
       "text": [
        "\n",
        "(Iteration 68 / 1528) loss: 1.548984"
       ]
      },
      {
       "output_type": "stream",
       "stream": "stdout",
       "text": [
        "\n",
        "(Iteration 69 / 1528) loss: 1.488189"
       ]
      },
      {
       "output_type": "stream",
       "stream": "stdout",
       "text": [
        "\n",
        "(Iteration 70 / 1528) loss: 1.487376"
       ]
      },
      {
       "output_type": "stream",
       "stream": "stdout",
       "text": [
        "\n",
        "(Iteration 71 / 1528) loss: 1.565826"
       ]
      },
      {
       "output_type": "stream",
       "stream": "stdout",
       "text": [
        "\n",
        "(Iteration 72 / 1528) loss: 1.551204"
       ]
      },
      {
       "output_type": "stream",
       "stream": "stdout",
       "text": [
        "\n",
        "(Iteration 73 / 1528) loss: 1.459084"
       ]
      },
      {
       "output_type": "stream",
       "stream": "stdout",
       "text": [
        "\n",
        "(Iteration 74 / 1528) loss: 1.585304"
       ]
      },
      {
       "output_type": "stream",
       "stream": "stdout",
       "text": [
        "\n",
        "(Iteration 75 / 1528) loss: 1.371754"
       ]
      },
      {
       "output_type": "stream",
       "stream": "stdout",
       "text": [
        "\n",
        "(Iteration 76 / 1528) loss: 1.663853"
       ]
      },
      {
       "output_type": "stream",
       "stream": "stdout",
       "text": [
        "\n",
        "(Iteration 77 / 1528) loss: 1.630606"
       ]
      },
      {
       "output_type": "stream",
       "stream": "stdout",
       "text": [
        "\n",
        "(Iteration 78 / 1528) loss: 1.474063"
       ]
      },
      {
       "output_type": "stream",
       "stream": "stdout",
       "text": [
        "\n",
        "(Iteration 79 / 1528) loss: 1.309242"
       ]
      },
      {
       "output_type": "stream",
       "stream": "stdout",
       "text": [
        "\n",
        "(Iteration 80 / 1528) loss: 1.476971"
       ]
      },
      {
       "output_type": "stream",
       "stream": "stdout",
       "text": [
        "\n",
        "(Iteration 81 / 1528) loss: 1.376017"
       ]
      },
      {
       "output_type": "stream",
       "stream": "stdout",
       "text": [
        "\n",
        "(Iteration 82 / 1528) loss: 1.524074"
       ]
      },
      {
       "output_type": "stream",
       "stream": "stdout",
       "text": [
        "\n",
        "(Iteration 83 / 1528) loss: 1.528309"
       ]
      },
      {
       "output_type": "stream",
       "stream": "stdout",
       "text": [
        "\n",
        "(Iteration 84 / 1528) loss: 1.517179"
       ]
      },
      {
       "output_type": "stream",
       "stream": "stdout",
       "text": [
        "\n",
        "(Iteration 85 / 1528) loss: 1.618687"
       ]
      },
      {
       "output_type": "stream",
       "stream": "stdout",
       "text": [
        "\n",
        "(Iteration 86 / 1528) loss: 1.466033"
       ]
      },
      {
       "output_type": "stream",
       "stream": "stdout",
       "text": [
        "\n",
        "(Iteration 87 / 1528) loss: 1.498232"
       ]
      },
      {
       "output_type": "stream",
       "stream": "stdout",
       "text": [
        "\n",
        "(Iteration 88 / 1528) loss: 1.400913"
       ]
      },
      {
       "output_type": "stream",
       "stream": "stdout",
       "text": [
        "\n",
        "(Iteration 89 / 1528) loss: 1.430807"
       ]
      },
      {
       "output_type": "stream",
       "stream": "stdout",
       "text": [
        "\n",
        "(Iteration 90 / 1528) loss: 1.407306"
       ]
      },
      {
       "output_type": "stream",
       "stream": "stdout",
       "text": [
        "\n",
        "(Iteration 91 / 1528) loss: 1.374813"
       ]
      },
      {
       "output_type": "stream",
       "stream": "stdout",
       "text": [
        "\n",
        "(Iteration 92 / 1528) loss: 1.548977"
       ]
      },
      {
       "output_type": "stream",
       "stream": "stdout",
       "text": [
        "\n",
        "(Iteration 93 / 1528) loss: 1.525892"
       ]
      },
      {
       "output_type": "stream",
       "stream": "stdout",
       "text": [
        "\n",
        "(Iteration 94 / 1528) loss: 1.628157"
       ]
      },
      {
       "output_type": "stream",
       "stream": "stdout",
       "text": [
        "\n",
        "(Iteration 95 / 1528) loss: 1.348596"
       ]
      },
      {
       "output_type": "stream",
       "stream": "stdout",
       "text": [
        "\n",
        "(Iteration 96 / 1528) loss: 1.446526"
       ]
      },
      {
       "output_type": "stream",
       "stream": "stdout",
       "text": [
        "\n",
        "(Iteration 97 / 1528) loss: 1.349175"
       ]
      },
      {
       "output_type": "stream",
       "stream": "stdout",
       "text": [
        "\n",
        "(Iteration 98 / 1528) loss: 1.526239"
       ]
      },
      {
       "output_type": "stream",
       "stream": "stdout",
       "text": [
        "\n",
        "(Iteration 99 / 1528) loss: 1.496850"
       ]
      },
      {
       "output_type": "stream",
       "stream": "stdout",
       "text": [
        "\n",
        "(Iteration 100 / 1528) loss: 1.368951"
       ]
      },
      {
       "output_type": "stream",
       "stream": "stdout",
       "text": [
        "\n",
        "(Iteration 101 / 1528) loss: 1.336134"
       ]
      },
      {
       "output_type": "stream",
       "stream": "stdout",
       "text": [
        "\n",
        "(Iteration 102 / 1528) loss: 1.470637"
       ]
      },
      {
       "output_type": "stream",
       "stream": "stdout",
       "text": [
        "\n",
        "(Iteration 103 / 1528) loss: 1.337845"
       ]
      },
      {
       "output_type": "stream",
       "stream": "stdout",
       "text": [
        "\n",
        "(Iteration 104 / 1528) loss: 1.438381"
       ]
      },
      {
       "output_type": "stream",
       "stream": "stdout",
       "text": [
        "\n",
        "(Iteration 105 / 1528) loss: 1.308436"
       ]
      },
      {
       "output_type": "stream",
       "stream": "stdout",
       "text": [
        "\n",
        "(Iteration 106 / 1528) loss: 1.455065"
       ]
      },
      {
       "output_type": "stream",
       "stream": "stdout",
       "text": [
        "\n",
        "(Iteration 107 / 1528) loss: 1.532004"
       ]
      },
      {
       "output_type": "stream",
       "stream": "stdout",
       "text": [
        "\n",
        "(Iteration 108 / 1528) loss: 1.526586"
       ]
      },
      {
       "output_type": "stream",
       "stream": "stdout",
       "text": [
        "\n",
        "(Iteration 109 / 1528) loss: 1.285025"
       ]
      },
      {
       "output_type": "stream",
       "stream": "stdout",
       "text": [
        "\n",
        "(Iteration 110 / 1528) loss: 1.429235"
       ]
      },
      {
       "output_type": "stream",
       "stream": "stdout",
       "text": [
        "\n",
        "(Iteration 111 / 1528) loss: 1.335897"
       ]
      },
      {
       "output_type": "stream",
       "stream": "stdout",
       "text": [
        "\n",
        "(Iteration 112 / 1528) loss: 1.427902"
       ]
      },
      {
       "output_type": "stream",
       "stream": "stdout",
       "text": [
        "\n",
        "(Iteration 113 / 1528) loss: 1.510356"
       ]
      },
      {
       "output_type": "stream",
       "stream": "stdout",
       "text": [
        "\n",
        "(Iteration 114 / 1528) loss: 1.497792"
       ]
      },
      {
       "output_type": "stream",
       "stream": "stdout",
       "text": [
        "\n",
        "(Iteration 115 / 1528) loss: 1.323581"
       ]
      },
      {
       "output_type": "stream",
       "stream": "stdout",
       "text": [
        "\n",
        "(Iteration 116 / 1528) loss: 1.416061"
       ]
      },
      {
       "output_type": "stream",
       "stream": "stdout",
       "text": [
        "\n",
        "(Iteration 117 / 1528) loss: 1.488802"
       ]
      },
      {
       "output_type": "stream",
       "stream": "stdout",
       "text": [
        "\n",
        "(Iteration 118 / 1528) loss: 1.513894"
       ]
      },
      {
       "output_type": "stream",
       "stream": "stdout",
       "text": [
        "\n",
        "(Iteration 119 / 1528) loss: 1.381223"
       ]
      },
      {
       "output_type": "stream",
       "stream": "stdout",
       "text": [
        "\n",
        "(Iteration 120 / 1528) loss: 1.519271"
       ]
      },
      {
       "output_type": "stream",
       "stream": "stdout",
       "text": [
        "\n",
        "(Iteration 121 / 1528) loss: 1.420024"
       ]
      },
      {
       "output_type": "stream",
       "stream": "stdout",
       "text": [
        "\n",
        "(Iteration 122 / 1528) loss: 1.460898"
       ]
      },
      {
       "output_type": "stream",
       "stream": "stdout",
       "text": [
        "\n",
        "(Iteration 123 / 1528) loss: 1.477768"
       ]
      },
      {
       "output_type": "stream",
       "stream": "stdout",
       "text": [
        "\n",
        "(Iteration 124 / 1528) loss: 1.374428"
       ]
      },
      {
       "output_type": "stream",
       "stream": "stdout",
       "text": [
        "\n",
        "(Iteration 125 / 1528) loss: 1.337013"
       ]
      },
      {
       "output_type": "stream",
       "stream": "stdout",
       "text": [
        "\n",
        "(Iteration 126 / 1528) loss: 1.390998"
       ]
      },
      {
       "output_type": "stream",
       "stream": "stdout",
       "text": [
        "\n",
        "(Iteration 127 / 1528) loss: 1.475844"
       ]
      },
      {
       "output_type": "stream",
       "stream": "stdout",
       "text": [
        "\n",
        "(Iteration 128 / 1528) loss: 1.492084"
       ]
      },
      {
       "output_type": "stream",
       "stream": "stdout",
       "text": [
        "\n",
        "(Iteration 129 / 1528) loss: 1.423650"
       ]
      },
      {
       "output_type": "stream",
       "stream": "stdout",
       "text": [
        "\n",
        "(Iteration 130 / 1528) loss: 1.396298"
       ]
      },
      {
       "output_type": "stream",
       "stream": "stdout",
       "text": [
        "\n",
        "(Iteration 131 / 1528) loss: 1.407302"
       ]
      },
      {
       "output_type": "stream",
       "stream": "stdout",
       "text": [
        "\n",
        "(Iteration 132 / 1528) loss: 1.440495"
       ]
      },
      {
       "output_type": "stream",
       "stream": "stdout",
       "text": [
        "\n",
        "(Iteration 133 / 1528) loss: 1.151308"
       ]
      },
      {
       "output_type": "stream",
       "stream": "stdout",
       "text": [
        "\n",
        "(Iteration 134 / 1528) loss: 1.639842"
       ]
      },
      {
       "output_type": "stream",
       "stream": "stdout",
       "text": [
        "\n",
        "(Iteration 135 / 1528) loss: 1.404088"
       ]
      },
      {
       "output_type": "stream",
       "stream": "stdout",
       "text": [
        "\n",
        "(Iteration 136 / 1528) loss: 1.403186"
       ]
      },
      {
       "output_type": "stream",
       "stream": "stdout",
       "text": [
        "\n",
        "(Iteration 137 / 1528) loss: 1.464388"
       ]
      },
      {
       "output_type": "stream",
       "stream": "stdout",
       "text": [
        "\n",
        "(Iteration 138 / 1528) loss: 1.508963"
       ]
      },
      {
       "output_type": "stream",
       "stream": "stdout",
       "text": [
        "\n",
        "(Iteration 139 / 1528) loss: 1.364225"
       ]
      },
      {
       "output_type": "stream",
       "stream": "stdout",
       "text": [
        "\n",
        "(Iteration 140 / 1528) loss: 1.279149"
       ]
      },
      {
       "output_type": "stream",
       "stream": "stdout",
       "text": [
        "\n",
        "(Iteration 141 / 1528) loss: 1.132773"
       ]
      },
      {
       "output_type": "stream",
       "stream": "stdout",
       "text": [
        "\n",
        "(Iteration 142 / 1528) loss: 1.454885"
       ]
      },
      {
       "output_type": "stream",
       "stream": "stdout",
       "text": [
        "\n",
        "(Iteration 143 / 1528) loss: 1.337952"
       ]
      },
      {
       "output_type": "stream",
       "stream": "stdout",
       "text": [
        "\n",
        "(Iteration 144 / 1528) loss: 1.393090"
       ]
      },
      {
       "output_type": "stream",
       "stream": "stdout",
       "text": [
        "\n",
        "(Iteration 145 / 1528) loss: 1.330350"
       ]
      },
      {
       "output_type": "stream",
       "stream": "stdout",
       "text": [
        "\n",
        "(Iteration 146 / 1528) loss: 1.465410"
       ]
      },
      {
       "output_type": "stream",
       "stream": "stdout",
       "text": [
        "\n",
        "(Iteration 147 / 1528) loss: 1.302250"
       ]
      },
      {
       "output_type": "stream",
       "stream": "stdout",
       "text": [
        "\n",
        "(Iteration 148 / 1528) loss: 1.371172"
       ]
      },
      {
       "output_type": "stream",
       "stream": "stdout",
       "text": [
        "\n",
        "(Iteration 149 / 1528) loss: 1.350512"
       ]
      },
      {
       "output_type": "stream",
       "stream": "stdout",
       "text": [
        "\n",
        "(Iteration 150 / 1528) loss: 1.273768"
       ]
      },
      {
       "output_type": "stream",
       "stream": "stdout",
       "text": [
        "\n",
        "(Iteration 151 / 1528) loss: 1.470635"
       ]
      },
      {
       "output_type": "stream",
       "stream": "stdout",
       "text": [
        "\n",
        "(Iteration 152 / 1528) loss: 1.453224"
       ]
      },
      {
       "output_type": "stream",
       "stream": "stdout",
       "text": [
        "\n",
        "(Iteration 153 / 1528) loss: 1.183445"
       ]
      },
      {
       "output_type": "stream",
       "stream": "stdout",
       "text": [
        "\n",
        "(Iteration 154 / 1528) loss: 1.227322"
       ]
      },
      {
       "output_type": "stream",
       "stream": "stdout",
       "text": [
        "\n",
        "(Iteration 155 / 1528) loss: 1.255323"
       ]
      },
      {
       "output_type": "stream",
       "stream": "stdout",
       "text": [
        "\n",
        "(Iteration 156 / 1528) loss: 1.318737"
       ]
      },
      {
       "output_type": "stream",
       "stream": "stdout",
       "text": [
        "\n",
        "(Iteration 157 / 1528) loss: 1.284639"
       ]
      },
      {
       "output_type": "stream",
       "stream": "stdout",
       "text": [
        "\n",
        "(Iteration 158 / 1528) loss: 1.361204"
       ]
      },
      {
       "output_type": "stream",
       "stream": "stdout",
       "text": [
        "\n",
        "(Iteration 159 / 1528) loss: 1.313974"
       ]
      },
      {
       "output_type": "stream",
       "stream": "stdout",
       "text": [
        "\n",
        "(Iteration 160 / 1528) loss: 1.393678"
       ]
      },
      {
       "output_type": "stream",
       "stream": "stdout",
       "text": [
        "\n",
        "(Iteration 161 / 1528) loss: 1.404957"
       ]
      },
      {
       "output_type": "stream",
       "stream": "stdout",
       "text": [
        "\n",
        "(Iteration 162 / 1528) loss: 1.366285"
       ]
      },
      {
       "output_type": "stream",
       "stream": "stdout",
       "text": [
        "\n",
        "(Iteration 163 / 1528) loss: 1.145884"
       ]
      },
      {
       "output_type": "stream",
       "stream": "stdout",
       "text": [
        "\n",
        "(Iteration 164 / 1528) loss: 1.351941"
       ]
      },
      {
       "output_type": "stream",
       "stream": "stdout",
       "text": [
        "\n",
        "(Iteration 165 / 1528) loss: 1.232418"
       ]
      },
      {
       "output_type": "stream",
       "stream": "stdout",
       "text": [
        "\n",
        "(Iteration 166 / 1528) loss: 1.279263"
       ]
      },
      {
       "output_type": "stream",
       "stream": "stdout",
       "text": [
        "\n",
        "(Iteration 167 / 1528) loss: 1.203914"
       ]
      },
      {
       "output_type": "stream",
       "stream": "stdout",
       "text": [
        "\n",
        "(Iteration 168 / 1528) loss: 1.218940"
       ]
      },
      {
       "output_type": "stream",
       "stream": "stdout",
       "text": [
        "\n",
        "(Iteration 169 / 1528) loss: 1.280349"
       ]
      },
      {
       "output_type": "stream",
       "stream": "stdout",
       "text": [
        "\n",
        "(Iteration 170 / 1528) loss: 1.164157"
       ]
      },
      {
       "output_type": "stream",
       "stream": "stdout",
       "text": [
        "\n",
        "(Iteration 171 / 1528) loss: 1.232099"
       ]
      },
      {
       "output_type": "stream",
       "stream": "stdout",
       "text": [
        "\n",
        "(Iteration 172 / 1528) loss: 1.313207"
       ]
      },
      {
       "output_type": "stream",
       "stream": "stdout",
       "text": [
        "\n",
        "(Iteration 173 / 1528) loss: 1.186944"
       ]
      },
      {
       "output_type": "stream",
       "stream": "stdout",
       "text": [
        "\n",
        "(Iteration 174 / 1528) loss: 1.266957"
       ]
      },
      {
       "output_type": "stream",
       "stream": "stdout",
       "text": [
        "\n",
        "(Iteration 175 / 1528) loss: 1.529693"
       ]
      },
      {
       "output_type": "stream",
       "stream": "stdout",
       "text": [
        "\n",
        "(Iteration 176 / 1528) loss: 1.375811"
       ]
      },
      {
       "output_type": "stream",
       "stream": "stdout",
       "text": [
        "\n",
        "(Iteration 177 / 1528) loss: 1.251341"
       ]
      },
      {
       "output_type": "stream",
       "stream": "stdout",
       "text": [
        "\n",
        "(Iteration 178 / 1528) loss: 1.482815"
       ]
      },
      {
       "output_type": "stream",
       "stream": "stdout",
       "text": [
        "\n",
        "(Iteration 179 / 1528) loss: 1.397716"
       ]
      },
      {
       "output_type": "stream",
       "stream": "stdout",
       "text": [
        "\n",
        "(Iteration 180 / 1528) loss: 1.311375"
       ]
      },
      {
       "output_type": "stream",
       "stream": "stdout",
       "text": [
        "\n",
        "(Iteration 181 / 1528) loss: 1.347072"
       ]
      },
      {
       "output_type": "stream",
       "stream": "stdout",
       "text": [
        "\n",
        "(Iteration 182 / 1528) loss: 1.307285"
       ]
      },
      {
       "output_type": "stream",
       "stream": "stdout",
       "text": [
        "\n",
        "(Iteration 183 / 1528) loss: 1.356847"
       ]
      },
      {
       "output_type": "stream",
       "stream": "stdout",
       "text": [
        "\n",
        "(Iteration 184 / 1528) loss: 1.313314"
       ]
      },
      {
       "output_type": "stream",
       "stream": "stdout",
       "text": [
        "\n",
        "(Iteration 185 / 1528) loss: 1.324297"
       ]
      },
      {
       "output_type": "stream",
       "stream": "stdout",
       "text": [
        "\n",
        "(Iteration 186 / 1528) loss: 1.161895"
       ]
      },
      {
       "output_type": "stream",
       "stream": "stdout",
       "text": [
        "\n",
        "(Iteration 187 / 1528) loss: 1.237931"
       ]
      },
      {
       "output_type": "stream",
       "stream": "stdout",
       "text": [
        "\n",
        "(Iteration 188 / 1528) loss: 1.354554"
       ]
      },
      {
       "output_type": "stream",
       "stream": "stdout",
       "text": [
        "\n",
        "(Iteration 189 / 1528) loss: 1.160632"
       ]
      },
      {
       "output_type": "stream",
       "stream": "stdout",
       "text": [
        "\n",
        "(Iteration 190 / 1528) loss: 1.311415"
       ]
      },
      {
       "output_type": "stream",
       "stream": "stdout",
       "text": [
        "\n",
        "(Iteration 191 / 1528) loss: 1.210865"
       ]
      },
      {
       "output_type": "stream",
       "stream": "stdout",
       "text": [
        "\n",
        "(Iteration 192 / 1528) loss: 1.333938"
       ]
      },
      {
       "output_type": "stream",
       "stream": "stdout",
       "text": [
        "\n",
        "(Iteration 193 / 1528) loss: 1.292114"
       ]
      },
      {
       "output_type": "stream",
       "stream": "stdout",
       "text": [
        "\n",
        "(Iteration 194 / 1528) loss: 1.383047"
       ]
      },
      {
       "output_type": "stream",
       "stream": "stdout",
       "text": [
        "\n",
        "(Iteration 195 / 1528) loss: 1.203014"
       ]
      },
      {
       "output_type": "stream",
       "stream": "stdout",
       "text": [
        "\n",
        "(Iteration 196 / 1528) loss: 1.340329"
       ]
      },
      {
       "output_type": "stream",
       "stream": "stdout",
       "text": [
        "\n",
        "(Iteration 197 / 1528) loss: 1.231858"
       ]
      },
      {
       "output_type": "stream",
       "stream": "stdout",
       "text": [
        "\n",
        "(Iteration 198 / 1528) loss: 1.123653"
       ]
      },
      {
       "output_type": "stream",
       "stream": "stdout",
       "text": [
        "\n",
        "(Iteration 199 / 1528) loss: 1.199605"
       ]
      },
      {
       "output_type": "stream",
       "stream": "stdout",
       "text": [
        "\n",
        "(Iteration 200 / 1528) loss: 1.241424"
       ]
      },
      {
       "output_type": "stream",
       "stream": "stdout",
       "text": [
        "\n",
        "(Iteration 201 / 1528) loss: 1.334562"
       ]
      },
      {
       "output_type": "stream",
       "stream": "stdout",
       "text": [
        "\n",
        "(Iteration 202 / 1528) loss: 1.222907"
       ]
      },
      {
       "output_type": "stream",
       "stream": "stdout",
       "text": [
        "\n",
        "(Iteration 203 / 1528) loss: 1.129580"
       ]
      },
      {
       "output_type": "stream",
       "stream": "stdout",
       "text": [
        "\n",
        "(Iteration 204 / 1528) loss: 1.288820"
       ]
      },
      {
       "output_type": "stream",
       "stream": "stdout",
       "text": [
        "\n",
        "(Iteration 205 / 1528) loss: 1.323800"
       ]
      },
      {
       "output_type": "stream",
       "stream": "stdout",
       "text": [
        "\n",
        "(Iteration 206 / 1528) loss: 1.261468"
       ]
      },
      {
       "output_type": "stream",
       "stream": "stdout",
       "text": [
        "\n",
        "(Iteration 207 / 1528) loss: 1.446077"
       ]
      },
      {
       "output_type": "stream",
       "stream": "stdout",
       "text": [
        "\n",
        "(Iteration 208 / 1528) loss: 1.391845"
       ]
      },
      {
       "output_type": "stream",
       "stream": "stdout",
       "text": [
        "\n",
        "(Iteration 209 / 1528) loss: 1.154838"
       ]
      },
      {
       "output_type": "stream",
       "stream": "stdout",
       "text": [
        "\n",
        "(Iteration 210 / 1528) loss: 1.426440"
       ]
      },
      {
       "output_type": "stream",
       "stream": "stdout",
       "text": [
        "\n",
        "(Iteration 211 / 1528) loss: 1.328324"
       ]
      },
      {
       "output_type": "stream",
       "stream": "stdout",
       "text": [
        "\n",
        "(Iteration 212 / 1528) loss: 1.319246"
       ]
      },
      {
       "output_type": "stream",
       "stream": "stdout",
       "text": [
        "\n",
        "(Iteration 213 / 1528) loss: 1.199539"
       ]
      },
      {
       "output_type": "stream",
       "stream": "stdout",
       "text": [
        "\n",
        "(Iteration 214 / 1528) loss: 1.282305"
       ]
      },
      {
       "output_type": "stream",
       "stream": "stdout",
       "text": [
        "\n",
        "(Iteration 215 / 1528) loss: 1.160831"
       ]
      },
      {
       "output_type": "stream",
       "stream": "stdout",
       "text": [
        "\n",
        "(Iteration 216 / 1528) loss: 1.365824"
       ]
      },
      {
       "output_type": "stream",
       "stream": "stdout",
       "text": [
        "\n",
        "(Iteration 217 / 1528) loss: 1.281114"
       ]
      },
      {
       "output_type": "stream",
       "stream": "stdout",
       "text": [
        "\n",
        "(Iteration 218 / 1528) loss: 1.282764"
       ]
      },
      {
       "output_type": "stream",
       "stream": "stdout",
       "text": [
        "\n",
        "(Iteration 219 / 1528) loss: 1.241964"
       ]
      },
      {
       "output_type": "stream",
       "stream": "stdout",
       "text": [
        "\n",
        "(Iteration 220 / 1528) loss: 1.134201"
       ]
      },
      {
       "output_type": "stream",
       "stream": "stdout",
       "text": [
        "\n",
        "(Iteration 221 / 1528) loss: 1.137785"
       ]
      },
      {
       "output_type": "stream",
       "stream": "stdout",
       "text": [
        "\n",
        "(Iteration 222 / 1528) loss: 1.255739"
       ]
      },
      {
       "output_type": "stream",
       "stream": "stdout",
       "text": [
        "\n",
        "(Iteration 223 / 1528) loss: 1.274925"
       ]
      },
      {
       "output_type": "stream",
       "stream": "stdout",
       "text": [
        "\n",
        "(Iteration 224 / 1528) loss: 1.232731"
       ]
      },
      {
       "output_type": "stream",
       "stream": "stdout",
       "text": [
        "\n",
        "(Iteration 225 / 1528) loss: 1.166875"
       ]
      },
      {
       "output_type": "stream",
       "stream": "stdout",
       "text": [
        "\n",
        "(Iteration 226 / 1528) loss: 1.138240"
       ]
      },
      {
       "output_type": "stream",
       "stream": "stdout",
       "text": [
        "\n",
        "(Iteration 227 / 1528) loss: 1.219382"
       ]
      },
      {
       "output_type": "stream",
       "stream": "stdout",
       "text": [
        "\n",
        "(Iteration 228 / 1528) loss: 1.318376"
       ]
      },
      {
       "output_type": "stream",
       "stream": "stdout",
       "text": [
        "\n",
        "(Iteration 229 / 1528) loss: 1.224679"
       ]
      },
      {
       "output_type": "stream",
       "stream": "stdout",
       "text": [
        "\n",
        "(Iteration 230 / 1528) loss: 1.371095"
       ]
      },
      {
       "output_type": "stream",
       "stream": "stdout",
       "text": [
        "\n",
        "(Iteration 231 / 1528) loss: 1.256140"
       ]
      },
      {
       "output_type": "stream",
       "stream": "stdout",
       "text": [
        "\n",
        "(Iteration 232 / 1528) loss: 1.154479"
       ]
      },
      {
       "output_type": "stream",
       "stream": "stdout",
       "text": [
        "\n",
        "(Iteration 233 / 1528) loss: 1.313042"
       ]
      },
      {
       "output_type": "stream",
       "stream": "stdout",
       "text": [
        "\n",
        "(Iteration 234 / 1528) loss: 1.212818"
       ]
      },
      {
       "output_type": "stream",
       "stream": "stdout",
       "text": [
        "\n",
        "(Iteration 235 / 1528) loss: 1.137598"
       ]
      },
      {
       "output_type": "stream",
       "stream": "stdout",
       "text": [
        "\n",
        "(Iteration 236 / 1528) loss: 1.313331"
       ]
      },
      {
       "output_type": "stream",
       "stream": "stdout",
       "text": [
        "\n",
        "(Iteration 237 / 1528) loss: 1.369393"
       ]
      },
      {
       "output_type": "stream",
       "stream": "stdout",
       "text": [
        "\n",
        "(Iteration 238 / 1528) loss: 1.293731"
       ]
      },
      {
       "output_type": "stream",
       "stream": "stdout",
       "text": [
        "\n",
        "(Iteration 239 / 1528) loss: 1.217738"
       ]
      },
      {
       "output_type": "stream",
       "stream": "stdout",
       "text": [
        "\n",
        "(Iteration 240 / 1528) loss: 1.391141"
       ]
      },
      {
       "output_type": "stream",
       "stream": "stdout",
       "text": [
        "\n",
        "(Iteration 241 / 1528) loss: 1.153332"
       ]
      },
      {
       "output_type": "stream",
       "stream": "stdout",
       "text": [
        "\n",
        "(Iteration 242 / 1528) loss: 1.247565"
       ]
      },
      {
       "output_type": "stream",
       "stream": "stdout",
       "text": [
        "\n",
        "(Iteration 243 / 1528) loss: 1.242015"
       ]
      },
      {
       "output_type": "stream",
       "stream": "stdout",
       "text": [
        "\n",
        "(Iteration 244 / 1528) loss: 1.194553"
       ]
      },
      {
       "output_type": "stream",
       "stream": "stdout",
       "text": [
        "\n",
        "(Iteration 245 / 1528) loss: 1.335501"
       ]
      },
      {
       "output_type": "stream",
       "stream": "stdout",
       "text": [
        "\n",
        "(Iteration 246 / 1528) loss: 1.320383"
       ]
      },
      {
       "output_type": "stream",
       "stream": "stdout",
       "text": [
        "\n",
        "(Iteration 247 / 1528) loss: 1.256340"
       ]
      },
      {
       "output_type": "stream",
       "stream": "stdout",
       "text": [
        "\n",
        "(Iteration 248 / 1528) loss: 1.131753"
       ]
      },
      {
       "output_type": "stream",
       "stream": "stdout",
       "text": [
        "\n",
        "(Iteration 249 / 1528) loss: 1.287511"
       ]
      },
      {
       "output_type": "stream",
       "stream": "stdout",
       "text": [
        "\n",
        "(Iteration 250 / 1528) loss: 1.158863"
       ]
      },
      {
       "output_type": "stream",
       "stream": "stdout",
       "text": [
        "\n",
        "(Iteration 251 / 1528) loss: 1.269422"
       ]
      },
      {
       "output_type": "stream",
       "stream": "stdout",
       "text": [
        "\n",
        "(Iteration 252 / 1528) loss: 1.168319"
       ]
      },
      {
       "output_type": "stream",
       "stream": "stdout",
       "text": [
        "\n",
        "(Iteration 253 / 1528) loss: 1.316995"
       ]
      },
      {
       "output_type": "stream",
       "stream": "stdout",
       "text": [
        "\n",
        "(Iteration 254 / 1528) loss: 1.316760"
       ]
      },
      {
       "output_type": "stream",
       "stream": "stdout",
       "text": [
        "\n",
        "(Iteration 255 / 1528) loss: 1.224861"
       ]
      },
      {
       "output_type": "stream",
       "stream": "stdout",
       "text": [
        "\n",
        "(Iteration 256 / 1528) loss: 1.196293"
       ]
      },
      {
       "output_type": "stream",
       "stream": "stdout",
       "text": [
        "\n",
        "(Iteration 257 / 1528) loss: 1.354415"
       ]
      },
      {
       "output_type": "stream",
       "stream": "stdout",
       "text": [
        "\n",
        "(Iteration 258 / 1528) loss: 1.264251"
       ]
      },
      {
       "output_type": "stream",
       "stream": "stdout",
       "text": [
        "\n",
        "(Iteration 259 / 1528) loss: 1.308055"
       ]
      },
      {
       "output_type": "stream",
       "stream": "stdout",
       "text": [
        "\n",
        "(Iteration 260 / 1528) loss: 1.078295"
       ]
      },
      {
       "output_type": "stream",
       "stream": "stdout",
       "text": [
        "\n",
        "(Iteration 261 / 1528) loss: 1.144648"
       ]
      },
      {
       "output_type": "stream",
       "stream": "stdout",
       "text": [
        "\n",
        "(Iteration 262 / 1528) loss: 1.085978"
       ]
      },
      {
       "output_type": "stream",
       "stream": "stdout",
       "text": [
        "\n",
        "(Iteration 263 / 1528) loss: 1.129418"
       ]
      },
      {
       "output_type": "stream",
       "stream": "stdout",
       "text": [
        "\n",
        "(Iteration 264 / 1528) loss: 1.170430"
       ]
      },
      {
       "output_type": "stream",
       "stream": "stdout",
       "text": [
        "\n",
        "(Iteration 265 / 1528) loss: 1.201169"
       ]
      },
      {
       "output_type": "stream",
       "stream": "stdout",
       "text": [
        "\n",
        "(Iteration 266 / 1528) loss: 1.235677"
       ]
      },
      {
       "output_type": "stream",
       "stream": "stdout",
       "text": [
        "\n",
        "(Iteration 267 / 1528) loss: 1.078549"
       ]
      },
      {
       "output_type": "stream",
       "stream": "stdout",
       "text": [
        "\n",
        "(Iteration 268 / 1528) loss: 1.406509"
       ]
      },
      {
       "output_type": "stream",
       "stream": "stdout",
       "text": [
        "\n",
        "(Iteration 269 / 1528) loss: 1.187931"
       ]
      },
      {
       "output_type": "stream",
       "stream": "stdout",
       "text": [
        "\n",
        "(Iteration 270 / 1528) loss: 1.236743"
       ]
      },
      {
       "output_type": "stream",
       "stream": "stdout",
       "text": [
        "\n",
        "(Iteration 271 / 1528) loss: 1.166904"
       ]
      },
      {
       "output_type": "stream",
       "stream": "stdout",
       "text": [
        "\n",
        "(Iteration 272 / 1528) loss: 1.085717"
       ]
      },
      {
       "output_type": "stream",
       "stream": "stdout",
       "text": [
        "\n",
        "(Iteration 273 / 1528) loss: 1.132520"
       ]
      },
      {
       "output_type": "stream",
       "stream": "stdout",
       "text": [
        "\n",
        "(Iteration 274 / 1528) loss: 1.200532"
       ]
      },
      {
       "output_type": "stream",
       "stream": "stdout",
       "text": [
        "\n",
        "(Iteration 275 / 1528) loss: 1.131346"
       ]
      },
      {
       "output_type": "stream",
       "stream": "stdout",
       "text": [
        "\n",
        "(Iteration 276 / 1528) loss: 1.281141"
       ]
      },
      {
       "output_type": "stream",
       "stream": "stdout",
       "text": [
        "\n",
        "(Iteration 277 / 1528) loss: 1.170985"
       ]
      },
      {
       "output_type": "stream",
       "stream": "stdout",
       "text": [
        "\n",
        "(Iteration 278 / 1528) loss: 1.100588"
       ]
      },
      {
       "output_type": "stream",
       "stream": "stdout",
       "text": [
        "\n",
        "(Iteration 279 / 1528) loss: 1.201975"
       ]
      },
      {
       "output_type": "stream",
       "stream": "stdout",
       "text": [
        "\n",
        "(Iteration 280 / 1528) loss: 1.168900"
       ]
      },
      {
       "output_type": "stream",
       "stream": "stdout",
       "text": [
        "\n",
        "(Iteration 281 / 1528) loss: 1.218764"
       ]
      },
      {
       "output_type": "stream",
       "stream": "stdout",
       "text": [
        "\n",
        "(Iteration 282 / 1528) loss: 1.048940"
       ]
      },
      {
       "output_type": "stream",
       "stream": "stdout",
       "text": [
        "\n",
        "(Iteration 283 / 1528) loss: 1.308413"
       ]
      },
      {
       "output_type": "stream",
       "stream": "stdout",
       "text": [
        "\n",
        "(Iteration 284 / 1528) loss: 1.045845"
       ]
      },
      {
       "output_type": "stream",
       "stream": "stdout",
       "text": [
        "\n",
        "(Iteration 285 / 1528) loss: 1.341332"
       ]
      },
      {
       "output_type": "stream",
       "stream": "stdout",
       "text": [
        "\n",
        "(Iteration 286 / 1528) loss: 1.167035"
       ]
      },
      {
       "output_type": "stream",
       "stream": "stdout",
       "text": [
        "\n",
        "(Iteration 287 / 1528) loss: 1.055957"
       ]
      },
      {
       "output_type": "stream",
       "stream": "stdout",
       "text": [
        "\n",
        "(Iteration 288 / 1528) loss: 1.254573"
       ]
      },
      {
       "output_type": "stream",
       "stream": "stdout",
       "text": [
        "\n",
        "(Iteration 289 / 1528) loss: 1.189799"
       ]
      },
      {
       "output_type": "stream",
       "stream": "stdout",
       "text": [
        "\n",
        "(Iteration 290 / 1528) loss: 1.121544"
       ]
      },
      {
       "output_type": "stream",
       "stream": "stdout",
       "text": [
        "\n",
        "(Iteration 291 / 1528) loss: 1.284043"
       ]
      },
      {
       "output_type": "stream",
       "stream": "stdout",
       "text": [
        "\n",
        "(Iteration 292 / 1528) loss: 1.342362"
       ]
      },
      {
       "output_type": "stream",
       "stream": "stdout",
       "text": [
        "\n",
        "(Iteration 293 / 1528) loss: 1.203086"
       ]
      },
      {
       "output_type": "stream",
       "stream": "stdout",
       "text": [
        "\n",
        "(Iteration 294 / 1528) loss: 1.187758"
       ]
      },
      {
       "output_type": "stream",
       "stream": "stdout",
       "text": [
        "\n",
        "(Iteration 295 / 1528) loss: 1.133896"
       ]
      },
      {
       "output_type": "stream",
       "stream": "stdout",
       "text": [
        "\n",
        "(Iteration 296 / 1528) loss: 1.137404"
       ]
      },
      {
       "output_type": "stream",
       "stream": "stdout",
       "text": [
        "\n",
        "(Iteration 297 / 1528) loss: 1.270994"
       ]
      },
      {
       "output_type": "stream",
       "stream": "stdout",
       "text": [
        "\n",
        "(Iteration 298 / 1528) loss: 1.366110"
       ]
      },
      {
       "output_type": "stream",
       "stream": "stdout",
       "text": [
        "\n",
        "(Iteration 299 / 1528) loss: 1.291007"
       ]
      },
      {
       "output_type": "stream",
       "stream": "stdout",
       "text": [
        "\n",
        "(Iteration 300 / 1528) loss: 1.155669"
       ]
      },
      {
       "output_type": "stream",
       "stream": "stdout",
       "text": [
        "\n",
        "(Iteration 301 / 1528) loss: 1.104199"
       ]
      },
      {
       "output_type": "stream",
       "stream": "stdout",
       "text": [
        "\n",
        "(Iteration 302 / 1528) loss: 1.168466"
       ]
      },
      {
       "output_type": "stream",
       "stream": "stdout",
       "text": [
        "\n",
        "(Iteration 303 / 1528) loss: 1.202232"
       ]
      },
      {
       "output_type": "stream",
       "stream": "stdout",
       "text": [
        "\n",
        "(Iteration 304 / 1528) loss: 1.025581"
       ]
      },
      {
       "output_type": "stream",
       "stream": "stdout",
       "text": [
        "\n",
        "(Iteration 305 / 1528) loss: 1.271100"
       ]
      },
      {
       "output_type": "stream",
       "stream": "stdout",
       "text": [
        "\n",
        "(Iteration 306 / 1528) loss: 1.190082"
       ]
      },
      {
       "output_type": "stream",
       "stream": "stdout",
       "text": [
        "\n",
        "(Iteration 307 / 1528) loss: 1.122042"
       ]
      },
      {
       "output_type": "stream",
       "stream": "stdout",
       "text": [
        "\n",
        "(Iteration 308 / 1528) loss: 1.128249"
       ]
      },
      {
       "output_type": "stream",
       "stream": "stdout",
       "text": [
        "\n",
        "(Iteration 309 / 1528) loss: 1.124974"
       ]
      },
      {
       "output_type": "stream",
       "stream": "stdout",
       "text": [
        "\n",
        "(Iteration 310 / 1528) loss: 1.170647"
       ]
      },
      {
       "output_type": "stream",
       "stream": "stdout",
       "text": [
        "\n",
        "(Iteration 311 / 1528) loss: 1.225510"
       ]
      },
      {
       "output_type": "stream",
       "stream": "stdout",
       "text": [
        "\n",
        "(Iteration 312 / 1528) loss: 1.099079"
       ]
      },
      {
       "output_type": "stream",
       "stream": "stdout",
       "text": [
        "\n",
        "(Iteration 313 / 1528) loss: 1.174602"
       ]
      },
      {
       "output_type": "stream",
       "stream": "stdout",
       "text": [
        "\n",
        "(Iteration 314 / 1528) loss: 1.054302"
       ]
      },
      {
       "output_type": "stream",
       "stream": "stdout",
       "text": [
        "\n",
        "(Iteration 315 / 1528) loss: 1.281122"
       ]
      },
      {
       "output_type": "stream",
       "stream": "stdout",
       "text": [
        "\n",
        "(Iteration 316 / 1528) loss: 1.228154"
       ]
      },
      {
       "output_type": "stream",
       "stream": "stdout",
       "text": [
        "\n",
        "(Iteration 317 / 1528) loss: 1.128918"
       ]
      },
      {
       "output_type": "stream",
       "stream": "stdout",
       "text": [
        "\n",
        "(Iteration 318 / 1528) loss: 0.982624"
       ]
      },
      {
       "output_type": "stream",
       "stream": "stdout",
       "text": [
        "\n",
        "(Iteration 319 / 1528) loss: 1.119866"
       ]
      },
      {
       "output_type": "stream",
       "stream": "stdout",
       "text": [
        "\n",
        "(Iteration 320 / 1528) loss: 1.193401"
       ]
      },
      {
       "output_type": "stream",
       "stream": "stdout",
       "text": [
        "\n",
        "(Iteration 321 / 1528) loss: 1.178516"
       ]
      },
      {
       "output_type": "stream",
       "stream": "stdout",
       "text": [
        "\n",
        "(Iteration 322 / 1528) loss: 1.352434"
       ]
      },
      {
       "output_type": "stream",
       "stream": "stdout",
       "text": [
        "\n",
        "(Iteration 323 / 1528) loss: 1.153798"
       ]
      },
      {
       "output_type": "stream",
       "stream": "stdout",
       "text": [
        "\n",
        "(Iteration 324 / 1528) loss: 1.030766"
       ]
      },
      {
       "output_type": "stream",
       "stream": "stdout",
       "text": [
        "\n",
        "(Iteration 325 / 1528) loss: 1.235432"
       ]
      },
      {
       "output_type": "stream",
       "stream": "stdout",
       "text": [
        "\n",
        "(Iteration 326 / 1528) loss: 0.942225"
       ]
      },
      {
       "output_type": "stream",
       "stream": "stdout",
       "text": [
        "\n",
        "(Iteration 327 / 1528) loss: 1.137598"
       ]
      },
      {
       "output_type": "stream",
       "stream": "stdout",
       "text": [
        "\n",
        "(Iteration 328 / 1528) loss: 1.182013"
       ]
      },
      {
       "output_type": "stream",
       "stream": "stdout",
       "text": [
        "\n",
        "(Iteration 329 / 1528) loss: 1.318289"
       ]
      },
      {
       "output_type": "stream",
       "stream": "stdout",
       "text": [
        "\n",
        "(Iteration 330 / 1528) loss: 0.976174"
       ]
      },
      {
       "output_type": "stream",
       "stream": "stdout",
       "text": [
        "\n",
        "(Iteration 331 / 1528) loss: 1.152942"
       ]
      },
      {
       "output_type": "stream",
       "stream": "stdout",
       "text": [
        "\n",
        "(Iteration 332 / 1528) loss: 1.164726"
       ]
      },
      {
       "output_type": "stream",
       "stream": "stdout",
       "text": [
        "\n",
        "(Iteration 333 / 1528) loss: 1.251007"
       ]
      },
      {
       "output_type": "stream",
       "stream": "stdout",
       "text": [
        "\n",
        "(Iteration 334 / 1528) loss: 1.148088"
       ]
      },
      {
       "output_type": "stream",
       "stream": "stdout",
       "text": [
        "\n",
        "(Iteration 335 / 1528) loss: 0.969154"
       ]
      },
      {
       "output_type": "stream",
       "stream": "stdout",
       "text": [
        "\n",
        "(Iteration 336 / 1528) loss: 1.154167"
       ]
      },
      {
       "output_type": "stream",
       "stream": "stdout",
       "text": [
        "\n",
        "(Iteration 337 / 1528) loss: 0.870011"
       ]
      },
      {
       "output_type": "stream",
       "stream": "stdout",
       "text": [
        "\n",
        "(Iteration 338 / 1528) loss: 1.172815"
       ]
      },
      {
       "output_type": "stream",
       "stream": "stdout",
       "text": [
        "\n",
        "(Iteration 339 / 1528) loss: 1.043028"
       ]
      },
      {
       "output_type": "stream",
       "stream": "stdout",
       "text": [
        "\n",
        "(Iteration 340 / 1528) loss: 1.130841"
       ]
      },
      {
       "output_type": "stream",
       "stream": "stdout",
       "text": [
        "\n",
        "(Iteration 341 / 1528) loss: 1.028003"
       ]
      },
      {
       "output_type": "stream",
       "stream": "stdout",
       "text": [
        "\n",
        "(Iteration 342 / 1528) loss: 1.303441"
       ]
      },
      {
       "output_type": "stream",
       "stream": "stdout",
       "text": [
        "\n",
        "(Iteration 343 / 1528) loss: 1.153656"
       ]
      },
      {
       "output_type": "stream",
       "stream": "stdout",
       "text": [
        "\n",
        "(Iteration 344 / 1528) loss: 1.095875"
       ]
      },
      {
       "output_type": "stream",
       "stream": "stdout",
       "text": [
        "\n",
        "(Iteration 345 / 1528) loss: 1.127008"
       ]
      },
      {
       "output_type": "stream",
       "stream": "stdout",
       "text": [
        "\n",
        "(Iteration 346 / 1528) loss: 1.076014"
       ]
      },
      {
       "output_type": "stream",
       "stream": "stdout",
       "text": [
        "\n",
        "(Iteration 347 / 1528) loss: 1.227187"
       ]
      },
      {
       "output_type": "stream",
       "stream": "stdout",
       "text": [
        "\n",
        "(Iteration 348 / 1528) loss: 1.286097"
       ]
      },
      {
       "output_type": "stream",
       "stream": "stdout",
       "text": [
        "\n",
        "(Iteration 349 / 1528) loss: 0.966792"
       ]
      },
      {
       "output_type": "stream",
       "stream": "stdout",
       "text": [
        "\n",
        "(Iteration 350 / 1528) loss: 1.190480"
       ]
      },
      {
       "output_type": "stream",
       "stream": "stdout",
       "text": [
        "\n",
        "(Iteration 351 / 1528) loss: 1.193646"
       ]
      },
      {
       "output_type": "stream",
       "stream": "stdout",
       "text": [
        "\n",
        "(Iteration 352 / 1528) loss: 1.218741"
       ]
      },
      {
       "output_type": "stream",
       "stream": "stdout",
       "text": [
        "\n",
        "(Iteration 353 / 1528) loss: 1.136425"
       ]
      },
      {
       "output_type": "stream",
       "stream": "stdout",
       "text": [
        "\n",
        "(Iteration 354 / 1528) loss: 1.080730"
       ]
      },
      {
       "output_type": "stream",
       "stream": "stdout",
       "text": [
        "\n",
        "(Iteration 355 / 1528) loss: 1.195146"
       ]
      },
      {
       "output_type": "stream",
       "stream": "stdout",
       "text": [
        "\n",
        "(Iteration 356 / 1528) loss: 1.016511"
       ]
      },
      {
       "output_type": "stream",
       "stream": "stdout",
       "text": [
        "\n",
        "(Iteration 357 / 1528) loss: 1.198059"
       ]
      },
      {
       "output_type": "stream",
       "stream": "stdout",
       "text": [
        "\n",
        "(Iteration 358 / 1528) loss: 1.172390"
       ]
      },
      {
       "output_type": "stream",
       "stream": "stdout",
       "text": [
        "\n",
        "(Iteration 359 / 1528) loss: 1.146115"
       ]
      },
      {
       "output_type": "stream",
       "stream": "stdout",
       "text": [
        "\n",
        "(Iteration 360 / 1528) loss: 1.128005"
       ]
      },
      {
       "output_type": "stream",
       "stream": "stdout",
       "text": [
        "\n",
        "(Iteration 361 / 1528) loss: 0.993038"
       ]
      },
      {
       "output_type": "stream",
       "stream": "stdout",
       "text": [
        "\n",
        "(Iteration 362 / 1528) loss: 1.088500"
       ]
      },
      {
       "output_type": "stream",
       "stream": "stdout",
       "text": [
        "\n",
        "(Iteration 363 / 1528) loss: 1.118122"
       ]
      },
      {
       "output_type": "stream",
       "stream": "stdout",
       "text": [
        "\n",
        "(Iteration 364 / 1528) loss: 1.105995"
       ]
      },
      {
       "output_type": "stream",
       "stream": "stdout",
       "text": [
        "\n",
        "(Iteration 365 / 1528) loss: 1.167526"
       ]
      },
      {
       "output_type": "stream",
       "stream": "stdout",
       "text": [
        "\n",
        "(Iteration 366 / 1528) loss: 1.135485"
       ]
      },
      {
       "output_type": "stream",
       "stream": "stdout",
       "text": [
        "\n",
        "(Iteration 367 / 1528) loss: 1.157728"
       ]
      },
      {
       "output_type": "stream",
       "stream": "stdout",
       "text": [
        "\n",
        "(Iteration 368 / 1528) loss: 1.147515"
       ]
      },
      {
       "output_type": "stream",
       "stream": "stdout",
       "text": [
        "\n",
        "(Iteration 369 / 1528) loss: 1.122112"
       ]
      },
      {
       "output_type": "stream",
       "stream": "stdout",
       "text": [
        "\n",
        "(Iteration 370 / 1528) loss: 1.214980"
       ]
      },
      {
       "output_type": "stream",
       "stream": "stdout",
       "text": [
        "\n",
        "(Iteration 371 / 1528) loss: 1.153193"
       ]
      },
      {
       "output_type": "stream",
       "stream": "stdout",
       "text": [
        "\n",
        "(Iteration 372 / 1528) loss: 1.287752"
       ]
      },
      {
       "output_type": "stream",
       "stream": "stdout",
       "text": [
        "\n",
        "(Iteration 373 / 1528) loss: 0.943878"
       ]
      },
      {
       "output_type": "stream",
       "stream": "stdout",
       "text": [
        "\n",
        "(Iteration 374 / 1528) loss: 1.027497"
       ]
      },
      {
       "output_type": "stream",
       "stream": "stdout",
       "text": [
        "\n",
        "(Iteration 375 / 1528) loss: 1.166433"
       ]
      },
      {
       "output_type": "stream",
       "stream": "stdout",
       "text": [
        "\n",
        "(Iteration 376 / 1528) loss: 1.055146"
       ]
      },
      {
       "output_type": "stream",
       "stream": "stdout",
       "text": [
        "\n",
        "(Iteration 377 / 1528) loss: 1.018174"
       ]
      },
      {
       "output_type": "stream",
       "stream": "stdout",
       "text": [
        "\n",
        "(Iteration 378 / 1528) loss: 1.060358"
       ]
      },
      {
       "output_type": "stream",
       "stream": "stdout",
       "text": [
        "\n",
        "(Iteration 379 / 1528) loss: 1.196749"
       ]
      },
      {
       "output_type": "stream",
       "stream": "stdout",
       "text": [
        "\n",
        "(Iteration 380 / 1528) loss: 1.103768"
       ]
      },
      {
       "output_type": "stream",
       "stream": "stdout",
       "text": [
        "\n",
        "(Iteration 381 / 1528) loss: 1.086586"
       ]
      },
      {
       "output_type": "stream",
       "stream": "stdout",
       "text": [
        "\n",
        "(Iteration 382 / 1528) loss: 1.064044"
       ]
      },
      {
       "output_type": "stream",
       "stream": "stdout",
       "text": [
        "\n",
        "(Epoch 1 / 4) train acc: 0.624000; val_acc: 0.623000"
       ]
      },
      {
       "output_type": "stream",
       "stream": "stdout",
       "text": [
        "\n",
        "(Iteration 383 / 1528) loss: 1.096400"
       ]
      },
      {
       "output_type": "stream",
       "stream": "stdout",
       "text": [
        "\n",
        "(Iteration 384 / 1528) loss: 1.025274"
       ]
      },
      {
       "output_type": "stream",
       "stream": "stdout",
       "text": [
        "\n",
        "(Iteration 385 / 1528) loss: 1.213222"
       ]
      },
      {
       "output_type": "stream",
       "stream": "stdout",
       "text": [
        "\n",
        "(Iteration 386 / 1528) loss: 1.119646"
       ]
      },
      {
       "output_type": "stream",
       "stream": "stdout",
       "text": [
        "\n",
        "(Iteration 387 / 1528) loss: 1.139290"
       ]
      },
      {
       "output_type": "stream",
       "stream": "stdout",
       "text": [
        "\n",
        "(Iteration 388 / 1528) loss: 1.427564"
       ]
      },
      {
       "output_type": "stream",
       "stream": "stdout",
       "text": [
        "\n",
        "(Iteration 389 / 1528) loss: 1.110745"
       ]
      },
      {
       "output_type": "stream",
       "stream": "stdout",
       "text": [
        "\n",
        "(Iteration 390 / 1528) loss: 0.967146"
       ]
      },
      {
       "output_type": "stream",
       "stream": "stdout",
       "text": [
        "\n",
        "(Iteration 391 / 1528) loss: 1.024362"
       ]
      },
      {
       "output_type": "stream",
       "stream": "stdout",
       "text": [
        "\n",
        "(Iteration 392 / 1528) loss: 1.141507"
       ]
      },
      {
       "output_type": "stream",
       "stream": "stdout",
       "text": [
        "\n",
        "(Iteration 393 / 1528) loss: 1.204705"
       ]
      },
      {
       "output_type": "stream",
       "stream": "stdout",
       "text": [
        "\n",
        "(Iteration 394 / 1528) loss: 1.078006"
       ]
      },
      {
       "output_type": "stream",
       "stream": "stdout",
       "text": [
        "\n",
        "(Iteration 395 / 1528) loss: 1.102219"
       ]
      },
      {
       "output_type": "stream",
       "stream": "stdout",
       "text": [
        "\n",
        "(Iteration 396 / 1528) loss: 1.051693"
       ]
      },
      {
       "output_type": "stream",
       "stream": "stdout",
       "text": [
        "\n",
        "(Iteration 397 / 1528) loss: 1.126633"
       ]
      },
      {
       "output_type": "stream",
       "stream": "stdout",
       "text": [
        "\n",
        "(Iteration 398 / 1528) loss: 1.079121"
       ]
      },
      {
       "output_type": "stream",
       "stream": "stdout",
       "text": [
        "\n",
        "(Iteration 399 / 1528) loss: 1.212631"
       ]
      },
      {
       "output_type": "stream",
       "stream": "stdout",
       "text": [
        "\n",
        "(Iteration 400 / 1528) loss: 1.062960"
       ]
      },
      {
       "output_type": "stream",
       "stream": "stdout",
       "text": [
        "\n",
        "(Iteration 401 / 1528) loss: 1.113175"
       ]
      },
      {
       "output_type": "stream",
       "stream": "stdout",
       "text": [
        "\n",
        "(Iteration 402 / 1528) loss: 1.032005"
       ]
      },
      {
       "output_type": "stream",
       "stream": "stdout",
       "text": [
        "\n",
        "(Iteration 403 / 1528) loss: 1.088180"
       ]
      },
      {
       "output_type": "stream",
       "stream": "stdout",
       "text": [
        "\n",
        "(Iteration 404 / 1528) loss: 1.125896"
       ]
      },
      {
       "output_type": "stream",
       "stream": "stdout",
       "text": [
        "\n",
        "(Iteration 405 / 1528) loss: 0.970961"
       ]
      },
      {
       "output_type": "stream",
       "stream": "stdout",
       "text": [
        "\n",
        "(Iteration 406 / 1528) loss: 1.029232"
       ]
      },
      {
       "output_type": "stream",
       "stream": "stdout",
       "text": [
        "\n",
        "(Iteration 407 / 1528) loss: 0.998419"
       ]
      },
      {
       "output_type": "stream",
       "stream": "stdout",
       "text": [
        "\n",
        "(Iteration 408 / 1528) loss: 1.021140"
       ]
      },
      {
       "output_type": "stream",
       "stream": "stdout",
       "text": [
        "\n",
        "(Iteration 409 / 1528) loss: 1.070174"
       ]
      },
      {
       "output_type": "stream",
       "stream": "stdout",
       "text": [
        "\n",
        "(Iteration 410 / 1528) loss: 1.019117"
       ]
      },
      {
       "output_type": "stream",
       "stream": "stdout",
       "text": [
        "\n",
        "(Iteration 411 / 1528) loss: 1.104817"
       ]
      },
      {
       "output_type": "stream",
       "stream": "stdout",
       "text": [
        "\n",
        "(Iteration 412 / 1528) loss: 1.110867"
       ]
      },
      {
       "output_type": "stream",
       "stream": "stdout",
       "text": [
        "\n",
        "(Iteration 413 / 1528) loss: 0.907905"
       ]
      },
      {
       "output_type": "stream",
       "stream": "stdout",
       "text": [
        "\n",
        "(Iteration 414 / 1528) loss: 1.073748"
       ]
      },
      {
       "output_type": "stream",
       "stream": "stdout",
       "text": [
        "\n",
        "(Iteration 415 / 1528) loss: 1.040137"
       ]
      },
      {
       "output_type": "stream",
       "stream": "stdout",
       "text": [
        "\n",
        "(Iteration 416 / 1528) loss: 1.119153"
       ]
      },
      {
       "output_type": "stream",
       "stream": "stdout",
       "text": [
        "\n",
        "(Iteration 417 / 1528) loss: 1.120910"
       ]
      },
      {
       "output_type": "stream",
       "stream": "stdout",
       "text": [
        "\n",
        "(Iteration 418 / 1528) loss: 1.221780"
       ]
      },
      {
       "output_type": "stream",
       "stream": "stdout",
       "text": [
        "\n",
        "(Iteration 419 / 1528) loss: 1.149236"
       ]
      },
      {
       "output_type": "stream",
       "stream": "stdout",
       "text": [
        "\n",
        "(Iteration 420 / 1528) loss: 1.066822"
       ]
      },
      {
       "output_type": "stream",
       "stream": "stdout",
       "text": [
        "\n",
        "(Iteration 421 / 1528) loss: 1.092530"
       ]
      },
      {
       "output_type": "stream",
       "stream": "stdout",
       "text": [
        "\n",
        "(Iteration 422 / 1528) loss: 1.174916"
       ]
      },
      {
       "output_type": "stream",
       "stream": "stdout",
       "text": [
        "\n",
        "(Iteration 423 / 1528) loss: 1.194700"
       ]
      },
      {
       "output_type": "stream",
       "stream": "stdout",
       "text": [
        "\n",
        "(Iteration 424 / 1528) loss: 1.169852"
       ]
      },
      {
       "output_type": "stream",
       "stream": "stdout",
       "text": [
        "\n",
        "(Iteration 425 / 1528) loss: 1.035856"
       ]
      },
      {
       "output_type": "stream",
       "stream": "stdout",
       "text": [
        "\n",
        "(Iteration 426 / 1528) loss: 1.265685"
       ]
      },
      {
       "output_type": "stream",
       "stream": "stdout",
       "text": [
        "\n",
        "(Iteration 427 / 1528) loss: 1.015566"
       ]
      },
      {
       "output_type": "stream",
       "stream": "stdout",
       "text": [
        "\n",
        "(Iteration 428 / 1528) loss: 1.044044"
       ]
      },
      {
       "output_type": "stream",
       "stream": "stdout",
       "text": [
        "\n",
        "(Iteration 429 / 1528) loss: 1.021255"
       ]
      },
      {
       "output_type": "stream",
       "stream": "stdout",
       "text": [
        "\n",
        "(Iteration 430 / 1528) loss: 1.026945"
       ]
      },
      {
       "output_type": "stream",
       "stream": "stdout",
       "text": [
        "\n",
        "(Iteration 431 / 1528) loss: 1.077567"
       ]
      },
      {
       "output_type": "stream",
       "stream": "stdout",
       "text": [
        "\n",
        "(Iteration 432 / 1528) loss: 1.119827"
       ]
      },
      {
       "output_type": "stream",
       "stream": "stdout",
       "text": [
        "\n",
        "(Iteration 433 / 1528) loss: 1.285052"
       ]
      },
      {
       "output_type": "stream",
       "stream": "stdout",
       "text": [
        "\n",
        "(Iteration 434 / 1528) loss: 1.089972"
       ]
      },
      {
       "output_type": "stream",
       "stream": "stdout",
       "text": [
        "\n",
        "(Iteration 435 / 1528) loss: 1.081520"
       ]
      },
      {
       "output_type": "stream",
       "stream": "stdout",
       "text": [
        "\n",
        "(Iteration 436 / 1528) loss: 1.024761"
       ]
      },
      {
       "output_type": "stream",
       "stream": "stdout",
       "text": [
        "\n",
        "(Iteration 437 / 1528) loss: 1.323330"
       ]
      },
      {
       "output_type": "stream",
       "stream": "stdout",
       "text": [
        "\n",
        "(Iteration 438 / 1528) loss: 1.116348"
       ]
      },
      {
       "output_type": "stream",
       "stream": "stdout",
       "text": [
        "\n",
        "(Iteration 439 / 1528) loss: 1.117263"
       ]
      },
      {
       "output_type": "stream",
       "stream": "stdout",
       "text": [
        "\n",
        "(Iteration 440 / 1528) loss: 1.198084"
       ]
      },
      {
       "output_type": "stream",
       "stream": "stdout",
       "text": [
        "\n",
        "(Iteration 441 / 1528) loss: 1.153123"
       ]
      },
      {
       "output_type": "stream",
       "stream": "stdout",
       "text": [
        "\n",
        "(Iteration 442 / 1528) loss: 1.115509"
       ]
      },
      {
       "output_type": "stream",
       "stream": "stdout",
       "text": [
        "\n",
        "(Iteration 443 / 1528) loss: 1.002214"
       ]
      },
      {
       "output_type": "stream",
       "stream": "stdout",
       "text": [
        "\n",
        "(Iteration 444 / 1528) loss: 0.982539"
       ]
      },
      {
       "output_type": "stream",
       "stream": "stdout",
       "text": [
        "\n",
        "(Iteration 445 / 1528) loss: 0.978042"
       ]
      },
      {
       "output_type": "stream",
       "stream": "stdout",
       "text": [
        "\n",
        "(Iteration 446 / 1528) loss: 1.239758"
       ]
      },
      {
       "output_type": "stream",
       "stream": "stdout",
       "text": [
        "\n",
        "(Iteration 447 / 1528) loss: 1.047562"
       ]
      },
      {
       "output_type": "stream",
       "stream": "stdout",
       "text": [
        "\n",
        "(Iteration 448 / 1528) loss: 0.942269"
       ]
      },
      {
       "output_type": "stream",
       "stream": "stdout",
       "text": [
        "\n",
        "(Iteration 449 / 1528) loss: 1.017676"
       ]
      },
      {
       "output_type": "stream",
       "stream": "stdout",
       "text": [
        "\n",
        "(Iteration 450 / 1528) loss: 0.991442"
       ]
      },
      {
       "output_type": "stream",
       "stream": "stdout",
       "text": [
        "\n",
        "(Iteration 451 / 1528) loss: 1.021165"
       ]
      },
      {
       "output_type": "stream",
       "stream": "stdout",
       "text": [
        "\n",
        "(Iteration 452 / 1528) loss: 1.223571"
       ]
      },
      {
       "output_type": "stream",
       "stream": "stdout",
       "text": [
        "\n",
        "(Iteration 453 / 1528) loss: 1.051926"
       ]
      },
      {
       "output_type": "stream",
       "stream": "stdout",
       "text": [
        "\n",
        "(Iteration 454 / 1528) loss: 0.998379"
       ]
      },
      {
       "output_type": "stream",
       "stream": "stdout",
       "text": [
        "\n",
        "(Iteration 455 / 1528) loss: 0.996254"
       ]
      },
      {
       "output_type": "stream",
       "stream": "stdout",
       "text": [
        "\n",
        "(Iteration 456 / 1528) loss: 1.062569"
       ]
      },
      {
       "output_type": "stream",
       "stream": "stdout",
       "text": [
        "\n",
        "(Iteration 457 / 1528) loss: 1.069710"
       ]
      },
      {
       "output_type": "stream",
       "stream": "stdout",
       "text": [
        "\n",
        "(Iteration 458 / 1528) loss: 1.305124"
       ]
      },
      {
       "output_type": "stream",
       "stream": "stdout",
       "text": [
        "\n",
        "(Iteration 459 / 1528) loss: 0.950526"
       ]
      },
      {
       "output_type": "stream",
       "stream": "stdout",
       "text": [
        "\n",
        "(Iteration 460 / 1528) loss: 0.914463"
       ]
      },
      {
       "output_type": "stream",
       "stream": "stdout",
       "text": [
        "\n",
        "(Iteration 461 / 1528) loss: 1.102297"
       ]
      },
      {
       "output_type": "stream",
       "stream": "stdout",
       "text": [
        "\n",
        "(Iteration 462 / 1528) loss: 1.192440"
       ]
      },
      {
       "output_type": "stream",
       "stream": "stdout",
       "text": [
        "\n",
        "(Iteration 463 / 1528) loss: 1.013773"
       ]
      },
      {
       "output_type": "stream",
       "stream": "stdout",
       "text": [
        "\n",
        "(Iteration 464 / 1528) loss: 1.096321"
       ]
      },
      {
       "output_type": "stream",
       "stream": "stdout",
       "text": [
        "\n",
        "(Iteration 465 / 1528) loss: 0.979617"
       ]
      },
      {
       "output_type": "stream",
       "stream": "stdout",
       "text": [
        "\n",
        "(Iteration 466 / 1528) loss: 1.081893"
       ]
      },
      {
       "output_type": "stream",
       "stream": "stdout",
       "text": [
        "\n",
        "(Iteration 467 / 1528) loss: 0.939241"
       ]
      },
      {
       "output_type": "stream",
       "stream": "stdout",
       "text": [
        "\n",
        "(Iteration 468 / 1528) loss: 1.076154"
       ]
      },
      {
       "output_type": "stream",
       "stream": "stdout",
       "text": [
        "\n",
        "(Iteration 469 / 1528) loss: 1.152041"
       ]
      },
      {
       "output_type": "stream",
       "stream": "stdout",
       "text": [
        "\n",
        "(Iteration 470 / 1528) loss: 0.967330"
       ]
      },
      {
       "output_type": "stream",
       "stream": "stdout",
       "text": [
        "\n",
        "(Iteration 471 / 1528) loss: 1.162429"
       ]
      },
      {
       "output_type": "stream",
       "stream": "stdout",
       "text": [
        "\n",
        "(Iteration 472 / 1528) loss: 1.089015"
       ]
      },
      {
       "output_type": "stream",
       "stream": "stdout",
       "text": [
        "\n",
        "(Iteration 473 / 1528) loss: 1.075509"
       ]
      },
      {
       "output_type": "stream",
       "stream": "stdout",
       "text": [
        "\n",
        "(Iteration 474 / 1528) loss: 1.250276"
       ]
      },
      {
       "output_type": "stream",
       "stream": "stdout",
       "text": [
        "\n",
        "(Iteration 475 / 1528) loss: 1.015816"
       ]
      },
      {
       "output_type": "stream",
       "stream": "stdout",
       "text": [
        "\n",
        "(Iteration 476 / 1528) loss: 1.139601"
       ]
      },
      {
       "output_type": "stream",
       "stream": "stdout",
       "text": [
        "\n",
        "(Iteration 477 / 1528) loss: 1.000533"
       ]
      },
      {
       "output_type": "stream",
       "stream": "stdout",
       "text": [
        "\n",
        "(Iteration 478 / 1528) loss: 0.998450"
       ]
      },
      {
       "output_type": "stream",
       "stream": "stdout",
       "text": [
        "\n",
        "(Iteration 479 / 1528) loss: 1.104852"
       ]
      },
      {
       "output_type": "stream",
       "stream": "stdout",
       "text": [
        "\n",
        "(Iteration 480 / 1528) loss: 0.983092"
       ]
      },
      {
       "output_type": "stream",
       "stream": "stdout",
       "text": [
        "\n",
        "(Iteration 481 / 1528) loss: 1.189635"
       ]
      },
      {
       "output_type": "stream",
       "stream": "stdout",
       "text": [
        "\n",
        "(Iteration 482 / 1528) loss: 1.016177"
       ]
      },
      {
       "output_type": "stream",
       "stream": "stdout",
       "text": [
        "\n",
        "(Iteration 483 / 1528) loss: 1.179320"
       ]
      },
      {
       "output_type": "stream",
       "stream": "stdout",
       "text": [
        "\n",
        "(Iteration 484 / 1528) loss: 1.033127"
       ]
      },
      {
       "output_type": "stream",
       "stream": "stdout",
       "text": [
        "\n",
        "(Iteration 485 / 1528) loss: 1.000143"
       ]
      },
      {
       "output_type": "stream",
       "stream": "stdout",
       "text": [
        "\n",
        "(Iteration 486 / 1528) loss: 1.013120"
       ]
      },
      {
       "output_type": "stream",
       "stream": "stdout",
       "text": [
        "\n",
        "(Iteration 487 / 1528) loss: 0.881094"
       ]
      },
      {
       "output_type": "stream",
       "stream": "stdout",
       "text": [
        "\n",
        "(Iteration 488 / 1528) loss: 1.048887"
       ]
      },
      {
       "output_type": "stream",
       "stream": "stdout",
       "text": [
        "\n",
        "(Iteration 489 / 1528) loss: 0.966384"
       ]
      },
      {
       "output_type": "stream",
       "stream": "stdout",
       "text": [
        "\n",
        "(Iteration 490 / 1528) loss: 1.096360"
       ]
      },
      {
       "output_type": "stream",
       "stream": "stdout",
       "text": [
        "\n",
        "(Iteration 491 / 1528) loss: 1.038794"
       ]
      },
      {
       "output_type": "stream",
       "stream": "stdout",
       "text": [
        "\n",
        "(Iteration 492 / 1528) loss: 1.029373"
       ]
      },
      {
       "output_type": "stream",
       "stream": "stdout",
       "text": [
        "\n",
        "(Iteration 493 / 1528) loss: 1.209047"
       ]
      },
      {
       "output_type": "stream",
       "stream": "stdout",
       "text": [
        "\n",
        "(Iteration 494 / 1528) loss: 1.016701"
       ]
      },
      {
       "output_type": "stream",
       "stream": "stdout",
       "text": [
        "\n",
        "(Iteration 495 / 1528) loss: 0.948429"
       ]
      },
      {
       "output_type": "stream",
       "stream": "stdout",
       "text": [
        "\n",
        "(Iteration 496 / 1528) loss: 1.056526"
       ]
      },
      {
       "output_type": "stream",
       "stream": "stdout",
       "text": [
        "\n",
        "(Iteration 497 / 1528) loss: 0.974272"
       ]
      },
      {
       "output_type": "stream",
       "stream": "stdout",
       "text": [
        "\n",
        "(Iteration 498 / 1528) loss: 1.122458"
       ]
      },
      {
       "output_type": "stream",
       "stream": "stdout",
       "text": [
        "\n",
        "(Iteration 499 / 1528) loss: 1.084660"
       ]
      },
      {
       "output_type": "stream",
       "stream": "stdout",
       "text": [
        "\n",
        "(Iteration 500 / 1528) loss: 0.956616"
       ]
      },
      {
       "output_type": "stream",
       "stream": "stdout",
       "text": [
        "\n",
        "(Iteration 501 / 1528) loss: 1.057590"
       ]
      },
      {
       "output_type": "stream",
       "stream": "stdout",
       "text": [
        "\n",
        "(Iteration 502 / 1528) loss: 1.103449"
       ]
      },
      {
       "output_type": "stream",
       "stream": "stdout",
       "text": [
        "\n",
        "(Iteration 503 / 1528) loss: 1.049010"
       ]
      },
      {
       "output_type": "stream",
       "stream": "stdout",
       "text": [
        "\n",
        "(Iteration 504 / 1528) loss: 0.897858"
       ]
      },
      {
       "output_type": "stream",
       "stream": "stdout",
       "text": [
        "\n",
        "(Iteration 505 / 1528) loss: 0.954784"
       ]
      },
      {
       "output_type": "stream",
       "stream": "stdout",
       "text": [
        "\n",
        "(Iteration 506 / 1528) loss: 1.013403"
       ]
      },
      {
       "output_type": "stream",
       "stream": "stdout",
       "text": [
        "\n",
        "(Iteration 507 / 1528) loss: 1.091749"
       ]
      },
      {
       "output_type": "stream",
       "stream": "stdout",
       "text": [
        "\n",
        "(Iteration 508 / 1528) loss: 0.937846"
       ]
      },
      {
       "output_type": "stream",
       "stream": "stdout",
       "text": [
        "\n",
        "(Iteration 509 / 1528) loss: 0.985020"
       ]
      },
      {
       "output_type": "stream",
       "stream": "stdout",
       "text": [
        "\n",
        "(Iteration 510 / 1528) loss: 0.959571"
       ]
      },
      {
       "output_type": "stream",
       "stream": "stdout",
       "text": [
        "\n",
        "(Iteration 511 / 1528) loss: 1.110444"
       ]
      },
      {
       "output_type": "stream",
       "stream": "stdout",
       "text": [
        "\n",
        "(Iteration 512 / 1528) loss: 0.994291"
       ]
      },
      {
       "output_type": "stream",
       "stream": "stdout",
       "text": [
        "\n",
        "(Iteration 513 / 1528) loss: 1.038046"
       ]
      },
      {
       "output_type": "stream",
       "stream": "stdout",
       "text": [
        "\n",
        "(Iteration 514 / 1528) loss: 0.957424"
       ]
      },
      {
       "output_type": "stream",
       "stream": "stdout",
       "text": [
        "\n",
        "(Iteration 515 / 1528) loss: 1.064011"
       ]
      },
      {
       "output_type": "stream",
       "stream": "stdout",
       "text": [
        "\n",
        "(Iteration 516 / 1528) loss: 1.026737"
       ]
      },
      {
       "output_type": "stream",
       "stream": "stdout",
       "text": [
        "\n",
        "(Iteration 517 / 1528) loss: 0.878632"
       ]
      },
      {
       "output_type": "stream",
       "stream": "stdout",
       "text": [
        "\n",
        "(Iteration 518 / 1528) loss: 1.038408"
       ]
      },
      {
       "output_type": "stream",
       "stream": "stdout",
       "text": [
        "\n",
        "(Iteration 519 / 1528) loss: 0.895914"
       ]
      },
      {
       "output_type": "stream",
       "stream": "stdout",
       "text": [
        "\n",
        "(Iteration 520 / 1528) loss: 0.882565"
       ]
      },
      {
       "output_type": "stream",
       "stream": "stdout",
       "text": [
        "\n",
        "(Iteration 521 / 1528) loss: 0.992661"
       ]
      },
      {
       "output_type": "stream",
       "stream": "stdout",
       "text": [
        "\n",
        "(Iteration 522 / 1528) loss: 1.097939"
       ]
      },
      {
       "output_type": "stream",
       "stream": "stdout",
       "text": [
        "\n",
        "(Iteration 523 / 1528) loss: 1.045061"
       ]
      },
      {
       "output_type": "stream",
       "stream": "stdout",
       "text": [
        "\n",
        "(Iteration 524 / 1528) loss: 0.961516"
       ]
      },
      {
       "output_type": "stream",
       "stream": "stdout",
       "text": [
        "\n",
        "(Iteration 525 / 1528) loss: 1.055864"
       ]
      },
      {
       "output_type": "stream",
       "stream": "stdout",
       "text": [
        "\n",
        "(Iteration 526 / 1528) loss: 1.122936"
       ]
      },
      {
       "output_type": "stream",
       "stream": "stdout",
       "text": [
        "\n",
        "(Iteration 527 / 1528) loss: 1.086997"
       ]
      },
      {
       "output_type": "stream",
       "stream": "stdout",
       "text": [
        "\n",
        "(Iteration 528 / 1528) loss: 0.962623"
       ]
      },
      {
       "output_type": "stream",
       "stream": "stdout",
       "text": [
        "\n",
        "(Iteration 529 / 1528) loss: 1.060622"
       ]
      },
      {
       "output_type": "stream",
       "stream": "stdout",
       "text": [
        "\n",
        "(Iteration 530 / 1528) loss: 1.126333"
       ]
      },
      {
       "output_type": "stream",
       "stream": "stdout",
       "text": [
        "\n",
        "(Iteration 531 / 1528) loss: 1.176383"
       ]
      },
      {
       "output_type": "stream",
       "stream": "stdout",
       "text": [
        "\n",
        "(Iteration 532 / 1528) loss: 1.035899"
       ]
      },
      {
       "output_type": "stream",
       "stream": "stdout",
       "text": [
        "\n",
        "(Iteration 533 / 1528) loss: 0.973629"
       ]
      },
      {
       "output_type": "stream",
       "stream": "stdout",
       "text": [
        "\n",
        "(Iteration 534 / 1528) loss: 0.975507"
       ]
      },
      {
       "output_type": "stream",
       "stream": "stdout",
       "text": [
        "\n",
        "(Iteration 535 / 1528) loss: 1.097494"
       ]
      },
      {
       "output_type": "stream",
       "stream": "stdout",
       "text": [
        "\n",
        "(Iteration 536 / 1528) loss: 0.959173"
       ]
      },
      {
       "output_type": "stream",
       "stream": "stdout",
       "text": [
        "\n",
        "(Iteration 537 / 1528) loss: 0.951347"
       ]
      },
      {
       "output_type": "stream",
       "stream": "stdout",
       "text": [
        "\n",
        "(Iteration 538 / 1528) loss: 0.962573"
       ]
      },
      {
       "output_type": "stream",
       "stream": "stdout",
       "text": [
        "\n",
        "(Iteration 539 / 1528) loss: 1.119795"
       ]
      },
      {
       "output_type": "stream",
       "stream": "stdout",
       "text": [
        "\n",
        "(Iteration 540 / 1528) loss: 0.949833"
       ]
      },
      {
       "output_type": "stream",
       "stream": "stdout",
       "text": [
        "\n",
        "(Iteration 541 / 1528) loss: 1.095997"
       ]
      },
      {
       "output_type": "stream",
       "stream": "stdout",
       "text": [
        "\n",
        "(Iteration 542 / 1528) loss: 0.954879"
       ]
      },
      {
       "output_type": "stream",
       "stream": "stdout",
       "text": [
        "\n",
        "(Iteration 543 / 1528) loss: 1.027505"
       ]
      },
      {
       "output_type": "stream",
       "stream": "stdout",
       "text": [
        "\n",
        "(Iteration 544 / 1528) loss: 1.098780"
       ]
      },
      {
       "output_type": "stream",
       "stream": "stdout",
       "text": [
        "\n",
        "(Iteration 545 / 1528) loss: 0.973229"
       ]
      },
      {
       "output_type": "stream",
       "stream": "stdout",
       "text": [
        "\n",
        "(Iteration 546 / 1528) loss: 0.896085"
       ]
      },
      {
       "output_type": "stream",
       "stream": "stdout",
       "text": [
        "\n",
        "(Iteration 547 / 1528) loss: 0.961400"
       ]
      },
      {
       "output_type": "stream",
       "stream": "stdout",
       "text": [
        "\n",
        "(Iteration 548 / 1528) loss: 0.818346"
       ]
      },
      {
       "output_type": "stream",
       "stream": "stdout",
       "text": [
        "\n",
        "(Iteration 549 / 1528) loss: 0.903944"
       ]
      },
      {
       "output_type": "stream",
       "stream": "stdout",
       "text": [
        "\n",
        "(Iteration 550 / 1528) loss: 1.032310"
       ]
      },
      {
       "output_type": "stream",
       "stream": "stdout",
       "text": [
        "\n",
        "(Iteration 551 / 1528) loss: 1.037452"
       ]
      },
      {
       "output_type": "stream",
       "stream": "stdout",
       "text": [
        "\n",
        "(Iteration 552 / 1528) loss: 1.003444"
       ]
      },
      {
       "output_type": "stream",
       "stream": "stdout",
       "text": [
        "\n",
        "(Iteration 553 / 1528) loss: 1.183739"
       ]
      },
      {
       "output_type": "stream",
       "stream": "stdout",
       "text": [
        "\n",
        "(Iteration 554 / 1528) loss: 1.302969"
       ]
      },
      {
       "output_type": "stream",
       "stream": "stdout",
       "text": [
        "\n",
        "(Iteration 555 / 1528) loss: 0.813382"
       ]
      },
      {
       "output_type": "stream",
       "stream": "stdout",
       "text": [
        "\n",
        "(Iteration 556 / 1528) loss: 0.926397"
       ]
      },
      {
       "output_type": "stream",
       "stream": "stdout",
       "text": [
        "\n",
        "(Iteration 557 / 1528) loss: 1.121661"
       ]
      },
      {
       "output_type": "stream",
       "stream": "stdout",
       "text": [
        "\n",
        "(Iteration 558 / 1528) loss: 1.064811"
       ]
      },
      {
       "output_type": "stream",
       "stream": "stdout",
       "text": [
        "\n",
        "(Iteration 559 / 1528) loss: 0.932796"
       ]
      },
      {
       "output_type": "stream",
       "stream": "stdout",
       "text": [
        "\n",
        "(Iteration 560 / 1528) loss: 0.835076"
       ]
      },
      {
       "output_type": "stream",
       "stream": "stdout",
       "text": [
        "\n",
        "(Iteration 561 / 1528) loss: 0.891488"
       ]
      },
      {
       "output_type": "stream",
       "stream": "stdout",
       "text": [
        "\n",
        "(Iteration 562 / 1528) loss: 1.026306"
       ]
      },
      {
       "output_type": "stream",
       "stream": "stdout",
       "text": [
        "\n",
        "(Iteration 563 / 1528) loss: 1.119904"
       ]
      },
      {
       "output_type": "stream",
       "stream": "stdout",
       "text": [
        "\n",
        "(Iteration 564 / 1528) loss: 0.998407"
       ]
      },
      {
       "output_type": "stream",
       "stream": "stdout",
       "text": [
        "\n",
        "(Iteration 565 / 1528) loss: 1.024049"
       ]
      },
      {
       "output_type": "stream",
       "stream": "stdout",
       "text": [
        "\n",
        "(Iteration 566 / 1528) loss: 0.975595"
       ]
      },
      {
       "output_type": "stream",
       "stream": "stdout",
       "text": [
        "\n",
        "(Iteration 567 / 1528) loss: 0.844127"
       ]
      },
      {
       "output_type": "stream",
       "stream": "stdout",
       "text": [
        "\n",
        "(Iteration 568 / 1528) loss: 1.027928"
       ]
      },
      {
       "output_type": "stream",
       "stream": "stdout",
       "text": [
        "\n",
        "(Iteration 569 / 1528) loss: 1.091865"
       ]
      },
      {
       "output_type": "stream",
       "stream": "stdout",
       "text": [
        "\n",
        "(Iteration 570 / 1528) loss: 0.849525"
       ]
      },
      {
       "output_type": "stream",
       "stream": "stdout",
       "text": [
        "\n",
        "(Iteration 571 / 1528) loss: 1.011617"
       ]
      },
      {
       "output_type": "stream",
       "stream": "stdout",
       "text": [
        "\n",
        "(Iteration 572 / 1528) loss: 0.942107"
       ]
      },
      {
       "output_type": "stream",
       "stream": "stdout",
       "text": [
        "\n",
        "(Iteration 573 / 1528) loss: 0.999939"
       ]
      },
      {
       "output_type": "stream",
       "stream": "stdout",
       "text": [
        "\n",
        "(Iteration 574 / 1528) loss: 1.091525"
       ]
      },
      {
       "output_type": "stream",
       "stream": "stdout",
       "text": [
        "\n",
        "(Iteration 575 / 1528) loss: 1.053580"
       ]
      },
      {
       "output_type": "stream",
       "stream": "stdout",
       "text": [
        "\n",
        "(Iteration 576 / 1528) loss: 1.042844"
       ]
      },
      {
       "output_type": "stream",
       "stream": "stdout",
       "text": [
        "\n",
        "(Iteration 577 / 1528) loss: 1.114926"
       ]
      },
      {
       "output_type": "stream",
       "stream": "stdout",
       "text": [
        "\n",
        "(Iteration 578 / 1528) loss: 1.013542"
       ]
      },
      {
       "output_type": "stream",
       "stream": "stdout",
       "text": [
        "\n",
        "(Iteration 579 / 1528) loss: 0.970643"
       ]
      },
      {
       "output_type": "stream",
       "stream": "stdout",
       "text": [
        "\n",
        "(Iteration 580 / 1528) loss: 1.017707"
       ]
      },
      {
       "output_type": "stream",
       "stream": "stdout",
       "text": [
        "\n",
        "(Iteration 581 / 1528) loss: 0.946688"
       ]
      },
      {
       "output_type": "stream",
       "stream": "stdout",
       "text": [
        "\n",
        "(Iteration 582 / 1528) loss: 1.051497"
       ]
      },
      {
       "output_type": "stream",
       "stream": "stdout",
       "text": [
        "\n",
        "(Iteration 583 / 1528) loss: 1.191416"
       ]
      },
      {
       "output_type": "stream",
       "stream": "stdout",
       "text": [
        "\n",
        "(Iteration 584 / 1528) loss: 0.957701"
       ]
      },
      {
       "output_type": "stream",
       "stream": "stdout",
       "text": [
        "\n",
        "(Iteration 585 / 1528) loss: 0.930090"
       ]
      },
      {
       "output_type": "stream",
       "stream": "stdout",
       "text": [
        "\n",
        "(Iteration 586 / 1528) loss: 0.902398"
       ]
      },
      {
       "output_type": "stream",
       "stream": "stdout",
       "text": [
        "\n",
        "(Iteration 587 / 1528) loss: 0.956646"
       ]
      },
      {
       "output_type": "stream",
       "stream": "stdout",
       "text": [
        "\n",
        "(Iteration 588 / 1528) loss: 0.914180"
       ]
      },
      {
       "output_type": "stream",
       "stream": "stdout",
       "text": [
        "\n",
        "(Iteration 589 / 1528) loss: 1.161349"
       ]
      },
      {
       "output_type": "stream",
       "stream": "stdout",
       "text": [
        "\n",
        "(Iteration 590 / 1528) loss: 0.995261"
       ]
      },
      {
       "output_type": "stream",
       "stream": "stdout",
       "text": [
        "\n",
        "(Iteration 591 / 1528) loss: 1.036949"
       ]
      },
      {
       "output_type": "stream",
       "stream": "stdout",
       "text": [
        "\n",
        "(Iteration 592 / 1528) loss: 1.099218"
       ]
      },
      {
       "output_type": "stream",
       "stream": "stdout",
       "text": [
        "\n",
        "(Iteration 593 / 1528) loss: 1.069286"
       ]
      },
      {
       "output_type": "stream",
       "stream": "stdout",
       "text": [
        "\n",
        "(Iteration 594 / 1528) loss: 1.089366"
       ]
      },
      {
       "output_type": "stream",
       "stream": "stdout",
       "text": [
        "\n",
        "(Iteration 595 / 1528) loss: 0.849514"
       ]
      },
      {
       "output_type": "stream",
       "stream": "stdout",
       "text": [
        "\n",
        "(Iteration 596 / 1528) loss: 0.969745"
       ]
      },
      {
       "output_type": "stream",
       "stream": "stdout",
       "text": [
        "\n",
        "(Iteration 597 / 1528) loss: 0.996655"
       ]
      },
      {
       "output_type": "stream",
       "stream": "stdout",
       "text": [
        "\n",
        "(Iteration 598 / 1528) loss: 1.207317"
       ]
      },
      {
       "output_type": "stream",
       "stream": "stdout",
       "text": [
        "\n",
        "(Iteration 599 / 1528) loss: 1.153598"
       ]
      },
      {
       "output_type": "stream",
       "stream": "stdout",
       "text": [
        "\n",
        "(Iteration 600 / 1528) loss: 1.073120"
       ]
      },
      {
       "output_type": "stream",
       "stream": "stdout",
       "text": [
        "\n",
        "(Iteration 601 / 1528) loss: 1.018692"
       ]
      },
      {
       "output_type": "stream",
       "stream": "stdout",
       "text": [
        "\n",
        "(Iteration 602 / 1528) loss: 1.027258"
       ]
      },
      {
       "output_type": "stream",
       "stream": "stdout",
       "text": [
        "\n",
        "(Iteration 603 / 1528) loss: 1.008031"
       ]
      },
      {
       "output_type": "stream",
       "stream": "stdout",
       "text": [
        "\n",
        "(Iteration 604 / 1528) loss: 0.878757"
       ]
      },
      {
       "output_type": "stream",
       "stream": "stdout",
       "text": [
        "\n",
        "(Iteration 605 / 1528) loss: 0.808098"
       ]
      },
      {
       "output_type": "stream",
       "stream": "stdout",
       "text": [
        "\n",
        "(Iteration 606 / 1528) loss: 1.058358"
       ]
      },
      {
       "output_type": "stream",
       "stream": "stdout",
       "text": [
        "\n",
        "(Iteration 607 / 1528) loss: 1.156151"
       ]
      },
      {
       "output_type": "stream",
       "stream": "stdout",
       "text": [
        "\n",
        "(Iteration 608 / 1528) loss: 0.942334"
       ]
      },
      {
       "output_type": "stream",
       "stream": "stdout",
       "text": [
        "\n",
        "(Iteration 609 / 1528) loss: 0.946704"
       ]
      },
      {
       "output_type": "stream",
       "stream": "stdout",
       "text": [
        "\n",
        "(Iteration 610 / 1528) loss: 1.020200"
       ]
      },
      {
       "output_type": "stream",
       "stream": "stdout",
       "text": [
        "\n",
        "(Iteration 611 / 1528) loss: 0.833587"
       ]
      },
      {
       "output_type": "stream",
       "stream": "stdout",
       "text": [
        "\n",
        "(Iteration 612 / 1528) loss: 0.989633"
       ]
      },
      {
       "output_type": "stream",
       "stream": "stdout",
       "text": [
        "\n",
        "(Iteration 613 / 1528) loss: 1.138584"
       ]
      },
      {
       "output_type": "stream",
       "stream": "stdout",
       "text": [
        "\n",
        "(Iteration 614 / 1528) loss: 0.971928"
       ]
      },
      {
       "output_type": "stream",
       "stream": "stdout",
       "text": [
        "\n",
        "(Iteration 615 / 1528) loss: 0.904637"
       ]
      },
      {
       "output_type": "stream",
       "stream": "stdout",
       "text": [
        "\n",
        "(Iteration 616 / 1528) loss: 0.938211"
       ]
      },
      {
       "output_type": "stream",
       "stream": "stdout",
       "text": [
        "\n",
        "(Iteration 617 / 1528) loss: 0.987120"
       ]
      },
      {
       "output_type": "stream",
       "stream": "stdout",
       "text": [
        "\n",
        "(Iteration 618 / 1528) loss: 1.135642"
       ]
      },
      {
       "output_type": "stream",
       "stream": "stdout",
       "text": [
        "\n",
        "(Iteration 619 / 1528) loss: 0.895602"
       ]
      },
      {
       "output_type": "stream",
       "stream": "stdout",
       "text": [
        "\n",
        "(Iteration 620 / 1528) loss: 0.960758"
       ]
      },
      {
       "output_type": "stream",
       "stream": "stdout",
       "text": [
        "\n",
        "(Iteration 621 / 1528) loss: 0.904045"
       ]
      },
      {
       "output_type": "stream",
       "stream": "stdout",
       "text": [
        "\n",
        "(Iteration 622 / 1528) loss: 1.048211"
       ]
      },
      {
       "output_type": "stream",
       "stream": "stdout",
       "text": [
        "\n",
        "(Iteration 623 / 1528) loss: 1.038590"
       ]
      },
      {
       "output_type": "stream",
       "stream": "stdout",
       "text": [
        "\n",
        "(Iteration 624 / 1528) loss: 0.964925"
       ]
      },
      {
       "output_type": "stream",
       "stream": "stdout",
       "text": [
        "\n",
        "(Iteration 625 / 1528) loss: 1.084204"
       ]
      },
      {
       "output_type": "stream",
       "stream": "stdout",
       "text": [
        "\n",
        "(Iteration 626 / 1528) loss: 1.020383"
       ]
      },
      {
       "output_type": "stream",
       "stream": "stdout",
       "text": [
        "\n",
        "(Iteration 627 / 1528) loss: 0.923188"
       ]
      },
      {
       "output_type": "stream",
       "stream": "stdout",
       "text": [
        "\n",
        "(Iteration 628 / 1528) loss: 1.242204"
       ]
      },
      {
       "output_type": "stream",
       "stream": "stdout",
       "text": [
        "\n",
        "(Iteration 629 / 1528) loss: 1.038447"
       ]
      },
      {
       "output_type": "stream",
       "stream": "stdout",
       "text": [
        "\n",
        "(Iteration 630 / 1528) loss: 0.935888"
       ]
      },
      {
       "output_type": "stream",
       "stream": "stdout",
       "text": [
        "\n",
        "(Iteration 631 / 1528) loss: 1.022703"
       ]
      },
      {
       "output_type": "stream",
       "stream": "stdout",
       "text": [
        "\n",
        "(Iteration 632 / 1528) loss: 0.964408"
       ]
      },
      {
       "output_type": "stream",
       "stream": "stdout",
       "text": [
        "\n",
        "(Iteration 633 / 1528) loss: 0.785459"
       ]
      },
      {
       "output_type": "stream",
       "stream": "stdout",
       "text": [
        "\n",
        "(Iteration 634 / 1528) loss: 1.005322"
       ]
      },
      {
       "output_type": "stream",
       "stream": "stdout",
       "text": [
        "\n",
        "(Iteration 635 / 1528) loss: 0.909810"
       ]
      },
      {
       "output_type": "stream",
       "stream": "stdout",
       "text": [
        "\n",
        "(Iteration 636 / 1528) loss: 0.928097"
       ]
      },
      {
       "output_type": "stream",
       "stream": "stdout",
       "text": [
        "\n",
        "(Iteration 637 / 1528) loss: 1.010512"
       ]
      },
      {
       "output_type": "stream",
       "stream": "stdout",
       "text": [
        "\n",
        "(Iteration 638 / 1528) loss: 0.877337"
       ]
      },
      {
       "output_type": "stream",
       "stream": "stdout",
       "text": [
        "\n",
        "(Iteration 639 / 1528) loss: 0.998379"
       ]
      },
      {
       "output_type": "stream",
       "stream": "stdout",
       "text": [
        "\n",
        "(Iteration 640 / 1528) loss: 1.021508"
       ]
      },
      {
       "output_type": "stream",
       "stream": "stdout",
       "text": [
        "\n",
        "(Iteration 641 / 1528) loss: 1.008329"
       ]
      },
      {
       "output_type": "stream",
       "stream": "stdout",
       "text": [
        "\n",
        "(Iteration 642 / 1528) loss: 0.835247"
       ]
      },
      {
       "output_type": "stream",
       "stream": "stdout",
       "text": [
        "\n",
        "(Iteration 643 / 1528) loss: 0.946437"
       ]
      },
      {
       "output_type": "stream",
       "stream": "stdout",
       "text": [
        "\n",
        "(Iteration 644 / 1528) loss: 1.001364"
       ]
      },
      {
       "output_type": "stream",
       "stream": "stdout",
       "text": [
        "\n",
        "(Iteration 645 / 1528) loss: 1.053990"
       ]
      },
      {
       "output_type": "stream",
       "stream": "stdout",
       "text": [
        "\n",
        "(Iteration 646 / 1528) loss: 0.976453"
       ]
      },
      {
       "output_type": "stream",
       "stream": "stdout",
       "text": [
        "\n",
        "(Iteration 647 / 1528) loss: 1.025341"
       ]
      },
      {
       "output_type": "stream",
       "stream": "stdout",
       "text": [
        "\n",
        "(Iteration 648 / 1528) loss: 1.135912"
       ]
      },
      {
       "output_type": "stream",
       "stream": "stdout",
       "text": [
        "\n",
        "(Iteration 649 / 1528) loss: 1.135425"
       ]
      },
      {
       "output_type": "stream",
       "stream": "stdout",
       "text": [
        "\n",
        "(Iteration 650 / 1528) loss: 1.045433"
       ]
      },
      {
       "output_type": "stream",
       "stream": "stdout",
       "text": [
        "\n",
        "(Iteration 651 / 1528) loss: 1.085412"
       ]
      },
      {
       "output_type": "stream",
       "stream": "stdout",
       "text": [
        "\n",
        "(Iteration 652 / 1528) loss: 1.013161"
       ]
      },
      {
       "output_type": "stream",
       "stream": "stdout",
       "text": [
        "\n",
        "(Iteration 653 / 1528) loss: 0.910191"
       ]
      },
      {
       "output_type": "stream",
       "stream": "stdout",
       "text": [
        "\n",
        "(Iteration 654 / 1528) loss: 1.013765"
       ]
      },
      {
       "output_type": "stream",
       "stream": "stdout",
       "text": [
        "\n",
        "(Iteration 655 / 1528) loss: 0.959041"
       ]
      },
      {
       "output_type": "stream",
       "stream": "stdout",
       "text": [
        "\n",
        "(Iteration 656 / 1528) loss: 0.840491"
       ]
      },
      {
       "output_type": "stream",
       "stream": "stdout",
       "text": [
        "\n",
        "(Iteration 657 / 1528) loss: 0.949601"
       ]
      },
      {
       "output_type": "stream",
       "stream": "stdout",
       "text": [
        "\n",
        "(Iteration 658 / 1528) loss: 0.935364"
       ]
      },
      {
       "output_type": "stream",
       "stream": "stdout",
       "text": [
        "\n",
        "(Iteration 659 / 1528) loss: 0.959755"
       ]
      },
      {
       "output_type": "stream",
       "stream": "stdout",
       "text": [
        "\n",
        "(Iteration 660 / 1528) loss: 0.893325"
       ]
      },
      {
       "output_type": "stream",
       "stream": "stdout",
       "text": [
        "\n",
        "(Iteration 661 / 1528) loss: 1.022432"
       ]
      },
      {
       "output_type": "stream",
       "stream": "stdout",
       "text": [
        "\n",
        "(Iteration 662 / 1528) loss: 1.035090"
       ]
      },
      {
       "output_type": "stream",
       "stream": "stdout",
       "text": [
        "\n",
        "(Iteration 663 / 1528) loss: 0.778084"
       ]
      },
      {
       "output_type": "stream",
       "stream": "stdout",
       "text": [
        "\n",
        "(Iteration 664 / 1528) loss: 0.945162"
       ]
      },
      {
       "output_type": "stream",
       "stream": "stdout",
       "text": [
        "\n",
        "(Iteration 665 / 1528) loss: 0.994714"
       ]
      },
      {
       "output_type": "stream",
       "stream": "stdout",
       "text": [
        "\n",
        "(Iteration 666 / 1528) loss: 1.049171"
       ]
      },
      {
       "output_type": "stream",
       "stream": "stdout",
       "text": [
        "\n",
        "(Iteration 667 / 1528) loss: 1.017719"
       ]
      },
      {
       "output_type": "stream",
       "stream": "stdout",
       "text": [
        "\n",
        "(Iteration 668 / 1528) loss: 0.888272"
       ]
      },
      {
       "output_type": "stream",
       "stream": "stdout",
       "text": [
        "\n",
        "(Iteration 669 / 1528) loss: 0.956961"
       ]
      },
      {
       "output_type": "stream",
       "stream": "stdout",
       "text": [
        "\n",
        "(Iteration 670 / 1528) loss: 0.985982"
       ]
      },
      {
       "output_type": "stream",
       "stream": "stdout",
       "text": [
        "\n",
        "(Iteration 671 / 1528) loss: 1.130800"
       ]
      },
      {
       "output_type": "stream",
       "stream": "stdout",
       "text": [
        "\n",
        "(Iteration 672 / 1528) loss: 1.017860"
       ]
      },
      {
       "output_type": "stream",
       "stream": "stdout",
       "text": [
        "\n",
        "(Iteration 673 / 1528) loss: 0.975333"
       ]
      },
      {
       "output_type": "stream",
       "stream": "stdout",
       "text": [
        "\n",
        "(Iteration 674 / 1528) loss: 0.925849"
       ]
      },
      {
       "output_type": "stream",
       "stream": "stdout",
       "text": [
        "\n",
        "(Iteration 675 / 1528) loss: 0.952424"
       ]
      },
      {
       "output_type": "stream",
       "stream": "stdout",
       "text": [
        "\n",
        "(Iteration 676 / 1528) loss: 0.991835"
       ]
      },
      {
       "output_type": "stream",
       "stream": "stdout",
       "text": [
        "\n",
        "(Iteration 677 / 1528) loss: 0.924474"
       ]
      },
      {
       "output_type": "stream",
       "stream": "stdout",
       "text": [
        "\n",
        "(Iteration 678 / 1528) loss: 1.007081"
       ]
      },
      {
       "output_type": "stream",
       "stream": "stdout",
       "text": [
        "\n",
        "(Iteration 679 / 1528) loss: 0.894760"
       ]
      },
      {
       "output_type": "stream",
       "stream": "stdout",
       "text": [
        "\n",
        "(Iteration 680 / 1528) loss: 1.073649"
       ]
      },
      {
       "output_type": "stream",
       "stream": "stdout",
       "text": [
        "\n",
        "(Iteration 681 / 1528) loss: 1.087271"
       ]
      },
      {
       "output_type": "stream",
       "stream": "stdout",
       "text": [
        "\n",
        "(Iteration 682 / 1528) loss: 0.988240"
       ]
      },
      {
       "output_type": "stream",
       "stream": "stdout",
       "text": [
        "\n",
        "(Iteration 683 / 1528) loss: 0.938876"
       ]
      },
      {
       "output_type": "stream",
       "stream": "stdout",
       "text": [
        "\n",
        "(Iteration 684 / 1528) loss: 0.732107"
       ]
      },
      {
       "output_type": "stream",
       "stream": "stdout",
       "text": [
        "\n",
        "(Iteration 685 / 1528) loss: 0.927143"
       ]
      },
      {
       "output_type": "stream",
       "stream": "stdout",
       "text": [
        "\n",
        "(Iteration 686 / 1528) loss: 0.910159"
       ]
      },
      {
       "output_type": "stream",
       "stream": "stdout",
       "text": [
        "\n",
        "(Iteration 687 / 1528) loss: 0.808146"
       ]
      },
      {
       "output_type": "stream",
       "stream": "stdout",
       "text": [
        "\n",
        "(Iteration 688 / 1528) loss: 1.148938"
       ]
      },
      {
       "output_type": "stream",
       "stream": "stdout",
       "text": [
        "\n",
        "(Iteration 689 / 1528) loss: 0.956232"
       ]
      },
      {
       "output_type": "stream",
       "stream": "stdout",
       "text": [
        "\n",
        "(Iteration 690 / 1528) loss: 1.021862"
       ]
      },
      {
       "output_type": "stream",
       "stream": "stdout",
       "text": [
        "\n",
        "(Iteration 691 / 1528) loss: 1.052886"
       ]
      },
      {
       "output_type": "stream",
       "stream": "stdout",
       "text": [
        "\n",
        "(Iteration 692 / 1528) loss: 0.872925"
       ]
      },
      {
       "output_type": "stream",
       "stream": "stdout",
       "text": [
        "\n",
        "(Iteration 693 / 1528) loss: 0.923388"
       ]
      },
      {
       "output_type": "stream",
       "stream": "stdout",
       "text": [
        "\n",
        "(Iteration 694 / 1528) loss: 1.000799"
       ]
      },
      {
       "output_type": "stream",
       "stream": "stdout",
       "text": [
        "\n",
        "(Iteration 695 / 1528) loss: 1.032198"
       ]
      },
      {
       "output_type": "stream",
       "stream": "stdout",
       "text": [
        "\n",
        "(Iteration 696 / 1528) loss: 0.720125"
       ]
      },
      {
       "output_type": "stream",
       "stream": "stdout",
       "text": [
        "\n",
        "(Iteration 697 / 1528) loss: 0.831780"
       ]
      },
      {
       "output_type": "stream",
       "stream": "stdout",
       "text": [
        "\n",
        "(Iteration 698 / 1528) loss: 0.797404"
       ]
      },
      {
       "output_type": "stream",
       "stream": "stdout",
       "text": [
        "\n",
        "(Iteration 699 / 1528) loss: 0.993778"
       ]
      },
      {
       "output_type": "stream",
       "stream": "stdout",
       "text": [
        "\n",
        "(Iteration 700 / 1528) loss: 0.930544"
       ]
      },
      {
       "output_type": "stream",
       "stream": "stdout",
       "text": [
        "\n",
        "(Iteration 701 / 1528) loss: 0.904150"
       ]
      },
      {
       "output_type": "stream",
       "stream": "stdout",
       "text": [
        "\n",
        "(Iteration 702 / 1528) loss: 0.989208"
       ]
      },
      {
       "output_type": "stream",
       "stream": "stdout",
       "text": [
        "\n",
        "(Iteration 703 / 1528) loss: 0.981617"
       ]
      },
      {
       "output_type": "stream",
       "stream": "stdout",
       "text": [
        "\n",
        "(Iteration 704 / 1528) loss: 1.036212"
       ]
      },
      {
       "output_type": "stream",
       "stream": "stdout",
       "text": [
        "\n",
        "(Iteration 705 / 1528) loss: 0.953295"
       ]
      },
      {
       "output_type": "stream",
       "stream": "stdout",
       "text": [
        "\n",
        "(Iteration 706 / 1528) loss: 0.910434"
       ]
      },
      {
       "output_type": "stream",
       "stream": "stdout",
       "text": [
        "\n",
        "(Iteration 707 / 1528) loss: 1.017779"
       ]
      },
      {
       "output_type": "stream",
       "stream": "stdout",
       "text": [
        "\n",
        "(Iteration 708 / 1528) loss: 1.081685"
       ]
      },
      {
       "output_type": "stream",
       "stream": "stdout",
       "text": [
        "\n",
        "(Iteration 709 / 1528) loss: 0.915180"
       ]
      },
      {
       "output_type": "stream",
       "stream": "stdout",
       "text": [
        "\n",
        "(Iteration 710 / 1528) loss: 0.953636"
       ]
      },
      {
       "output_type": "stream",
       "stream": "stdout",
       "text": [
        "\n",
        "(Iteration 711 / 1528) loss: 0.936136"
       ]
      },
      {
       "output_type": "stream",
       "stream": "stdout",
       "text": [
        "\n",
        "(Iteration 712 / 1528) loss: 0.991955"
       ]
      },
      {
       "output_type": "stream",
       "stream": "stdout",
       "text": [
        "\n",
        "(Iteration 713 / 1528) loss: 0.918481"
       ]
      },
      {
       "output_type": "stream",
       "stream": "stdout",
       "text": [
        "\n",
        "(Iteration 714 / 1528) loss: 0.910740"
       ]
      },
      {
       "output_type": "stream",
       "stream": "stdout",
       "text": [
        "\n",
        "(Iteration 715 / 1528) loss: 1.027423"
       ]
      },
      {
       "output_type": "stream",
       "stream": "stdout",
       "text": [
        "\n",
        "(Iteration 716 / 1528) loss: 0.978743"
       ]
      },
      {
       "output_type": "stream",
       "stream": "stdout",
       "text": [
        "\n",
        "(Iteration 717 / 1528) loss: 0.865965"
       ]
      },
      {
       "output_type": "stream",
       "stream": "stdout",
       "text": [
        "\n",
        "(Iteration 718 / 1528) loss: 0.994257"
       ]
      },
      {
       "output_type": "stream",
       "stream": "stdout",
       "text": [
        "\n",
        "(Iteration 719 / 1528) loss: 0.917074"
       ]
      },
      {
       "output_type": "stream",
       "stream": "stdout",
       "text": [
        "\n",
        "(Iteration 720 / 1528) loss: 0.969661"
       ]
      },
      {
       "output_type": "stream",
       "stream": "stdout",
       "text": [
        "\n",
        "(Iteration 721 / 1528) loss: 0.866342"
       ]
      },
      {
       "output_type": "stream",
       "stream": "stdout",
       "text": [
        "\n",
        "(Iteration 722 / 1528) loss: 0.807353"
       ]
      },
      {
       "output_type": "stream",
       "stream": "stdout",
       "text": [
        "\n",
        "(Iteration 723 / 1528) loss: 1.122642"
       ]
      },
      {
       "output_type": "stream",
       "stream": "stdout",
       "text": [
        "\n",
        "(Iteration 724 / 1528) loss: 1.138655"
       ]
      },
      {
       "output_type": "stream",
       "stream": "stdout",
       "text": [
        "\n",
        "(Iteration 725 / 1528) loss: 0.848755"
       ]
      },
      {
       "output_type": "stream",
       "stream": "stdout",
       "text": [
        "\n",
        "(Iteration 726 / 1528) loss: 0.871448"
       ]
      },
      {
       "output_type": "stream",
       "stream": "stdout",
       "text": [
        "\n",
        "(Iteration 727 / 1528) loss: 0.968603"
       ]
      },
      {
       "output_type": "stream",
       "stream": "stdout",
       "text": [
        "\n",
        "(Iteration 728 / 1528) loss: 0.954981"
       ]
      },
      {
       "output_type": "stream",
       "stream": "stdout",
       "text": [
        "\n",
        "(Iteration 729 / 1528) loss: 1.130225"
       ]
      },
      {
       "output_type": "stream",
       "stream": "stdout",
       "text": [
        "\n",
        "(Iteration 730 / 1528) loss: 0.980527"
       ]
      },
      {
       "output_type": "stream",
       "stream": "stdout",
       "text": [
        "\n",
        "(Iteration 731 / 1528) loss: 0.876277"
       ]
      },
      {
       "output_type": "stream",
       "stream": "stdout",
       "text": [
        "\n",
        "(Iteration 732 / 1528) loss: 1.018269"
       ]
      },
      {
       "output_type": "stream",
       "stream": "stdout",
       "text": [
        "\n",
        "(Iteration 733 / 1528) loss: 0.853287"
       ]
      },
      {
       "output_type": "stream",
       "stream": "stdout",
       "text": [
        "\n",
        "(Iteration 734 / 1528) loss: 0.843514"
       ]
      },
      {
       "output_type": "stream",
       "stream": "stdout",
       "text": [
        "\n",
        "(Iteration 735 / 1528) loss: 0.943645"
       ]
      },
      {
       "output_type": "stream",
       "stream": "stdout",
       "text": [
        "\n",
        "(Iteration 736 / 1528) loss: 0.928286"
       ]
      },
      {
       "output_type": "stream",
       "stream": "stdout",
       "text": [
        "\n",
        "(Iteration 737 / 1528) loss: 0.943877"
       ]
      },
      {
       "output_type": "stream",
       "stream": "stdout",
       "text": [
        "\n",
        "(Iteration 738 / 1528) loss: 0.885050"
       ]
      },
      {
       "output_type": "stream",
       "stream": "stdout",
       "text": [
        "\n",
        "(Iteration 739 / 1528) loss: 1.074226"
       ]
      },
      {
       "output_type": "stream",
       "stream": "stdout",
       "text": [
        "\n",
        "(Iteration 740 / 1528) loss: 1.077317"
       ]
      },
      {
       "output_type": "stream",
       "stream": "stdout",
       "text": [
        "\n",
        "(Iteration 741 / 1528) loss: 0.896499"
       ]
      },
      {
       "output_type": "stream",
       "stream": "stdout",
       "text": [
        "\n",
        "(Iteration 742 / 1528) loss: 1.003984"
       ]
      },
      {
       "output_type": "stream",
       "stream": "stdout",
       "text": [
        "\n",
        "(Iteration 743 / 1528) loss: 1.002599"
       ]
      },
      {
       "output_type": "stream",
       "stream": "stdout",
       "text": [
        "\n",
        "(Iteration 744 / 1528) loss: 0.968974"
       ]
      },
      {
       "output_type": "stream",
       "stream": "stdout",
       "text": [
        "\n",
        "(Iteration 745 / 1528) loss: 1.041375"
       ]
      },
      {
       "output_type": "stream",
       "stream": "stdout",
       "text": [
        "\n",
        "(Iteration 746 / 1528) loss: 1.056378"
       ]
      },
      {
       "output_type": "stream",
       "stream": "stdout",
       "text": [
        "\n",
        "(Iteration 747 / 1528) loss: 0.974872"
       ]
      },
      {
       "output_type": "stream",
       "stream": "stdout",
       "text": [
        "\n",
        "(Iteration 748 / 1528) loss: 0.999322"
       ]
      },
      {
       "output_type": "stream",
       "stream": "stdout",
       "text": [
        "\n",
        "(Iteration 749 / 1528) loss: 0.974612"
       ]
      },
      {
       "output_type": "stream",
       "stream": "stdout",
       "text": [
        "\n",
        "(Iteration 750 / 1528) loss: 0.871806"
       ]
      },
      {
       "output_type": "stream",
       "stream": "stdout",
       "text": [
        "\n",
        "(Iteration 751 / 1528) loss: 0.982269"
       ]
      },
      {
       "output_type": "stream",
       "stream": "stdout",
       "text": [
        "\n",
        "(Iteration 752 / 1528) loss: 0.873536"
       ]
      },
      {
       "output_type": "stream",
       "stream": "stdout",
       "text": [
        "\n",
        "(Iteration 753 / 1528) loss: 0.980632"
       ]
      },
      {
       "output_type": "stream",
       "stream": "stdout",
       "text": [
        "\n",
        "(Iteration 754 / 1528) loss: 1.017934"
       ]
      },
      {
       "output_type": "stream",
       "stream": "stdout",
       "text": [
        "\n",
        "(Iteration 755 / 1528) loss: 0.923811"
       ]
      },
      {
       "output_type": "stream",
       "stream": "stdout",
       "text": [
        "\n",
        "(Iteration 756 / 1528) loss: 0.867750"
       ]
      },
      {
       "output_type": "stream",
       "stream": "stdout",
       "text": [
        "\n",
        "(Iteration 757 / 1528) loss: 0.804765"
       ]
      },
      {
       "output_type": "stream",
       "stream": "stdout",
       "text": [
        "\n",
        "(Iteration 758 / 1528) loss: 0.845144"
       ]
      },
      {
       "output_type": "stream",
       "stream": "stdout",
       "text": [
        "\n",
        "(Iteration 759 / 1528) loss: 1.052845"
       ]
      },
      {
       "output_type": "stream",
       "stream": "stdout",
       "text": [
        "\n",
        "(Iteration 760 / 1528) loss: 0.916584"
       ]
      },
      {
       "output_type": "stream",
       "stream": "stdout",
       "text": [
        "\n",
        "(Iteration 761 / 1528) loss: 0.812305"
       ]
      },
      {
       "output_type": "stream",
       "stream": "stdout",
       "text": [
        "\n",
        "(Iteration 762 / 1528) loss: 0.842973"
       ]
      },
      {
       "output_type": "stream",
       "stream": "stdout",
       "text": [
        "\n",
        "(Iteration 763 / 1528) loss: 0.871515"
       ]
      },
      {
       "output_type": "stream",
       "stream": "stdout",
       "text": [
        "\n",
        "(Iteration 764 / 1528) loss: 0.834703"
       ]
      },
      {
       "output_type": "stream",
       "stream": "stdout",
       "text": [
        "\n",
        "(Epoch 2 / 4) train acc: 0.697000; val_acc: 0.652000"
       ]
      },
      {
       "output_type": "stream",
       "stream": "stdout",
       "text": [
        "\n",
        "(Iteration 765 / 1528) loss: 1.256767"
       ]
      },
      {
       "output_type": "stream",
       "stream": "stdout",
       "text": [
        "\n",
        "(Iteration 766 / 1528) loss: 0.878650"
       ]
      },
      {
       "output_type": "stream",
       "stream": "stdout",
       "text": [
        "\n",
        "(Iteration 767 / 1528) loss: 0.965093"
       ]
      },
      {
       "output_type": "stream",
       "stream": "stdout",
       "text": [
        "\n",
        "(Iteration 768 / 1528) loss: 0.705145"
       ]
      },
      {
       "output_type": "stream",
       "stream": "stdout",
       "text": [
        "\n",
        "(Iteration 769 / 1528) loss: 0.755437"
       ]
      },
      {
       "output_type": "stream",
       "stream": "stdout",
       "text": [
        "\n",
        "(Iteration 770 / 1528) loss: 0.963914"
       ]
      },
      {
       "output_type": "stream",
       "stream": "stdout",
       "text": [
        "\n",
        "(Iteration 771 / 1528) loss: 0.741205"
       ]
      },
      {
       "output_type": "stream",
       "stream": "stdout",
       "text": [
        "\n",
        "(Iteration 772 / 1528) loss: 0.984002"
       ]
      },
      {
       "output_type": "stream",
       "stream": "stdout",
       "text": [
        "\n",
        "(Iteration 773 / 1528) loss: 0.855900"
       ]
      },
      {
       "output_type": "stream",
       "stream": "stdout",
       "text": [
        "\n",
        "(Iteration 774 / 1528) loss: 0.927473"
       ]
      },
      {
       "output_type": "stream",
       "stream": "stdout",
       "text": [
        "\n",
        "(Iteration 775 / 1528) loss: 0.897545"
       ]
      },
      {
       "output_type": "stream",
       "stream": "stdout",
       "text": [
        "\n",
        "(Iteration 776 / 1528) loss: 0.957539"
       ]
      },
      {
       "output_type": "stream",
       "stream": "stdout",
       "text": [
        "\n",
        "(Iteration 777 / 1528) loss: 0.969639"
       ]
      },
      {
       "output_type": "stream",
       "stream": "stdout",
       "text": [
        "\n",
        "(Iteration 778 / 1528) loss: 0.854425"
       ]
      },
      {
       "output_type": "stream",
       "stream": "stdout",
       "text": [
        "\n",
        "(Iteration 779 / 1528) loss: 0.923372"
       ]
      },
      {
       "output_type": "stream",
       "stream": "stdout",
       "text": [
        "\n",
        "(Iteration 780 / 1528) loss: 0.831592"
       ]
      },
      {
       "output_type": "stream",
       "stream": "stdout",
       "text": [
        "\n",
        "(Iteration 781 / 1528) loss: 1.036836"
       ]
      },
      {
       "output_type": "stream",
       "stream": "stdout",
       "text": [
        "\n",
        "(Iteration 782 / 1528) loss: 0.924837"
       ]
      },
      {
       "output_type": "stream",
       "stream": "stdout",
       "text": [
        "\n",
        "(Iteration 783 / 1528) loss: 0.942838"
       ]
      },
      {
       "output_type": "stream",
       "stream": "stdout",
       "text": [
        "\n",
        "(Iteration 784 / 1528) loss: 0.882027"
       ]
      },
      {
       "output_type": "stream",
       "stream": "stdout",
       "text": [
        "\n",
        "(Iteration 785 / 1528) loss: 1.003315"
       ]
      },
      {
       "output_type": "stream",
       "stream": "stdout",
       "text": [
        "\n",
        "(Iteration 786 / 1528) loss: 1.015736"
       ]
      },
      {
       "output_type": "stream",
       "stream": "stdout",
       "text": [
        "\n",
        "(Iteration 787 / 1528) loss: 0.928398"
       ]
      },
      {
       "output_type": "stream",
       "stream": "stdout",
       "text": [
        "\n",
        "(Iteration 788 / 1528) loss: 0.995047"
       ]
      },
      {
       "output_type": "stream",
       "stream": "stdout",
       "text": [
        "\n",
        "(Iteration 789 / 1528) loss: 0.918739"
       ]
      },
      {
       "output_type": "stream",
       "stream": "stdout",
       "text": [
        "\n",
        "(Iteration 790 / 1528) loss: 1.004559"
       ]
      },
      {
       "output_type": "stream",
       "stream": "stdout",
       "text": [
        "\n",
        "(Iteration 791 / 1528) loss: 0.929256"
       ]
      },
      {
       "output_type": "stream",
       "stream": "stdout",
       "text": [
        "\n",
        "(Iteration 792 / 1528) loss: 0.799448"
       ]
      },
      {
       "output_type": "stream",
       "stream": "stdout",
       "text": [
        "\n",
        "(Iteration 793 / 1528) loss: 0.888080"
       ]
      },
      {
       "output_type": "stream",
       "stream": "stdout",
       "text": [
        "\n",
        "(Iteration 794 / 1528) loss: 0.876770"
       ]
      },
      {
       "output_type": "stream",
       "stream": "stdout",
       "text": [
        "\n",
        "(Iteration 795 / 1528) loss: 0.892955"
       ]
      },
      {
       "output_type": "stream",
       "stream": "stdout",
       "text": [
        "\n",
        "(Iteration 796 / 1528) loss: 0.944317"
       ]
      },
      {
       "output_type": "stream",
       "stream": "stdout",
       "text": [
        "\n",
        "(Iteration 797 / 1528) loss: 0.851627"
       ]
      },
      {
       "output_type": "stream",
       "stream": "stdout",
       "text": [
        "\n",
        "(Iteration 798 / 1528) loss: 0.927720"
       ]
      },
      {
       "output_type": "stream",
       "stream": "stdout",
       "text": [
        "\n",
        "(Iteration 799 / 1528) loss: 0.819217"
       ]
      },
      {
       "output_type": "stream",
       "stream": "stdout",
       "text": [
        "\n",
        "(Iteration 800 / 1528) loss: 1.044854"
       ]
      },
      {
       "output_type": "stream",
       "stream": "stdout",
       "text": [
        "\n",
        "(Iteration 801 / 1528) loss: 0.827263"
       ]
      },
      {
       "output_type": "stream",
       "stream": "stdout",
       "text": [
        "\n",
        "(Iteration 802 / 1528) loss: 1.010507"
       ]
      },
      {
       "output_type": "stream",
       "stream": "stdout",
       "text": [
        "\n",
        "(Iteration 803 / 1528) loss: 0.913688"
       ]
      },
      {
       "output_type": "stream",
       "stream": "stdout",
       "text": [
        "\n",
        "(Iteration 804 / 1528) loss: 0.941110"
       ]
      },
      {
       "output_type": "stream",
       "stream": "stdout",
       "text": [
        "\n",
        "(Iteration 805 / 1528) loss: 0.731609"
       ]
      },
      {
       "output_type": "stream",
       "stream": "stdout",
       "text": [
        "\n",
        "(Iteration 806 / 1528) loss: 0.981854"
       ]
      },
      {
       "output_type": "stream",
       "stream": "stdout",
       "text": [
        "\n",
        "(Iteration 807 / 1528) loss: 1.050818"
       ]
      },
      {
       "output_type": "stream",
       "stream": "stdout",
       "text": [
        "\n",
        "(Iteration 808 / 1528) loss: 0.931110"
       ]
      },
      {
       "output_type": "stream",
       "stream": "stdout",
       "text": [
        "\n",
        "(Iteration 809 / 1528) loss: 0.815961"
       ]
      },
      {
       "output_type": "stream",
       "stream": "stdout",
       "text": [
        "\n",
        "(Iteration 810 / 1528) loss: 0.908127"
       ]
      },
      {
       "output_type": "stream",
       "stream": "stdout",
       "text": [
        "\n",
        "(Iteration 811 / 1528) loss: 0.930288"
       ]
      },
      {
       "output_type": "stream",
       "stream": "stdout",
       "text": [
        "\n",
        "(Iteration 812 / 1528) loss: 1.085775"
       ]
      },
      {
       "output_type": "stream",
       "stream": "stdout",
       "text": [
        "\n",
        "(Iteration 813 / 1528) loss: 0.831248"
       ]
      },
      {
       "output_type": "stream",
       "stream": "stdout",
       "text": [
        "\n",
        "(Iteration 814 / 1528) loss: 0.973809"
       ]
      },
      {
       "output_type": "stream",
       "stream": "stdout",
       "text": [
        "\n",
        "(Iteration 815 / 1528) loss: 0.927779"
       ]
      },
      {
       "output_type": "stream",
       "stream": "stdout",
       "text": [
        "\n",
        "(Iteration 816 / 1528) loss: 0.754795"
       ]
      },
      {
       "output_type": "stream",
       "stream": "stdout",
       "text": [
        "\n",
        "(Iteration 817 / 1528) loss: 0.956570"
       ]
      },
      {
       "output_type": "stream",
       "stream": "stdout",
       "text": [
        "\n",
        "(Iteration 818 / 1528) loss: 0.876902"
       ]
      },
      {
       "output_type": "stream",
       "stream": "stdout",
       "text": [
        "\n",
        "(Iteration 819 / 1528) loss: 0.958746"
       ]
      },
      {
       "output_type": "stream",
       "stream": "stdout",
       "text": [
        "\n",
        "(Iteration 820 / 1528) loss: 0.932964"
       ]
      },
      {
       "output_type": "stream",
       "stream": "stdout",
       "text": [
        "\n",
        "(Iteration 821 / 1528) loss: 0.856685"
       ]
      },
      {
       "output_type": "stream",
       "stream": "stdout",
       "text": [
        "\n",
        "(Iteration 822 / 1528) loss: 0.852489"
       ]
      },
      {
       "output_type": "stream",
       "stream": "stdout",
       "text": [
        "\n",
        "(Iteration 823 / 1528) loss: 0.870953"
       ]
      },
      {
       "output_type": "stream",
       "stream": "stdout",
       "text": [
        "\n",
        "(Iteration 824 / 1528) loss: 0.940880"
       ]
      },
      {
       "output_type": "stream",
       "stream": "stdout",
       "text": [
        "\n",
        "(Iteration 825 / 1528) loss: 0.860554"
       ]
      },
      {
       "output_type": "stream",
       "stream": "stdout",
       "text": [
        "\n",
        "(Iteration 826 / 1528) loss: 0.791717"
       ]
      },
      {
       "output_type": "stream",
       "stream": "stdout",
       "text": [
        "\n",
        "(Iteration 827 / 1528) loss: 0.941465"
       ]
      },
      {
       "output_type": "stream",
       "stream": "stdout",
       "text": [
        "\n",
        "(Iteration 828 / 1528) loss: 0.815310"
       ]
      },
      {
       "output_type": "stream",
       "stream": "stdout",
       "text": [
        "\n",
        "(Iteration 829 / 1528) loss: 0.798623"
       ]
      },
      {
       "output_type": "stream",
       "stream": "stdout",
       "text": [
        "\n",
        "(Iteration 830 / 1528) loss: 0.738427"
       ]
      },
      {
       "output_type": "stream",
       "stream": "stdout",
       "text": [
        "\n",
        "(Iteration 831 / 1528) loss: 1.003958"
       ]
      },
      {
       "output_type": "stream",
       "stream": "stdout",
       "text": [
        "\n",
        "(Iteration 832 / 1528) loss: 0.938334"
       ]
      },
      {
       "output_type": "stream",
       "stream": "stdout",
       "text": [
        "\n",
        "(Iteration 833 / 1528) loss: 0.986120"
       ]
      },
      {
       "output_type": "stream",
       "stream": "stdout",
       "text": [
        "\n",
        "(Iteration 834 / 1528) loss: 1.006722"
       ]
      },
      {
       "output_type": "stream",
       "stream": "stdout",
       "text": [
        "\n",
        "(Iteration 835 / 1528) loss: 0.931334"
       ]
      },
      {
       "output_type": "stream",
       "stream": "stdout",
       "text": [
        "\n",
        "(Iteration 836 / 1528) loss: 0.871927"
       ]
      },
      {
       "output_type": "stream",
       "stream": "stdout",
       "text": [
        "\n",
        "(Iteration 837 / 1528) loss: 0.889084"
       ]
      },
      {
       "output_type": "stream",
       "stream": "stdout",
       "text": [
        "\n",
        "(Iteration 838 / 1528) loss: 0.852531"
       ]
      },
      {
       "output_type": "stream",
       "stream": "stdout",
       "text": [
        "\n",
        "(Iteration 839 / 1528) loss: 0.834909"
       ]
      },
      {
       "output_type": "stream",
       "stream": "stdout",
       "text": [
        "\n",
        "(Iteration 840 / 1528) loss: 0.870904"
       ]
      },
      {
       "output_type": "stream",
       "stream": "stdout",
       "text": [
        "\n",
        "(Iteration 841 / 1528) loss: 1.109760"
       ]
      },
      {
       "output_type": "stream",
       "stream": "stdout",
       "text": [
        "\n",
        "(Iteration 842 / 1528) loss: 0.873265"
       ]
      },
      {
       "output_type": "stream",
       "stream": "stdout",
       "text": [
        "\n",
        "(Iteration 843 / 1528) loss: 0.881959"
       ]
      },
      {
       "output_type": "stream",
       "stream": "stdout",
       "text": [
        "\n",
        "(Iteration 844 / 1528) loss: 0.952078"
       ]
      },
      {
       "output_type": "stream",
       "stream": "stdout",
       "text": [
        "\n",
        "(Iteration 845 / 1528) loss: 0.842797"
       ]
      },
      {
       "output_type": "stream",
       "stream": "stdout",
       "text": [
        "\n",
        "(Iteration 846 / 1528) loss: 0.881302"
       ]
      },
      {
       "output_type": "stream",
       "stream": "stdout",
       "text": [
        "\n",
        "(Iteration 847 / 1528) loss: 0.834689"
       ]
      },
      {
       "output_type": "stream",
       "stream": "stdout",
       "text": [
        "\n",
        "(Iteration 848 / 1528) loss: 0.892342"
       ]
      },
      {
       "output_type": "stream",
       "stream": "stdout",
       "text": [
        "\n",
        "(Iteration 849 / 1528) loss: 0.864948"
       ]
      },
      {
       "output_type": "stream",
       "stream": "stdout",
       "text": [
        "\n",
        "(Iteration 850 / 1528) loss: 0.897457"
       ]
      },
      {
       "output_type": "stream",
       "stream": "stdout",
       "text": [
        "\n",
        "(Iteration 851 / 1528) loss: 1.033620"
       ]
      },
      {
       "output_type": "stream",
       "stream": "stdout",
       "text": [
        "\n",
        "(Iteration 852 / 1528) loss: 0.999208"
       ]
      },
      {
       "output_type": "stream",
       "stream": "stdout",
       "text": [
        "\n",
        "(Iteration 853 / 1528) loss: 1.070893"
       ]
      },
      {
       "output_type": "stream",
       "stream": "stdout",
       "text": [
        "\n",
        "(Iteration 854 / 1528) loss: 0.810650"
       ]
      },
      {
       "output_type": "stream",
       "stream": "stdout",
       "text": [
        "\n",
        "(Iteration 855 / 1528) loss: 0.964453"
       ]
      },
      {
       "output_type": "stream",
       "stream": "stdout",
       "text": [
        "\n",
        "(Iteration 856 / 1528) loss: 0.942815"
       ]
      },
      {
       "output_type": "stream",
       "stream": "stdout",
       "text": [
        "\n",
        "(Iteration 857 / 1528) loss: 1.047845"
       ]
      },
      {
       "output_type": "stream",
       "stream": "stdout",
       "text": [
        "\n",
        "(Iteration 858 / 1528) loss: 0.948056"
       ]
      },
      {
       "output_type": "stream",
       "stream": "stdout",
       "text": [
        "\n",
        "(Iteration 859 / 1528) loss: 0.821748"
       ]
      },
      {
       "output_type": "stream",
       "stream": "stdout",
       "text": [
        "\n",
        "(Iteration 860 / 1528) loss: 0.858203"
       ]
      },
      {
       "output_type": "stream",
       "stream": "stdout",
       "text": [
        "\n",
        "(Iteration 861 / 1528) loss: 0.886667"
       ]
      },
      {
       "output_type": "stream",
       "stream": "stdout",
       "text": [
        "\n",
        "(Iteration 862 / 1528) loss: 1.093101"
       ]
      },
      {
       "output_type": "stream",
       "stream": "stdout",
       "text": [
        "\n",
        "(Iteration 863 / 1528) loss: 0.729809"
       ]
      },
      {
       "output_type": "stream",
       "stream": "stdout",
       "text": [
        "\n",
        "(Iteration 864 / 1528) loss: 0.935970"
       ]
      },
      {
       "output_type": "stream",
       "stream": "stdout",
       "text": [
        "\n",
        "(Iteration 865 / 1528) loss: 0.819347"
       ]
      },
      {
       "output_type": "stream",
       "stream": "stdout",
       "text": [
        "\n",
        "(Iteration 866 / 1528) loss: 0.969122"
       ]
      },
      {
       "output_type": "stream",
       "stream": "stdout",
       "text": [
        "\n",
        "(Iteration 867 / 1528) loss: 0.776921"
       ]
      },
      {
       "output_type": "stream",
       "stream": "stdout",
       "text": [
        "\n",
        "(Iteration 868 / 1528) loss: 0.842134"
       ]
      },
      {
       "output_type": "stream",
       "stream": "stdout",
       "text": [
        "\n",
        "(Iteration 869 / 1528) loss: 0.806666"
       ]
      },
      {
       "output_type": "stream",
       "stream": "stdout",
       "text": [
        "\n",
        "(Iteration 870 / 1528) loss: 0.743037"
       ]
      },
      {
       "output_type": "stream",
       "stream": "stdout",
       "text": [
        "\n",
        "(Iteration 871 / 1528) loss: 1.118993"
       ]
      },
      {
       "output_type": "stream",
       "stream": "stdout",
       "text": [
        "\n",
        "(Iteration 872 / 1528) loss: 0.818525"
       ]
      },
      {
       "output_type": "stream",
       "stream": "stdout",
       "text": [
        "\n",
        "(Iteration 873 / 1528) loss: 0.812944"
       ]
      },
      {
       "output_type": "stream",
       "stream": "stdout",
       "text": [
        "\n",
        "(Iteration 874 / 1528) loss: 0.912867"
       ]
      },
      {
       "output_type": "stream",
       "stream": "stdout",
       "text": [
        "\n",
        "(Iteration 875 / 1528) loss: 0.954891"
       ]
      },
      {
       "output_type": "stream",
       "stream": "stdout",
       "text": [
        "\n",
        "(Iteration 876 / 1528) loss: 0.996239"
       ]
      },
      {
       "output_type": "stream",
       "stream": "stdout",
       "text": [
        "\n",
        "(Iteration 877 / 1528) loss: 0.853636"
       ]
      },
      {
       "output_type": "stream",
       "stream": "stdout",
       "text": [
        "\n",
        "(Iteration 878 / 1528) loss: 0.838914"
       ]
      },
      {
       "output_type": "stream",
       "stream": "stdout",
       "text": [
        "\n",
        "(Iteration 879 / 1528) loss: 0.873909"
       ]
      },
      {
       "output_type": "stream",
       "stream": "stdout",
       "text": [
        "\n",
        "(Iteration 880 / 1528) loss: 0.824902"
       ]
      },
      {
       "output_type": "stream",
       "stream": "stdout",
       "text": [
        "\n",
        "(Iteration 881 / 1528) loss: 1.035315"
       ]
      },
      {
       "output_type": "stream",
       "stream": "stdout",
       "text": [
        "\n",
        "(Iteration 882 / 1528) loss: 0.977330"
       ]
      },
      {
       "output_type": "stream",
       "stream": "stdout",
       "text": [
        "\n",
        "(Iteration 883 / 1528) loss: 0.923467"
       ]
      },
      {
       "output_type": "stream",
       "stream": "stdout",
       "text": [
        "\n",
        "(Iteration 884 / 1528) loss: 0.737090"
       ]
      },
      {
       "output_type": "stream",
       "stream": "stdout",
       "text": [
        "\n",
        "(Iteration 885 / 1528) loss: 0.886658"
       ]
      },
      {
       "output_type": "stream",
       "stream": "stdout",
       "text": [
        "\n",
        "(Iteration 886 / 1528) loss: 0.943832"
       ]
      },
      {
       "output_type": "stream",
       "stream": "stdout",
       "text": [
        "\n",
        "(Iteration 887 / 1528) loss: 0.941875"
       ]
      },
      {
       "output_type": "stream",
       "stream": "stdout",
       "text": [
        "\n",
        "(Iteration 888 / 1528) loss: 0.785909"
       ]
      },
      {
       "output_type": "stream",
       "stream": "stdout",
       "text": [
        "\n",
        "(Iteration 889 / 1528) loss: 0.897642"
       ]
      },
      {
       "output_type": "stream",
       "stream": "stdout",
       "text": [
        "\n",
        "(Iteration 890 / 1528) loss: 0.942576"
       ]
      },
      {
       "output_type": "stream",
       "stream": "stdout",
       "text": [
        "\n",
        "(Iteration 891 / 1528) loss: 0.905422"
       ]
      },
      {
       "output_type": "stream",
       "stream": "stdout",
       "text": [
        "\n",
        "(Iteration 892 / 1528) loss: 0.960100"
       ]
      },
      {
       "output_type": "stream",
       "stream": "stdout",
       "text": [
        "\n",
        "(Iteration 893 / 1528) loss: 0.826295"
       ]
      },
      {
       "output_type": "stream",
       "stream": "stdout",
       "text": [
        "\n",
        "(Iteration 894 / 1528) loss: 0.861028"
       ]
      },
      {
       "output_type": "stream",
       "stream": "stdout",
       "text": [
        "\n",
        "(Iteration 895 / 1528) loss: 0.937267"
       ]
      },
      {
       "output_type": "stream",
       "stream": "stdout",
       "text": [
        "\n",
        "(Iteration 896 / 1528) loss: 0.938686"
       ]
      },
      {
       "output_type": "stream",
       "stream": "stdout",
       "text": [
        "\n",
        "(Iteration 897 / 1528) loss: 0.812908"
       ]
      },
      {
       "output_type": "stream",
       "stream": "stdout",
       "text": [
        "\n",
        "(Iteration 898 / 1528) loss: 0.959047"
       ]
      },
      {
       "output_type": "stream",
       "stream": "stdout",
       "text": [
        "\n",
        "(Iteration 899 / 1528) loss: 0.976419"
       ]
      },
      {
       "output_type": "stream",
       "stream": "stdout",
       "text": [
        "\n",
        "(Iteration 900 / 1528) loss: 0.815227"
       ]
      },
      {
       "output_type": "stream",
       "stream": "stdout",
       "text": [
        "\n",
        "(Iteration 901 / 1528) loss: 1.017448"
       ]
      },
      {
       "output_type": "stream",
       "stream": "stdout",
       "text": [
        "\n",
        "(Iteration 902 / 1528) loss: 0.894434"
       ]
      },
      {
       "output_type": "stream",
       "stream": "stdout",
       "text": [
        "\n",
        "(Iteration 903 / 1528) loss: 0.759527"
       ]
      },
      {
       "output_type": "stream",
       "stream": "stdout",
       "text": [
        "\n",
        "(Iteration 904 / 1528) loss: 1.021372"
       ]
      },
      {
       "output_type": "stream",
       "stream": "stdout",
       "text": [
        "\n",
        "(Iteration 905 / 1528) loss: 0.903553"
       ]
      },
      {
       "output_type": "stream",
       "stream": "stdout",
       "text": [
        "\n",
        "(Iteration 906 / 1528) loss: 0.829886"
       ]
      },
      {
       "output_type": "stream",
       "stream": "stdout",
       "text": [
        "\n",
        "(Iteration 907 / 1528) loss: 0.887384"
       ]
      },
      {
       "output_type": "stream",
       "stream": "stdout",
       "text": [
        "\n",
        "(Iteration 908 / 1528) loss: 0.809781"
       ]
      },
      {
       "output_type": "stream",
       "stream": "stdout",
       "text": [
        "\n",
        "(Iteration 909 / 1528) loss: 0.849498"
       ]
      },
      {
       "output_type": "stream",
       "stream": "stdout",
       "text": [
        "\n",
        "(Iteration 910 / 1528) loss: 0.902534"
       ]
      },
      {
       "output_type": "stream",
       "stream": "stdout",
       "text": [
        "\n",
        "(Iteration 911 / 1528) loss: 1.002902"
       ]
      },
      {
       "output_type": "stream",
       "stream": "stdout",
       "text": [
        "\n",
        "(Iteration 912 / 1528) loss: 0.957349"
       ]
      },
      {
       "output_type": "stream",
       "stream": "stdout",
       "text": [
        "\n",
        "(Iteration 913 / 1528) loss: 0.884707"
       ]
      },
      {
       "output_type": "stream",
       "stream": "stdout",
       "text": [
        "\n",
        "(Iteration 914 / 1528) loss: 0.844090"
       ]
      },
      {
       "output_type": "stream",
       "stream": "stdout",
       "text": [
        "\n",
        "(Iteration 915 / 1528) loss: 0.827337"
       ]
      },
      {
       "output_type": "stream",
       "stream": "stdout",
       "text": [
        "\n",
        "(Iteration 916 / 1528) loss: 0.883188"
       ]
      },
      {
       "output_type": "stream",
       "stream": "stdout",
       "text": [
        "\n",
        "(Iteration 917 / 1528) loss: 0.915903"
       ]
      },
      {
       "output_type": "stream",
       "stream": "stdout",
       "text": [
        "\n",
        "(Iteration 918 / 1528) loss: 1.079149"
       ]
      },
      {
       "output_type": "stream",
       "stream": "stdout",
       "text": [
        "\n",
        "(Iteration 919 / 1528) loss: 0.813765"
       ]
      },
      {
       "output_type": "stream",
       "stream": "stdout",
       "text": [
        "\n",
        "(Iteration 920 / 1528) loss: 0.916217"
       ]
      },
      {
       "output_type": "stream",
       "stream": "stdout",
       "text": [
        "\n",
        "(Iteration 921 / 1528) loss: 0.813139"
       ]
      },
      {
       "output_type": "stream",
       "stream": "stdout",
       "text": [
        "\n",
        "(Iteration 922 / 1528) loss: 1.054391"
       ]
      },
      {
       "output_type": "stream",
       "stream": "stdout",
       "text": [
        "\n",
        "(Iteration 923 / 1528) loss: 0.898877"
       ]
      },
      {
       "output_type": "stream",
       "stream": "stdout",
       "text": [
        "\n",
        "(Iteration 924 / 1528) loss: 0.982446"
       ]
      },
      {
       "output_type": "stream",
       "stream": "stdout",
       "text": [
        "\n",
        "(Iteration 925 / 1528) loss: 0.878116"
       ]
      },
      {
       "output_type": "stream",
       "stream": "stdout",
       "text": [
        "\n",
        "(Iteration 926 / 1528) loss: 0.798519"
       ]
      },
      {
       "output_type": "stream",
       "stream": "stdout",
       "text": [
        "\n",
        "(Iteration 927 / 1528) loss: 0.697163"
       ]
      },
      {
       "output_type": "stream",
       "stream": "stdout",
       "text": [
        "\n",
        "(Iteration 928 / 1528) loss: 0.732936"
       ]
      },
      {
       "output_type": "stream",
       "stream": "stdout",
       "text": [
        "\n",
        "(Iteration 929 / 1528) loss: 0.814259"
       ]
      },
      {
       "output_type": "stream",
       "stream": "stdout",
       "text": [
        "\n",
        "(Iteration 930 / 1528) loss: 0.929400"
       ]
      },
      {
       "output_type": "stream",
       "stream": "stdout",
       "text": [
        "\n",
        "(Iteration 931 / 1528) loss: 0.861499"
       ]
      },
      {
       "output_type": "stream",
       "stream": "stdout",
       "text": [
        "\n",
        "(Iteration 932 / 1528) loss: 0.919278"
       ]
      },
      {
       "output_type": "stream",
       "stream": "stdout",
       "text": [
        "\n",
        "(Iteration 933 / 1528) loss: 0.916015"
       ]
      },
      {
       "output_type": "stream",
       "stream": "stdout",
       "text": [
        "\n",
        "(Iteration 934 / 1528) loss: 0.760877"
       ]
      },
      {
       "output_type": "stream",
       "stream": "stdout",
       "text": [
        "\n",
        "(Iteration 935 / 1528) loss: 0.813056"
       ]
      },
      {
       "output_type": "stream",
       "stream": "stdout",
       "text": [
        "\n",
        "(Iteration 936 / 1528) loss: 0.854765"
       ]
      },
      {
       "output_type": "stream",
       "stream": "stdout",
       "text": [
        "\n",
        "(Iteration 937 / 1528) loss: 0.840541"
       ]
      },
      {
       "output_type": "stream",
       "stream": "stdout",
       "text": [
        "\n",
        "(Iteration 938 / 1528) loss: 0.972021"
       ]
      },
      {
       "output_type": "stream",
       "stream": "stdout",
       "text": [
        "\n",
        "(Iteration 939 / 1528) loss: 0.760069"
       ]
      },
      {
       "output_type": "stream",
       "stream": "stdout",
       "text": [
        "\n",
        "(Iteration 940 / 1528) loss: 0.957142"
       ]
      },
      {
       "output_type": "stream",
       "stream": "stdout",
       "text": [
        "\n",
        "(Iteration 941 / 1528) loss: 0.880287"
       ]
      },
      {
       "output_type": "stream",
       "stream": "stdout",
       "text": [
        "\n",
        "(Iteration 942 / 1528) loss: 0.779710"
       ]
      },
      {
       "output_type": "stream",
       "stream": "stdout",
       "text": [
        "\n",
        "(Iteration 943 / 1528) loss: 0.857915"
       ]
      },
      {
       "output_type": "stream",
       "stream": "stdout",
       "text": [
        "\n",
        "(Iteration 944 / 1528) loss: 0.719620"
       ]
      },
      {
       "output_type": "stream",
       "stream": "stdout",
       "text": [
        "\n",
        "(Iteration 945 / 1528) loss: 1.022183"
       ]
      },
      {
       "output_type": "stream",
       "stream": "stdout",
       "text": [
        "\n",
        "(Iteration 946 / 1528) loss: 0.840237"
       ]
      },
      {
       "output_type": "stream",
       "stream": "stdout",
       "text": [
        "\n",
        "(Iteration 947 / 1528) loss: 0.758220"
       ]
      },
      {
       "output_type": "stream",
       "stream": "stdout",
       "text": [
        "\n",
        "(Iteration 948 / 1528) loss: 0.943983"
       ]
      },
      {
       "output_type": "stream",
       "stream": "stdout",
       "text": [
        "\n",
        "(Iteration 949 / 1528) loss: 0.909427"
       ]
      },
      {
       "output_type": "stream",
       "stream": "stdout",
       "text": [
        "\n",
        "(Iteration 950 / 1528) loss: 0.974116"
       ]
      },
      {
       "output_type": "stream",
       "stream": "stdout",
       "text": [
        "\n",
        "(Iteration 951 / 1528) loss: 1.148183"
       ]
      },
      {
       "output_type": "stream",
       "stream": "stdout",
       "text": [
        "\n",
        "(Iteration 952 / 1528) loss: 0.788868"
       ]
      },
      {
       "output_type": "stream",
       "stream": "stdout",
       "text": [
        "\n",
        "(Iteration 953 / 1528) loss: 0.833663"
       ]
      },
      {
       "output_type": "stream",
       "stream": "stdout",
       "text": [
        "\n",
        "(Iteration 954 / 1528) loss: 0.881996"
       ]
      },
      {
       "output_type": "stream",
       "stream": "stdout",
       "text": [
        "\n",
        "(Iteration 955 / 1528) loss: 0.885160"
       ]
      },
      {
       "output_type": "stream",
       "stream": "stdout",
       "text": [
        "\n",
        "(Iteration 956 / 1528) loss: 0.917323"
       ]
      },
      {
       "output_type": "stream",
       "stream": "stdout",
       "text": [
        "\n",
        "(Iteration 957 / 1528) loss: 0.854327"
       ]
      },
      {
       "output_type": "stream",
       "stream": "stdout",
       "text": [
        "\n",
        "(Iteration 958 / 1528) loss: 0.816750"
       ]
      },
      {
       "output_type": "stream",
       "stream": "stdout",
       "text": [
        "\n",
        "(Iteration 959 / 1528) loss: 0.835749"
       ]
      },
      {
       "output_type": "stream",
       "stream": "stdout",
       "text": [
        "\n",
        "(Iteration 960 / 1528) loss: 0.935621"
       ]
      },
      {
       "output_type": "stream",
       "stream": "stdout",
       "text": [
        "\n",
        "(Iteration 961 / 1528) loss: 0.733240"
       ]
      },
      {
       "output_type": "stream",
       "stream": "stdout",
       "text": [
        "\n",
        "(Iteration 962 / 1528) loss: 0.890882"
       ]
      },
      {
       "output_type": "stream",
       "stream": "stdout",
       "text": [
        "\n",
        "(Iteration 963 / 1528) loss: 0.872095"
       ]
      },
      {
       "output_type": "stream",
       "stream": "stdout",
       "text": [
        "\n",
        "(Iteration 964 / 1528) loss: 0.748282"
       ]
      },
      {
       "output_type": "stream",
       "stream": "stdout",
       "text": [
        "\n",
        "(Iteration 965 / 1528) loss: 0.817134"
       ]
      },
      {
       "output_type": "stream",
       "stream": "stdout",
       "text": [
        "\n",
        "(Iteration 966 / 1528) loss: 0.829553"
       ]
      },
      {
       "output_type": "stream",
       "stream": "stdout",
       "text": [
        "\n",
        "(Iteration 967 / 1528) loss: 0.871991"
       ]
      },
      {
       "output_type": "stream",
       "stream": "stdout",
       "text": [
        "\n",
        "(Iteration 968 / 1528) loss: 0.719236"
       ]
      },
      {
       "output_type": "stream",
       "stream": "stdout",
       "text": [
        "\n",
        "(Iteration 969 / 1528) loss: 0.818446"
       ]
      },
      {
       "output_type": "stream",
       "stream": "stdout",
       "text": [
        "\n",
        "(Iteration 970 / 1528) loss: 1.203451"
       ]
      },
      {
       "output_type": "stream",
       "stream": "stdout",
       "text": [
        "\n",
        "(Iteration 971 / 1528) loss: 0.740375"
       ]
      },
      {
       "output_type": "stream",
       "stream": "stdout",
       "text": [
        "\n",
        "(Iteration 972 / 1528) loss: 0.898040"
       ]
      },
      {
       "output_type": "stream",
       "stream": "stdout",
       "text": [
        "\n",
        "(Iteration 973 / 1528) loss: 0.852254"
       ]
      },
      {
       "output_type": "stream",
       "stream": "stdout",
       "text": [
        "\n",
        "(Iteration 974 / 1528) loss: 0.966699"
       ]
      },
      {
       "output_type": "stream",
       "stream": "stdout",
       "text": [
        "\n",
        "(Iteration 975 / 1528) loss: 0.786649"
       ]
      },
      {
       "output_type": "stream",
       "stream": "stdout",
       "text": [
        "\n",
        "(Iteration 976 / 1528) loss: 0.753502"
       ]
      },
      {
       "output_type": "stream",
       "stream": "stdout",
       "text": [
        "\n",
        "(Iteration 977 / 1528) loss: 0.961144"
       ]
      },
      {
       "output_type": "stream",
       "stream": "stdout",
       "text": [
        "\n",
        "(Iteration 978 / 1528) loss: 1.050220"
       ]
      },
      {
       "output_type": "stream",
       "stream": "stdout",
       "text": [
        "\n",
        "(Iteration 979 / 1528) loss: 0.835107"
       ]
      },
      {
       "output_type": "stream",
       "stream": "stdout",
       "text": [
        "\n",
        "(Iteration 980 / 1528) loss: 0.857724"
       ]
      },
      {
       "output_type": "stream",
       "stream": "stdout",
       "text": [
        "\n",
        "(Iteration 981 / 1528) loss: 0.790139"
       ]
      },
      {
       "output_type": "stream",
       "stream": "stdout",
       "text": [
        "\n",
        "(Iteration 982 / 1528) loss: 0.914841"
       ]
      },
      {
       "output_type": "stream",
       "stream": "stdout",
       "text": [
        "\n",
        "(Iteration 983 / 1528) loss: 0.904023"
       ]
      },
      {
       "output_type": "stream",
       "stream": "stdout",
       "text": [
        "\n",
        "(Iteration 984 / 1528) loss: 0.919443"
       ]
      },
      {
       "output_type": "stream",
       "stream": "stdout",
       "text": [
        "\n",
        "(Iteration 985 / 1528) loss: 1.003108"
       ]
      },
      {
       "output_type": "stream",
       "stream": "stdout",
       "text": [
        "\n",
        "(Iteration 986 / 1528) loss: 1.022410"
       ]
      },
      {
       "output_type": "stream",
       "stream": "stdout",
       "text": [
        "\n",
        "(Iteration 987 / 1528) loss: 0.870699"
       ]
      },
      {
       "output_type": "stream",
       "stream": "stdout",
       "text": [
        "\n",
        "(Iteration 988 / 1528) loss: 0.801476"
       ]
      },
      {
       "output_type": "stream",
       "stream": "stdout",
       "text": [
        "\n",
        "(Iteration 989 / 1528) loss: 0.640945"
       ]
      },
      {
       "output_type": "stream",
       "stream": "stdout",
       "text": [
        "\n",
        "(Iteration 990 / 1528) loss: 0.949537"
       ]
      },
      {
       "output_type": "stream",
       "stream": "stdout",
       "text": [
        "\n",
        "(Iteration 991 / 1528) loss: 0.735808"
       ]
      },
      {
       "output_type": "stream",
       "stream": "stdout",
       "text": [
        "\n",
        "(Iteration 992 / 1528) loss: 1.019829"
       ]
      },
      {
       "output_type": "stream",
       "stream": "stdout",
       "text": [
        "\n",
        "(Iteration 993 / 1528) loss: 0.937341"
       ]
      },
      {
       "output_type": "stream",
       "stream": "stdout",
       "text": [
        "\n",
        "(Iteration 994 / 1528) loss: 0.910968"
       ]
      },
      {
       "output_type": "stream",
       "stream": "stdout",
       "text": [
        "\n",
        "(Iteration 995 / 1528) loss: 0.970177"
       ]
      },
      {
       "output_type": "stream",
       "stream": "stdout",
       "text": [
        "\n",
        "(Iteration 996 / 1528) loss: 1.014574"
       ]
      },
      {
       "output_type": "stream",
       "stream": "stdout",
       "text": [
        "\n",
        "(Iteration 997 / 1528) loss: 0.834716"
       ]
      },
      {
       "output_type": "stream",
       "stream": "stdout",
       "text": [
        "\n",
        "(Iteration 998 / 1528) loss: 0.920886"
       ]
      },
      {
       "output_type": "stream",
       "stream": "stdout",
       "text": [
        "\n",
        "(Iteration 999 / 1528) loss: 0.822304"
       ]
      },
      {
       "output_type": "stream",
       "stream": "stdout",
       "text": [
        "\n",
        "(Iteration 1000 / 1528) loss: 0.957810"
       ]
      },
      {
       "output_type": "stream",
       "stream": "stdout",
       "text": [
        "\n",
        "(Iteration 1001 / 1528) loss: 0.792876"
       ]
      },
      {
       "output_type": "stream",
       "stream": "stdout",
       "text": [
        "\n",
        "(Iteration 1002 / 1528) loss: 0.749455"
       ]
      },
      {
       "output_type": "stream",
       "stream": "stdout",
       "text": [
        "\n",
        "(Iteration 1003 / 1528) loss: 0.741193"
       ]
      },
      {
       "output_type": "stream",
       "stream": "stdout",
       "text": [
        "\n",
        "(Iteration 1004 / 1528) loss: 0.789412"
       ]
      },
      {
       "output_type": "stream",
       "stream": "stdout",
       "text": [
        "\n",
        "(Iteration 1005 / 1528) loss: 0.862415"
       ]
      },
      {
       "output_type": "stream",
       "stream": "stdout",
       "text": [
        "\n",
        "(Iteration 1006 / 1528) loss: 0.724006"
       ]
      },
      {
       "output_type": "stream",
       "stream": "stdout",
       "text": [
        "\n",
        "(Iteration 1007 / 1528) loss: 0.900913"
       ]
      },
      {
       "output_type": "stream",
       "stream": "stdout",
       "text": [
        "\n",
        "(Iteration 1008 / 1528) loss: 1.027307"
       ]
      },
      {
       "output_type": "stream",
       "stream": "stdout",
       "text": [
        "\n",
        "(Iteration 1009 / 1528) loss: 0.830321"
       ]
      },
      {
       "output_type": "stream",
       "stream": "stdout",
       "text": [
        "\n",
        "(Iteration 1010 / 1528) loss: 0.887864"
       ]
      },
      {
       "output_type": "stream",
       "stream": "stdout",
       "text": [
        "\n",
        "(Iteration 1011 / 1528) loss: 0.887182"
       ]
      },
      {
       "output_type": "stream",
       "stream": "stdout",
       "text": [
        "\n",
        "(Iteration 1012 / 1528) loss: 0.798595"
       ]
      },
      {
       "output_type": "stream",
       "stream": "stdout",
       "text": [
        "\n",
        "(Iteration 1013 / 1528) loss: 0.934632"
       ]
      },
      {
       "output_type": "stream",
       "stream": "stdout",
       "text": [
        "\n",
        "(Iteration 1014 / 1528) loss: 0.982983"
       ]
      },
      {
       "output_type": "stream",
       "stream": "stdout",
       "text": [
        "\n",
        "(Iteration 1015 / 1528) loss: 0.810797"
       ]
      },
      {
       "output_type": "stream",
       "stream": "stdout",
       "text": [
        "\n",
        "(Iteration 1016 / 1528) loss: 0.989006"
       ]
      },
      {
       "output_type": "stream",
       "stream": "stdout",
       "text": [
        "\n",
        "(Iteration 1017 / 1528) loss: 0.870172"
       ]
      },
      {
       "output_type": "stream",
       "stream": "stdout",
       "text": [
        "\n",
        "(Iteration 1018 / 1528) loss: 0.849851"
       ]
      },
      {
       "output_type": "stream",
       "stream": "stdout",
       "text": [
        "\n",
        "(Iteration 1019 / 1528) loss: 0.856659"
       ]
      },
      {
       "output_type": "stream",
       "stream": "stdout",
       "text": [
        "\n",
        "(Iteration 1020 / 1528) loss: 0.827435"
       ]
      },
      {
       "output_type": "stream",
       "stream": "stdout",
       "text": [
        "\n",
        "(Iteration 1021 / 1528) loss: 0.685526"
       ]
      },
      {
       "output_type": "stream",
       "stream": "stdout",
       "text": [
        "\n",
        "(Iteration 1022 / 1528) loss: 0.945459"
       ]
      },
      {
       "output_type": "stream",
       "stream": "stdout",
       "text": [
        "\n",
        "(Iteration 1023 / 1528) loss: 0.711834"
       ]
      },
      {
       "output_type": "stream",
       "stream": "stdout",
       "text": [
        "\n",
        "(Iteration 1024 / 1528) loss: 0.756994"
       ]
      },
      {
       "output_type": "stream",
       "stream": "stdout",
       "text": [
        "\n",
        "(Iteration 1025 / 1528) loss: 0.793635"
       ]
      },
      {
       "output_type": "stream",
       "stream": "stdout",
       "text": [
        "\n",
        "(Iteration 1026 / 1528) loss: 0.803136"
       ]
      },
      {
       "output_type": "stream",
       "stream": "stdout",
       "text": [
        "\n",
        "(Iteration 1027 / 1528) loss: 0.754601"
       ]
      },
      {
       "output_type": "stream",
       "stream": "stdout",
       "text": [
        "\n",
        "(Iteration 1028 / 1528) loss: 0.621564"
       ]
      },
      {
       "output_type": "stream",
       "stream": "stdout",
       "text": [
        "\n",
        "(Iteration 1029 / 1528) loss: 0.844185"
       ]
      },
      {
       "output_type": "stream",
       "stream": "stdout",
       "text": [
        "\n",
        "(Iteration 1030 / 1528) loss: 0.863914"
       ]
      },
      {
       "output_type": "stream",
       "stream": "stdout",
       "text": [
        "\n",
        "(Iteration 1031 / 1528) loss: 0.908751"
       ]
      },
      {
       "output_type": "stream",
       "stream": "stdout",
       "text": [
        "\n",
        "(Iteration 1032 / 1528) loss: 0.879599"
       ]
      },
      {
       "output_type": "stream",
       "stream": "stdout",
       "text": [
        "\n",
        "(Iteration 1033 / 1528) loss: 0.852893"
       ]
      },
      {
       "output_type": "stream",
       "stream": "stdout",
       "text": [
        "\n",
        "(Iteration 1034 / 1528) loss: 0.778242"
       ]
      },
      {
       "output_type": "stream",
       "stream": "stdout",
       "text": [
        "\n",
        "(Iteration 1035 / 1528) loss: 0.716832"
       ]
      },
      {
       "output_type": "stream",
       "stream": "stdout",
       "text": [
        "\n",
        "(Iteration 1036 / 1528) loss: 0.818263"
       ]
      },
      {
       "output_type": "stream",
       "stream": "stdout",
       "text": [
        "\n",
        "(Iteration 1037 / 1528) loss: 0.888034"
       ]
      },
      {
       "output_type": "stream",
       "stream": "stdout",
       "text": [
        "\n",
        "(Iteration 1038 / 1528) loss: 0.842658"
       ]
      },
      {
       "output_type": "stream",
       "stream": "stdout",
       "text": [
        "\n",
        "(Iteration 1039 / 1528) loss: 0.770537"
       ]
      },
      {
       "output_type": "stream",
       "stream": "stdout",
       "text": [
        "\n",
        "(Iteration 1040 / 1528) loss: 0.875676"
       ]
      },
      {
       "output_type": "stream",
       "stream": "stdout",
       "text": [
        "\n",
        "(Iteration 1041 / 1528) loss: 0.825278"
       ]
      },
      {
       "output_type": "stream",
       "stream": "stdout",
       "text": [
        "\n",
        "(Iteration 1042 / 1528) loss: 0.837335"
       ]
      },
      {
       "output_type": "stream",
       "stream": "stdout",
       "text": [
        "\n",
        "(Iteration 1043 / 1528) loss: 0.843718"
       ]
      },
      {
       "output_type": "stream",
       "stream": "stdout",
       "text": [
        "\n",
        "(Iteration 1044 / 1528) loss: 0.828995"
       ]
      },
      {
       "output_type": "stream",
       "stream": "stdout",
       "text": [
        "\n",
        "(Iteration 1045 / 1528) loss: 0.762836"
       ]
      },
      {
       "output_type": "stream",
       "stream": "stdout",
       "text": [
        "\n",
        "(Iteration 1046 / 1528) loss: 0.897875"
       ]
      },
      {
       "output_type": "stream",
       "stream": "stdout",
       "text": [
        "\n",
        "(Iteration 1047 / 1528) loss: 0.774194"
       ]
      },
      {
       "output_type": "stream",
       "stream": "stdout",
       "text": [
        "\n",
        "(Iteration 1048 / 1528) loss: 0.820598"
       ]
      },
      {
       "output_type": "stream",
       "stream": "stdout",
       "text": [
        "\n",
        "(Iteration 1049 / 1528) loss: 1.082496"
       ]
      },
      {
       "output_type": "stream",
       "stream": "stdout",
       "text": [
        "\n",
        "(Iteration 1050 / 1528) loss: 0.780620"
       ]
      },
      {
       "output_type": "stream",
       "stream": "stdout",
       "text": [
        "\n",
        "(Iteration 1051 / 1528) loss: 0.964868"
       ]
      },
      {
       "output_type": "stream",
       "stream": "stdout",
       "text": [
        "\n",
        "(Iteration 1052 / 1528) loss: 0.841333"
       ]
      },
      {
       "output_type": "stream",
       "stream": "stdout",
       "text": [
        "\n",
        "(Iteration 1053 / 1528) loss: 0.746772"
       ]
      },
      {
       "output_type": "stream",
       "stream": "stdout",
       "text": [
        "\n",
        "(Iteration 1054 / 1528) loss: 1.062993"
       ]
      },
      {
       "output_type": "stream",
       "stream": "stdout",
       "text": [
        "\n",
        "(Iteration 1055 / 1528) loss: 0.967394"
       ]
      },
      {
       "output_type": "stream",
       "stream": "stdout",
       "text": [
        "\n",
        "(Iteration 1056 / 1528) loss: 0.880387"
       ]
      },
      {
       "output_type": "stream",
       "stream": "stdout",
       "text": [
        "\n",
        "(Iteration 1057 / 1528) loss: 0.736249"
       ]
      },
      {
       "output_type": "stream",
       "stream": "stdout",
       "text": [
        "\n",
        "(Iteration 1058 / 1528) loss: 0.882730"
       ]
      },
      {
       "output_type": "stream",
       "stream": "stdout",
       "text": [
        "\n",
        "(Iteration 1059 / 1528) loss: 0.788569"
       ]
      },
      {
       "output_type": "stream",
       "stream": "stdout",
       "text": [
        "\n",
        "(Iteration 1060 / 1528) loss: 0.866719"
       ]
      },
      {
       "output_type": "stream",
       "stream": "stdout",
       "text": [
        "\n",
        "(Iteration 1061 / 1528) loss: 0.943416"
       ]
      },
      {
       "output_type": "stream",
       "stream": "stdout",
       "text": [
        "\n",
        "(Iteration 1062 / 1528) loss: 0.980375"
       ]
      },
      {
       "output_type": "stream",
       "stream": "stdout",
       "text": [
        "\n",
        "(Iteration 1063 / 1528) loss: 0.894470"
       ]
      },
      {
       "output_type": "stream",
       "stream": "stdout",
       "text": [
        "\n",
        "(Iteration 1064 / 1528) loss: 0.867787"
       ]
      },
      {
       "output_type": "stream",
       "stream": "stdout",
       "text": [
        "\n",
        "(Iteration 1065 / 1528) loss: 1.013032"
       ]
      },
      {
       "output_type": "stream",
       "stream": "stdout",
       "text": [
        "\n",
        "(Iteration 1066 / 1528) loss: 0.958553"
       ]
      },
      {
       "output_type": "stream",
       "stream": "stdout",
       "text": [
        "\n",
        "(Iteration 1067 / 1528) loss: 0.822403"
       ]
      },
      {
       "output_type": "stream",
       "stream": "stdout",
       "text": [
        "\n",
        "(Iteration 1068 / 1528) loss: 0.674007"
       ]
      },
      {
       "output_type": "stream",
       "stream": "stdout",
       "text": [
        "\n",
        "(Iteration 1069 / 1528) loss: 0.788157"
       ]
      },
      {
       "output_type": "stream",
       "stream": "stdout",
       "text": [
        "\n",
        "(Iteration 1070 / 1528) loss: 0.815293"
       ]
      },
      {
       "output_type": "stream",
       "stream": "stdout",
       "text": [
        "\n",
        "(Iteration 1071 / 1528) loss: 0.944474"
       ]
      },
      {
       "output_type": "stream",
       "stream": "stdout",
       "text": [
        "\n",
        "(Iteration 1072 / 1528) loss: 0.674985"
       ]
      },
      {
       "output_type": "stream",
       "stream": "stdout",
       "text": [
        "\n",
        "(Iteration 1073 / 1528) loss: 0.836517"
       ]
      },
      {
       "output_type": "stream",
       "stream": "stdout",
       "text": [
        "\n",
        "(Iteration 1074 / 1528) loss: 0.728597"
       ]
      },
      {
       "output_type": "stream",
       "stream": "stdout",
       "text": [
        "\n",
        "(Iteration 1075 / 1528) loss: 1.004939"
       ]
      },
      {
       "output_type": "stream",
       "stream": "stdout",
       "text": [
        "\n",
        "(Iteration 1076 / 1528) loss: 0.776233"
       ]
      },
      {
       "output_type": "stream",
       "stream": "stdout",
       "text": [
        "\n",
        "(Iteration 1077 / 1528) loss: 0.687515"
       ]
      },
      {
       "output_type": "stream",
       "stream": "stdout",
       "text": [
        "\n",
        "(Iteration 1078 / 1528) loss: 0.867014"
       ]
      },
      {
       "output_type": "stream",
       "stream": "stdout",
       "text": [
        "\n",
        "(Iteration 1079 / 1528) loss: 0.868542"
       ]
      },
      {
       "output_type": "stream",
       "stream": "stdout",
       "text": [
        "\n",
        "(Iteration 1080 / 1528) loss: 0.877652"
       ]
      },
      {
       "output_type": "stream",
       "stream": "stdout",
       "text": [
        "\n",
        "(Iteration 1081 / 1528) loss: 0.975651"
       ]
      },
      {
       "output_type": "stream",
       "stream": "stdout",
       "text": [
        "\n",
        "(Iteration 1082 / 1528) loss: 0.900821"
       ]
      },
      {
       "output_type": "stream",
       "stream": "stdout",
       "text": [
        "\n",
        "(Iteration 1083 / 1528) loss: 0.727556"
       ]
      },
      {
       "output_type": "stream",
       "stream": "stdout",
       "text": [
        "\n",
        "(Iteration 1084 / 1528) loss: 0.872194"
       ]
      },
      {
       "output_type": "stream",
       "stream": "stdout",
       "text": [
        "\n",
        "(Iteration 1085 / 1528) loss: 0.796959"
       ]
      },
      {
       "output_type": "stream",
       "stream": "stdout",
       "text": [
        "\n",
        "(Iteration 1086 / 1528) loss: 0.746780"
       ]
      },
      {
       "output_type": "stream",
       "stream": "stdout",
       "text": [
        "\n",
        "(Iteration 1087 / 1528) loss: 0.858360"
       ]
      },
      {
       "output_type": "stream",
       "stream": "stdout",
       "text": [
        "\n",
        "(Iteration 1088 / 1528) loss: 0.889465"
       ]
      },
      {
       "output_type": "stream",
       "stream": "stdout",
       "text": [
        "\n",
        "(Iteration 1089 / 1528) loss: 0.781468"
       ]
      },
      {
       "output_type": "stream",
       "stream": "stdout",
       "text": [
        "\n",
        "(Iteration 1090 / 1528) loss: 0.785560"
       ]
      },
      {
       "output_type": "stream",
       "stream": "stdout",
       "text": [
        "\n",
        "(Iteration 1091 / 1528) loss: 0.846025"
       ]
      },
      {
       "output_type": "stream",
       "stream": "stdout",
       "text": [
        "\n",
        "(Iteration 1092 / 1528) loss: 0.819279"
       ]
      },
      {
       "output_type": "stream",
       "stream": "stdout",
       "text": [
        "\n",
        "(Iteration 1093 / 1528) loss: 0.917993"
       ]
      },
      {
       "output_type": "stream",
       "stream": "stdout",
       "text": [
        "\n",
        "(Iteration 1094 / 1528) loss: 0.917430"
       ]
      },
      {
       "output_type": "stream",
       "stream": "stdout",
       "text": [
        "\n",
        "(Iteration 1095 / 1528) loss: 0.702960"
       ]
      },
      {
       "output_type": "stream",
       "stream": "stdout",
       "text": [
        "\n",
        "(Iteration 1096 / 1528) loss: 0.999250"
       ]
      },
      {
       "output_type": "stream",
       "stream": "stdout",
       "text": [
        "\n",
        "(Iteration 1097 / 1528) loss: 0.742071"
       ]
      },
      {
       "output_type": "stream",
       "stream": "stdout",
       "text": [
        "\n",
        "(Iteration 1098 / 1528) loss: 0.885453"
       ]
      },
      {
       "output_type": "stream",
       "stream": "stdout",
       "text": [
        "\n",
        "(Iteration 1099 / 1528) loss: 0.881839"
       ]
      },
      {
       "output_type": "stream",
       "stream": "stdout",
       "text": [
        "\n",
        "(Iteration 1100 / 1528) loss: 0.951625"
       ]
      },
      {
       "output_type": "stream",
       "stream": "stdout",
       "text": [
        "\n",
        "(Iteration 1101 / 1528) loss: 0.669646"
       ]
      },
      {
       "output_type": "stream",
       "stream": "stdout",
       "text": [
        "\n",
        "(Iteration 1102 / 1528) loss: 0.899499"
       ]
      },
      {
       "output_type": "stream",
       "stream": "stdout",
       "text": [
        "\n",
        "(Iteration 1103 / 1528) loss: 0.750428"
       ]
      },
      {
       "output_type": "stream",
       "stream": "stdout",
       "text": [
        "\n",
        "(Iteration 1104 / 1528) loss: 0.924989"
       ]
      },
      {
       "output_type": "stream",
       "stream": "stdout",
       "text": [
        "\n",
        "(Iteration 1105 / 1528) loss: 0.773410"
       ]
      },
      {
       "output_type": "stream",
       "stream": "stdout",
       "text": [
        "\n",
        "(Iteration 1106 / 1528) loss: 0.727399"
       ]
      },
      {
       "output_type": "stream",
       "stream": "stdout",
       "text": [
        "\n",
        "(Iteration 1107 / 1528) loss: 0.764538"
       ]
      },
      {
       "output_type": "stream",
       "stream": "stdout",
       "text": [
        "\n",
        "(Iteration 1108 / 1528) loss: 0.723562"
       ]
      },
      {
       "output_type": "stream",
       "stream": "stdout",
       "text": [
        "\n",
        "(Iteration 1109 / 1528) loss: 0.733440"
       ]
      },
      {
       "output_type": "stream",
       "stream": "stdout",
       "text": [
        "\n",
        "(Iteration 1110 / 1528) loss: 1.033039"
       ]
      },
      {
       "output_type": "stream",
       "stream": "stdout",
       "text": [
        "\n",
        "(Iteration 1111 / 1528) loss: 0.882748"
       ]
      },
      {
       "output_type": "stream",
       "stream": "stdout",
       "text": [
        "\n",
        "(Iteration 1112 / 1528) loss: 0.809239"
       ]
      },
      {
       "output_type": "stream",
       "stream": "stdout",
       "text": [
        "\n",
        "(Iteration 1113 / 1528) loss: 0.650361"
       ]
      },
      {
       "output_type": "stream",
       "stream": "stdout",
       "text": [
        "\n",
        "(Iteration 1114 / 1528) loss: 0.664175"
       ]
      },
      {
       "output_type": "stream",
       "stream": "stdout",
       "text": [
        "\n",
        "(Iteration 1115 / 1528) loss: 0.705896"
       ]
      },
      {
       "output_type": "stream",
       "stream": "stdout",
       "text": [
        "\n",
        "(Iteration 1116 / 1528) loss: 0.814033"
       ]
      },
      {
       "output_type": "stream",
       "stream": "stdout",
       "text": [
        "\n",
        "(Iteration 1117 / 1528) loss: 0.825020"
       ]
      },
      {
       "output_type": "stream",
       "stream": "stdout",
       "text": [
        "\n",
        "(Iteration 1118 / 1528) loss: 0.801012"
       ]
      },
      {
       "output_type": "stream",
       "stream": "stdout",
       "text": [
        "\n",
        "(Iteration 1119 / 1528) loss: 0.776599"
       ]
      },
      {
       "output_type": "stream",
       "stream": "stdout",
       "text": [
        "\n",
        "(Iteration 1120 / 1528) loss: 0.881245"
       ]
      },
      {
       "output_type": "stream",
       "stream": "stdout",
       "text": [
        "\n",
        "(Iteration 1121 / 1528) loss: 0.760616"
       ]
      },
      {
       "output_type": "stream",
       "stream": "stdout",
       "text": [
        "\n",
        "(Iteration 1122 / 1528) loss: 0.805824"
       ]
      },
      {
       "output_type": "stream",
       "stream": "stdout",
       "text": [
        "\n",
        "(Iteration 1123 / 1528) loss: 0.713117"
       ]
      },
      {
       "output_type": "stream",
       "stream": "stdout",
       "text": [
        "\n",
        "(Iteration 1124 / 1528) loss: 0.911370"
       ]
      },
      {
       "output_type": "stream",
       "stream": "stdout",
       "text": [
        "\n",
        "(Iteration 1125 / 1528) loss: 0.689923"
       ]
      },
      {
       "output_type": "stream",
       "stream": "stdout",
       "text": [
        "\n",
        "(Iteration 1126 / 1528) loss: 0.926707"
       ]
      },
      {
       "output_type": "stream",
       "stream": "stdout",
       "text": [
        "\n",
        "(Iteration 1127 / 1528) loss: 0.862149"
       ]
      },
      {
       "output_type": "stream",
       "stream": "stdout",
       "text": [
        "\n",
        "(Iteration 1128 / 1528) loss: 0.875157"
       ]
      },
      {
       "output_type": "stream",
       "stream": "stdout",
       "text": [
        "\n",
        "(Iteration 1129 / 1528) loss: 0.839414"
       ]
      },
      {
       "output_type": "stream",
       "stream": "stdout",
       "text": [
        "\n",
        "(Iteration 1130 / 1528) loss: 1.106272"
       ]
      },
      {
       "output_type": "stream",
       "stream": "stdout",
       "text": [
        "\n",
        "(Iteration 1131 / 1528) loss: 0.949596"
       ]
      },
      {
       "output_type": "stream",
       "stream": "stdout",
       "text": [
        "\n",
        "(Iteration 1132 / 1528) loss: 0.976045"
       ]
      },
      {
       "output_type": "stream",
       "stream": "stdout",
       "text": [
        "\n",
        "(Iteration 1133 / 1528) loss: 0.806659"
       ]
      },
      {
       "output_type": "stream",
       "stream": "stdout",
       "text": [
        "\n",
        "(Iteration 1134 / 1528) loss: 0.794076"
       ]
      },
      {
       "output_type": "stream",
       "stream": "stdout",
       "text": [
        "\n",
        "(Iteration 1135 / 1528) loss: 0.837023"
       ]
      },
      {
       "output_type": "stream",
       "stream": "stdout",
       "text": [
        "\n",
        "(Iteration 1136 / 1528) loss: 0.867495"
       ]
      },
      {
       "output_type": "stream",
       "stream": "stdout",
       "text": [
        "\n",
        "(Iteration 1137 / 1528) loss: 0.851685"
       ]
      },
      {
       "output_type": "stream",
       "stream": "stdout",
       "text": [
        "\n",
        "(Iteration 1138 / 1528) loss: 0.804467"
       ]
      },
      {
       "output_type": "stream",
       "stream": "stdout",
       "text": [
        "\n",
        "(Iteration 1139 / 1528) loss: 0.737396"
       ]
      },
      {
       "output_type": "stream",
       "stream": "stdout",
       "text": [
        "\n",
        "(Iteration 1140 / 1528) loss: 0.757567"
       ]
      },
      {
       "output_type": "stream",
       "stream": "stdout",
       "text": [
        "\n",
        "(Iteration 1141 / 1528) loss: 0.776207"
       ]
      },
      {
       "output_type": "stream",
       "stream": "stdout",
       "text": [
        "\n",
        "(Iteration 1142 / 1528) loss: 0.643028"
       ]
      },
      {
       "output_type": "stream",
       "stream": "stdout",
       "text": [
        "\n",
        "(Iteration 1143 / 1528) loss: 0.747755"
       ]
      },
      {
       "output_type": "stream",
       "stream": "stdout",
       "text": [
        "\n",
        "(Iteration 1144 / 1528) loss: 0.950824"
       ]
      },
      {
       "output_type": "stream",
       "stream": "stdout",
       "text": [
        "\n",
        "(Iteration 1145 / 1528) loss: 0.755168"
       ]
      },
      {
       "output_type": "stream",
       "stream": "stdout",
       "text": [
        "\n",
        "(Iteration 1146 / 1528) loss: 0.911504"
       ]
      },
      {
       "output_type": "stream",
       "stream": "stdout",
       "text": [
        "\n",
        "(Epoch 3 / 4) train acc: 0.737000; val_acc: 0.674000"
       ]
      },
      {
       "output_type": "stream",
       "stream": "stdout",
       "text": [
        "\n",
        "(Iteration 1147 / 1528) loss: 0.931997"
       ]
      },
      {
       "output_type": "stream",
       "stream": "stdout",
       "text": [
        "\n",
        "(Iteration 1148 / 1528) loss: 0.855540"
       ]
      },
      {
       "output_type": "stream",
       "stream": "stdout",
       "text": [
        "\n",
        "(Iteration 1149 / 1528) loss: 0.914194"
       ]
      },
      {
       "output_type": "stream",
       "stream": "stdout",
       "text": [
        "\n",
        "(Iteration 1150 / 1528) loss: 0.938267"
       ]
      },
      {
       "output_type": "stream",
       "stream": "stdout",
       "text": [
        "\n",
        "(Iteration 1151 / 1528) loss: 0.696192"
       ]
      },
      {
       "output_type": "stream",
       "stream": "stdout",
       "text": [
        "\n",
        "(Iteration 1152 / 1528) loss: 0.846044"
       ]
      },
      {
       "output_type": "stream",
       "stream": "stdout",
       "text": [
        "\n",
        "(Iteration 1153 / 1528) loss: 0.773341"
       ]
      },
      {
       "output_type": "stream",
       "stream": "stdout",
       "text": [
        "\n",
        "(Iteration 1154 / 1528) loss: 0.826844"
       ]
      },
      {
       "output_type": "stream",
       "stream": "stdout",
       "text": [
        "\n",
        "(Iteration 1155 / 1528) loss: 0.935125"
       ]
      },
      {
       "output_type": "stream",
       "stream": "stdout",
       "text": [
        "\n",
        "(Iteration 1156 / 1528) loss: 0.846063"
       ]
      },
      {
       "output_type": "stream",
       "stream": "stdout",
       "text": [
        "\n",
        "(Iteration 1157 / 1528) loss: 0.737161"
       ]
      },
      {
       "output_type": "stream",
       "stream": "stdout",
       "text": [
        "\n",
        "(Iteration 1158 / 1528) loss: 0.829489"
       ]
      },
      {
       "output_type": "stream",
       "stream": "stdout",
       "text": [
        "\n",
        "(Iteration 1159 / 1528) loss: 0.770315"
       ]
      },
      {
       "output_type": "stream",
       "stream": "stdout",
       "text": [
        "\n",
        "(Iteration 1160 / 1528) loss: 0.754994"
       ]
      },
      {
       "output_type": "stream",
       "stream": "stdout",
       "text": [
        "\n",
        "(Iteration 1161 / 1528) loss: 0.779539"
       ]
      },
      {
       "output_type": "stream",
       "stream": "stdout",
       "text": [
        "\n",
        "(Iteration 1162 / 1528) loss: 0.889130"
       ]
      },
      {
       "output_type": "stream",
       "stream": "stdout",
       "text": [
        "\n",
        "(Iteration 1163 / 1528) loss: 0.895057"
       ]
      },
      {
       "output_type": "stream",
       "stream": "stdout",
       "text": [
        "\n",
        "(Iteration 1164 / 1528) loss: 0.764519"
       ]
      },
      {
       "output_type": "stream",
       "stream": "stdout",
       "text": [
        "\n",
        "(Iteration 1165 / 1528) loss: 0.824364"
       ]
      },
      {
       "output_type": "stream",
       "stream": "stdout",
       "text": [
        "\n",
        "(Iteration 1166 / 1528) loss: 0.744662"
       ]
      },
      {
       "output_type": "stream",
       "stream": "stdout",
       "text": [
        "\n",
        "(Iteration 1167 / 1528) loss: 0.888486"
       ]
      },
      {
       "output_type": "stream",
       "stream": "stdout",
       "text": [
        "\n",
        "(Iteration 1168 / 1528) loss: 0.844339"
       ]
      },
      {
       "output_type": "stream",
       "stream": "stdout",
       "text": [
        "\n",
        "(Iteration 1169 / 1528) loss: 0.728387"
       ]
      },
      {
       "output_type": "stream",
       "stream": "stdout",
       "text": [
        "\n",
        "(Iteration 1170 / 1528) loss: 0.930642"
       ]
      },
      {
       "output_type": "stream",
       "stream": "stdout",
       "text": [
        "\n",
        "(Iteration 1171 / 1528) loss: 0.804776"
       ]
      },
      {
       "output_type": "stream",
       "stream": "stdout",
       "text": [
        "\n",
        "(Iteration 1172 / 1528) loss: 0.883889"
       ]
      },
      {
       "output_type": "stream",
       "stream": "stdout",
       "text": [
        "\n",
        "(Iteration 1173 / 1528) loss: 0.735897"
       ]
      },
      {
       "output_type": "stream",
       "stream": "stdout",
       "text": [
        "\n",
        "(Iteration 1174 / 1528) loss: 0.819989"
       ]
      },
      {
       "output_type": "stream",
       "stream": "stdout",
       "text": [
        "\n",
        "(Iteration 1175 / 1528) loss: 0.809896"
       ]
      },
      {
       "output_type": "stream",
       "stream": "stdout",
       "text": [
        "\n",
        "(Iteration 1176 / 1528) loss: 0.877300"
       ]
      },
      {
       "output_type": "stream",
       "stream": "stdout",
       "text": [
        "\n",
        "(Iteration 1177 / 1528) loss: 0.823745"
       ]
      },
      {
       "output_type": "stream",
       "stream": "stdout",
       "text": [
        "\n",
        "(Iteration 1178 / 1528) loss: 0.832634"
       ]
      },
      {
       "output_type": "stream",
       "stream": "stdout",
       "text": [
        "\n",
        "(Iteration 1179 / 1528) loss: 0.863500"
       ]
      },
      {
       "output_type": "stream",
       "stream": "stdout",
       "text": [
        "\n",
        "(Iteration 1180 / 1528) loss: 0.809472"
       ]
      },
      {
       "output_type": "stream",
       "stream": "stdout",
       "text": [
        "\n",
        "(Iteration 1181 / 1528) loss: 0.720702"
       ]
      },
      {
       "output_type": "stream",
       "stream": "stdout",
       "text": [
        "\n",
        "(Iteration 1182 / 1528) loss: 0.668006"
       ]
      },
      {
       "output_type": "stream",
       "stream": "stdout",
       "text": [
        "\n",
        "(Iteration 1183 / 1528) loss: 0.811964"
       ]
      },
      {
       "output_type": "stream",
       "stream": "stdout",
       "text": [
        "\n",
        "(Iteration 1184 / 1528) loss: 0.883592"
       ]
      },
      {
       "output_type": "stream",
       "stream": "stdout",
       "text": [
        "\n",
        "(Iteration 1185 / 1528) loss: 0.850296"
       ]
      },
      {
       "output_type": "stream",
       "stream": "stdout",
       "text": [
        "\n",
        "(Iteration 1186 / 1528) loss: 0.761163"
       ]
      },
      {
       "output_type": "stream",
       "stream": "stdout",
       "text": [
        "\n",
        "(Iteration 1187 / 1528) loss: 0.963221"
       ]
      },
      {
       "output_type": "stream",
       "stream": "stdout",
       "text": [
        "\n",
        "(Iteration 1188 / 1528) loss: 0.789841"
       ]
      },
      {
       "output_type": "stream",
       "stream": "stdout",
       "text": [
        "\n",
        "(Iteration 1189 / 1528) loss: 0.900734"
       ]
      },
      {
       "output_type": "stream",
       "stream": "stdout",
       "text": [
        "\n",
        "(Iteration 1190 / 1528) loss: 0.830971"
       ]
      },
      {
       "output_type": "stream",
       "stream": "stdout",
       "text": [
        "\n",
        "(Iteration 1191 / 1528) loss: 0.880473"
       ]
      },
      {
       "output_type": "stream",
       "stream": "stdout",
       "text": [
        "\n",
        "(Iteration 1192 / 1528) loss: 0.630611"
       ]
      },
      {
       "output_type": "stream",
       "stream": "stdout",
       "text": [
        "\n",
        "(Iteration 1193 / 1528) loss: 0.865878"
       ]
      },
      {
       "output_type": "stream",
       "stream": "stdout",
       "text": [
        "\n",
        "(Iteration 1194 / 1528) loss: 0.819044"
       ]
      },
      {
       "output_type": "stream",
       "stream": "stdout",
       "text": [
        "\n",
        "(Iteration 1195 / 1528) loss: 0.821126"
       ]
      },
      {
       "output_type": "stream",
       "stream": "stdout",
       "text": [
        "\n",
        "(Iteration 1196 / 1528) loss: 0.869601"
       ]
      },
      {
       "output_type": "stream",
       "stream": "stdout",
       "text": [
        "\n",
        "(Iteration 1197 / 1528) loss: 0.773016"
       ]
      },
      {
       "output_type": "stream",
       "stream": "stdout",
       "text": [
        "\n",
        "(Iteration 1198 / 1528) loss: 0.899698"
       ]
      },
      {
       "output_type": "stream",
       "stream": "stdout",
       "text": [
        "\n",
        "(Iteration 1199 / 1528) loss: 0.886922"
       ]
      },
      {
       "output_type": "stream",
       "stream": "stdout",
       "text": [
        "\n",
        "(Iteration 1200 / 1528) loss: 0.764417"
       ]
      },
      {
       "output_type": "stream",
       "stream": "stdout",
       "text": [
        "\n",
        "(Iteration 1201 / 1528) loss: 0.729284"
       ]
      },
      {
       "output_type": "stream",
       "stream": "stdout",
       "text": [
        "\n",
        "(Iteration 1202 / 1528) loss: 0.699536"
       ]
      },
      {
       "output_type": "stream",
       "stream": "stdout",
       "text": [
        "\n",
        "(Iteration 1203 / 1528) loss: 0.717635"
       ]
      },
      {
       "output_type": "stream",
       "stream": "stdout",
       "text": [
        "\n",
        "(Iteration 1204 / 1528) loss: 0.827685"
       ]
      },
      {
       "output_type": "stream",
       "stream": "stdout",
       "text": [
        "\n",
        "(Iteration 1205 / 1528) loss: 0.713596"
       ]
      },
      {
       "output_type": "stream",
       "stream": "stdout",
       "text": [
        "\n",
        "(Iteration 1206 / 1528) loss: 0.672198"
       ]
      },
      {
       "output_type": "stream",
       "stream": "stdout",
       "text": [
        "\n",
        "(Iteration 1207 / 1528) loss: 0.665805"
       ]
      },
      {
       "output_type": "stream",
       "stream": "stdout",
       "text": [
        "\n",
        "(Iteration 1208 / 1528) loss: 0.673427"
       ]
      },
      {
       "output_type": "stream",
       "stream": "stdout",
       "text": [
        "\n",
        "(Iteration 1209 / 1528) loss: 0.751241"
       ]
      },
      {
       "output_type": "stream",
       "stream": "stdout",
       "text": [
        "\n",
        "(Iteration 1210 / 1528) loss: 0.796175"
       ]
      },
      {
       "output_type": "stream",
       "stream": "stdout",
       "text": [
        "\n",
        "(Iteration 1211 / 1528) loss: 0.726091"
       ]
      },
      {
       "output_type": "stream",
       "stream": "stdout",
       "text": [
        "\n",
        "(Iteration 1212 / 1528) loss: 0.660053"
       ]
      },
      {
       "output_type": "stream",
       "stream": "stdout",
       "text": [
        "\n",
        "(Iteration 1213 / 1528) loss: 0.775217"
       ]
      },
      {
       "output_type": "stream",
       "stream": "stdout",
       "text": [
        "\n",
        "(Iteration 1214 / 1528) loss: 0.942654"
       ]
      },
      {
       "output_type": "stream",
       "stream": "stdout",
       "text": [
        "\n",
        "(Iteration 1215 / 1528) loss: 0.609089"
       ]
      },
      {
       "output_type": "stream",
       "stream": "stdout",
       "text": [
        "\n",
        "(Iteration 1216 / 1528) loss: 0.870149"
       ]
      },
      {
       "output_type": "stream",
       "stream": "stdout",
       "text": [
        "\n",
        "(Iteration 1217 / 1528) loss: 0.849980"
       ]
      },
      {
       "output_type": "stream",
       "stream": "stdout",
       "text": [
        "\n",
        "(Iteration 1218 / 1528) loss: 0.755067"
       ]
      },
      {
       "output_type": "stream",
       "stream": "stdout",
       "text": [
        "\n",
        "(Iteration 1219 / 1528) loss: 0.684595"
       ]
      },
      {
       "output_type": "stream",
       "stream": "stdout",
       "text": [
        "\n",
        "(Iteration 1220 / 1528) loss: 0.821365"
       ]
      },
      {
       "output_type": "stream",
       "stream": "stdout",
       "text": [
        "\n",
        "(Iteration 1221 / 1528) loss: 0.749088"
       ]
      },
      {
       "output_type": "stream",
       "stream": "stdout",
       "text": [
        "\n",
        "(Iteration 1222 / 1528) loss: 0.577767"
       ]
      },
      {
       "output_type": "stream",
       "stream": "stdout",
       "text": [
        "\n",
        "(Iteration 1223 / 1528) loss: 0.967039"
       ]
      },
      {
       "output_type": "stream",
       "stream": "stdout",
       "text": [
        "\n",
        "(Iteration 1224 / 1528) loss: 0.860367"
       ]
      },
      {
       "output_type": "stream",
       "stream": "stdout",
       "text": [
        "\n",
        "(Iteration 1225 / 1528) loss: 0.887277"
       ]
      },
      {
       "output_type": "stream",
       "stream": "stdout",
       "text": [
        "\n",
        "(Iteration 1226 / 1528) loss: 0.599055"
       ]
      },
      {
       "output_type": "stream",
       "stream": "stdout",
       "text": [
        "\n",
        "(Iteration 1227 / 1528) loss: 0.971697"
       ]
      },
      {
       "output_type": "stream",
       "stream": "stdout",
       "text": [
        "\n",
        "(Iteration 1228 / 1528) loss: 0.688447"
       ]
      },
      {
       "output_type": "stream",
       "stream": "stdout",
       "text": [
        "\n",
        "(Iteration 1229 / 1528) loss: 0.874074"
       ]
      },
      {
       "output_type": "stream",
       "stream": "stdout",
       "text": [
        "\n",
        "(Iteration 1230 / 1528) loss: 0.999557"
       ]
      },
      {
       "output_type": "stream",
       "stream": "stdout",
       "text": [
        "\n",
        "(Iteration 1231 / 1528) loss: 0.807142"
       ]
      },
      {
       "output_type": "stream",
       "stream": "stdout",
       "text": [
        "\n",
        "(Iteration 1232 / 1528) loss: 0.784915"
       ]
      },
      {
       "output_type": "stream",
       "stream": "stdout",
       "text": [
        "\n",
        "(Iteration 1233 / 1528) loss: 0.597626"
       ]
      },
      {
       "output_type": "stream",
       "stream": "stdout",
       "text": [
        "\n",
        "(Iteration 1234 / 1528) loss: 0.802189"
       ]
      },
      {
       "output_type": "stream",
       "stream": "stdout",
       "text": [
        "\n",
        "(Iteration 1235 / 1528) loss: 0.859965"
       ]
      },
      {
       "output_type": "stream",
       "stream": "stdout",
       "text": [
        "\n",
        "(Iteration 1236 / 1528) loss: 0.723762"
       ]
      },
      {
       "output_type": "stream",
       "stream": "stdout",
       "text": [
        "\n",
        "(Iteration 1237 / 1528) loss: 0.682218"
       ]
      },
      {
       "output_type": "stream",
       "stream": "stdout",
       "text": [
        "\n",
        "(Iteration 1238 / 1528) loss: 0.826309"
       ]
      },
      {
       "output_type": "stream",
       "stream": "stdout",
       "text": [
        "\n",
        "(Iteration 1239 / 1528) loss: 0.684107"
       ]
      },
      {
       "output_type": "stream",
       "stream": "stdout",
       "text": [
        "\n",
        "(Iteration 1240 / 1528) loss: 0.711318"
       ]
      },
      {
       "output_type": "stream",
       "stream": "stdout",
       "text": [
        "\n",
        "(Iteration 1241 / 1528) loss: 1.032828"
       ]
      },
      {
       "output_type": "stream",
       "stream": "stdout",
       "text": [
        "\n",
        "(Iteration 1242 / 1528) loss: 0.696364"
       ]
      },
      {
       "output_type": "stream",
       "stream": "stdout",
       "text": [
        "\n",
        "(Iteration 1243 / 1528) loss: 0.918083"
       ]
      },
      {
       "output_type": "stream",
       "stream": "stdout",
       "text": [
        "\n",
        "(Iteration 1244 / 1528) loss: 0.885480"
       ]
      },
      {
       "output_type": "stream",
       "stream": "stdout",
       "text": [
        "\n",
        "(Iteration 1245 / 1528) loss: 0.866344"
       ]
      },
      {
       "output_type": "stream",
       "stream": "stdout",
       "text": [
        "\n",
        "(Iteration 1246 / 1528) loss: 0.729669"
       ]
      },
      {
       "output_type": "stream",
       "stream": "stdout",
       "text": [
        "\n",
        "(Iteration 1247 / 1528) loss: 0.702720"
       ]
      },
      {
       "output_type": "stream",
       "stream": "stdout",
       "text": [
        "\n",
        "(Iteration 1248 / 1528) loss: 0.725489"
       ]
      },
      {
       "output_type": "stream",
       "stream": "stdout",
       "text": [
        "\n",
        "(Iteration 1249 / 1528) loss: 0.864942"
       ]
      },
      {
       "output_type": "stream",
       "stream": "stdout",
       "text": [
        "\n",
        "(Iteration 1250 / 1528) loss: 0.752078"
       ]
      },
      {
       "output_type": "stream",
       "stream": "stdout",
       "text": [
        "\n",
        "(Iteration 1251 / 1528) loss: 0.788106"
       ]
      },
      {
       "output_type": "stream",
       "stream": "stdout",
       "text": [
        "\n",
        "(Iteration 1252 / 1528) loss: 0.797618"
       ]
      },
      {
       "output_type": "stream",
       "stream": "stdout",
       "text": [
        "\n",
        "(Iteration 1253 / 1528) loss: 0.861159"
       ]
      },
      {
       "output_type": "stream",
       "stream": "stdout",
       "text": [
        "\n",
        "(Iteration 1254 / 1528) loss: 0.711866"
       ]
      },
      {
       "output_type": "stream",
       "stream": "stdout",
       "text": [
        "\n",
        "(Iteration 1255 / 1528) loss: 0.872381"
       ]
      },
      {
       "output_type": "stream",
       "stream": "stdout",
       "text": [
        "\n",
        "(Iteration 1256 / 1528) loss: 0.662621"
       ]
      },
      {
       "output_type": "stream",
       "stream": "stdout",
       "text": [
        "\n",
        "(Iteration 1257 / 1528) loss: 0.717070"
       ]
      },
      {
       "output_type": "stream",
       "stream": "stdout",
       "text": [
        "\n",
        "(Iteration 1258 / 1528) loss: 1.059972"
       ]
      },
      {
       "output_type": "stream",
       "stream": "stdout",
       "text": [
        "\n",
        "(Iteration 1259 / 1528) loss: 0.861424"
       ]
      },
      {
       "output_type": "stream",
       "stream": "stdout",
       "text": [
        "\n",
        "(Iteration 1260 / 1528) loss: 0.671858"
       ]
      },
      {
       "output_type": "stream",
       "stream": "stdout",
       "text": [
        "\n",
        "(Iteration 1261 / 1528) loss: 0.860403"
       ]
      },
      {
       "output_type": "stream",
       "stream": "stdout",
       "text": [
        "\n",
        "(Iteration 1262 / 1528) loss: 0.795181"
       ]
      },
      {
       "output_type": "stream",
       "stream": "stdout",
       "text": [
        "\n",
        "(Iteration 1263 / 1528) loss: 0.894522"
       ]
      },
      {
       "output_type": "stream",
       "stream": "stdout",
       "text": [
        "\n",
        "(Iteration 1264 / 1528) loss: 0.848567"
       ]
      },
      {
       "output_type": "stream",
       "stream": "stdout",
       "text": [
        "\n",
        "(Iteration 1265 / 1528) loss: 0.805516"
       ]
      },
      {
       "output_type": "stream",
       "stream": "stdout",
       "text": [
        "\n",
        "(Iteration 1266 / 1528) loss: 0.787908"
       ]
      },
      {
       "output_type": "stream",
       "stream": "stdout",
       "text": [
        "\n",
        "(Iteration 1267 / 1528) loss: 0.886062"
       ]
      },
      {
       "output_type": "stream",
       "stream": "stdout",
       "text": [
        "\n",
        "(Iteration 1268 / 1528) loss: 0.640612"
       ]
      },
      {
       "output_type": "stream",
       "stream": "stdout",
       "text": [
        "\n",
        "(Iteration 1269 / 1528) loss: 0.842101"
       ]
      },
      {
       "output_type": "stream",
       "stream": "stdout",
       "text": [
        "\n",
        "(Iteration 1270 / 1528) loss: 0.800463"
       ]
      },
      {
       "output_type": "stream",
       "stream": "stdout",
       "text": [
        "\n",
        "(Iteration 1271 / 1528) loss: 0.778230"
       ]
      },
      {
       "output_type": "stream",
       "stream": "stdout",
       "text": [
        "\n",
        "(Iteration 1272 / 1528) loss: 0.814665"
       ]
      },
      {
       "output_type": "stream",
       "stream": "stdout",
       "text": [
        "\n",
        "(Iteration 1273 / 1528) loss: 0.855681"
       ]
      },
      {
       "output_type": "stream",
       "stream": "stdout",
       "text": [
        "\n",
        "(Iteration 1274 / 1528) loss: 0.839323"
       ]
      },
      {
       "output_type": "stream",
       "stream": "stdout",
       "text": [
        "\n",
        "(Iteration 1275 / 1528) loss: 0.734386"
       ]
      },
      {
       "output_type": "stream",
       "stream": "stdout",
       "text": [
        "\n",
        "(Iteration 1276 / 1528) loss: 0.675300"
       ]
      },
      {
       "output_type": "stream",
       "stream": "stdout",
       "text": [
        "\n",
        "(Iteration 1277 / 1528) loss: 0.930201"
       ]
      },
      {
       "output_type": "stream",
       "stream": "stdout",
       "text": [
        "\n",
        "(Iteration 1278 / 1528) loss: 0.814674"
       ]
      },
      {
       "output_type": "stream",
       "stream": "stdout",
       "text": [
        "\n",
        "(Iteration 1279 / 1528) loss: 0.822576"
       ]
      },
      {
       "output_type": "stream",
       "stream": "stdout",
       "text": [
        "\n",
        "(Iteration 1280 / 1528) loss: 0.697318"
       ]
      },
      {
       "output_type": "stream",
       "stream": "stdout",
       "text": [
        "\n",
        "(Iteration 1281 / 1528) loss: 0.888341"
       ]
      },
      {
       "output_type": "stream",
       "stream": "stdout",
       "text": [
        "\n",
        "(Iteration 1282 / 1528) loss: 0.786865"
       ]
      },
      {
       "output_type": "stream",
       "stream": "stdout",
       "text": [
        "\n",
        "(Iteration 1283 / 1528) loss: 0.745220"
       ]
      },
      {
       "output_type": "stream",
       "stream": "stdout",
       "text": [
        "\n",
        "(Iteration 1284 / 1528) loss: 0.772389"
       ]
      },
      {
       "output_type": "stream",
       "stream": "stdout",
       "text": [
        "\n",
        "(Iteration 1285 / 1528) loss: 0.782068"
       ]
      },
      {
       "output_type": "stream",
       "stream": "stdout",
       "text": [
        "\n",
        "(Iteration 1286 / 1528) loss: 0.680885"
       ]
      },
      {
       "output_type": "stream",
       "stream": "stdout",
       "text": [
        "\n",
        "(Iteration 1287 / 1528) loss: 0.823156"
       ]
      },
      {
       "output_type": "stream",
       "stream": "stdout",
       "text": [
        "\n",
        "(Iteration 1288 / 1528) loss: 0.752269"
       ]
      },
      {
       "output_type": "stream",
       "stream": "stdout",
       "text": [
        "\n",
        "(Iteration 1289 / 1528) loss: 0.637240"
       ]
      },
      {
       "output_type": "stream",
       "stream": "stdout",
       "text": [
        "\n",
        "(Iteration 1290 / 1528) loss: 0.754151"
       ]
      },
      {
       "output_type": "stream",
       "stream": "stdout",
       "text": [
        "\n",
        "(Iteration 1291 / 1528) loss: 0.693557"
       ]
      },
      {
       "output_type": "stream",
       "stream": "stdout",
       "text": [
        "\n",
        "(Iteration 1292 / 1528) loss: 0.816426"
       ]
      },
      {
       "output_type": "stream",
       "stream": "stdout",
       "text": [
        "\n",
        "(Iteration 1293 / 1528) loss: 0.885710"
       ]
      },
      {
       "output_type": "stream",
       "stream": "stdout",
       "text": [
        "\n",
        "(Iteration 1294 / 1528) loss: 0.805754"
       ]
      },
      {
       "output_type": "stream",
       "stream": "stdout",
       "text": [
        "\n",
        "(Iteration 1295 / 1528) loss: 0.705323"
       ]
      },
      {
       "output_type": "stream",
       "stream": "stdout",
       "text": [
        "\n",
        "(Iteration 1296 / 1528) loss: 0.661769"
       ]
      },
      {
       "output_type": "stream",
       "stream": "stdout",
       "text": [
        "\n",
        "(Iteration 1297 / 1528) loss: 0.799413"
       ]
      },
      {
       "output_type": "stream",
       "stream": "stdout",
       "text": [
        "\n",
        "(Iteration 1298 / 1528) loss: 0.694766"
       ]
      },
      {
       "output_type": "stream",
       "stream": "stdout",
       "text": [
        "\n",
        "(Iteration 1299 / 1528) loss: 0.788344"
       ]
      },
      {
       "output_type": "stream",
       "stream": "stdout",
       "text": [
        "\n",
        "(Iteration 1300 / 1528) loss: 0.742261"
       ]
      },
      {
       "output_type": "stream",
       "stream": "stdout",
       "text": [
        "\n",
        "(Iteration 1301 / 1528) loss: 0.738897"
       ]
      },
      {
       "output_type": "stream",
       "stream": "stdout",
       "text": [
        "\n",
        "(Iteration 1302 / 1528) loss: 0.729101"
       ]
      },
      {
       "output_type": "stream",
       "stream": "stdout",
       "text": [
        "\n",
        "(Iteration 1303 / 1528) loss: 0.887712"
       ]
      },
      {
       "output_type": "stream",
       "stream": "stdout",
       "text": [
        "\n",
        "(Iteration 1304 / 1528) loss: 0.782963"
       ]
      },
      {
       "output_type": "stream",
       "stream": "stdout",
       "text": [
        "\n",
        "(Iteration 1305 / 1528) loss: 0.788148"
       ]
      },
      {
       "output_type": "stream",
       "stream": "stdout",
       "text": [
        "\n",
        "(Iteration 1306 / 1528) loss: 0.793229"
       ]
      },
      {
       "output_type": "stream",
       "stream": "stdout",
       "text": [
        "\n",
        "(Iteration 1307 / 1528) loss: 0.769068"
       ]
      },
      {
       "output_type": "stream",
       "stream": "stdout",
       "text": [
        "\n",
        "(Iteration 1308 / 1528) loss: 0.793005"
       ]
      },
      {
       "output_type": "stream",
       "stream": "stdout",
       "text": [
        "\n",
        "(Iteration 1309 / 1528) loss: 0.757125"
       ]
      },
      {
       "output_type": "stream",
       "stream": "stdout",
       "text": [
        "\n",
        "(Iteration 1310 / 1528) loss: 0.804714"
       ]
      },
      {
       "output_type": "stream",
       "stream": "stdout",
       "text": [
        "\n",
        "(Iteration 1311 / 1528) loss: 0.798335"
       ]
      },
      {
       "output_type": "stream",
       "stream": "stdout",
       "text": [
        "\n",
        "(Iteration 1312 / 1528) loss: 0.634255"
       ]
      },
      {
       "output_type": "stream",
       "stream": "stdout",
       "text": [
        "\n",
        "(Iteration 1313 / 1528) loss: 0.738967"
       ]
      },
      {
       "output_type": "stream",
       "stream": "stdout",
       "text": [
        "\n",
        "(Iteration 1314 / 1528) loss: 1.056359"
       ]
      },
      {
       "output_type": "stream",
       "stream": "stdout",
       "text": [
        "\n",
        "(Iteration 1315 / 1528) loss: 0.720668"
       ]
      },
      {
       "output_type": "stream",
       "stream": "stdout",
       "text": [
        "\n",
        "(Iteration 1316 / 1528) loss: 0.989684"
       ]
      },
      {
       "output_type": "stream",
       "stream": "stdout",
       "text": [
        "\n",
        "(Iteration 1317 / 1528) loss: 0.752311"
       ]
      },
      {
       "output_type": "stream",
       "stream": "stdout",
       "text": [
        "\n",
        "(Iteration 1318 / 1528) loss: 0.830028"
       ]
      },
      {
       "output_type": "stream",
       "stream": "stdout",
       "text": [
        "\n",
        "(Iteration 1319 / 1528) loss: 0.691089"
       ]
      },
      {
       "output_type": "stream",
       "stream": "stdout",
       "text": [
        "\n",
        "(Iteration 1320 / 1528) loss: 0.863378"
       ]
      },
      {
       "output_type": "stream",
       "stream": "stdout",
       "text": [
        "\n",
        "(Iteration 1321 / 1528) loss: 0.756777"
       ]
      },
      {
       "output_type": "stream",
       "stream": "stdout",
       "text": [
        "\n",
        "(Iteration 1322 / 1528) loss: 0.705557"
       ]
      },
      {
       "output_type": "stream",
       "stream": "stdout",
       "text": [
        "\n",
        "(Iteration 1323 / 1528) loss: 0.681862"
       ]
      },
      {
       "output_type": "stream",
       "stream": "stdout",
       "text": [
        "\n",
        "(Iteration 1324 / 1528) loss: 0.739555"
       ]
      },
      {
       "output_type": "stream",
       "stream": "stdout",
       "text": [
        "\n",
        "(Iteration 1325 / 1528) loss: 0.770607"
       ]
      },
      {
       "output_type": "stream",
       "stream": "stdout",
       "text": [
        "\n",
        "(Iteration 1326 / 1528) loss: 0.660321"
       ]
      },
      {
       "output_type": "stream",
       "stream": "stdout",
       "text": [
        "\n",
        "(Iteration 1327 / 1528) loss: 0.791589"
       ]
      },
      {
       "output_type": "stream",
       "stream": "stdout",
       "text": [
        "\n",
        "(Iteration 1328 / 1528) loss: 0.666839"
       ]
      },
      {
       "output_type": "stream",
       "stream": "stdout",
       "text": [
        "\n",
        "(Iteration 1329 / 1528) loss: 0.876326"
       ]
      },
      {
       "output_type": "stream",
       "stream": "stdout",
       "text": [
        "\n",
        "(Iteration 1330 / 1528) loss: 0.679533"
       ]
      },
      {
       "output_type": "stream",
       "stream": "stdout",
       "text": [
        "\n",
        "(Iteration 1331 / 1528) loss: 0.860684"
       ]
      },
      {
       "output_type": "stream",
       "stream": "stdout",
       "text": [
        "\n",
        "(Iteration 1332 / 1528) loss: 0.673756"
       ]
      },
      {
       "output_type": "stream",
       "stream": "stdout",
       "text": [
        "\n",
        "(Iteration 1333 / 1528) loss: 0.827296"
       ]
      },
      {
       "output_type": "stream",
       "stream": "stdout",
       "text": [
        "\n",
        "(Iteration 1334 / 1528) loss: 0.702574"
       ]
      },
      {
       "output_type": "stream",
       "stream": "stdout",
       "text": [
        "\n",
        "(Iteration 1335 / 1528) loss: 0.870503"
       ]
      },
      {
       "output_type": "stream",
       "stream": "stdout",
       "text": [
        "\n",
        "(Iteration 1336 / 1528) loss: 0.772699"
       ]
      },
      {
       "output_type": "stream",
       "stream": "stdout",
       "text": [
        "\n",
        "(Iteration 1337 / 1528) loss: 0.833741"
       ]
      },
      {
       "output_type": "stream",
       "stream": "stdout",
       "text": [
        "\n",
        "(Iteration 1338 / 1528) loss: 0.717876"
       ]
      },
      {
       "output_type": "stream",
       "stream": "stdout",
       "text": [
        "\n",
        "(Iteration 1339 / 1528) loss: 0.659885"
       ]
      },
      {
       "output_type": "stream",
       "stream": "stdout",
       "text": [
        "\n",
        "(Iteration 1340 / 1528) loss: 0.872131"
       ]
      },
      {
       "output_type": "stream",
       "stream": "stdout",
       "text": [
        "\n",
        "(Iteration 1341 / 1528) loss: 0.784862"
       ]
      },
      {
       "output_type": "stream",
       "stream": "stdout",
       "text": [
        "\n",
        "(Iteration 1342 / 1528) loss: 0.684775"
       ]
      },
      {
       "output_type": "stream",
       "stream": "stdout",
       "text": [
        "\n",
        "(Iteration 1343 / 1528) loss: 0.875078"
       ]
      },
      {
       "output_type": "stream",
       "stream": "stdout",
       "text": [
        "\n",
        "(Iteration 1344 / 1528) loss: 0.711541"
       ]
      },
      {
       "output_type": "stream",
       "stream": "stdout",
       "text": [
        "\n",
        "(Iteration 1345 / 1528) loss: 0.857892"
       ]
      },
      {
       "output_type": "stream",
       "stream": "stdout",
       "text": [
        "\n",
        "(Iteration 1346 / 1528) loss: 0.759682"
       ]
      },
      {
       "output_type": "stream",
       "stream": "stdout",
       "text": [
        "\n",
        "(Iteration 1347 / 1528) loss: 0.760882"
       ]
      },
      {
       "output_type": "stream",
       "stream": "stdout",
       "text": [
        "\n",
        "(Iteration 1348 / 1528) loss: 0.760605"
       ]
      },
      {
       "output_type": "stream",
       "stream": "stdout",
       "text": [
        "\n",
        "(Iteration 1349 / 1528) loss: 0.679457"
       ]
      },
      {
       "output_type": "stream",
       "stream": "stdout",
       "text": [
        "\n",
        "(Iteration 1350 / 1528) loss: 0.795983"
       ]
      },
      {
       "output_type": "stream",
       "stream": "stdout",
       "text": [
        "\n",
        "(Iteration 1351 / 1528) loss: 0.868204"
       ]
      },
      {
       "output_type": "stream",
       "stream": "stdout",
       "text": [
        "\n",
        "(Iteration 1352 / 1528) loss: 0.756618"
       ]
      },
      {
       "output_type": "stream",
       "stream": "stdout",
       "text": [
        "\n",
        "(Iteration 1353 / 1528) loss: 0.805539"
       ]
      },
      {
       "output_type": "stream",
       "stream": "stdout",
       "text": [
        "\n",
        "(Iteration 1354 / 1528) loss: 0.741403"
       ]
      },
      {
       "output_type": "stream",
       "stream": "stdout",
       "text": [
        "\n",
        "(Iteration 1355 / 1528) loss: 0.707733"
       ]
      },
      {
       "output_type": "stream",
       "stream": "stdout",
       "text": [
        "\n",
        "(Iteration 1356 / 1528) loss: 0.808799"
       ]
      },
      {
       "output_type": "stream",
       "stream": "stdout",
       "text": [
        "\n",
        "(Iteration 1357 / 1528) loss: 0.813590"
       ]
      },
      {
       "output_type": "stream",
       "stream": "stdout",
       "text": [
        "\n",
        "(Iteration 1358 / 1528) loss: 0.782233"
       ]
      },
      {
       "output_type": "stream",
       "stream": "stdout",
       "text": [
        "\n",
        "(Iteration 1359 / 1528) loss: 0.793474"
       ]
      },
      {
       "output_type": "stream",
       "stream": "stdout",
       "text": [
        "\n",
        "(Iteration 1360 / 1528) loss: 0.795992"
       ]
      },
      {
       "output_type": "stream",
       "stream": "stdout",
       "text": [
        "\n",
        "(Iteration 1361 / 1528) loss: 0.612949"
       ]
      },
      {
       "output_type": "stream",
       "stream": "stdout",
       "text": [
        "\n",
        "(Iteration 1362 / 1528) loss: 0.756884"
       ]
      },
      {
       "output_type": "stream",
       "stream": "stdout",
       "text": [
        "\n",
        "(Iteration 1363 / 1528) loss: 0.811602"
       ]
      },
      {
       "output_type": "stream",
       "stream": "stdout",
       "text": [
        "\n",
        "(Iteration 1364 / 1528) loss: 0.743725"
       ]
      },
      {
       "output_type": "stream",
       "stream": "stdout",
       "text": [
        "\n",
        "(Iteration 1365 / 1528) loss: 0.814714"
       ]
      },
      {
       "output_type": "stream",
       "stream": "stdout",
       "text": [
        "\n",
        "(Iteration 1366 / 1528) loss: 0.810635"
       ]
      },
      {
       "output_type": "stream",
       "stream": "stdout",
       "text": [
        "\n",
        "(Iteration 1367 / 1528) loss: 0.802681"
       ]
      },
      {
       "output_type": "stream",
       "stream": "stdout",
       "text": [
        "\n",
        "(Iteration 1368 / 1528) loss: 0.705405"
       ]
      },
      {
       "output_type": "stream",
       "stream": "stdout",
       "text": [
        "\n",
        "(Iteration 1369 / 1528) loss: 1.006789"
       ]
      },
      {
       "output_type": "stream",
       "stream": "stdout",
       "text": [
        "\n",
        "(Iteration 1370 / 1528) loss: 0.780176"
       ]
      },
      {
       "output_type": "stream",
       "stream": "stdout",
       "text": [
        "\n",
        "(Iteration 1371 / 1528) loss: 0.662565"
       ]
      },
      {
       "output_type": "stream",
       "stream": "stdout",
       "text": [
        "\n",
        "(Iteration 1372 / 1528) loss: 0.715222"
       ]
      },
      {
       "output_type": "stream",
       "stream": "stdout",
       "text": [
        "\n",
        "(Iteration 1373 / 1528) loss: 0.716592"
       ]
      },
      {
       "output_type": "stream",
       "stream": "stdout",
       "text": [
        "\n",
        "(Iteration 1374 / 1528) loss: 0.716936"
       ]
      },
      {
       "output_type": "stream",
       "stream": "stdout",
       "text": [
        "\n",
        "(Iteration 1375 / 1528) loss: 0.828340"
       ]
      },
      {
       "output_type": "stream",
       "stream": "stdout",
       "text": [
        "\n",
        "(Iteration 1376 / 1528) loss: 0.722424"
       ]
      },
      {
       "output_type": "stream",
       "stream": "stdout",
       "text": [
        "\n",
        "(Iteration 1377 / 1528) loss: 0.883839"
       ]
      },
      {
       "output_type": "stream",
       "stream": "stdout",
       "text": [
        "\n",
        "(Iteration 1378 / 1528) loss: 0.917592"
       ]
      },
      {
       "output_type": "stream",
       "stream": "stdout",
       "text": [
        "\n",
        "(Iteration 1379 / 1528) loss: 0.803907"
       ]
      },
      {
       "output_type": "stream",
       "stream": "stdout",
       "text": [
        "\n",
        "(Iteration 1380 / 1528) loss: 0.653907"
       ]
      },
      {
       "output_type": "stream",
       "stream": "stdout",
       "text": [
        "\n",
        "(Iteration 1381 / 1528) loss: 0.660343"
       ]
      },
      {
       "output_type": "stream",
       "stream": "stdout",
       "text": [
        "\n",
        "(Iteration 1382 / 1528) loss: 0.837061"
       ]
      },
      {
       "output_type": "stream",
       "stream": "stdout",
       "text": [
        "\n",
        "(Iteration 1383 / 1528) loss: 0.772385"
       ]
      },
      {
       "output_type": "stream",
       "stream": "stdout",
       "text": [
        "\n",
        "(Iteration 1384 / 1528) loss: 0.889461"
       ]
      },
      {
       "output_type": "stream",
       "stream": "stdout",
       "text": [
        "\n",
        "(Iteration 1385 / 1528) loss: 0.840385"
       ]
      },
      {
       "output_type": "stream",
       "stream": "stdout",
       "text": [
        "\n",
        "(Iteration 1386 / 1528) loss: 0.663029"
       ]
      },
      {
       "output_type": "stream",
       "stream": "stdout",
       "text": [
        "\n",
        "(Iteration 1387 / 1528) loss: 0.767234"
       ]
      },
      {
       "output_type": "stream",
       "stream": "stdout",
       "text": [
        "\n",
        "(Iteration 1388 / 1528) loss: 0.805062"
       ]
      },
      {
       "output_type": "stream",
       "stream": "stdout",
       "text": [
        "\n",
        "(Iteration 1389 / 1528) loss: 0.726907"
       ]
      },
      {
       "output_type": "stream",
       "stream": "stdout",
       "text": [
        "\n",
        "(Iteration 1390 / 1528) loss: 0.829835"
       ]
      },
      {
       "output_type": "stream",
       "stream": "stdout",
       "text": [
        "\n",
        "(Iteration 1391 / 1528) loss: 0.854050"
       ]
      },
      {
       "output_type": "stream",
       "stream": "stdout",
       "text": [
        "\n",
        "(Iteration 1392 / 1528) loss: 0.646661"
       ]
      },
      {
       "output_type": "stream",
       "stream": "stdout",
       "text": [
        "\n",
        "(Iteration 1393 / 1528) loss: 0.810448"
       ]
      },
      {
       "output_type": "stream",
       "stream": "stdout",
       "text": [
        "\n",
        "(Iteration 1394 / 1528) loss: 0.692113"
       ]
      },
      {
       "output_type": "stream",
       "stream": "stdout",
       "text": [
        "\n",
        "(Iteration 1395 / 1528) loss: 0.757309"
       ]
      },
      {
       "output_type": "stream",
       "stream": "stdout",
       "text": [
        "\n",
        "(Iteration 1396 / 1528) loss: 0.607377"
       ]
      },
      {
       "output_type": "stream",
       "stream": "stdout",
       "text": [
        "\n",
        "(Iteration 1397 / 1528) loss: 0.804402"
       ]
      },
      {
       "output_type": "stream",
       "stream": "stdout",
       "text": [
        "\n",
        "(Iteration 1398 / 1528) loss: 0.736170"
       ]
      },
      {
       "output_type": "stream",
       "stream": "stdout",
       "text": [
        "\n",
        "(Iteration 1399 / 1528) loss: 0.886992"
       ]
      },
      {
       "output_type": "stream",
       "stream": "stdout",
       "text": [
        "\n",
        "(Iteration 1400 / 1528) loss: 0.778683"
       ]
      },
      {
       "output_type": "stream",
       "stream": "stdout",
       "text": [
        "\n",
        "(Iteration 1401 / 1528) loss: 0.808177"
       ]
      },
      {
       "output_type": "stream",
       "stream": "stdout",
       "text": [
        "\n",
        "(Iteration 1402 / 1528) loss: 0.668093"
       ]
      },
      {
       "output_type": "stream",
       "stream": "stdout",
       "text": [
        "\n",
        "(Iteration 1403 / 1528) loss: 0.854378"
       ]
      },
      {
       "output_type": "stream",
       "stream": "stdout",
       "text": [
        "\n",
        "(Iteration 1404 / 1528) loss: 0.775405"
       ]
      },
      {
       "output_type": "stream",
       "stream": "stdout",
       "text": [
        "\n",
        "(Iteration 1405 / 1528) loss: 0.863494"
       ]
      },
      {
       "output_type": "stream",
       "stream": "stdout",
       "text": [
        "\n",
        "(Iteration 1406 / 1528) loss: 0.612292"
       ]
      },
      {
       "output_type": "stream",
       "stream": "stdout",
       "text": [
        "\n",
        "(Iteration 1407 / 1528) loss: 0.732393"
       ]
      },
      {
       "output_type": "stream",
       "stream": "stdout",
       "text": [
        "\n",
        "(Iteration 1408 / 1528) loss: 0.844712"
       ]
      },
      {
       "output_type": "stream",
       "stream": "stdout",
       "text": [
        "\n",
        "(Iteration 1409 / 1528) loss: 0.713895"
       ]
      },
      {
       "output_type": "stream",
       "stream": "stdout",
       "text": [
        "\n",
        "(Iteration 1410 / 1528) loss: 0.844647"
       ]
      },
      {
       "output_type": "stream",
       "stream": "stdout",
       "text": [
        "\n",
        "(Iteration 1411 / 1528) loss: 0.903485"
       ]
      },
      {
       "output_type": "stream",
       "stream": "stdout",
       "text": [
        "\n",
        "(Iteration 1412 / 1528) loss: 0.805934"
       ]
      },
      {
       "output_type": "stream",
       "stream": "stdout",
       "text": [
        "\n",
        "(Iteration 1413 / 1528) loss: 0.886645"
       ]
      },
      {
       "output_type": "stream",
       "stream": "stdout",
       "text": [
        "\n",
        "(Iteration 1414 / 1528) loss: 0.719432"
       ]
      },
      {
       "output_type": "stream",
       "stream": "stdout",
       "text": [
        "\n",
        "(Iteration 1415 / 1528) loss: 0.931607"
       ]
      },
      {
       "output_type": "stream",
       "stream": "stdout",
       "text": [
        "\n",
        "(Iteration 1416 / 1528) loss: 0.782260"
       ]
      },
      {
       "output_type": "stream",
       "stream": "stdout",
       "text": [
        "\n",
        "(Iteration 1417 / 1528) loss: 0.995150"
       ]
      },
      {
       "output_type": "stream",
       "stream": "stdout",
       "text": [
        "\n",
        "(Iteration 1418 / 1528) loss: 0.735979"
       ]
      },
      {
       "output_type": "stream",
       "stream": "stdout",
       "text": [
        "\n",
        "(Iteration 1419 / 1528) loss: 0.895835"
       ]
      },
      {
       "output_type": "stream",
       "stream": "stdout",
       "text": [
        "\n",
        "(Iteration 1420 / 1528) loss: 0.827844"
       ]
      },
      {
       "output_type": "stream",
       "stream": "stdout",
       "text": [
        "\n",
        "(Iteration 1421 / 1528) loss: 0.769604"
       ]
      },
      {
       "output_type": "stream",
       "stream": "stdout",
       "text": [
        "\n",
        "(Iteration 1422 / 1528) loss: 0.788109"
       ]
      },
      {
       "output_type": "stream",
       "stream": "stdout",
       "text": [
        "\n",
        "(Iteration 1423 / 1528) loss: 0.757120"
       ]
      },
      {
       "output_type": "stream",
       "stream": "stdout",
       "text": [
        "\n",
        "(Iteration 1424 / 1528) loss: 0.633397"
       ]
      },
      {
       "output_type": "stream",
       "stream": "stdout",
       "text": [
        "\n",
        "(Iteration 1425 / 1528) loss: 0.788820"
       ]
      },
      {
       "output_type": "stream",
       "stream": "stdout",
       "text": [
        "\n",
        "(Iteration 1426 / 1528) loss: 0.853392"
       ]
      },
      {
       "output_type": "stream",
       "stream": "stdout",
       "text": [
        "\n",
        "(Iteration 1427 / 1528) loss: 0.705285"
       ]
      },
      {
       "output_type": "stream",
       "stream": "stdout",
       "text": [
        "\n",
        "(Iteration 1428 / 1528) loss: 0.979996"
       ]
      },
      {
       "output_type": "stream",
       "stream": "stdout",
       "text": [
        "\n",
        "(Iteration 1429 / 1528) loss: 0.812106"
       ]
      },
      {
       "output_type": "stream",
       "stream": "stdout",
       "text": [
        "\n",
        "(Iteration 1430 / 1528) loss: 0.625191"
       ]
      },
      {
       "output_type": "stream",
       "stream": "stdout",
       "text": [
        "\n",
        "(Iteration 1431 / 1528) loss: 0.865391"
       ]
      },
      {
       "output_type": "stream",
       "stream": "stdout",
       "text": [
        "\n",
        "(Iteration 1432 / 1528) loss: 0.850420"
       ]
      },
      {
       "output_type": "stream",
       "stream": "stdout",
       "text": [
        "\n",
        "(Iteration 1433 / 1528) loss: 0.940301"
       ]
      },
      {
       "output_type": "stream",
       "stream": "stdout",
       "text": [
        "\n",
        "(Iteration 1434 / 1528) loss: 0.580936"
       ]
      },
      {
       "output_type": "stream",
       "stream": "stdout",
       "text": [
        "\n",
        "(Iteration 1435 / 1528) loss: 0.755545"
       ]
      },
      {
       "output_type": "stream",
       "stream": "stdout",
       "text": [
        "\n",
        "(Iteration 1436 / 1528) loss: 0.806861"
       ]
      },
      {
       "output_type": "stream",
       "stream": "stdout",
       "text": [
        "\n",
        "(Iteration 1437 / 1528) loss: 0.598847"
       ]
      },
      {
       "output_type": "stream",
       "stream": "stdout",
       "text": [
        "\n",
        "(Iteration 1438 / 1528) loss: 0.848906"
       ]
      },
      {
       "output_type": "stream",
       "stream": "stdout",
       "text": [
        "\n",
        "(Iteration 1439 / 1528) loss: 0.728145"
       ]
      },
      {
       "output_type": "stream",
       "stream": "stdout",
       "text": [
        "\n",
        "(Iteration 1440 / 1528) loss: 0.666721"
       ]
      },
      {
       "output_type": "stream",
       "stream": "stdout",
       "text": [
        "\n",
        "(Iteration 1441 / 1528) loss: 0.722755"
       ]
      },
      {
       "output_type": "stream",
       "stream": "stdout",
       "text": [
        "\n",
        "(Iteration 1442 / 1528) loss: 0.670642"
       ]
      },
      {
       "output_type": "stream",
       "stream": "stdout",
       "text": [
        "\n",
        "(Iteration 1443 / 1528) loss: 0.767688"
       ]
      },
      {
       "output_type": "stream",
       "stream": "stdout",
       "text": [
        "\n",
        "(Iteration 1444 / 1528) loss: 0.681173"
       ]
      },
      {
       "output_type": "stream",
       "stream": "stdout",
       "text": [
        "\n",
        "(Iteration 1445 / 1528) loss: 0.758755"
       ]
      },
      {
       "output_type": "stream",
       "stream": "stdout",
       "text": [
        "\n",
        "(Iteration 1446 / 1528) loss: 0.733350"
       ]
      },
      {
       "output_type": "stream",
       "stream": "stdout",
       "text": [
        "\n",
        "(Iteration 1447 / 1528) loss: 0.870604"
       ]
      },
      {
       "output_type": "stream",
       "stream": "stdout",
       "text": [
        "\n",
        "(Iteration 1448 / 1528) loss: 0.717621"
       ]
      },
      {
       "output_type": "stream",
       "stream": "stdout",
       "text": [
        "\n",
        "(Iteration 1449 / 1528) loss: 0.821499"
       ]
      },
      {
       "output_type": "stream",
       "stream": "stdout",
       "text": [
        "\n",
        "(Iteration 1450 / 1528) loss: 0.870069"
       ]
      },
      {
       "output_type": "stream",
       "stream": "stdout",
       "text": [
        "\n",
        "(Iteration 1451 / 1528) loss: 0.730227"
       ]
      },
      {
       "output_type": "stream",
       "stream": "stdout",
       "text": [
        "\n",
        "(Iteration 1452 / 1528) loss: 0.717760"
       ]
      },
      {
       "output_type": "stream",
       "stream": "stdout",
       "text": [
        "\n",
        "(Iteration 1453 / 1528) loss: 0.857960"
       ]
      },
      {
       "output_type": "stream",
       "stream": "stdout",
       "text": [
        "\n",
        "(Iteration 1454 / 1528) loss: 0.668395"
       ]
      },
      {
       "output_type": "stream",
       "stream": "stdout",
       "text": [
        "\n",
        "(Iteration 1455 / 1528) loss: 0.912057"
       ]
      },
      {
       "output_type": "stream",
       "stream": "stdout",
       "text": [
        "\n",
        "(Iteration 1456 / 1528) loss: 0.749046"
       ]
      },
      {
       "output_type": "stream",
       "stream": "stdout",
       "text": [
        "\n",
        "(Iteration 1457 / 1528) loss: 0.853592"
       ]
      },
      {
       "output_type": "stream",
       "stream": "stdout",
       "text": [
        "\n",
        "(Iteration 1458 / 1528) loss: 0.844459"
       ]
      },
      {
       "output_type": "stream",
       "stream": "stdout",
       "text": [
        "\n",
        "(Iteration 1459 / 1528) loss: 0.798796"
       ]
      },
      {
       "output_type": "stream",
       "stream": "stdout",
       "text": [
        "\n",
        "(Iteration 1460 / 1528) loss: 0.716758"
       ]
      },
      {
       "output_type": "stream",
       "stream": "stdout",
       "text": [
        "\n",
        "(Iteration 1461 / 1528) loss: 0.768428"
       ]
      },
      {
       "output_type": "stream",
       "stream": "stdout",
       "text": [
        "\n",
        "(Iteration 1462 / 1528) loss: 0.931358"
       ]
      },
      {
       "output_type": "stream",
       "stream": "stdout",
       "text": [
        "\n",
        "(Iteration 1463 / 1528) loss: 0.631518"
       ]
      },
      {
       "output_type": "stream",
       "stream": "stdout",
       "text": [
        "\n",
        "(Iteration 1464 / 1528) loss: 0.645015"
       ]
      },
      {
       "output_type": "stream",
       "stream": "stdout",
       "text": [
        "\n",
        "(Iteration 1465 / 1528) loss: 0.734178"
       ]
      },
      {
       "output_type": "stream",
       "stream": "stdout",
       "text": [
        "\n",
        "(Iteration 1466 / 1528) loss: 0.667259"
       ]
      },
      {
       "output_type": "stream",
       "stream": "stdout",
       "text": [
        "\n",
        "(Iteration 1467 / 1528) loss: 0.787912"
       ]
      },
      {
       "output_type": "stream",
       "stream": "stdout",
       "text": [
        "\n",
        "(Iteration 1468 / 1528) loss: 0.728385"
       ]
      },
      {
       "output_type": "stream",
       "stream": "stdout",
       "text": [
        "\n",
        "(Iteration 1469 / 1528) loss: 0.784895"
       ]
      },
      {
       "output_type": "stream",
       "stream": "stdout",
       "text": [
        "\n",
        "(Iteration 1470 / 1528) loss: 0.770867"
       ]
      },
      {
       "output_type": "stream",
       "stream": "stdout",
       "text": [
        "\n",
        "(Iteration 1471 / 1528) loss: 0.876234"
       ]
      },
      {
       "output_type": "stream",
       "stream": "stdout",
       "text": [
        "\n",
        "(Iteration 1472 / 1528) loss: 0.702441"
       ]
      },
      {
       "output_type": "stream",
       "stream": "stdout",
       "text": [
        "\n",
        "(Iteration 1473 / 1528) loss: 0.844060"
       ]
      },
      {
       "output_type": "stream",
       "stream": "stdout",
       "text": [
        "\n",
        "(Iteration 1474 / 1528) loss: 0.723194"
       ]
      },
      {
       "output_type": "stream",
       "stream": "stdout",
       "text": [
        "\n",
        "(Iteration 1475 / 1528) loss: 0.704072"
       ]
      },
      {
       "output_type": "stream",
       "stream": "stdout",
       "text": [
        "\n",
        "(Iteration 1476 / 1528) loss: 0.715986"
       ]
      },
      {
       "output_type": "stream",
       "stream": "stdout",
       "text": [
        "\n",
        "(Iteration 1477 / 1528) loss: 0.817413"
       ]
      },
      {
       "output_type": "stream",
       "stream": "stdout",
       "text": [
        "\n",
        "(Iteration 1478 / 1528) loss: 0.539669"
       ]
      },
      {
       "output_type": "stream",
       "stream": "stdout",
       "text": [
        "\n",
        "(Iteration 1479 / 1528) loss: 0.799402"
       ]
      },
      {
       "output_type": "stream",
       "stream": "stdout",
       "text": [
        "\n",
        "(Iteration 1480 / 1528) loss: 0.628974"
       ]
      },
      {
       "output_type": "stream",
       "stream": "stdout",
       "text": [
        "\n",
        "(Iteration 1481 / 1528) loss: 0.708644"
       ]
      },
      {
       "output_type": "stream",
       "stream": "stdout",
       "text": [
        "\n",
        "(Iteration 1482 / 1528) loss: 0.708695"
       ]
      },
      {
       "output_type": "stream",
       "stream": "stdout",
       "text": [
        "\n",
        "(Iteration 1483 / 1528) loss: 0.731166"
       ]
      },
      {
       "output_type": "stream",
       "stream": "stdout",
       "text": [
        "\n",
        "(Iteration 1484 / 1528) loss: 0.754956"
       ]
      },
      {
       "output_type": "stream",
       "stream": "stdout",
       "text": [
        "\n",
        "(Iteration 1485 / 1528) loss: 0.946956"
       ]
      },
      {
       "output_type": "stream",
       "stream": "stdout",
       "text": [
        "\n",
        "(Iteration 1486 / 1528) loss: 0.849706"
       ]
      },
      {
       "output_type": "stream",
       "stream": "stdout",
       "text": [
        "\n",
        "(Iteration 1487 / 1528) loss: 0.709514"
       ]
      },
      {
       "output_type": "stream",
       "stream": "stdout",
       "text": [
        "\n",
        "(Iteration 1488 / 1528) loss: 0.736662"
       ]
      },
      {
       "output_type": "stream",
       "stream": "stdout",
       "text": [
        "\n",
        "(Iteration 1489 / 1528) loss: 0.766075"
       ]
      },
      {
       "output_type": "stream",
       "stream": "stdout",
       "text": [
        "\n",
        "(Iteration 1490 / 1528) loss: 0.628273"
       ]
      },
      {
       "output_type": "stream",
       "stream": "stdout",
       "text": [
        "\n",
        "(Iteration 1491 / 1528) loss: 0.696459"
       ]
      },
      {
       "output_type": "stream",
       "stream": "stdout",
       "text": [
        "\n",
        "(Iteration 1492 / 1528) loss: 0.749588"
       ]
      },
      {
       "output_type": "stream",
       "stream": "stdout",
       "text": [
        "\n",
        "(Iteration 1493 / 1528) loss: 0.711717"
       ]
      },
      {
       "output_type": "stream",
       "stream": "stdout",
       "text": [
        "\n",
        "(Iteration 1494 / 1528) loss: 0.788521"
       ]
      },
      {
       "output_type": "stream",
       "stream": "stdout",
       "text": [
        "\n",
        "(Iteration 1495 / 1528) loss: 0.736488"
       ]
      },
      {
       "output_type": "stream",
       "stream": "stdout",
       "text": [
        "\n",
        "(Iteration 1496 / 1528) loss: 0.663384"
       ]
      },
      {
       "output_type": "stream",
       "stream": "stdout",
       "text": [
        "\n",
        "(Iteration 1497 / 1528) loss: 0.612511"
       ]
      },
      {
       "output_type": "stream",
       "stream": "stdout",
       "text": [
        "\n",
        "(Iteration 1498 / 1528) loss: 0.661925"
       ]
      },
      {
       "output_type": "stream",
       "stream": "stdout",
       "text": [
        "\n",
        "(Iteration 1499 / 1528) loss: 0.752458"
       ]
      },
      {
       "output_type": "stream",
       "stream": "stdout",
       "text": [
        "\n",
        "(Iteration 1500 / 1528) loss: 0.652525"
       ]
      },
      {
       "output_type": "stream",
       "stream": "stdout",
       "text": [
        "\n",
        "(Iteration 1501 / 1528) loss: 0.751183"
       ]
      },
      {
       "output_type": "stream",
       "stream": "stdout",
       "text": [
        "\n",
        "(Iteration 1502 / 1528) loss: 0.785736"
       ]
      },
      {
       "output_type": "stream",
       "stream": "stdout",
       "text": [
        "\n",
        "(Iteration 1503 / 1528) loss: 0.724859"
       ]
      },
      {
       "output_type": "stream",
       "stream": "stdout",
       "text": [
        "\n",
        "(Iteration 1504 / 1528) loss: 0.796873"
       ]
      },
      {
       "output_type": "stream",
       "stream": "stdout",
       "text": [
        "\n",
        "(Iteration 1505 / 1528) loss: 0.681143"
       ]
      },
      {
       "output_type": "stream",
       "stream": "stdout",
       "text": [
        "\n",
        "(Iteration 1506 / 1528) loss: 0.808997"
       ]
      },
      {
       "output_type": "stream",
       "stream": "stdout",
       "text": [
        "\n",
        "(Iteration 1507 / 1528) loss: 0.697038"
       ]
      },
      {
       "output_type": "stream",
       "stream": "stdout",
       "text": [
        "\n",
        "(Iteration 1508 / 1528) loss: 0.837112"
       ]
      },
      {
       "output_type": "stream",
       "stream": "stdout",
       "text": [
        "\n",
        "(Iteration 1509 / 1528) loss: 0.768979"
       ]
      },
      {
       "output_type": "stream",
       "stream": "stdout",
       "text": [
        "\n",
        "(Iteration 1510 / 1528) loss: 0.708865"
       ]
      },
      {
       "output_type": "stream",
       "stream": "stdout",
       "text": [
        "\n",
        "(Iteration 1511 / 1528) loss: 0.686443"
       ]
      },
      {
       "output_type": "stream",
       "stream": "stdout",
       "text": [
        "\n",
        "(Iteration 1512 / 1528) loss: 0.791690"
       ]
      },
      {
       "output_type": "stream",
       "stream": "stdout",
       "text": [
        "\n",
        "(Iteration 1513 / 1528) loss: 0.753194"
       ]
      },
      {
       "output_type": "stream",
       "stream": "stdout",
       "text": [
        "\n",
        "(Iteration 1514 / 1528) loss: 0.723285"
       ]
      },
      {
       "output_type": "stream",
       "stream": "stdout",
       "text": [
        "\n",
        "(Iteration 1515 / 1528) loss: 0.706071"
       ]
      },
      {
       "output_type": "stream",
       "stream": "stdout",
       "text": [
        "\n",
        "(Iteration 1516 / 1528) loss: 0.695104"
       ]
      },
      {
       "output_type": "stream",
       "stream": "stdout",
       "text": [
        "\n",
        "(Iteration 1517 / 1528) loss: 0.819282"
       ]
      },
      {
       "output_type": "stream",
       "stream": "stdout",
       "text": [
        "\n",
        "(Iteration 1518 / 1528) loss: 0.783098"
       ]
      },
      {
       "output_type": "stream",
       "stream": "stdout",
       "text": [
        "\n",
        "(Iteration 1519 / 1528) loss: 0.727441"
       ]
      },
      {
       "output_type": "stream",
       "stream": "stdout",
       "text": [
        "\n",
        "(Iteration 1520 / 1528) loss: 0.761844"
       ]
      },
      {
       "output_type": "stream",
       "stream": "stdout",
       "text": [
        "\n",
        "(Iteration 1521 / 1528) loss: 0.697215"
       ]
      },
      {
       "output_type": "stream",
       "stream": "stdout",
       "text": [
        "\n",
        "(Iteration 1522 / 1528) loss: 0.823408"
       ]
      },
      {
       "output_type": "stream",
       "stream": "stdout",
       "text": [
        "\n",
        "(Iteration 1523 / 1528) loss: 0.891758"
       ]
      },
      {
       "output_type": "stream",
       "stream": "stdout",
       "text": [
        "\n",
        "(Iteration 1524 / 1528) loss: 0.882562"
       ]
      },
      {
       "output_type": "stream",
       "stream": "stdout",
       "text": [
        "\n",
        "(Iteration 1525 / 1528) loss: 0.703255"
       ]
      },
      {
       "output_type": "stream",
       "stream": "stdout",
       "text": [
        "\n",
        "(Iteration 1526 / 1528) loss: 0.695171"
       ]
      },
      {
       "output_type": "stream",
       "stream": "stdout",
       "text": [
        "\n",
        "(Iteration 1527 / 1528) loss: 0.783136"
       ]
      },
      {
       "output_type": "stream",
       "stream": "stdout",
       "text": [
        "\n",
        "(Iteration 1528 / 1528) loss: 0.765692"
       ]
      },
      {
       "output_type": "stream",
       "stream": "stdout",
       "text": [
        "\n",
        "(Epoch 4 / 4) train acc: 0.740000; val_acc: 0.708000"
       ]
      },
      {
       "output_type": "stream",
       "stream": "stdout",
       "text": [
        "\n"
       ]
      }
     ],
     "prompt_number": 51
    },
    {
     "cell_type": "code",
     "collapsed": false,
     "input": [
      "from cs231n.vis_utils import visualize_grid\n",
      "\n",
      "grid = visualize_grid(model.params['W1'].transpose(0, 2, 3, 1))\n",
      "plt.imshow(grid.astype('uint8'))\n",
      "plt.axis('off')\n",
      "plt.gcf().set_size_inches(5, 5)\n",
      "plt.show()"
     ],
     "language": "python",
     "metadata": {},
     "outputs": [
      {
       "metadata": {},
       "output_type": "display_data",
       "png": "[encoded data removed]",
       "text": [
        "<matplotlib.figure.Figure at 0x7f10d997b710>"
       ]
      }
     ],
     "prompt_number": 52
    },
    {
     "cell_type": "code",
     "collapsed": false,
     "input": [
      "plt.subplot(2, 1, 1)\n",
      "plt.plot(solver.loss_history, 'o')\n",
      "plt.xlabel('iteration')\n",
      "plt.ylabel('loss')\n",
      "\n",
      "plt.subplot(2, 1, 2)\n",
      "plt.plot(solver.train_acc_history, '-o')\n",
      "plt.plot(solver.val_acc_history, '-o')\n",
      "plt.legend(['train', 'val'], loc='upper left')\n",
      "plt.xlabel('epoch')\n",
      "plt.ylabel('accuracy')\n",
      "plt.show()"
     ],
     "language": "python",
     "metadata": {},
     "outputs": [
      {
       "metadata": {},
       "output_type": "display_data",
       "png": "[encoded data removed]",
       "text": [
        "<matplotlib.figure.Figure at 0x7f10d9603850>"
       ]
      }
     ],
     "prompt_number": 53
    },
    {
     "cell_type": "markdown",
     "metadata": {},
     "source": [
      "# Extra Credit Description\n",
      "If you implement any additional features for extra credit, clearly describe them here with pointers to any code in this or other files if applicable."
     ]
    }
   ],
   "metadata": {}
  }
 ]
}