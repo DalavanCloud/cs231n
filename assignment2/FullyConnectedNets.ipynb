{
 "metadata": {
  "kernelspec": {
   "display_name": "Python 2",
   "language": "python",
   "name": "python2"
  },
  "language_info": {
   "codemirror_mode": {
    "name": "ipython",
    "version": 2
   },
   "file_extension": ".py",
   "mimetype": "text/x-python",
   "name": "python",
   "nbconvert_exporter": "python",
   "pygments_lexer": "ipython2",
   "version": "2.7.6"
  },
  "name": "",
  "signature": "sha256:acd92c697d2379c7897153c203e143242e3f5563c4578d4947b365a566ed1030"
 },
 "nbformat": 3,
 "nbformat_minor": 0,
 "worksheets": [
  {
   "cells": [
    {
     "cell_type": "markdown",
     "metadata": {},
     "source": [
      "# Fully-Connected Neural Nets\n",
      "In the previous homework you implemented a fully-connected two-layer neural network on CIFAR-10. The implementation was simple but not very modular since the loss and gradient were computed in a single monolithic function. This is manageable for a simple two-layer network, but would become impractical as we move to bigger models. Ideally we want to build networks using a more modular design so that we can implement different layer types in isolation and then snap them together into models with different architectures.\n",
      "\n",
      "In this exercise we will implement fully-connected networks using a more modular approach. For each layer we will implement a `forward` and a `backward` function. The `forward` function will receive inputs, weights, and other parameters and will return both an output and a `cache` object storing data needed for the backward pass, like this:\n",
      "\n",
      "```python\n",
      "def layer_forward(x, w):\n",
      "  \"\"\" Receive inputs x and weights w \"\"\"\n",
      "  # Do some computations ...\n",
      "  z = # ... some intermediate value\n",
      "  # Do some more computations ...\n",
      "  out = # the output\n",
      "   \n",
      "  cache = (x, w, z, out) # Values we need to compute gradients\n",
      "   \n",
      "  return out, cache\n",
      "```\n",
      "\n",
      "The backward pass will receive upstream derivatives and the `cache` object, and will return gradients with respect to the inputs and weights, like this:\n",
      "\n",
      "```python\n",
      "def layer_backward(dout, cache):\n",
      "  \"\"\"\n",
      "  Receive derivative of loss with respect to outputs and cache,\n",
      "  and compute derivative with respect to inputs.\n",
      "  \"\"\"\n",
      "  # Unpack cache values\n",
      "  x, w, z, out = cache\n",
      "  \n",
      "  # Use values in cache to compute derivatives\n",
      "  dx = # Derivative of loss with respect to x\n",
      "  dw = # Derivative of loss with respect to w\n",
      "  \n",
      "  return dx, dw\n",
      "```\n",
      "\n",
      "After implementing a bunch of layers this way, we will be able to easily combine them to build classifiers with different architectures.\n",
      "\n",
      "In addition to implementing fully-connected networks of arbitrary depth, we will also explore different update rules for optimization, and introduce Dropout as a regularizer and Batch Normalization as a tool to more efficiently optimize deep networks.\n",
      "  "
     ]
    },
    {
     "cell_type": "code",
     "collapsed": false,
     "input": [
      "# As usual, a bit of setup\n",
      "\n",
      "import time\n",
      "import numpy as np\n",
      "import matplotlib.pyplot as plt\n",
      "from cs231n.classifiers.fc_net import *\n",
      "from cs231n.data_utils import get_CIFAR10_data\n",
      "from cs231n.gradient_check import eval_numerical_gradient, eval_numerical_gradient_array\n",
      "from cs231n.solver import Solver\n",
      "\n",
      "%matplotlib inline\n",
      "plt.rcParams['figure.figsize'] = (10.0, 8.0) # set default size of plots\n",
      "plt.rcParams['image.interpolation'] = 'nearest'\n",
      "plt.rcParams['image.cmap'] = 'gray'\n",
      "\n",
      "# for auto-reloading external modules\n",
      "# see http://stackoverflow.com/questions/1907993/autoreload-of-modules-in-ipython\n",
      "%load_ext autoreload\n",
      "%autoreload 2\n",
      "\n",
      "def rel_error(x, y):\n",
      "  \"\"\" returns relative error \"\"\"\n",
      "  return np.max(np.abs(x - y) / (np.maximum(1e-8, np.abs(x) + np.abs(y))))"
     ],
     "language": "python",
     "metadata": {},
     "outputs": [],
     "prompt_number": 1
    },
    {
     "cell_type": "code",
     "collapsed": false,
     "input": [
      "# Load the (preprocessed) CIFAR10 data.\n",
      "\n",
      "data = get_CIFAR10_data()\n",
      "for k, v in data.iteritems():\n",
      "  print '%s: ' % k, v.shape"
     ],
     "language": "python",
     "metadata": {},
     "outputs": [
      {
       "output_type": "stream",
       "stream": "stdout",
       "text": [
        "X_val:  (1000, 3, 32, 32)\n",
        "X_train:  (49000, 3, 32, 32)\n",
        "X_test:  (1000, 3, 32, 32)\n",
        "y_val:  (1000,)\n",
        "y_train:  (49000,)\n",
        "y_test:  (1000,)\n"
       ]
      }
     ],
     "prompt_number": 2
    },
    {
     "cell_type": "markdown",
     "metadata": {},
     "source": [
      "# Affine layer: foward\n",
      "Open the file `cs231n/layers.py` and implement the `affine_forward` function.\n",
      "\n",
      "Once you are done you can test your implementaion by running the following:"
     ]
    },
    {
     "cell_type": "code",
     "collapsed": false,
     "input": [
      "# Test the affine_forward function\n",
      "\n",
      "num_inputs = 2\n",
      "input_shape = (4, 5, 6)\n",
      "output_dim = 3\n",
      "\n",
      "input_size = num_inputs * np.prod(input_shape)\n",
      "weight_size = output_dim * np.prod(input_shape)\n",
      "\n",
      "x = np.linspace(-0.1, 0.5, num=input_size).reshape(num_inputs, *input_shape)\n",
      "w = np.linspace(-0.2, 0.3, num=weight_size).reshape(np.prod(input_shape), output_dim)\n",
      "b = np.linspace(-0.3, 0.1, num=output_dim)\n",
      "\n",
      "out, _ = affine_forward(x, w, b)\n",
      "correct_out = np.array([[ 1.49834967,  1.70660132,  1.91485297],\n",
      "                        [ 3.25553199,  3.5141327,   3.77273342]])\n",
      "\n",
      "# Compare your output with ours. The error should be around 1e-9.\n",
      "print 'Testing affine_forward function:'\n",
      "print 'difference: ', rel_error(out, correct_out)"
     ],
     "language": "python",
     "metadata": {},
     "outputs": [
      {
       "output_type": "stream",
       "stream": "stdout",
       "text": [
        "Testing affine_forward function:\n",
        "difference:  9.76984946819e-10\n"
       ]
      }
     ],
     "prompt_number": 3
    },
    {
     "cell_type": "markdown",
     "metadata": {},
     "source": [
      "# Affine layer: backward\n",
      "Now implement the `affine_backward` function and test your implementation using numeric gradient checking."
     ]
    },
    {
     "cell_type": "code",
     "collapsed": false,
     "input": [
      "# Test the affine_backward function\n",
      "\n",
      "x = np.random.randn(10, 2, 3)\n",
      "w = np.random.randn(6, 5)\n",
      "b = np.random.randn(5)\n",
      "dout = np.random.randn(10, 5)\n",
      "\n",
      "dx_num = eval_numerical_gradient_array(lambda x: affine_forward(x, w, b)[0], x, dout)\n",
      "dw_num = eval_numerical_gradient_array(lambda w: affine_forward(x, w, b)[0], w, dout)\n",
      "db_num = eval_numerical_gradient_array(lambda b: affine_forward(x, w, b)[0], b, dout)\n",
      "\n",
      "_, cache = affine_forward(x, w, b)\n",
      "dx, dw, db = affine_backward(dout, cache)\n",
      "\n",
      "# The error should be around 1e-10\n",
      "print 'Testing affine_backward function:'\n",
      "print 'dx error: ', rel_error(dx_num, dx)\n",
      "print 'dw error: ', rel_error(dw_num, dw)\n",
      "print 'db error: ', rel_error(db_num, db)"
     ],
     "language": "python",
     "metadata": {},
     "outputs": [
      {
       "output_type": "stream",
       "stream": "stdout",
       "text": [
        "Testing affine_backward function:\n",
        "dx error:  9.17241178629e-11\n",
        "dw error:  1.05194267561e-10\n",
        "db error:  9.34607829587e-12\n"
       ]
      }
     ],
     "prompt_number": 4
    },
    {
     "cell_type": "markdown",
     "metadata": {},
     "source": [
      "# ReLU layer: forward\n",
      "Implement the forward pass for the ReLU activation function in the `relu_forward` function and test your implementation using the following:"
     ]
    },
    {
     "cell_type": "code",
     "collapsed": false,
     "input": [
      "# Test the relu_forward function\n",
      "\n",
      "x = np.linspace(-0.5, 0.5, num=12).reshape(3, 4)\n",
      "\n",
      "out, _ = relu_forward(x)\n",
      "correct_out = np.array([[ 0.,          0.,          0.,          0.,        ],\n",
      "                        [ 0.,          0.,          0.04545455,  0.13636364,],\n",
      "                        [ 0.22727273,  0.31818182,  0.40909091,  0.5,       ]])\n",
      "\n",
      "# Compare your output with ours. The error should be around 1e-8\n",
      "print 'Testing relu_forward function:'\n",
      "print 'difference: ', rel_error(out, correct_out)\n",
      "print out"
     ],
     "language": "python",
     "metadata": {},
     "outputs": [
      {
       "output_type": "stream",
       "stream": "stdout",
       "text": [
        "Testing relu_forward function:\n",
        "difference:  4.99999979802e-08\n",
        "[[-0.         -0.         -0.         -0.        ]\n",
        " [-0.         -0.          0.04545455  0.13636364]\n",
        " [ 0.22727273  0.31818182  0.40909091  0.5       ]]\n"
       ]
      }
     ],
     "prompt_number": 5
    },
    {
     "cell_type": "markdown",
     "metadata": {},
     "source": [
      "# ReLU layer: backward\n",
      "Now implement the backward pass for the ReLU activation function in the `relu_backward` function and test your implementation using numeric gradient checking:"
     ]
    },
    {
     "cell_type": "code",
     "collapsed": false,
     "input": [
      "x = np.random.randn(10, 10)\n",
      "dout = np.random.randn(*x.shape)\n",
      "\n",
      "dx_num = eval_numerical_gradient_array(lambda x: relu_forward(x)[0], x, dout)\n",
      "\n",
      "_, cache = relu_forward(x)\n",
      "dx = relu_backward(dout, cache)\n",
      "# The error should be around 1e-12\n",
      "print 'Testing relu_backward function:'\n",
      "print 'dx error: ', rel_error(dx_num, dx)\n"
     ],
     "language": "python",
     "metadata": {},
     "outputs": [
      {
       "output_type": "stream",
       "stream": "stdout",
       "text": [
        "Testing relu_backward function:\n",
        "dx error:  3.27561810087e-12\n"
       ]
      }
     ],
     "prompt_number": 6
    },
    {
     "cell_type": "markdown",
     "metadata": {},
     "source": [
      "# \"Sandwich\" layers\n",
      "There are some common patterns of layers that are frequently used in neural nets. For example, affine layers are frequently followed by a ReLU nonlinearity. To make these common patterns easy, we define several convenience layers in the file `cs231n/layer_utils.py`.\n",
      "\n",
      "For now take a look at the `affine_relu_forward` and `affine_relu_backward` functions, and run the following to numerically gradient check the backward pass:"
     ]
    },
    {
     "cell_type": "code",
     "collapsed": false,
     "input": [
      "from cs231n.layer_utils import affine_relu_forward, affine_relu_backward\n",
      "\n",
      "x = np.random.randn(2, 3, 4)\n",
      "w = np.random.randn(12, 10)\n",
      "b = np.random.randn(10)\n",
      "dout = np.random.randn(2, 10)\n",
      "\n",
      "out, cache = affine_relu_forward(x, w, b)\n",
      "dx, dw, db = affine_relu_backward(dout, cache)\n",
      "\n",
      "dx_num = eval_numerical_gradient_array(lambda x: affine_relu_forward(x, w, b)[0], x, dout)\n",
      "dw_num = eval_numerical_gradient_array(lambda w: affine_relu_forward(x, w, b)[0], w, dout)\n",
      "db_num = eval_numerical_gradient_array(lambda b: affine_relu_forward(x, w, b)[0], b, dout)\n",
      "\n",
      "print 'Testing affine_relu_forward:'\n",
      "print 'dx error: ', rel_error(dx_num, dx)\n",
      "print 'dw error: ', rel_error(dw_num, dw)\n",
      "print 'db error: ', rel_error(db_num, db)"
     ],
     "language": "python",
     "metadata": {},
     "outputs": [
      {
       "output_type": "stream",
       "stream": "stdout",
       "text": [
        "Testing affine_relu_forward:\n",
        "dx error:  6.62577759202e-10\n",
        "dw error:  6.3816081249e-10\n",
        "db error:  1.42689978088e-11\n"
       ]
      }
     ],
     "prompt_number": 7
    },
    {
     "cell_type": "markdown",
     "metadata": {},
     "source": [
      "# Loss layers: Softmax and SVM\n",
      "You implemented these loss functions in the last assignment, so we'll give them to you for free here. You should still make sure you understand how they work by looking at the implementations in `cs231n/layers.py`.\n",
      "\n",
      "You can make sure that the implementations are correct by running the following:"
     ]
    },
    {
     "cell_type": "code",
     "collapsed": false,
     "input": [
      "num_classes, num_inputs = 10, 50\n",
      "x = 0.001 * np.random.randn(num_inputs, num_classes)\n",
      "y = np.random.randint(num_classes, size=num_inputs)\n",
      "\n",
      "dx_num = eval_numerical_gradient(lambda x: svm_loss(x, y)[0], x, verbose=False)\n",
      "loss, dx = svm_loss(x, y)\n",
      "\n",
      "# Test svm_loss function. Loss should be around 9 and dx error should be 1e-9\n",
      "print 'Testing svm_loss:'\n",
      "print 'loss: ', loss\n",
      "print 'dx error: ', rel_error(dx_num, dx)\n",
      "\n",
      "dx_num = eval_numerical_gradient(lambda x: softmax_loss(x, y)[0], x, verbose=False)\n",
      "loss, dx = softmax_loss(x, y)\n",
      "\n",
      "# Test softmax_loss function. Loss should be 2.3 and dx error should be 1e-8\n",
      "print '\\nTesting softmax_loss:'\n",
      "print 'loss: ', loss\n",
      "print 'dx error: ', rel_error(dx_num, dx)"
     ],
     "language": "python",
     "metadata": {},
     "outputs": [
      {
       "output_type": "stream",
       "stream": "stdout",
       "text": [
        "Testing svm_loss:\n",
        "loss:  8.99931861985\n",
        "dx error:  8.18289447289e-10\n",
        "\n",
        "Testing softmax_loss:\n",
        "loss:  2.30251744229\n",
        "dx error:  8.48705855567e-09\n"
       ]
      }
     ],
     "prompt_number": 8
    },
    {
     "cell_type": "markdown",
     "metadata": {},
     "source": [
      "# Two-layer network\n",
      "In the previous assignment you implemented a two-layer neural network in a single monolithic class. Now that you have implemented modular versions of the necessary layers, you will reimplement the two layer network using these modular implementations.\n",
      "\n",
      "Open the file `cs231n/classifiers/fc_net.py` and complete the implementation of the `TwoLayerNet` class. This class will serve as a model for the other networks you will implement in this assignment, so read through it to make sure you understand the API. You can run the cell below to test your implementation."
     ]
    },
    {
     "cell_type": "code",
     "collapsed": false,
     "input": [
      "N, D, H, C = 3, 5, 50, 7\n",
      "X = np.random.randn(N, D)\n",
      "y = np.random.randint(C, size=N)\n",
      "\n",
      "std = 1e-2\n",
      "model = TwoLayerNet(input_dim=D, hidden_dim=H, num_classes=C, weight_scale=std)\n",
      "\n",
      "print 'Testing initialization ... '\n",
      "W1_std = abs(model.params['W1'].std() - std)\n",
      "b1 = model.params['b1']\n",
      "W2_std = abs(model.params['W2'].std() - std)\n",
      "b2 = model.params['b2']\n",
      "assert W1_std < std / 10, 'First layer weights do not seem right'\n",
      "assert np.all(b1 == 0), 'First layer biases do not seem right'\n",
      "assert W2_std < std / 10, 'Second layer weights do not seem right'\n",
      "assert np.all(b2 == 0), 'Second layer biases do not seem right'\n",
      "\n",
      "print 'Testing test-time forward pass ... '\n",
      "model.params['W1'] = np.linspace(-0.7, 0.3, num=D*H).reshape(D, H)\n",
      "model.params['b1'] = np.linspace(-0.1, 0.9, num=H)\n",
      "model.params['W2'] = np.linspace(-0.3, 0.4, num=H*C).reshape(H, C)\n",
      "model.params['b2'] = np.linspace(-0.9, 0.1, num=C)\n",
      "X = np.linspace(-5.5, 4.5, num=N*D).reshape(D, N).T\n",
      "scores = model.loss(X)\n",
      "correct_scores = np.asarray(\n",
      "  [[11.53165108,  12.2917344,   13.05181771,  13.81190102,  14.57198434, 15.33206765,  16.09215096],\n",
      "   [12.05769098,  12.74614105,  13.43459113,  14.1230412,   14.81149128, 15.49994135,  16.18839143],\n",
      "   [12.58373087,  13.20054771,  13.81736455,  14.43418138,  15.05099822, 15.66781506,  16.2846319 ]])\n",
      "scores_diff = np.abs(scores - correct_scores).sum()\n",
      "assert scores_diff < 1e-6, 'Problem with test-time forward pass'\n",
      "\n",
      "print 'Testing training loss (no regularization)'\n",
      "y = np.asarray([0, 5, 1])\n",
      "loss, grads = model.loss(X, y)\n",
      "correct_loss = 3.4702243556\n",
      "assert abs(loss - correct_loss) < 1e-10, 'Problem with training-time loss'\n",
      "\n",
      "model.reg = 1.0\n",
      "loss, grads = model.loss(X, y)\n",
      "correct_loss = 26.5948426952\n",
      "assert abs(loss - correct_loss) < 1e-10, 'Problem with regularization loss'\n",
      "\n",
      "for reg in [0.0, 0.7]:\n",
      "  print 'Running numeric gradient check with reg = ', reg\n",
      "  model.reg = reg\n",
      "  loss, grads = model.loss(X, y)\n",
      "\n",
      "  for name in sorted(grads):\n",
      "    f = lambda _: model.loss(X, y)[0]\n",
      "    grad_num = eval_numerical_gradient(f, model.params[name], verbose=False)\n",
      "    print '%s relative error: %.2e' % (name, rel_error(grad_num, grads[name]))"
     ],
     "language": "python",
     "metadata": {},
     "outputs": [
      {
       "output_type": "stream",
       "stream": "stdout",
       "text": [
        "Testing initialization ... \n",
        "Testing test-time forward pass ... \n",
        "Testing training loss (no regularization)\n",
        "Running numeric gradient check with reg =  0.0\n",
        "W1 relative error: 1.83e-08\n",
        "W2 relative error: 3.20e-10"
       ]
      },
      {
       "output_type": "stream",
       "stream": "stdout",
       "text": [
        "\n",
        "b1 relative error: 9.83e-09\n",
        "b2 relative error: 4.33e-10\n",
        "Running numeric gradient check with reg =  0.7\n",
        "W1 relative error: 2.53e-07"
       ]
      },
      {
       "output_type": "stream",
       "stream": "stdout",
       "text": [
        "\n",
        "W2 relative error: 2.85e-08"
       ]
      },
      {
       "output_type": "stream",
       "stream": "stdout",
       "text": [
        "\n",
        "b1 relative error: 1.56e-08\n",
        "b2 relative error: 9.09e-10\n"
       ]
      }
     ],
     "prompt_number": 9
    },
    {
     "cell_type": "markdown",
     "metadata": {},
     "source": [
      "# Solver\n",
      "In the previous assignment, the logic for training models was coupled to the models themselves. Following a more modular design, for this assignment we have split the logic for training models into a separate class.\n",
      "\n",
      "Open the file `cs231n/solver.py` and read through it to familiarize yourself with the API. After doing so, use a `Solver` instance to train a `TwoLayerNet` that achieves at least `50%` accuracy on the validation set."
     ]
    },
    {
     "cell_type": "code",
     "collapsed": false,
     "input": [
      "model = TwoLayerNet()\n",
      "solver = None\n",
      "\n",
      "##############################################################################\n",
      "# TODO: Use a Solver instance to train a TwoLayerNet that achieves at least  #\n",
      "# 50% accuracy on the validation set.                                        #\n",
      "##############################################################################\n",
      "solver = Solver(model, data, optim_config={'learning_rate': 7e-4,}, num_epochs=7)\n",
      "solver.train()\n",
      "##############################################################################\n",
      "#                             END OF YOUR CODE                               #\n",
      "##############################################################################"
     ],
     "language": "python",
     "metadata": {},
     "outputs": [
      {
       "output_type": "stream",
       "stream": "stdout",
       "text": [
        "(Iteration 1 / 3430) loss: 2.302672\n",
        "(Epoch 0 / 7) train acc: 0.138000; val_acc: 0.110000"
       ]
      },
      {
       "output_type": "stream",
       "stream": "stdout",
       "text": [
        "\n",
        "(Iteration 11 / 3430) loss: 2.259346"
       ]
      },
      {
       "output_type": "stream",
       "stream": "stdout",
       "text": [
        "\n",
        "(Iteration 21 / 3430) loss: 2.205562"
       ]
      },
      {
       "output_type": "stream",
       "stream": "stdout",
       "text": [
        "\n",
        "(Iteration 31 / 3430) loss: 2.089072"
       ]
      },
      {
       "output_type": "stream",
       "stream": "stdout",
       "text": [
        "\n",
        "(Iteration 41 / 3430) loss: 2.060322"
       ]
      },
      {
       "output_type": "stream",
       "stream": "stdout",
       "text": [
        "\n",
        "(Iteration 51 / 3430) loss: 1.923044"
       ]
      },
      {
       "output_type": "stream",
       "stream": "stdout",
       "text": [
        "\n",
        "(Iteration 61 / 3430) loss: 1.955868"
       ]
      },
      {
       "output_type": "stream",
       "stream": "stdout",
       "text": [
        "\n",
        "(Iteration 71 / 3430) loss: 1.939938"
       ]
      },
      {
       "output_type": "stream",
       "stream": "stdout",
       "text": [
        "\n",
        "(Iteration 81 / 3430) loss: 1.902567"
       ]
      },
      {
       "output_type": "stream",
       "stream": "stdout",
       "text": [
        "\n",
        "(Iteration 91 / 3430) loss: 1.932815"
       ]
      },
      {
       "output_type": "stream",
       "stream": "stdout",
       "text": [
        "\n",
        "(Iteration 101 / 3430) loss: 1.845253"
       ]
      },
      {
       "output_type": "stream",
       "stream": "stdout",
       "text": [
        "\n",
        "(Iteration 111 / 3430) loss: 1.752042"
       ]
      },
      {
       "output_type": "stream",
       "stream": "stdout",
       "text": [
        "\n",
        "(Iteration 121 / 3430) loss: 1.818314"
       ]
      },
      {
       "output_type": "stream",
       "stream": "stdout",
       "text": [
        "\n",
        "(Iteration 131 / 3430) loss: 1.869510"
       ]
      },
      {
       "output_type": "stream",
       "stream": "stdout",
       "text": [
        "\n",
        "(Iteration 141 / 3430) loss: 1.830047"
       ]
      },
      {
       "output_type": "stream",
       "stream": "stdout",
       "text": [
        "\n",
        "(Iteration 151 / 3430) loss: 1.728022"
       ]
      },
      {
       "output_type": "stream",
       "stream": "stdout",
       "text": [
        "\n",
        "(Iteration 161 / 3430) loss: 1.793017"
       ]
      },
      {
       "output_type": "stream",
       "stream": "stdout",
       "text": [
        "\n",
        "(Iteration 171 / 3430) loss: 1.813646"
       ]
      },
      {
       "output_type": "stream",
       "stream": "stdout",
       "text": [
        "\n",
        "(Iteration 181 / 3430) loss: 1.778001"
       ]
      },
      {
       "output_type": "stream",
       "stream": "stdout",
       "text": [
        "\n",
        "(Iteration 191 / 3430) loss: 1.688626"
       ]
      },
      {
       "output_type": "stream",
       "stream": "stdout",
       "text": [
        "\n",
        "(Iteration 201 / 3430) loss: 1.731560"
       ]
      },
      {
       "output_type": "stream",
       "stream": "stdout",
       "text": [
        "\n",
        "(Iteration 211 / 3430) loss: 1.748939"
       ]
      },
      {
       "output_type": "stream",
       "stream": "stdout",
       "text": [
        "\n",
        "(Iteration 221 / 3430) loss: 1.688695"
       ]
      },
      {
       "output_type": "stream",
       "stream": "stdout",
       "text": [
        "\n",
        "(Iteration 231 / 3430) loss: 1.890408"
       ]
      },
      {
       "output_type": "stream",
       "stream": "stdout",
       "text": [
        "\n",
        "(Iteration 241 / 3430) loss: 1.656148"
       ]
      },
      {
       "output_type": "stream",
       "stream": "stdout",
       "text": [
        "\n",
        "(Iteration 251 / 3430) loss: 1.717651"
       ]
      },
      {
       "output_type": "stream",
       "stream": "stdout",
       "text": [
        "\n",
        "(Iteration 261 / 3430) loss: 1.731409"
       ]
      },
      {
       "output_type": "stream",
       "stream": "stdout",
       "text": [
        "\n",
        "(Iteration 271 / 3430) loss: 1.717235"
       ]
      },
      {
       "output_type": "stream",
       "stream": "stdout",
       "text": [
        "\n",
        "(Iteration 281 / 3430) loss: 1.624783"
       ]
      },
      {
       "output_type": "stream",
       "stream": "stdout",
       "text": [
        "\n",
        "(Iteration 291 / 3430) loss: 1.729122"
       ]
      },
      {
       "output_type": "stream",
       "stream": "stdout",
       "text": [
        "\n",
        "(Iteration 301 / 3430) loss: 1.596876"
       ]
      },
      {
       "output_type": "stream",
       "stream": "stdout",
       "text": [
        "\n",
        "(Iteration 311 / 3430) loss: 1.570432"
       ]
      },
      {
       "output_type": "stream",
       "stream": "stdout",
       "text": [
        "\n",
        "(Iteration 321 / 3430) loss: 1.619559"
       ]
      },
      {
       "output_type": "stream",
       "stream": "stdout",
       "text": [
        "\n",
        "(Iteration 331 / 3430) loss: 1.766300"
       ]
      },
      {
       "output_type": "stream",
       "stream": "stdout",
       "text": [
        "\n",
        "(Iteration 341 / 3430) loss: 1.689840"
       ]
      },
      {
       "output_type": "stream",
       "stream": "stdout",
       "text": [
        "\n",
        "(Iteration 351 / 3430) loss: 1.599165"
       ]
      },
      {
       "output_type": "stream",
       "stream": "stdout",
       "text": [
        "\n",
        "(Iteration 361 / 3430) loss: 1.618114"
       ]
      },
      {
       "output_type": "stream",
       "stream": "stdout",
       "text": [
        "\n",
        "(Iteration 371 / 3430) loss: 1.639074"
       ]
      },
      {
       "output_type": "stream",
       "stream": "stdout",
       "text": [
        "\n",
        "(Iteration 381 / 3430) loss: 1.619642"
       ]
      },
      {
       "output_type": "stream",
       "stream": "stdout",
       "text": [
        "\n",
        "(Iteration 391 / 3430) loss: 1.580391"
       ]
      },
      {
       "output_type": "stream",
       "stream": "stdout",
       "text": [
        "\n",
        "(Iteration 401 / 3430) loss: 1.674739"
       ]
      },
      {
       "output_type": "stream",
       "stream": "stdout",
       "text": [
        "\n",
        "(Iteration 411 / 3430) loss: 1.589702"
       ]
      },
      {
       "output_type": "stream",
       "stream": "stdout",
       "text": [
        "\n",
        "(Iteration 421 / 3430) loss: 1.565333"
       ]
      },
      {
       "output_type": "stream",
       "stream": "stdout",
       "text": [
        "\n",
        "(Iteration 431 / 3430) loss: 1.832185"
       ]
      },
      {
       "output_type": "stream",
       "stream": "stdout",
       "text": [
        "\n",
        "(Iteration 441 / 3430) loss: 1.628009"
       ]
      },
      {
       "output_type": "stream",
       "stream": "stdout",
       "text": [
        "\n",
        "(Iteration 451 / 3430) loss: 1.496375"
       ]
      },
      {
       "output_type": "stream",
       "stream": "stdout",
       "text": [
        "\n",
        "(Iteration 461 / 3430) loss: 1.472365"
       ]
      },
      {
       "output_type": "stream",
       "stream": "stdout",
       "text": [
        "\n",
        "(Iteration 471 / 3430) loss: 1.429948"
       ]
      },
      {
       "output_type": "stream",
       "stream": "stdout",
       "text": [
        "\n",
        "(Iteration 481 / 3430) loss: 1.672053"
       ]
      },
      {
       "output_type": "stream",
       "stream": "stdout",
       "text": [
        "\n",
        "(Epoch 1 / 7) train acc: 0.434000; val_acc: 0.437000"
       ]
      },
      {
       "output_type": "stream",
       "stream": "stdout",
       "text": [
        "\n",
        "(Iteration 491 / 3430) loss: 1.431914\n",
        "(Iteration 501 / 3430) loss: 1.516635"
       ]
      },
      {
       "output_type": "stream",
       "stream": "stdout",
       "text": [
        "\n",
        "(Iteration 511 / 3430) loss: 1.321007"
       ]
      },
      {
       "output_type": "stream",
       "stream": "stdout",
       "text": [
        "\n",
        "(Iteration 521 / 3430) loss: 1.555966"
       ]
      },
      {
       "output_type": "stream",
       "stream": "stdout",
       "text": [
        "\n",
        "(Iteration 531 / 3430) loss: 1.573464"
       ]
      },
      {
       "output_type": "stream",
       "stream": "stdout",
       "text": [
        "\n",
        "(Iteration 541 / 3430) loss: 1.736909"
       ]
      },
      {
       "output_type": "stream",
       "stream": "stdout",
       "text": [
        "\n",
        "(Iteration 551 / 3430) loss: 1.570307"
       ]
      },
      {
       "output_type": "stream",
       "stream": "stdout",
       "text": [
        "\n",
        "(Iteration 561 / 3430) loss: 1.469267"
       ]
      },
      {
       "output_type": "stream",
       "stream": "stdout",
       "text": [
        "\n",
        "(Iteration 571 / 3430) loss: 1.742564"
       ]
      },
      {
       "output_type": "stream",
       "stream": "stdout",
       "text": [
        "\n",
        "(Iteration 581 / 3430) loss: 1.499732"
       ]
      },
      {
       "output_type": "stream",
       "stream": "stdout",
       "text": [
        "\n",
        "(Iteration 591 / 3430) loss: 1.558144"
       ]
      },
      {
       "output_type": "stream",
       "stream": "stdout",
       "text": [
        "\n",
        "(Iteration 601 / 3430) loss: 1.580525"
       ]
      },
      {
       "output_type": "stream",
       "stream": "stdout",
       "text": [
        "\n",
        "(Iteration 611 / 3430) loss: 1.731237"
       ]
      },
      {
       "output_type": "stream",
       "stream": "stdout",
       "text": [
        "\n",
        "(Iteration 621 / 3430) loss: 1.191794"
       ]
      },
      {
       "output_type": "stream",
       "stream": "stdout",
       "text": [
        "\n",
        "(Iteration 631 / 3430) loss: 1.369567"
       ]
      },
      {
       "output_type": "stream",
       "stream": "stdout",
       "text": [
        "\n",
        "(Iteration 641 / 3430) loss: 1.679173"
       ]
      },
      {
       "output_type": "stream",
       "stream": "stdout",
       "text": [
        "\n",
        "(Iteration 651 / 3430) loss: 1.564202"
       ]
      },
      {
       "output_type": "stream",
       "stream": "stdout",
       "text": [
        "\n",
        "(Iteration 661 / 3430) loss: 1.582286"
       ]
      },
      {
       "output_type": "stream",
       "stream": "stdout",
       "text": [
        "\n",
        "(Iteration 671 / 3430) loss: 1.671146"
       ]
      },
      {
       "output_type": "stream",
       "stream": "stdout",
       "text": [
        "\n",
        "(Iteration 681 / 3430) loss: 1.407326"
       ]
      },
      {
       "output_type": "stream",
       "stream": "stdout",
       "text": [
        "\n",
        "(Iteration 691 / 3430) loss: 1.408543"
       ]
      },
      {
       "output_type": "stream",
       "stream": "stdout",
       "text": [
        "\n",
        "(Iteration 701 / 3430) loss: 1.385405"
       ]
      },
      {
       "output_type": "stream",
       "stream": "stdout",
       "text": [
        "\n",
        "(Iteration 711 / 3430) loss: 1.734141"
       ]
      },
      {
       "output_type": "stream",
       "stream": "stdout",
       "text": [
        "\n",
        "(Iteration 721 / 3430) loss: 1.854413"
       ]
      },
      {
       "output_type": "stream",
       "stream": "stdout",
       "text": [
        "\n",
        "(Iteration 731 / 3430) loss: 1.493021"
       ]
      },
      {
       "output_type": "stream",
       "stream": "stdout",
       "text": [
        "\n",
        "(Iteration 741 / 3430) loss: 1.592607"
       ]
      },
      {
       "output_type": "stream",
       "stream": "stdout",
       "text": [
        "\n",
        "(Iteration 751 / 3430) loss: 1.426959"
       ]
      },
      {
       "output_type": "stream",
       "stream": "stdout",
       "text": [
        "\n",
        "(Iteration 761 / 3430) loss: 1.363661"
       ]
      },
      {
       "output_type": "stream",
       "stream": "stdout",
       "text": [
        "\n",
        "(Iteration 771 / 3430) loss: 1.530141"
       ]
      },
      {
       "output_type": "stream",
       "stream": "stdout",
       "text": [
        "\n",
        "(Iteration 781 / 3430) loss: 1.461951"
       ]
      },
      {
       "output_type": "stream",
       "stream": "stdout",
       "text": [
        "\n",
        "(Iteration 791 / 3430) loss: 1.651312"
       ]
      },
      {
       "output_type": "stream",
       "stream": "stdout",
       "text": [
        "\n",
        "(Iteration 801 / 3430) loss: 1.475664"
       ]
      },
      {
       "output_type": "stream",
       "stream": "stdout",
       "text": [
        "\n",
        "(Iteration 811 / 3430) loss: 1.271636"
       ]
      },
      {
       "output_type": "stream",
       "stream": "stdout",
       "text": [
        "\n",
        "(Iteration 821 / 3430) loss: 1.450852"
       ]
      },
      {
       "output_type": "stream",
       "stream": "stdout",
       "text": [
        "\n",
        "(Iteration 831 / 3430) loss: 1.624532"
       ]
      },
      {
       "output_type": "stream",
       "stream": "stdout",
       "text": [
        "\n",
        "(Iteration 841 / 3430) loss: 1.350141"
       ]
      },
      {
       "output_type": "stream",
       "stream": "stdout",
       "text": [
        "\n",
        "(Iteration 851 / 3430) loss: 1.583061"
       ]
      },
      {
       "output_type": "stream",
       "stream": "stdout",
       "text": [
        "\n",
        "(Iteration 861 / 3430) loss: 1.438440"
       ]
      },
      {
       "output_type": "stream",
       "stream": "stdout",
       "text": [
        "\n",
        "(Iteration 871 / 3430) loss: 1.390550"
       ]
      },
      {
       "output_type": "stream",
       "stream": "stdout",
       "text": [
        "\n",
        "(Iteration 881 / 3430) loss: 1.383105"
       ]
      },
      {
       "output_type": "stream",
       "stream": "stdout",
       "text": [
        "\n",
        "(Iteration 891 / 3430) loss: 1.469938"
       ]
      },
      {
       "output_type": "stream",
       "stream": "stdout",
       "text": [
        "\n",
        "(Iteration 901 / 3430) loss: 1.589066"
       ]
      },
      {
       "output_type": "stream",
       "stream": "stdout",
       "text": [
        "\n",
        "(Iteration 911 / 3430) loss: 1.434191"
       ]
      },
      {
       "output_type": "stream",
       "stream": "stdout",
       "text": [
        "\n",
        "(Iteration 921 / 3430) loss: 1.442472"
       ]
      },
      {
       "output_type": "stream",
       "stream": "stdout",
       "text": [
        "\n",
        "(Iteration 931 / 3430) loss: 1.535833"
       ]
      },
      {
       "output_type": "stream",
       "stream": "stdout",
       "text": [
        "\n",
        "(Iteration 941 / 3430) loss: 1.447398"
       ]
      },
      {
       "output_type": "stream",
       "stream": "stdout",
       "text": [
        "\n",
        "(Iteration 951 / 3430) loss: 1.389996"
       ]
      },
      {
       "output_type": "stream",
       "stream": "stdout",
       "text": [
        "\n",
        "(Iteration 961 / 3430) loss: 1.424258"
       ]
      },
      {
       "output_type": "stream",
       "stream": "stdout",
       "text": [
        "\n",
        "(Iteration 971 / 3430) loss: 1.431542"
       ]
      },
      {
       "output_type": "stream",
       "stream": "stdout",
       "text": [
        "\n",
        "(Epoch 2 / 7) train acc: 0.483000; val_acc: 0.481000"
       ]
      },
      {
       "output_type": "stream",
       "stream": "stdout",
       "text": [
        "\n",
        "(Iteration 981 / 3430) loss: 1.398650\n",
        "(Iteration 991 / 3430) loss: 1.593107"
       ]
      },
      {
       "output_type": "stream",
       "stream": "stdout",
       "text": [
        "\n",
        "(Iteration 1001 / 3430) loss: 1.404504"
       ]
      },
      {
       "output_type": "stream",
       "stream": "stdout",
       "text": [
        "\n",
        "(Iteration 1011 / 3430) loss: 1.657970"
       ]
      },
      {
       "output_type": "stream",
       "stream": "stdout",
       "text": [
        "\n",
        "(Iteration 1021 / 3430) loss: 1.575256"
       ]
      },
      {
       "output_type": "stream",
       "stream": "stdout",
       "text": [
        "\n",
        "(Iteration 1031 / 3430) loss: 1.188741"
       ]
      },
      {
       "output_type": "stream",
       "stream": "stdout",
       "text": [
        "\n",
        "(Iteration 1041 / 3430) loss: 1.417869"
       ]
      },
      {
       "output_type": "stream",
       "stream": "stdout",
       "text": [
        "\n",
        "(Iteration 1051 / 3430) loss: 1.540444"
       ]
      },
      {
       "output_type": "stream",
       "stream": "stdout",
       "text": [
        "\n",
        "(Iteration 1061 / 3430) loss: 1.383498"
       ]
      },
      {
       "output_type": "stream",
       "stream": "stdout",
       "text": [
        "\n",
        "(Iteration 1071 / 3430) loss: 1.505060"
       ]
      },
      {
       "output_type": "stream",
       "stream": "stdout",
       "text": [
        "\n",
        "(Iteration 1081 / 3430) loss: 1.502517"
       ]
      },
      {
       "output_type": "stream",
       "stream": "stdout",
       "text": [
        "\n",
        "(Iteration 1091 / 3430) loss: 1.286841"
       ]
      },
      {
       "output_type": "stream",
       "stream": "stdout",
       "text": [
        "\n",
        "(Iteration 1101 / 3430) loss: 1.361952"
       ]
      },
      {
       "output_type": "stream",
       "stream": "stdout",
       "text": [
        "\n",
        "(Iteration 1111 / 3430) loss: 1.236600"
       ]
      },
      {
       "output_type": "stream",
       "stream": "stdout",
       "text": [
        "\n",
        "(Iteration 1121 / 3430) loss: 1.400903"
       ]
      },
      {
       "output_type": "stream",
       "stream": "stdout",
       "text": [
        "\n",
        "(Iteration 1131 / 3430) loss: 1.349090"
       ]
      },
      {
       "output_type": "stream",
       "stream": "stdout",
       "text": [
        "\n",
        "(Iteration 1141 / 3430) loss: 1.397882"
       ]
      },
      {
       "output_type": "stream",
       "stream": "stdout",
       "text": [
        "\n",
        "(Iteration 1151 / 3430) loss: 1.451310"
       ]
      },
      {
       "output_type": "stream",
       "stream": "stdout",
       "text": [
        "\n",
        "(Iteration 1161 / 3430) loss: 1.357390"
       ]
      },
      {
       "output_type": "stream",
       "stream": "stdout",
       "text": [
        "\n",
        "(Iteration 1171 / 3430) loss: 1.415184"
       ]
      },
      {
       "output_type": "stream",
       "stream": "stdout",
       "text": [
        "\n",
        "(Iteration 1181 / 3430) loss: 1.451997"
       ]
      },
      {
       "output_type": "stream",
       "stream": "stdout",
       "text": [
        "\n",
        "(Iteration 1191 / 3430) loss: 1.274211"
       ]
      },
      {
       "output_type": "stream",
       "stream": "stdout",
       "text": [
        "\n",
        "(Iteration 1201 / 3430) loss: 1.483396"
       ]
      },
      {
       "output_type": "stream",
       "stream": "stdout",
       "text": [
        "\n",
        "(Iteration 1211 / 3430) loss: 1.291755"
       ]
      },
      {
       "output_type": "stream",
       "stream": "stdout",
       "text": [
        "\n",
        "(Iteration 1221 / 3430) loss: 1.334512"
       ]
      },
      {
       "output_type": "stream",
       "stream": "stdout",
       "text": [
        "\n",
        "(Iteration 1231 / 3430) loss: 1.470886"
       ]
      },
      {
       "output_type": "stream",
       "stream": "stdout",
       "text": [
        "\n",
        "(Iteration 1241 / 3430) loss: 1.374278"
       ]
      },
      {
       "output_type": "stream",
       "stream": "stdout",
       "text": [
        "\n",
        "(Iteration 1251 / 3430) loss: 1.481172"
       ]
      },
      {
       "output_type": "stream",
       "stream": "stdout",
       "text": [
        "\n",
        "(Iteration 1261 / 3430) loss: 1.259986"
       ]
      },
      {
       "output_type": "stream",
       "stream": "stdout",
       "text": [
        "\n",
        "(Iteration 1271 / 3430) loss: 1.398701"
       ]
      },
      {
       "output_type": "stream",
       "stream": "stdout",
       "text": [
        "\n",
        "(Iteration 1281 / 3430) loss: 1.434721"
       ]
      },
      {
       "output_type": "stream",
       "stream": "stdout",
       "text": [
        "\n",
        "(Iteration 1291 / 3430) loss: 1.500854"
       ]
      },
      {
       "output_type": "stream",
       "stream": "stdout",
       "text": [
        "\n",
        "(Iteration 1301 / 3430) loss: 1.421889"
       ]
      },
      {
       "output_type": "stream",
       "stream": "stdout",
       "text": [
        "\n",
        "(Iteration 1311 / 3430) loss: 1.407814"
       ]
      },
      {
       "output_type": "stream",
       "stream": "stdout",
       "text": [
        "\n",
        "(Iteration 1321 / 3430) loss: 1.446081"
       ]
      },
      {
       "output_type": "stream",
       "stream": "stdout",
       "text": [
        "\n",
        "(Iteration 1331 / 3430) loss: 1.433560"
       ]
      },
      {
       "output_type": "stream",
       "stream": "stdout",
       "text": [
        "\n",
        "(Iteration 1341 / 3430) loss: 1.251655"
       ]
      },
      {
       "output_type": "stream",
       "stream": "stdout",
       "text": [
        "\n",
        "(Iteration 1351 / 3430) loss: 1.407169"
       ]
      },
      {
       "output_type": "stream",
       "stream": "stdout",
       "text": [
        "\n",
        "(Iteration 1361 / 3430) loss: 1.257063"
       ]
      },
      {
       "output_type": "stream",
       "stream": "stdout",
       "text": [
        "\n",
        "(Iteration 1371 / 3430) loss: 1.609578"
       ]
      },
      {
       "output_type": "stream",
       "stream": "stdout",
       "text": [
        "\n",
        "(Iteration 1381 / 3430) loss: 1.275138"
       ]
      },
      {
       "output_type": "stream",
       "stream": "stdout",
       "text": [
        "\n",
        "(Iteration 1391 / 3430) loss: 1.572396"
       ]
      },
      {
       "output_type": "stream",
       "stream": "stdout",
       "text": [
        "\n",
        "(Iteration 1401 / 3430) loss: 1.415230"
       ]
      },
      {
       "output_type": "stream",
       "stream": "stdout",
       "text": [
        "\n",
        "(Iteration 1411 / 3430) loss: 1.377907"
       ]
      },
      {
       "output_type": "stream",
       "stream": "stdout",
       "text": [
        "\n",
        "(Iteration 1421 / 3430) loss: 1.322941"
       ]
      },
      {
       "output_type": "stream",
       "stream": "stdout",
       "text": [
        "\n",
        "(Iteration 1431 / 3430) loss: 1.280792"
       ]
      },
      {
       "output_type": "stream",
       "stream": "stdout",
       "text": [
        "\n",
        "(Iteration 1441 / 3430) loss: 1.390851"
       ]
      },
      {
       "output_type": "stream",
       "stream": "stdout",
       "text": [
        "\n",
        "(Iteration 1451 / 3430) loss: 1.454269"
       ]
      },
      {
       "output_type": "stream",
       "stream": "stdout",
       "text": [
        "\n",
        "(Iteration 1461 / 3430) loss: 1.350087"
       ]
      },
      {
       "output_type": "stream",
       "stream": "stdout",
       "text": [
        "\n",
        "(Epoch 3 / 7) train acc: 0.532000; val_acc: 0.481000"
       ]
      },
      {
       "output_type": "stream",
       "stream": "stdout",
       "text": [
        "\n",
        "(Iteration 1471 / 3430) loss: 1.379139\n",
        "(Iteration 1481 / 3430) loss: 1.349285"
       ]
      },
      {
       "output_type": "stream",
       "stream": "stdout",
       "text": [
        "\n",
        "(Iteration 1491 / 3430) loss: 1.243530"
       ]
      },
      {
       "output_type": "stream",
       "stream": "stdout",
       "text": [
        "\n",
        "(Iteration 1501 / 3430) loss: 1.171397"
       ]
      },
      {
       "output_type": "stream",
       "stream": "stdout",
       "text": [
        "\n",
        "(Iteration 1511 / 3430) loss: 1.606516"
       ]
      },
      {
       "output_type": "stream",
       "stream": "stdout",
       "text": [
        "\n",
        "(Iteration 1521 / 3430) loss: 1.294645"
       ]
      },
      {
       "output_type": "stream",
       "stream": "stdout",
       "text": [
        "\n",
        "(Iteration 1531 / 3430) loss: 1.406354"
       ]
      },
      {
       "output_type": "stream",
       "stream": "stdout",
       "text": [
        "\n",
        "(Iteration 1541 / 3430) loss: 1.388168"
       ]
      },
      {
       "output_type": "stream",
       "stream": "stdout",
       "text": [
        "\n",
        "(Iteration 1551 / 3430) loss: 1.377055"
       ]
      },
      {
       "output_type": "stream",
       "stream": "stdout",
       "text": [
        "\n",
        "(Iteration 1561 / 3430) loss: 1.399754"
       ]
      },
      {
       "output_type": "stream",
       "stream": "stdout",
       "text": [
        "\n",
        "(Iteration 1571 / 3430) loss: 1.379463"
       ]
      },
      {
       "output_type": "stream",
       "stream": "stdout",
       "text": [
        "\n",
        "(Iteration 1581 / 3430) loss: 1.381561"
       ]
      },
      {
       "output_type": "stream",
       "stream": "stdout",
       "text": [
        "\n",
        "(Iteration 1591 / 3430) loss: 1.338866"
       ]
      },
      {
       "output_type": "stream",
       "stream": "stdout",
       "text": [
        "\n",
        "(Iteration 1601 / 3430) loss: 1.578042"
       ]
      },
      {
       "output_type": "stream",
       "stream": "stdout",
       "text": [
        "\n",
        "(Iteration 1611 / 3430) loss: 1.132948"
       ]
      },
      {
       "output_type": "stream",
       "stream": "stdout",
       "text": [
        "\n",
        "(Iteration 1621 / 3430) loss: 1.284143"
       ]
      },
      {
       "output_type": "stream",
       "stream": "stdout",
       "text": [
        "\n",
        "(Iteration 1631 / 3430) loss: 1.328180"
       ]
      },
      {
       "output_type": "stream",
       "stream": "stdout",
       "text": [
        "\n",
        "(Iteration 1641 / 3430) loss: 1.452512"
       ]
      },
      {
       "output_type": "stream",
       "stream": "stdout",
       "text": [
        "\n",
        "(Iteration 1651 / 3430) loss: 1.200332"
       ]
      },
      {
       "output_type": "stream",
       "stream": "stdout",
       "text": [
        "\n",
        "(Iteration 1661 / 3430) loss: 1.522729"
       ]
      },
      {
       "output_type": "stream",
       "stream": "stdout",
       "text": [
        "\n",
        "(Iteration 1671 / 3430) loss: 1.345675"
       ]
      },
      {
       "output_type": "stream",
       "stream": "stdout",
       "text": [
        "\n",
        "(Iteration 1681 / 3430) loss: 1.481182"
       ]
      },
      {
       "output_type": "stream",
       "stream": "stdout",
       "text": [
        "\n",
        "(Iteration 1691 / 3430) loss: 1.346716"
       ]
      },
      {
       "output_type": "stream",
       "stream": "stdout",
       "text": [
        "\n",
        "(Iteration 1701 / 3430) loss: 1.269752"
       ]
      },
      {
       "output_type": "stream",
       "stream": "stdout",
       "text": [
        "\n",
        "(Iteration 1711 / 3430) loss: 1.343074"
       ]
      },
      {
       "output_type": "stream",
       "stream": "stdout",
       "text": [
        "\n",
        "(Iteration 1721 / 3430) loss: 1.342862"
       ]
      },
      {
       "output_type": "stream",
       "stream": "stdout",
       "text": [
        "\n",
        "(Iteration 1731 / 3430) loss: 1.555507"
       ]
      },
      {
       "output_type": "stream",
       "stream": "stdout",
       "text": [
        "\n",
        "(Iteration 1741 / 3430) loss: 1.316133"
       ]
      },
      {
       "output_type": "stream",
       "stream": "stdout",
       "text": [
        "\n",
        "(Iteration 1751 / 3430) loss: 1.339765"
       ]
      },
      {
       "output_type": "stream",
       "stream": "stdout",
       "text": [
        "\n",
        "(Iteration 1761 / 3430) loss: 1.093547"
       ]
      },
      {
       "output_type": "stream",
       "stream": "stdout",
       "text": [
        "\n",
        "(Iteration 1771 / 3430) loss: 1.342440"
       ]
      },
      {
       "output_type": "stream",
       "stream": "stdout",
       "text": [
        "\n",
        "(Iteration 1781 / 3430) loss: 1.543006"
       ]
      },
      {
       "output_type": "stream",
       "stream": "stdout",
       "text": [
        "\n",
        "(Iteration 1791 / 3430) loss: 1.319389"
       ]
      },
      {
       "output_type": "stream",
       "stream": "stdout",
       "text": [
        "\n",
        "(Iteration 1801 / 3430) loss: 1.237689"
       ]
      },
      {
       "output_type": "stream",
       "stream": "stdout",
       "text": [
        "\n",
        "(Iteration 1811 / 3430) loss: 1.549509"
       ]
      },
      {
       "output_type": "stream",
       "stream": "stdout",
       "text": [
        "\n",
        "(Iteration 1821 / 3430) loss: 1.573939"
       ]
      },
      {
       "output_type": "stream",
       "stream": "stdout",
       "text": [
        "\n",
        "(Iteration 1831 / 3430) loss: 1.301753"
       ]
      },
      {
       "output_type": "stream",
       "stream": "stdout",
       "text": [
        "\n",
        "(Iteration 1841 / 3430) loss: 1.414425"
       ]
      },
      {
       "output_type": "stream",
       "stream": "stdout",
       "text": [
        "\n",
        "(Iteration 1851 / 3430) loss: 1.255118"
       ]
      },
      {
       "output_type": "stream",
       "stream": "stdout",
       "text": [
        "\n",
        "(Iteration 1861 / 3430) loss: 1.219107"
       ]
      },
      {
       "output_type": "stream",
       "stream": "stdout",
       "text": [
        "\n",
        "(Iteration 1871 / 3430) loss: 1.616873"
       ]
      },
      {
       "output_type": "stream",
       "stream": "stdout",
       "text": [
        "\n",
        "(Iteration 1881 / 3430) loss: 1.246438"
       ]
      },
      {
       "output_type": "stream",
       "stream": "stdout",
       "text": [
        "\n",
        "(Iteration 1891 / 3430) loss: 1.333006"
       ]
      },
      {
       "output_type": "stream",
       "stream": "stdout",
       "text": [
        "\n",
        "(Iteration 1901 / 3430) loss: 1.554375"
       ]
      },
      {
       "output_type": "stream",
       "stream": "stdout",
       "text": [
        "\n",
        "(Iteration 1911 / 3430) loss: 1.330917"
       ]
      },
      {
       "output_type": "stream",
       "stream": "stdout",
       "text": [
        "\n",
        "(Iteration 1921 / 3430) loss: 1.354896"
       ]
      },
      {
       "output_type": "stream",
       "stream": "stdout",
       "text": [
        "\n",
        "(Iteration 1931 / 3430) loss: 1.514417"
       ]
      },
      {
       "output_type": "stream",
       "stream": "stdout",
       "text": [
        "\n",
        "(Iteration 1941 / 3430) loss: 1.347812"
       ]
      },
      {
       "output_type": "stream",
       "stream": "stdout",
       "text": [
        "\n",
        "(Iteration 1951 / 3430) loss: 1.352835"
       ]
      },
      {
       "output_type": "stream",
       "stream": "stdout",
       "text": [
        "\n",
        "(Epoch 4 / 7) train acc: 0.523000; val_acc: 0.493000"
       ]
      },
      {
       "output_type": "stream",
       "stream": "stdout",
       "text": [
        "\n",
        "(Iteration 1961 / 3430) loss: 1.307424\n",
        "(Iteration 1971 / 3430) loss: 1.510111"
       ]
      },
      {
       "output_type": "stream",
       "stream": "stdout",
       "text": [
        "\n",
        "(Iteration 1981 / 3430) loss: 1.234328"
       ]
      },
      {
       "output_type": "stream",
       "stream": "stdout",
       "text": [
        "\n",
        "(Iteration 1991 / 3430) loss: 1.302244"
       ]
      },
      {
       "output_type": "stream",
       "stream": "stdout",
       "text": [
        "\n",
        "(Iteration 2001 / 3430) loss: 1.351283"
       ]
      },
      {
       "output_type": "stream",
       "stream": "stdout",
       "text": [
        "\n",
        "(Iteration 2011 / 3430) loss: 1.259312"
       ]
      },
      {
       "output_type": "stream",
       "stream": "stdout",
       "text": [
        "\n",
        "(Iteration 2021 / 3430) loss: 1.103536"
       ]
      },
      {
       "output_type": "stream",
       "stream": "stdout",
       "text": [
        "\n",
        "(Iteration 2031 / 3430) loss: 1.236639"
       ]
      },
      {
       "output_type": "stream",
       "stream": "stdout",
       "text": [
        "\n",
        "(Iteration 2041 / 3430) loss: 1.380943"
       ]
      },
      {
       "output_type": "stream",
       "stream": "stdout",
       "text": [
        "\n",
        "(Iteration 2051 / 3430) loss: 1.259601"
       ]
      },
      {
       "output_type": "stream",
       "stream": "stdout",
       "text": [
        "\n",
        "(Iteration 2061 / 3430) loss: 1.521209"
       ]
      },
      {
       "output_type": "stream",
       "stream": "stdout",
       "text": [
        "\n",
        "(Iteration 2071 / 3430) loss: 1.278150"
       ]
      },
      {
       "output_type": "stream",
       "stream": "stdout",
       "text": [
        "\n",
        "(Iteration 2081 / 3430) loss: 1.530749"
       ]
      },
      {
       "output_type": "stream",
       "stream": "stdout",
       "text": [
        "\n",
        "(Iteration 2091 / 3430) loss: 1.337377"
       ]
      },
      {
       "output_type": "stream",
       "stream": "stdout",
       "text": [
        "\n",
        "(Iteration 2101 / 3430) loss: 1.187416"
       ]
      },
      {
       "output_type": "stream",
       "stream": "stdout",
       "text": [
        "\n",
        "(Iteration 2111 / 3430) loss: 1.561498"
       ]
      },
      {
       "output_type": "stream",
       "stream": "stdout",
       "text": [
        "\n",
        "(Iteration 2121 / 3430) loss: 1.547370"
       ]
      },
      {
       "output_type": "stream",
       "stream": "stdout",
       "text": [
        "\n",
        "(Iteration 2131 / 3430) loss: 1.586541"
       ]
      },
      {
       "output_type": "stream",
       "stream": "stdout",
       "text": [
        "\n",
        "(Iteration 2141 / 3430) loss: 1.533091"
       ]
      },
      {
       "output_type": "stream",
       "stream": "stdout",
       "text": [
        "\n",
        "(Iteration 2151 / 3430) loss: 1.295036"
       ]
      },
      {
       "output_type": "stream",
       "stream": "stdout",
       "text": [
        "\n",
        "(Iteration 2161 / 3430) loss: 1.316162"
       ]
      },
      {
       "output_type": "stream",
       "stream": "stdout",
       "text": [
        "\n",
        "(Iteration 2171 / 3430) loss: 1.212214"
       ]
      },
      {
       "output_type": "stream",
       "stream": "stdout",
       "text": [
        "\n",
        "(Iteration 2181 / 3430) loss: 1.075434"
       ]
      },
      {
       "output_type": "stream",
       "stream": "stdout",
       "text": [
        "\n",
        "(Iteration 2191 / 3430) loss: 1.250759"
       ]
      },
      {
       "output_type": "stream",
       "stream": "stdout",
       "text": [
        "\n",
        "(Iteration 2201 / 3430) loss: 1.285847"
       ]
      },
      {
       "output_type": "stream",
       "stream": "stdout",
       "text": [
        "\n",
        "(Iteration 2211 / 3430) loss: 1.389524"
       ]
      },
      {
       "output_type": "stream",
       "stream": "stdout",
       "text": [
        "\n",
        "(Iteration 2221 / 3430) loss: 1.295924"
       ]
      },
      {
       "output_type": "stream",
       "stream": "stdout",
       "text": [
        "\n",
        "(Iteration 2231 / 3430) loss: 1.242099"
       ]
      },
      {
       "output_type": "stream",
       "stream": "stdout",
       "text": [
        "\n",
        "(Iteration 2241 / 3430) loss: 1.112489"
       ]
      },
      {
       "output_type": "stream",
       "stream": "stdout",
       "text": [
        "\n",
        "(Iteration 2251 / 3430) loss: 1.234301"
       ]
      },
      {
       "output_type": "stream",
       "stream": "stdout",
       "text": [
        "\n",
        "(Iteration 2261 / 3430) loss: 1.347003"
       ]
      },
      {
       "output_type": "stream",
       "stream": "stdout",
       "text": [
        "\n",
        "(Iteration 2271 / 3430) loss: 1.277439"
       ]
      },
      {
       "output_type": "stream",
       "stream": "stdout",
       "text": [
        "\n",
        "(Iteration 2281 / 3430) loss: 1.232472"
       ]
      },
      {
       "output_type": "stream",
       "stream": "stdout",
       "text": [
        "\n",
        "(Iteration 2291 / 3430) loss: 1.344129"
       ]
      },
      {
       "output_type": "stream",
       "stream": "stdout",
       "text": [
        "\n",
        "(Iteration 2301 / 3430) loss: 1.187756"
       ]
      },
      {
       "output_type": "stream",
       "stream": "stdout",
       "text": [
        "\n",
        "(Iteration 2311 / 3430) loss: 1.197956"
       ]
      },
      {
       "output_type": "stream",
       "stream": "stdout",
       "text": [
        "\n",
        "(Iteration 2321 / 3430) loss: 1.286088"
       ]
      },
      {
       "output_type": "stream",
       "stream": "stdout",
       "text": [
        "\n",
        "(Iteration 2331 / 3430) loss: 1.148894"
       ]
      },
      {
       "output_type": "stream",
       "stream": "stdout",
       "text": [
        "\n",
        "(Iteration 2341 / 3430) loss: 1.192105"
       ]
      },
      {
       "output_type": "stream",
       "stream": "stdout",
       "text": [
        "\n",
        "(Iteration 2351 / 3430) loss: 1.265470"
       ]
      },
      {
       "output_type": "stream",
       "stream": "stdout",
       "text": [
        "\n",
        "(Iteration 2361 / 3430) loss: 1.368914"
       ]
      },
      {
       "output_type": "stream",
       "stream": "stdout",
       "text": [
        "\n",
        "(Iteration 2371 / 3430) loss: 1.312739"
       ]
      },
      {
       "output_type": "stream",
       "stream": "stdout",
       "text": [
        "\n",
        "(Iteration 2381 / 3430) loss: 1.299288"
       ]
      },
      {
       "output_type": "stream",
       "stream": "stdout",
       "text": [
        "\n",
        "(Iteration 2391 / 3430) loss: 1.214056"
       ]
      },
      {
       "output_type": "stream",
       "stream": "stdout",
       "text": [
        "\n",
        "(Iteration 2401 / 3430) loss: 1.224920"
       ]
      },
      {
       "output_type": "stream",
       "stream": "stdout",
       "text": [
        "\n",
        "(Iteration 2411 / 3430) loss: 1.203742"
       ]
      },
      {
       "output_type": "stream",
       "stream": "stdout",
       "text": [
        "\n",
        "(Iteration 2421 / 3430) loss: 1.452714"
       ]
      },
      {
       "output_type": "stream",
       "stream": "stdout",
       "text": [
        "\n",
        "(Iteration 2431 / 3430) loss: 1.409355"
       ]
      },
      {
       "output_type": "stream",
       "stream": "stdout",
       "text": [
        "\n",
        "(Iteration 2441 / 3430) loss: 1.309312"
       ]
      },
      {
       "output_type": "stream",
       "stream": "stdout",
       "text": [
        "\n",
        "(Epoch 5 / 7) train acc: 0.568000; val_acc: 0.500000"
       ]
      },
      {
       "output_type": "stream",
       "stream": "stdout",
       "text": [
        "\n",
        "(Iteration 2451 / 3430) loss: 1.377320\n",
        "(Iteration 2461 / 3430) loss: 1.470616"
       ]
      },
      {
       "output_type": "stream",
       "stream": "stdout",
       "text": [
        "\n",
        "(Iteration 2471 / 3430) loss: 1.261455"
       ]
      },
      {
       "output_type": "stream",
       "stream": "stdout",
       "text": [
        "\n",
        "(Iteration 2481 / 3430) loss: 1.318056"
       ]
      },
      {
       "output_type": "stream",
       "stream": "stdout",
       "text": [
        "\n",
        "(Iteration 2491 / 3430) loss: 1.244395"
       ]
      },
      {
       "output_type": "stream",
       "stream": "stdout",
       "text": [
        "\n",
        "(Iteration 2501 / 3430) loss: 1.195602"
       ]
      },
      {
       "output_type": "stream",
       "stream": "stdout",
       "text": [
        "\n",
        "(Iteration 2511 / 3430) loss: 1.362282"
       ]
      },
      {
       "output_type": "stream",
       "stream": "stdout",
       "text": [
        "\n",
        "(Iteration 2521 / 3430) loss: 1.240572"
       ]
      },
      {
       "output_type": "stream",
       "stream": "stdout",
       "text": [
        "\n",
        "(Iteration 2531 / 3430) loss: 1.504379"
       ]
      },
      {
       "output_type": "stream",
       "stream": "stdout",
       "text": [
        "\n",
        "(Iteration 2541 / 3430) loss: 1.480847"
       ]
      },
      {
       "output_type": "stream",
       "stream": "stdout",
       "text": [
        "\n",
        "(Iteration 2551 / 3430) loss: 1.257072"
       ]
      },
      {
       "output_type": "stream",
       "stream": "stdout",
       "text": [
        "\n",
        "(Iteration 2561 / 3430) loss: 1.310420"
       ]
      },
      {
       "output_type": "stream",
       "stream": "stdout",
       "text": [
        "\n",
        "(Iteration 2571 / 3430) loss: 1.303761"
       ]
      },
      {
       "output_type": "stream",
       "stream": "stdout",
       "text": [
        "\n",
        "(Iteration 2581 / 3430) loss: 1.326069"
       ]
      },
      {
       "output_type": "stream",
       "stream": "stdout",
       "text": [
        "\n",
        "(Iteration 2591 / 3430) loss: 1.321944"
       ]
      },
      {
       "output_type": "stream",
       "stream": "stdout",
       "text": [
        "\n",
        "(Iteration 2601 / 3430) loss: 1.287346"
       ]
      },
      {
       "output_type": "stream",
       "stream": "stdout",
       "text": [
        "\n",
        "(Iteration 2611 / 3430) loss: 1.292137"
       ]
      },
      {
       "output_type": "stream",
       "stream": "stdout",
       "text": [
        "\n",
        "(Iteration 2621 / 3430) loss: 1.190322"
       ]
      },
      {
       "output_type": "stream",
       "stream": "stdout",
       "text": [
        "\n",
        "(Iteration 2631 / 3430) loss: 1.497631"
       ]
      },
      {
       "output_type": "stream",
       "stream": "stdout",
       "text": [
        "\n",
        "(Iteration 2641 / 3430) loss: 1.267955"
       ]
      },
      {
       "output_type": "stream",
       "stream": "stdout",
       "text": [
        "\n",
        "(Iteration 2651 / 3430) loss: 1.340255"
       ]
      },
      {
       "output_type": "stream",
       "stream": "stdout",
       "text": [
        "\n",
        "(Iteration 2661 / 3430) loss: 1.183545"
       ]
      },
      {
       "output_type": "stream",
       "stream": "stdout",
       "text": [
        "\n",
        "(Iteration 2671 / 3430) loss: 1.308699"
       ]
      },
      {
       "output_type": "stream",
       "stream": "stdout",
       "text": [
        "\n",
        "(Iteration 2681 / 3430) loss: 1.351473"
       ]
      },
      {
       "output_type": "stream",
       "stream": "stdout",
       "text": [
        "\n",
        "(Iteration 2691 / 3430) loss: 1.258596"
       ]
      },
      {
       "output_type": "stream",
       "stream": "stdout",
       "text": [
        "\n",
        "(Iteration 2701 / 3430) loss: 1.083098"
       ]
      },
      {
       "output_type": "stream",
       "stream": "stdout",
       "text": [
        "\n",
        "(Iteration 2711 / 3430) loss: 1.147620"
       ]
      },
      {
       "output_type": "stream",
       "stream": "stdout",
       "text": [
        "\n",
        "(Iteration 2721 / 3430) loss: 1.267260"
       ]
      },
      {
       "output_type": "stream",
       "stream": "stdout",
       "text": [
        "\n",
        "(Iteration 2731 / 3430) loss: 1.270770"
       ]
      },
      {
       "output_type": "stream",
       "stream": "stdout",
       "text": [
        "\n",
        "(Iteration 2741 / 3430) loss: 1.223778"
       ]
      },
      {
       "output_type": "stream",
       "stream": "stdout",
       "text": [
        "\n",
        "(Iteration 2751 / 3430) loss: 1.304566"
       ]
      },
      {
       "output_type": "stream",
       "stream": "stdout",
       "text": [
        "\n",
        "(Iteration 2761 / 3430) loss: 1.290484"
       ]
      },
      {
       "output_type": "stream",
       "stream": "stdout",
       "text": [
        "\n",
        "(Iteration 2771 / 3430) loss: 1.158152"
       ]
      },
      {
       "output_type": "stream",
       "stream": "stdout",
       "text": [
        "\n",
        "(Iteration 2781 / 3430) loss: 1.183836"
       ]
      },
      {
       "output_type": "stream",
       "stream": "stdout",
       "text": [
        "\n",
        "(Iteration 2791 / 3430) loss: 1.406066"
       ]
      },
      {
       "output_type": "stream",
       "stream": "stdout",
       "text": [
        "\n",
        "(Iteration 2801 / 3430) loss: 1.275248"
       ]
      },
      {
       "output_type": "stream",
       "stream": "stdout",
       "text": [
        "\n",
        "(Iteration 2811 / 3430) loss: 1.078336"
       ]
      },
      {
       "output_type": "stream",
       "stream": "stdout",
       "text": [
        "\n",
        "(Iteration 2821 / 3430) loss: 1.178852"
       ]
      },
      {
       "output_type": "stream",
       "stream": "stdout",
       "text": [
        "\n",
        "(Iteration 2831 / 3430) loss: 1.133887"
       ]
      },
      {
       "output_type": "stream",
       "stream": "stdout",
       "text": [
        "\n",
        "(Iteration 2841 / 3430) loss: 1.390571"
       ]
      },
      {
       "output_type": "stream",
       "stream": "stdout",
       "text": [
        "\n",
        "(Iteration 2851 / 3430) loss: 1.336321"
       ]
      },
      {
       "output_type": "stream",
       "stream": "stdout",
       "text": [
        "\n",
        "(Iteration 2861 / 3430) loss: 1.287536"
       ]
      },
      {
       "output_type": "stream",
       "stream": "stdout",
       "text": [
        "\n",
        "(Iteration 2871 / 3430) loss: 1.365798"
       ]
      },
      {
       "output_type": "stream",
       "stream": "stdout",
       "text": [
        "\n",
        "(Iteration 2881 / 3430) loss: 0.968087"
       ]
      },
      {
       "output_type": "stream",
       "stream": "stdout",
       "text": [
        "\n",
        "(Iteration 2891 / 3430) loss: 1.372077"
       ]
      },
      {
       "output_type": "stream",
       "stream": "stdout",
       "text": [
        "\n",
        "(Iteration 2901 / 3430) loss: 1.365284"
       ]
      },
      {
       "output_type": "stream",
       "stream": "stdout",
       "text": [
        "\n",
        "(Iteration 2911 / 3430) loss: 1.214375"
       ]
      },
      {
       "output_type": "stream",
       "stream": "stdout",
       "text": [
        "\n",
        "(Iteration 2921 / 3430) loss: 1.288113"
       ]
      },
      {
       "output_type": "stream",
       "stream": "stdout",
       "text": [
        "\n",
        "(Iteration 2931 / 3430) loss: 1.337849"
       ]
      },
      {
       "output_type": "stream",
       "stream": "stdout",
       "text": [
        "\n",
        "(Epoch 6 / 7) train acc: 0.534000; val_acc: 0.509000"
       ]
      },
      {
       "output_type": "stream",
       "stream": "stdout",
       "text": [
        "\n",
        "(Iteration 2941 / 3430) loss: 1.348715\n",
        "(Iteration 2951 / 3430) loss: 1.163362"
       ]
      },
      {
       "output_type": "stream",
       "stream": "stdout",
       "text": [
        "\n",
        "(Iteration 2961 / 3430) loss: 1.458802"
       ]
      },
      {
       "output_type": "stream",
       "stream": "stdout",
       "text": [
        "\n",
        "(Iteration 2971 / 3430) loss: 1.341387"
       ]
      },
      {
       "output_type": "stream",
       "stream": "stdout",
       "text": [
        "\n",
        "(Iteration 2981 / 3430) loss: 1.105578"
       ]
      },
      {
       "output_type": "stream",
       "stream": "stdout",
       "text": [
        "\n",
        "(Iteration 2991 / 3430) loss: 1.364377"
       ]
      },
      {
       "output_type": "stream",
       "stream": "stdout",
       "text": [
        "\n",
        "(Iteration 3001 / 3430) loss: 1.296747"
       ]
      },
      {
       "output_type": "stream",
       "stream": "stdout",
       "text": [
        "\n",
        "(Iteration 3011 / 3430) loss: 1.171225"
       ]
      },
      {
       "output_type": "stream",
       "stream": "stdout",
       "text": [
        "\n",
        "(Iteration 3021 / 3430) loss: 1.178562"
       ]
      },
      {
       "output_type": "stream",
       "stream": "stdout",
       "text": [
        "\n",
        "(Iteration 3031 / 3430) loss: 1.343313"
       ]
      },
      {
       "output_type": "stream",
       "stream": "stdout",
       "text": [
        "\n",
        "(Iteration 3041 / 3430) loss: 1.397522"
       ]
      },
      {
       "output_type": "stream",
       "stream": "stdout",
       "text": [
        "\n",
        "(Iteration 3051 / 3430) loss: 1.074450"
       ]
      },
      {
       "output_type": "stream",
       "stream": "stdout",
       "text": [
        "\n",
        "(Iteration 3061 / 3430) loss: 1.153214"
       ]
      },
      {
       "output_type": "stream",
       "stream": "stdout",
       "text": [
        "\n",
        "(Iteration 3071 / 3430) loss: 1.216517"
       ]
      },
      {
       "output_type": "stream",
       "stream": "stdout",
       "text": [
        "\n",
        "(Iteration 3081 / 3430) loss: 1.484430"
       ]
      },
      {
       "output_type": "stream",
       "stream": "stdout",
       "text": [
        "\n",
        "(Iteration 3091 / 3430) loss: 1.102643"
       ]
      },
      {
       "output_type": "stream",
       "stream": "stdout",
       "text": [
        "\n",
        "(Iteration 3101 / 3430) loss: 1.240814"
       ]
      },
      {
       "output_type": "stream",
       "stream": "stdout",
       "text": [
        "\n",
        "(Iteration 3111 / 3430) loss: 1.175555"
       ]
      },
      {
       "output_type": "stream",
       "stream": "stdout",
       "text": [
        "\n",
        "(Iteration 3121 / 3430) loss: 1.147461"
       ]
      },
      {
       "output_type": "stream",
       "stream": "stdout",
       "text": [
        "\n",
        "(Iteration 3131 / 3430) loss: 1.381362"
       ]
      },
      {
       "output_type": "stream",
       "stream": "stdout",
       "text": [
        "\n",
        "(Iteration 3141 / 3430) loss: 1.090640"
       ]
      },
      {
       "output_type": "stream",
       "stream": "stdout",
       "text": [
        "\n",
        "(Iteration 3151 / 3430) loss: 1.162873"
       ]
      },
      {
       "output_type": "stream",
       "stream": "stdout",
       "text": [
        "\n",
        "(Iteration 3161 / 3430) loss: 1.578124"
       ]
      },
      {
       "output_type": "stream",
       "stream": "stdout",
       "text": [
        "\n",
        "(Iteration 3171 / 3430) loss: 1.399112"
       ]
      },
      {
       "output_type": "stream",
       "stream": "stdout",
       "text": [
        "\n",
        "(Iteration 3181 / 3430) loss: 1.384366"
       ]
      },
      {
       "output_type": "stream",
       "stream": "stdout",
       "text": [
        "\n",
        "(Iteration 3191 / 3430) loss: 1.625029"
       ]
      },
      {
       "output_type": "stream",
       "stream": "stdout",
       "text": [
        "\n",
        "(Iteration 3201 / 3430) loss: 1.377527"
       ]
      },
      {
       "output_type": "stream",
       "stream": "stdout",
       "text": [
        "\n",
        "(Iteration 3211 / 3430) loss: 1.162413"
       ]
      },
      {
       "output_type": "stream",
       "stream": "stdout",
       "text": [
        "\n",
        "(Iteration 3221 / 3430) loss: 1.257357"
       ]
      },
      {
       "output_type": "stream",
       "stream": "stdout",
       "text": [
        "\n",
        "(Iteration 3231 / 3430) loss: 1.325633"
       ]
      },
      {
       "output_type": "stream",
       "stream": "stdout",
       "text": [
        "\n",
        "(Iteration 3241 / 3430) loss: 1.348479"
       ]
      },
      {
       "output_type": "stream",
       "stream": "stdout",
       "text": [
        "\n",
        "(Iteration 3251 / 3430) loss: 1.151469"
       ]
      },
      {
       "output_type": "stream",
       "stream": "stdout",
       "text": [
        "\n",
        "(Iteration 3261 / 3430) loss: 1.234029"
       ]
      },
      {
       "output_type": "stream",
       "stream": "stdout",
       "text": [
        "\n",
        "(Iteration 3271 / 3430) loss: 1.269390"
       ]
      },
      {
       "output_type": "stream",
       "stream": "stdout",
       "text": [
        "\n",
        "(Iteration 3281 / 3430) loss: 1.201958"
       ]
      },
      {
       "output_type": "stream",
       "stream": "stdout",
       "text": [
        "\n",
        "(Iteration 3291 / 3430) loss: 1.389012"
       ]
      },
      {
       "output_type": "stream",
       "stream": "stdout",
       "text": [
        "\n",
        "(Iteration 3301 / 3430) loss: 1.000048"
       ]
      },
      {
       "output_type": "stream",
       "stream": "stdout",
       "text": [
        "\n",
        "(Iteration 3311 / 3430) loss: 1.133834"
       ]
      },
      {
       "output_type": "stream",
       "stream": "stdout",
       "text": [
        "\n",
        "(Iteration 3321 / 3430) loss: 1.243220"
       ]
      },
      {
       "output_type": "stream",
       "stream": "stdout",
       "text": [
        "\n",
        "(Iteration 3331 / 3430) loss: 1.431067"
       ]
      },
      {
       "output_type": "stream",
       "stream": "stdout",
       "text": [
        "\n",
        "(Iteration 3341 / 3430) loss: 1.083932"
       ]
      },
      {
       "output_type": "stream",
       "stream": "stdout",
       "text": [
        "\n",
        "(Iteration 3351 / 3430) loss: 1.146178"
       ]
      },
      {
       "output_type": "stream",
       "stream": "stdout",
       "text": [
        "\n",
        "(Iteration 3361 / 3430) loss: 1.233744"
       ]
      },
      {
       "output_type": "stream",
       "stream": "stdout",
       "text": [
        "\n",
        "(Iteration 3371 / 3430) loss: 1.186446"
       ]
      },
      {
       "output_type": "stream",
       "stream": "stdout",
       "text": [
        "\n",
        "(Iteration 3381 / 3430) loss: 1.243578"
       ]
      },
      {
       "output_type": "stream",
       "stream": "stdout",
       "text": [
        "\n",
        "(Iteration 3391 / 3430) loss: 1.169852"
       ]
      },
      {
       "output_type": "stream",
       "stream": "stdout",
       "text": [
        "\n",
        "(Iteration 3401 / 3430) loss: 1.199913"
       ]
      },
      {
       "output_type": "stream",
       "stream": "stdout",
       "text": [
        "\n",
        "(Iteration 3411 / 3430) loss: 1.371085"
       ]
      },
      {
       "output_type": "stream",
       "stream": "stdout",
       "text": [
        "\n",
        "(Iteration 3421 / 3430) loss: 1.092989"
       ]
      },
      {
       "output_type": "stream",
       "stream": "stdout",
       "text": [
        "\n",
        "(Epoch 7 / 7) train acc: 0.556000; val_acc: 0.490000"
       ]
      },
      {
       "output_type": "stream",
       "stream": "stdout",
       "text": [
        "\n"
       ]
      }
     ],
     "prompt_number": 10
    },
    {
     "cell_type": "code",
     "collapsed": false,
     "input": [
      "# Run this cell to visualize training loss and train / val accuracy\n",
      "\n",
      "plt.subplot(2, 1, 1)\n",
      "plt.title('Training loss')\n",
      "plt.plot(solver.loss_history, 'o')\n",
      "plt.xlabel('Iteration')\n",
      "\n",
      "plt.subplot(2, 1, 2)\n",
      "plt.title('Accuracy')\n",
      "plt.plot(solver.train_acc_history, '-o', label='train')\n",
      "plt.plot(solver.val_acc_history, '-o', label='val')\n",
      "plt.plot([0.5] * len(solver.val_acc_history), 'k--')\n",
      "plt.xlabel('Epoch')\n",
      "plt.legend(loc='lower right')\n",
      "plt.gcf().set_size_inches(15, 12)\n",
      "plt.show()"
     ],
     "language": "python",
     "metadata": {},
     "outputs": [
      {
       "metadata": {},
       "output_type": "display_data",
       "png": "[encoded data removed]",
       "text": [
        "<matplotlib.figure.Figure at 0x7f186b9fa7d0>"
       ]
      }
     ],
     "prompt_number": 11
    },
    {
     "cell_type": "markdown",
     "metadata": {},
     "source": [
      "# Multilayer network\n",
      "Next you will implement a fully-connected network with an arbitrary number of hidden layers.\n",
      "\n",
      "Read through the `FullyConnectedNet` class in the file `cs231n/classifiers/fc_net.py`.\n",
      "\n",
      "Implement the initialization, the forward pass, and the backward pass. For the moment don't worry about implementing dropout or batch normalization; we will add those features soon."
     ]
    },
    {
     "cell_type": "heading",
     "level": 2,
     "metadata": {},
     "source": [
      "Initial loss and gradient check"
     ]
    },
    {
     "cell_type": "markdown",
     "metadata": {},
     "source": [
      "As a sanity check, run the following to check the initial loss and to gradient check the network both with and without regularization. Do the initial losses seem reasonable?\n",
      "\n",
      "For gradient checking, you should expect to see errors around 1e-6 or less."
     ]
    },
    {
     "cell_type": "code",
     "collapsed": false,
     "input": [
      "N, D, H1, H2, C = 2, 15, 20, 30, 10\n",
      "X = np.random.randn(N, D)\n",
      "y = np.random.randint(C, size=(N,))\n",
      "\n",
      "for reg in [0, 3.14]:\n",
      "  print 'Running check with reg = ', reg\n",
      "  model = FullyConnectedNet([H1, H2], input_dim=D, num_classes=C,\n",
      "                            reg=reg, weight_scale=5e-2, dtype=np.float64)\n",
      "\n",
      "  loss, grads = model.loss(X, y)\n",
      "  print 'Initial loss: ', loss\n",
      "\n",
      "  for name in sorted(grads):\n",
      "    f = lambda _: model.loss(X, y)[0]\n",
      "    grad_num = eval_numerical_gradient(f, model.params[name], verbose=False, h=1e-5)\n",
      "    print '%s relative error: %.2e' % (name, rel_error(grad_num, grads[name]))"
     ],
     "language": "python",
     "metadata": {},
     "outputs": [
      {
       "output_type": "stream",
       "stream": "stdout",
       "text": [
        "Running check with reg =  0\n",
        "Initial loss:  2.29975663869\n",
        "W1 relative error: 5.17e-07"
       ]
      },
      {
       "output_type": "stream",
       "stream": "stdout",
       "text": [
        "\n",
        "W2 relative error: 3.23e-07"
       ]
      },
      {
       "output_type": "stream",
       "stream": "stdout",
       "text": [
        "\n",
        "W3 relative error: 1.16e-07"
       ]
      },
      {
       "output_type": "stream",
       "stream": "stdout",
       "text": [
        "\n",
        "b1 relative error: 1.43e-08\n",
        "b2 relative error: 2.98e-09\n",
        "b3 relative error: 1.48e-10\n",
        "Running check with reg =  3.14\n",
        "Initial loss:  7.12058531742\n",
        "W1 relative error: 1.53e-08"
       ]
      },
      {
       "output_type": "stream",
       "stream": "stdout",
       "text": [
        "\n",
        "W2 relative error: 9.70e-07"
       ]
      },
      {
       "output_type": "stream",
       "stream": "stdout",
       "text": [
        "\n",
        "W3 relative error: 1.90e-08"
       ]
      },
      {
       "output_type": "stream",
       "stream": "stdout",
       "text": [
        "\n",
        "b1 relative error: 3.61e-09\n",
        "b2 relative error: 2.18e-09\n",
        "b3 relative error: 2.41e-10\n"
       ]
      }
     ],
     "prompt_number": 15
    },
    {
     "cell_type": "markdown",
     "metadata": {},
     "source": [
      "As another sanity check, make sure you can overfit a small dataset of 50 images. First we will try a three-layer network with 100 units in each hidden layer. You will need to tweak the learning rate and initialization scale, but you should be able to overfit and achieve 100% training accuracy within 20 epochs."
     ]
    },
    {
     "cell_type": "code",
     "collapsed": false,
     "input": [
      "# TODO: Use a three-layer Net to overfit 50 training examples.\n",
      "\n",
      "num_train = 50\n",
      "small_data = {\n",
      "  'X_train': data['X_train'][:num_train],\n",
      "  'y_train': data['y_train'][:num_train],\n",
      "  'X_val': data['X_val'],\n",
      "  'y_val': data['y_val'],\n",
      "}\n",
      "\n",
      "weight_scale = 2e-2\n",
      "learning_rate = 5e-3\n",
      "model = FullyConnectedNet([100, 100],\n",
      "              weight_scale=weight_scale, dtype=np.float64)\n",
      "solver = Solver(model, small_data,\n",
      "                print_every=10, num_epochs=20, batch_size=25,\n",
      "                update_rule='sgd',\n",
      "                optim_config={\n",
      "                  'learning_rate': learning_rate,\n",
      "                }\n",
      "         )\n",
      "solver.train()\n",
      "\n",
      "plt.plot(solver.loss_history, 'o')\n",
      "plt.title('Training loss history')\n",
      "plt.xlabel('Iteration')\n",
      "plt.ylabel('Training loss')\n",
      "plt.show()"
     ],
     "language": "python",
     "metadata": {
      "scrolled": false
     },
     "outputs": [
      {
       "output_type": "stream",
       "stream": "stdout",
       "text": [
        "(Iteration 1 / 40) loss: 3.138151\n",
        "(Epoch 0 / 20) train acc: 0.220000; val_acc: 0.130000\n",
        "(Epoch 1 / 20) train acc: 0.360000; val_acc: 0.123000"
       ]
      },
      {
       "output_type": "stream",
       "stream": "stdout",
       "text": [
        "\n",
        "(Epoch 2 / 20) train acc: 0.600000; val_acc: 0.147000\n",
        "(Epoch 3 / 20) train acc: 0.760000; val_acc: 0.176000"
       ]
      },
      {
       "output_type": "stream",
       "stream": "stdout",
       "text": [
        "\n",
        "(Epoch 4 / 20) train acc: 0.760000; val_acc: 0.157000\n",
        "(Epoch 5 / 20) train acc: 1.000000; val_acc: 0.163000"
       ]
      },
      {
       "output_type": "stream",
       "stream": "stdout",
       "text": [
        "\n",
        "(Iteration 11 / 40) loss: 0.398670\n",
        "(Epoch 6 / 20) train acc: 1.000000; val_acc: 0.152000\n",
        "(Epoch 7 / 20) train acc: 1.000000; val_acc: 0.156000"
       ]
      },
      {
       "output_type": "stream",
       "stream": "stdout",
       "text": [
        "\n",
        "(Epoch 8 / 20) train acc: 0.980000; val_acc: 0.156000\n",
        "(Epoch 9 / 20) train acc: 1.000000; val_acc: 0.154000"
       ]
      },
      {
       "output_type": "stream",
       "stream": "stdout",
       "text": [
        "\n",
        "(Epoch 10 / 20) train acc: 1.000000; val_acc: 0.157000\n",
        "(Iteration 21 / 40) loss: 0.148016\n",
        "(Epoch 11 / 20) train acc: 1.000000; val_acc: 0.169000"
       ]
      },
      {
       "output_type": "stream",
       "stream": "stdout",
       "text": [
        "\n",
        "(Epoch 12 / 20) train acc: 1.000000; val_acc: 0.161000\n",
        "(Epoch 13 / 20) train acc: 1.000000; val_acc: 0.153000"
       ]
      },
      {
       "output_type": "stream",
       "stream": "stdout",
       "text": [
        "\n",
        "(Epoch 14 / 20) train acc: 1.000000; val_acc: 0.154000\n",
        "(Epoch 15 / 20) train acc: 1.000000; val_acc: 0.154000"
       ]
      },
      {
       "output_type": "stream",
       "stream": "stdout",
       "text": [
        "\n",
        "(Iteration 31 / 40) loss: 0.035302\n",
        "(Epoch 16 / 20) train acc: 1.000000; val_acc: 0.162000\n",
        "(Epoch 17 / 20) train acc: 1.000000; val_acc: 0.164000"
       ]
      },
      {
       "output_type": "stream",
       "stream": "stdout",
       "text": [
        "\n",
        "(Epoch 18 / 20) train acc: 1.000000; val_acc: 0.162000\n",
        "(Epoch 19 / 20) train acc: 1.000000; val_acc: 0.158000"
       ]
      },
      {
       "output_type": "stream",
       "stream": "stdout",
       "text": [
        "\n",
        "(Epoch 20 / 20) train acc: 1.000000; val_acc: 0.157000\n"
       ]
      },
      {
       "metadata": {},
       "output_type": "display_data",
       "png": "[encoded data removed]",
       "text": [
        "<matplotlib.figure.Figure at 0x7f1869e55ed0>"
       ]
      }
     ],
     "prompt_number": 22
    },
    {
     "cell_type": "markdown",
     "metadata": {},
     "source": [
      "Now try to use a five-layer network with 100 units on each layer to overfit 50 training examples. Again you will have to adjust the learning rate and weight initialization, but you should be able to achieve 100% training accuracy within 20 epochs."
     ]
    },
    {
     "cell_type": "code",
     "collapsed": false,
     "input": [
      "# TODO: Use a five-layer Net to overfit 50 training examples.\n",
      "\n",
      "num_train = 50\n",
      "small_data = {\n",
      "  'X_train': data['X_train'][:num_train],\n",
      "  'y_train': data['y_train'][:num_train],\n",
      "  'X_val': data['X_val'],\n",
      "  'y_val': data['y_val'],\n",
      "}\n",
      "\n",
      "learning_rate = 1e-3\n",
      "weight_scale = 1e-1\n",
      "model = FullyConnectedNet([100, 100, 100, 100],\n",
      "                weight_scale=weight_scale, dtype=np.float64)\n",
      "solver = Solver(model, small_data,\n",
      "                print_every=10, num_epochs=20, batch_size=25,\n",
      "                update_rule='sgd',\n",
      "                optim_config={\n",
      "                  'learning_rate': learning_rate,\n",
      "                }\n",
      "         )\n",
      "solver.train()\n",
      "\n",
      "plt.plot(solver.loss_history, 'o')\n",
      "plt.title('Training loss history')\n",
      "plt.xlabel('Iteration')\n",
      "plt.ylabel('Training loss')\n",
      "plt.show()"
     ],
     "language": "python",
     "metadata": {},
     "outputs": [
      {
       "output_type": "stream",
       "stream": "stdout",
       "text": [
        "(Iteration 1 / 40) loss: 120.566792\n",
        "(Epoch 0 / 20) train acc: 0.140000; val_acc: 0.127000\n",
        "(Epoch 1 / 20) train acc: 0.240000; val_acc: 0.116000"
       ]
      },
      {
       "output_type": "stream",
       "stream": "stdout",
       "text": [
        "\n",
        "(Epoch 2 / 20) train acc: 0.440000; val_acc: 0.126000\n",
        "(Epoch 3 / 20) train acc: 0.620000; val_acc: 0.123000"
       ]
      },
      {
       "output_type": "stream",
       "stream": "stdout",
       "text": [
        "\n",
        "(Epoch 4 / 20) train acc: 0.760000; val_acc: 0.122000\n",
        "(Epoch 5 / 20) train acc: 0.960000; val_acc: 0.119000"
       ]
      },
      {
       "output_type": "stream",
       "stream": "stdout",
       "text": [
        "\n",
        "(Iteration 11 / 40) loss: 0.726310\n",
        "(Epoch 6 / 20) train acc: 1.000000; val_acc: 0.131000\n",
        "(Epoch 7 / 20) train acc: 1.000000; val_acc: 0.128000"
       ]
      },
      {
       "output_type": "stream",
       "stream": "stdout",
       "text": [
        "\n",
        "(Epoch 8 / 20) train acc: 1.000000; val_acc: 0.129000\n",
        "(Epoch 9 / 20) train acc: 1.000000; val_acc: 0.129000"
       ]
      },
      {
       "output_type": "stream",
       "stream": "stdout",
       "text": [
        "\n",
        "(Epoch 10 / 20) train acc: 1.000000; val_acc: 0.129000\n",
        "(Iteration 21 / 40) loss: 0.000038"
       ]
      },
      {
       "output_type": "stream",
       "stream": "stdout",
       "text": [
        "\n",
        "(Epoch 11 / 20) train acc: 1.000000; val_acc: 0.129000\n",
        "(Epoch 12 / 20) train acc: 1.000000; val_acc: 0.129000"
       ]
      },
      {
       "output_type": "stream",
       "stream": "stdout",
       "text": [
        "\n",
        "(Epoch 13 / 20) train acc: 1.000000; val_acc: 0.129000\n",
        "(Epoch 14 / 20) train acc: 1.000000; val_acc: 0.129000"
       ]
      },
      {
       "output_type": "stream",
       "stream": "stdout",
       "text": [
        "\n",
        "(Epoch 15 / 20) train acc: 1.000000; val_acc: 0.129000\n",
        "(Iteration 31 / 40) loss: 0.000277"
       ]
      },
      {
       "output_type": "stream",
       "stream": "stdout",
       "text": [
        "\n",
        "(Epoch 16 / 20) train acc: 1.000000; val_acc: 0.129000\n",
        "(Epoch 17 / 20) train acc: 1.000000; val_acc: 0.129000"
       ]
      },
      {
       "output_type": "stream",
       "stream": "stdout",
       "text": [
        "\n",
        "(Epoch 18 / 20) train acc: 1.000000; val_acc: 0.129000\n",
        "(Epoch 19 / 20) train acc: 1.000000; val_acc: 0.129000"
       ]
      },
      {
       "output_type": "stream",
       "stream": "stdout",
       "text": [
        "\n",
        "(Epoch 20 / 20) train acc: 1.000000; val_acc: 0.129000\n"
       ]
      },
      {
       "metadata": {},
       "output_type": "display_data",
       "png": "[encoded data removed]",
       "text": [
        "<matplotlib.figure.Figure at 0x7f186b804410>"
       ]
      }
     ],
     "prompt_number": 39
    },
    {
     "cell_type": "markdown",
     "metadata": {},
     "source": [
      "# Inline question: \n",
      "Did you notice anything about the comparative difficulty of training the three-layer net vs training the five layer net?\n",
      "\n",
      "# Answer:\n",
      "[FILL THIS IN]\n"
     ]
    },
    {
     "cell_type": "markdown",
     "metadata": {},
     "source": [
      "# Update rules\n",
      "So far we have used vanilla stochastic gradient descent (SGD) as our update rule. More sophisticated update rules can make it easier to train deep networks. We will implement a few of the most commonly used update rules and compare them to vanilla SGD."
     ]
    },
    {
     "cell_type": "markdown",
     "metadata": {},
     "source": [
      "# SGD+Momentum\n",
      "Stochastic gradient descent with momentum is a widely used update rule that tends to make deep networks converge faster than vanilla stochstic gradient descent.\n",
      "\n",
      "Open the file `cs231n/optim.py` and read the documentation at the top of the file to make sure you understand the API. Implement the SGD+momentum update rule in the function `sgd_momentum` and run the following to check your implementation. You should see errors less than 1e-8."
     ]
    },
    {
     "cell_type": "code",
     "collapsed": false,
     "input": [
      "from cs231n.optim import sgd_momentum\n",
      "\n",
      "N, D = 4, 5\n",
      "w = np.linspace(-0.4, 0.6, num=N*D).reshape(N, D)\n",
      "dw = np.linspace(-0.6, 0.4, num=N*D).reshape(N, D)\n",
      "v = np.linspace(0.6, 0.9, num=N*D).reshape(N, D)\n",
      "\n",
      "config = {'learning_rate': 1e-3, 'velocity': v}\n",
      "next_w, _ = sgd_momentum(w, dw, config=config)\n",
      "\n",
      "expected_next_w = np.asarray([\n",
      "  [ 0.1406,      0.20738947,  0.27417895,  0.34096842,  0.40775789],\n",
      "  [ 0.47454737,  0.54133684,  0.60812632,  0.67491579,  0.74170526],\n",
      "  [ 0.80849474,  0.87528421,  0.94207368,  1.00886316,  1.07565263],\n",
      "  [ 1.14244211,  1.20923158,  1.27602105,  1.34281053,  1.4096    ]])\n",
      "expected_velocity = np.asarray([\n",
      "  [ 0.5406,      0.55475789,  0.56891579, 0.58307368,  0.59723158],\n",
      "  [ 0.61138947,  0.62554737,  0.63970526,  0.65386316,  0.66802105],\n",
      "  [ 0.68217895,  0.69633684,  0.71049474,  0.72465263,  0.73881053],\n",
      "  [ 0.75296842,  0.76712632,  0.78128421,  0.79544211,  0.8096    ]])\n",
      "\n",
      "print 'next_w error: ', rel_error(next_w, expected_next_w)\n",
      "print 'velocity error: ', rel_error(expected_velocity, config['velocity'])"
     ],
     "language": "python",
     "metadata": {},
     "outputs": [
      {
       "output_type": "stream",
       "stream": "stdout",
       "text": [
        "next_w error:  8.88234703351e-09\n",
        "velocity error:  4.26928774328e-09\n"
       ]
      }
     ],
     "prompt_number": 40
    },
    {
     "cell_type": "markdown",
     "metadata": {},
     "source": [
      "Once you have done so, run the following to train a six-layer network with both SGD and SGD+momentum. You should see the SGD+momentum update rule converge faster."
     ]
    },
    {
     "cell_type": "code",
     "collapsed": false,
     "input": [
      "num_train = 4000\n",
      "small_data = {\n",
      "  'X_train': data['X_train'][:num_train],\n",
      "  'y_train': data['y_train'][:num_train],\n",
      "  'X_val': data['X_val'],\n",
      "  'y_val': data['y_val'],\n",
      "}\n",
      "\n",
      "solvers = {}\n",
      "\n",
      "for update_rule in ['sgd', 'sgd_momentum']:\n",
      "  print 'running with ', update_rule\n",
      "  model = FullyConnectedNet([100, 100, 100, 100, 100], weight_scale=5e-2)\n",
      "\n",
      "  solver = Solver(model, small_data,\n",
      "                  num_epochs=5, batch_size=100,\n",
      "                  update_rule=update_rule,\n",
      "                  optim_config={\n",
      "                    'learning_rate': 1e-2,\n",
      "                  },\n",
      "                  verbose=True)\n",
      "  solvers[update_rule] = solver\n",
      "  solver.train()\n",
      "  print\n",
      "\n",
      "plt.subplot(3, 1, 1)\n",
      "plt.title('Training loss')\n",
      "plt.xlabel('Iteration')\n",
      "\n",
      "plt.subplot(3, 1, 2)\n",
      "plt.title('Training accuracy')\n",
      "plt.xlabel('Epoch')\n",
      "\n",
      "plt.subplot(3, 1, 3)\n",
      "plt.title('Validation accuracy')\n",
      "plt.xlabel('Epoch')\n",
      "\n",
      "for update_rule, solver in solvers.iteritems():\n",
      "  plt.subplot(3, 1, 1)\n",
      "  plt.plot(solver.loss_history, 'o', label=update_rule)\n",
      "  \n",
      "  plt.subplot(3, 1, 2)\n",
      "  plt.plot(solver.train_acc_history, '-o', label=update_rule)\n",
      "\n",
      "  plt.subplot(3, 1, 3)\n",
      "  plt.plot(solver.val_acc_history, '-o', label=update_rule)\n",
      "  \n",
      "for i in [1, 2, 3]:\n",
      "  plt.subplot(3, 1, i)\n",
      "  plt.legend(loc='upper center', ncol=4)\n",
      "plt.gcf().set_size_inches(15, 15)\n",
      "plt.show()"
     ],
     "language": "python",
     "metadata": {
      "scrolled": false
     },
     "outputs": [
      {
       "output_type": "stream",
       "stream": "stdout",
       "text": [
        "running with  sgd\n",
        "(Iteration 1 / 200) loss: 2.422453\n",
        "(Epoch 0 / 5) train acc: 0.119000; val_acc: 0.106000"
       ]
      },
      {
       "output_type": "stream",
       "stream": "stdout",
       "text": [
        "\n",
        "(Iteration 11 / 200) loss: 2.264115"
       ]
      },
      {
       "output_type": "stream",
       "stream": "stdout",
       "text": [
        "\n",
        "(Iteration 21 / 200) loss: 2.194848"
       ]
      },
      {
       "output_type": "stream",
       "stream": "stdout",
       "text": [
        "\n",
        "(Iteration 31 / 200) loss: 1.963139"
       ]
      },
      {
       "output_type": "stream",
       "stream": "stdout",
       "text": [
        "\n",
        "(Epoch 1 / 5) train acc: 0.300000; val_acc: 0.259000"
       ]
      },
      {
       "output_type": "stream",
       "stream": "stdout",
       "text": [
        "\n",
        "(Iteration 41 / 200) loss: 2.051286\n",
        "(Iteration 51 / 200) loss: 2.021815"
       ]
      },
      {
       "output_type": "stream",
       "stream": "stdout",
       "text": [
        "\n",
        "(Iteration 61 / 200) loss: 1.853864"
       ]
      },
      {
       "output_type": "stream",
       "stream": "stdout",
       "text": [
        "\n",
        "(Iteration 71 / 200) loss: 1.902937"
       ]
      },
      {
       "output_type": "stream",
       "stream": "stdout",
       "text": [
        "\n",
        "(Epoch 2 / 5) train acc: 0.339000; val_acc: 0.307000"
       ]
      },
      {
       "output_type": "stream",
       "stream": "stdout",
       "text": [
        "\n",
        "(Iteration 81 / 200) loss: 1.763683\n",
        "(Iteration 91 / 200) loss: 1.891719"
       ]
      },
      {
       "output_type": "stream",
       "stream": "stdout",
       "text": [
        "\n",
        "(Iteration 101 / 200) loss: 1.851778"
       ]
      },
      {
       "output_type": "stream",
       "stream": "stdout",
       "text": [
        "\n",
        "(Iteration 111 / 200) loss: 1.795648"
       ]
      },
      {
       "output_type": "stream",
       "stream": "stdout",
       "text": [
        "\n",
        "(Epoch 3 / 5) train acc: 0.364000; val_acc: 0.310000"
       ]
      },
      {
       "output_type": "stream",
       "stream": "stdout",
       "text": [
        "\n",
        "(Iteration 121 / 200) loss: 1.913706\n",
        "(Iteration 131 / 200) loss: 1.574808"
       ]
      },
      {
       "output_type": "stream",
       "stream": "stdout",
       "text": [
        "\n",
        "(Iteration 141 / 200) loss: 1.755871"
       ]
      },
      {
       "output_type": "stream",
       "stream": "stdout",
       "text": [
        "\n",
        "(Iteration 151 / 200) loss: 1.753871"
       ]
      },
      {
       "output_type": "stream",
       "stream": "stdout",
       "text": [
        "\n",
        "(Epoch 4 / 5) train acc: 0.426000; val_acc: 0.333000"
       ]
      },
      {
       "output_type": "stream",
       "stream": "stdout",
       "text": [
        "\n",
        "(Iteration 161 / 200) loss: 1.753055\n",
        "(Iteration 171 / 200) loss: 1.733246"
       ]
      },
      {
       "output_type": "stream",
       "stream": "stdout",
       "text": [
        "\n",
        "(Iteration 181 / 200) loss: 1.608559"
       ]
      },
      {
       "output_type": "stream",
       "stream": "stdout",
       "text": [
        "\n",
        "(Iteration 191 / 200) loss: 1.595817"
       ]
      },
      {
       "output_type": "stream",
       "stream": "stdout",
       "text": [
        "\n",
        "(Epoch 5 / 5) train acc: 0.390000; val_acc: 0.305000"
       ]
      },
      {
       "output_type": "stream",
       "stream": "stdout",
       "text": [
        "\n",
        "\n",
        "running with  sgd_momentum\n",
        "(Iteration 1 / 200) loss: 2.593498\n",
        "(Epoch 0 / 5) train acc: 0.094000; val_acc: 0.112000"
       ]
      },
      {
       "output_type": "stream",
       "stream": "stdout",
       "text": [
        "\n",
        "(Iteration 11 / 200) loss: 2.097660"
       ]
      },
      {
       "output_type": "stream",
       "stream": "stdout",
       "text": [
        "\n",
        "(Iteration 21 / 200) loss: 2.013098"
       ]
      },
      {
       "output_type": "stream",
       "stream": "stdout",
       "text": [
        "\n",
        "(Iteration 31 / 200) loss: 1.887529"
       ]
      },
      {
       "output_type": "stream",
       "stream": "stdout",
       "text": [
        "\n",
        "(Epoch 1 / 5) train acc: 0.322000; val_acc: 0.288000"
       ]
      },
      {
       "output_type": "stream",
       "stream": "stdout",
       "text": [
        "\n",
        "(Iteration 41 / 200) loss: 1.815998\n",
        "(Iteration 51 / 200) loss: 1.934011"
       ]
      },
      {
       "output_type": "stream",
       "stream": "stdout",
       "text": [
        "\n",
        "(Iteration 61 / 200) loss: 1.894748"
       ]
      },
      {
       "output_type": "stream",
       "stream": "stdout",
       "text": [
        "\n",
        "(Iteration 71 / 200) loss: 1.736764"
       ]
      },
      {
       "output_type": "stream",
       "stream": "stdout",
       "text": [
        "\n",
        "(Epoch 2 / 5) train acc: 0.377000; val_acc: 0.309000"
       ]
      },
      {
       "output_type": "stream",
       "stream": "stdout",
       "text": [
        "\n",
        "(Iteration 81 / 200) loss: 1.604241\n",
        "(Iteration 91 / 200) loss: 1.712276"
       ]
      },
      {
       "output_type": "stream",
       "stream": "stdout",
       "text": [
        "\n",
        "(Iteration 101 / 200) loss: 1.505860"
       ]
      },
      {
       "output_type": "stream",
       "stream": "stdout",
       "text": [
        "\n",
        "(Iteration 111 / 200) loss: 1.868911"
       ]
      },
      {
       "output_type": "stream",
       "stream": "stdout",
       "text": [
        "\n",
        "(Epoch 3 / 5) train acc: 0.392000; val_acc: 0.323000"
       ]
      },
      {
       "output_type": "stream",
       "stream": "stdout",
       "text": [
        "\n",
        "(Iteration 121 / 200) loss: 1.556533\n",
        "(Iteration 131 / 200) loss: 1.726982"
       ]
      },
      {
       "output_type": "stream",
       "stream": "stdout",
       "text": [
        "\n",
        "(Iteration 141 / 200) loss: 1.614966"
       ]
      },
      {
       "output_type": "stream",
       "stream": "stdout",
       "text": [
        "\n",
        "(Iteration 151 / 200) loss: 1.519625"
       ]
      },
      {
       "output_type": "stream",
       "stream": "stdout",
       "text": [
        "\n",
        "(Epoch 4 / 5) train acc: 0.452000; val_acc: 0.332000"
       ]
      },
      {
       "output_type": "stream",
       "stream": "stdout",
       "text": [
        "\n",
        "(Iteration 161 / 200) loss: 1.390535\n",
        "(Iteration 171 / 200) loss: 1.539208"
       ]
      },
      {
       "output_type": "stream",
       "stream": "stdout",
       "text": [
        "\n",
        "(Iteration 181 / 200) loss: 1.665970"
       ]
      },
      {
       "output_type": "stream",
       "stream": "stdout",
       "text": [
        "\n",
        "(Iteration 191 / 200) loss: 1.570882"
       ]
      },
      {
       "output_type": "stream",
       "stream": "stdout",
       "text": [
        "\n",
        "(Epoch 5 / 5) train acc: 0.521000; val_acc: 0.369000"
       ]
      },
      {
       "output_type": "stream",
       "stream": "stdout",
       "text": [
        "\n",
        "\n"
       ]
      },
      {
       "metadata": {},
       "output_type": "display_data",
       "png": "[encoded data removed]",
       "text": [
        "<matplotlib.figure.Figure at 0x7f1869e54550>"
       ]
      }
     ],
     "prompt_number": 42
    },
    {
     "cell_type": "markdown",
     "metadata": {},
     "source": [
      "# RMSProp and Adam\n",
      "RMSProp [1] and Adam [2] are update rules that set per-parameter learning rates by using a running average of the second moments of gradients.\n",
      "\n",
      "In the file `cs231n/optim.py`, implement the RMSProp update rule in the `rmsprop` function and implement the Adam update rule in the `adam` function, and check your implementations using the tests below.\n",
      "\n",
      "[1] Tijmen Tieleman and Geoffrey Hinton. \"Lecture 6.5-rmsprop: Divide the gradient by a running average of its recent magnitude.\" COURSERA: Neural Networks for Machine Learning 4 (2012).\n",
      "\n",
      "[2] Diederik Kingma and Jimmy Ba, \"Adam: A Method for Stochastic Optimization\", ICLR 2015."
     ]
    },
    {
     "cell_type": "code",
     "collapsed": false,
     "input": [
      "# Test RMSProp implementation; you should see errors less than 1e-7\n",
      "from cs231n.optim import rmsprop\n",
      "\n",
      "N, D = 4, 5\n",
      "w = np.linspace(-0.4, 0.6, num=N*D).reshape(N, D)\n",
      "dw = np.linspace(-0.6, 0.4, num=N*D).reshape(N, D)\n",
      "cache = np.linspace(0.6, 0.9, num=N*D).reshape(N, D)\n",
      "\n",
      "config = {'learning_rate': 1e-2, 'cache': cache}\n",
      "next_w, _ = rmsprop(w, dw, config=config)\n",
      "\n",
      "expected_next_w = np.asarray([\n",
      "  [-0.39223849, -0.34037513, -0.28849239, -0.23659121, -0.18467247],\n",
      "  [-0.132737,   -0.08078555, -0.02881884,  0.02316247,  0.07515774],\n",
      "  [ 0.12716641,  0.17918792,  0.23122175,  0.28326742,  0.33532447],\n",
      "  [ 0.38739248,  0.43947102,  0.49155973,  0.54365823,  0.59576619]])\n",
      "expected_cache = np.asarray([\n",
      "  [ 0.5976,      0.6126277,   0.6277108,   0.64284931,  0.65804321],\n",
      "  [ 0.67329252,  0.68859723,  0.70395734,  0.71937285,  0.73484377],\n",
      "  [ 0.75037008,  0.7659518,   0.78158892,  0.79728144,  0.81302936],\n",
      "  [ 0.82883269,  0.84469141,  0.86060554,  0.87657507,  0.8926    ]])\n",
      "\n",
      "print 'next_w error: ', rel_error(expected_next_w, next_w)\n",
      "print 'cache error: ', rel_error(expected_cache, config['cache'])"
     ],
     "language": "python",
     "metadata": {},
     "outputs": [
      {
       "output_type": "stream",
       "stream": "stdout",
       "text": [
        "next_w error:  9.52468751104e-08\n",
        "cache error:  2.64779558072e-09\n"
       ]
      }
     ],
     "prompt_number": 44
    },
    {
     "cell_type": "code",
     "collapsed": false,
     "input": [
      "# Test Adam implementation; you should see errors around 1e-7 or less\n",
      "from cs231n.optim import adam\n",
      "\n",
      "N, D = 4, 5\n",
      "w = np.linspace(-0.4, 0.6, num=N*D).reshape(N, D)\n",
      "dw = np.linspace(-0.6, 0.4, num=N*D).reshape(N, D)\n",
      "m = np.linspace(0.6, 0.9, num=N*D).reshape(N, D)\n",
      "v = np.linspace(0.7, 0.5, num=N*D).reshape(N, D)\n",
      "\n",
      "config = {'learning_rate': 1e-2, 'm': m, 'v': v, 't': 5}\n",
      "next_w, _ = adam(w, dw, config=config)\n",
      "\n",
      "expected_next_w = np.asarray([\n",
      "  [-0.40094747, -0.34836187, -0.29577703, -0.24319299, -0.19060977],\n",
      "  [-0.1380274,  -0.08544591, -0.03286534,  0.01971428,  0.0722929],\n",
      "  [ 0.1248705,   0.17744702,  0.23002243,  0.28259667,  0.33516969],\n",
      "  [ 0.38774145,  0.44031188,  0.49288093,  0.54544852,  0.59801459]])\n",
      "expected_v = np.asarray([\n",
      "  [ 0.69966,     0.68908382,  0.67851319,  0.66794809,  0.65738853,],\n",
      "  [ 0.64683452,  0.63628604,  0.6257431,   0.61520571,  0.60467385,],\n",
      "  [ 0.59414753,  0.58362676,  0.57311152,  0.56260183,  0.55209767,],\n",
      "  [ 0.54159906,  0.53110598,  0.52061845,  0.51013645,  0.49966,   ]])\n",
      "expected_m = np.asarray([\n",
      "  [ 0.48,        0.49947368,  0.51894737,  0.53842105,  0.55789474],\n",
      "  [ 0.57736842,  0.59684211,  0.61631579,  0.63578947,  0.65526316],\n",
      "  [ 0.67473684,  0.69421053,  0.71368421,  0.73315789,  0.75263158],\n",
      "  [ 0.77210526,  0.79157895,  0.81105263,  0.83052632,  0.85      ]])\n",
      "\n",
      "print 'next_w error: ', rel_error(expected_next_w, next_w)\n",
      "print 'v error: ', rel_error(expected_v, config['v'])\n",
      "print 'm error: ', rel_error(expected_m, config['m'])"
     ],
     "language": "python",
     "metadata": {},
     "outputs": [
      {
       "output_type": "stream",
       "stream": "stdout",
       "text": [
        "next_w error:  0.207207036686\n",
        "v error:  4.20831403811e-09\n",
        "m error:  4.21496319311e-09\n"
       ]
      }
     ],
     "prompt_number": 49
    },
    {
     "cell_type": "markdown",
     "metadata": {},
     "source": [
      "Once you have debugged your RMSProp and Adam implementations, run the following to train a pair of deep networks using these new update rules:"
     ]
    },
    {
     "cell_type": "code",
     "collapsed": false,
     "input": [
      "learning_rates = {'rmsprop': 1e-4, 'adam': 1e-3}\n",
      "for update_rule in ['adam', 'rmsprop']:\n",
      "  print 'running with ', update_rule\n",
      "  model = FullyConnectedNet([100, 100, 100, 100, 100], weight_scale=5e-2)\n",
      "\n",
      "  solver = Solver(model, small_data,\n",
      "                  num_epochs=5, batch_size=100,\n",
      "                  update_rule=update_rule,\n",
      "                  optim_config={\n",
      "                    'learning_rate': learning_rates[update_rule]\n",
      "                  },\n",
      "                  verbose=True)\n",
      "  solvers[update_rule] = solver\n",
      "  solver.train()\n",
      "  print\n",
      "\n",
      "plt.subplot(3, 1, 1)\n",
      "plt.title('Training loss')\n",
      "plt.xlabel('Iteration')\n",
      "\n",
      "plt.subplot(3, 1, 2)\n",
      "plt.title('Training accuracy')\n",
      "plt.xlabel('Epoch')\n",
      "\n",
      "plt.subplot(3, 1, 3)\n",
      "plt.title('Validation accuracy')\n",
      "plt.xlabel('Epoch')\n",
      "\n",
      "for update_rule, solver in solvers.iteritems():\n",
      "  plt.subplot(3, 1, 1)\n",
      "  plt.plot(solver.loss_history, 'o', label=update_rule)\n",
      "  \n",
      "  plt.subplot(3, 1, 2)\n",
      "  plt.plot(solver.train_acc_history, '-o', label=update_rule)\n",
      "\n",
      "  plt.subplot(3, 1, 3)\n",
      "  plt.plot(solver.val_acc_history, '-o', label=update_rule)\n",
      "  \n",
      "for i in [1, 2, 3]:\n",
      "  plt.subplot(3, 1, i)\n",
      "  plt.legend(loc='upper center', ncol=4)\n",
      "plt.gcf().set_size_inches(15, 15)\n",
      "plt.show()"
     ],
     "language": "python",
     "metadata": {},
     "outputs": [
      {
       "output_type": "stream",
       "stream": "stdout",
       "text": [
        "running with  adam\n",
        "(Iteration 1 / 200) loss: 2.747750"
       ]
      },
      {
       "output_type": "stream",
       "stream": "stdout",
       "text": [
        "\n",
        "(Epoch 0 / 5) train acc: 0.135000; val_acc: 0.137000\n",
        "(Iteration 11 / 200) loss: 2.381032"
       ]
      },
      {
       "output_type": "stream",
       "stream": "stdout",
       "text": [
        "\n",
        "(Iteration 21 / 200) loss: 2.041108"
       ]
      },
      {
       "output_type": "stream",
       "stream": "stdout",
       "text": [
        "\n",
        "(Iteration 31 / 200) loss: 1.921760"
       ]
      },
      {
       "output_type": "stream",
       "stream": "stdout",
       "text": [
        "\n",
        "(Epoch 1 / 5) train acc: 0.286000; val_acc: 0.281000"
       ]
      },
      {
       "output_type": "stream",
       "stream": "stdout",
       "text": [
        "\n",
        "(Iteration 41 / 200) loss: 2.082066\n",
        "(Iteration 51 / 200) loss: 1.889740"
       ]
      },
      {
       "output_type": "stream",
       "stream": "stdout",
       "text": [
        "\n",
        "(Iteration 61 / 200) loss: 1.863239"
       ]
      },
      {
       "output_type": "stream",
       "stream": "stdout",
       "text": [
        "\n",
        "(Iteration 71 / 200) loss: 1.890174"
       ]
      },
      {
       "output_type": "stream",
       "stream": "stdout",
       "text": [
        "\n",
        "(Epoch 2 / 5) train acc: 0.338000; val_acc: 0.315000"
       ]
      },
      {
       "output_type": "stream",
       "stream": "stdout",
       "text": [
        "\n",
        "(Iteration 81 / 200) loss: 1.780513\n",
        "(Iteration 91 / 200) loss: 1.865246"
       ]
      },
      {
       "output_type": "stream",
       "stream": "stdout",
       "text": [
        "\n",
        "(Iteration 101 / 200) loss: 1.701587"
       ]
      },
      {
       "output_type": "stream",
       "stream": "stdout",
       "text": [
        "\n",
        "(Iteration 111 / 200) loss: 1.718916"
       ]
      },
      {
       "output_type": "stream",
       "stream": "stdout",
       "text": [
        "\n",
        "(Epoch 3 / 5) train acc: 0.337000; val_acc: 0.342000"
       ]
      },
      {
       "output_type": "stream",
       "stream": "stdout",
       "text": [
        "\n",
        "(Iteration 121 / 200) loss: 1.593568\n",
        "(Iteration 131 / 200) loss: 1.458138"
       ]
      },
      {
       "output_type": "stream",
       "stream": "stdout",
       "text": [
        "\n",
        "(Iteration 141 / 200) loss: 1.541126"
       ]
      },
      {
       "output_type": "stream",
       "stream": "stdout",
       "text": [
        "\n",
        "(Iteration 151 / 200) loss: 1.502870"
       ]
      },
      {
       "output_type": "stream",
       "stream": "stdout",
       "text": [
        "\n",
        "(Epoch 4 / 5) train acc: 0.431000; val_acc: 0.362000"
       ]
      },
      {
       "output_type": "stream",
       "stream": "stdout",
       "text": [
        "\n",
        "(Iteration 161 / 200) loss: 1.496768\n",
        "(Iteration 171 / 200) loss: 1.682730"
       ]
      },
      {
       "output_type": "stream",
       "stream": "stdout",
       "text": [
        "\n",
        "(Iteration 181 / 200) loss: 1.429235"
       ]
      },
      {
       "output_type": "stream",
       "stream": "stdout",
       "text": [
        "\n",
        "(Iteration 191 / 200) loss: 1.597768"
       ]
      },
      {
       "output_type": "stream",
       "stream": "stdout",
       "text": [
        "\n",
        "(Epoch 5 / 5) train acc: 0.444000; val_acc: 0.358000"
       ]
      },
      {
       "output_type": "stream",
       "stream": "stdout",
       "text": [
        "\n",
        "\n",
        "running with  rmsprop\n",
        "(Iteration 1 / 200) loss: 2.398465\n",
        "(Epoch 0 / 5) train acc: 0.151000; val_acc: 0.148000"
       ]
      },
      {
       "output_type": "stream",
       "stream": "stdout",
       "text": [
        "\n",
        "(Iteration 11 / 200) loss: 1.941520"
       ]
      },
      {
       "output_type": "stream",
       "stream": "stdout",
       "text": [
        "\n",
        "(Iteration 21 / 200) loss: 1.939213"
       ]
      },
      {
       "output_type": "stream",
       "stream": "stdout",
       "text": [
        "\n",
        "(Iteration 31 / 200) loss: 1.809323"
       ]
      },
      {
       "output_type": "stream",
       "stream": "stdout",
       "text": [
        "\n",
        "(Epoch 1 / 5) train acc: 0.339000; val_acc: 0.277000"
       ]
      },
      {
       "output_type": "stream",
       "stream": "stdout",
       "text": [
        "\n",
        "(Iteration 41 / 200) loss: 1.793533\n",
        "(Iteration 51 / 200) loss: 1.749797"
       ]
      },
      {
       "output_type": "stream",
       "stream": "stdout",
       "text": [
        "\n",
        "(Iteration 61 / 200) loss: 1.847909"
       ]
      },
      {
       "output_type": "stream",
       "stream": "stdout",
       "text": [
        "\n",
        "(Iteration 71 / 200) loss: 1.667829"
       ]
      },
      {
       "output_type": "stream",
       "stream": "stdout",
       "text": [
        "\n",
        "(Epoch 2 / 5) train acc: 0.426000; val_acc: 0.348000"
       ]
      },
      {
       "output_type": "stream",
       "stream": "stdout",
       "text": [
        "\n",
        "(Iteration 81 / 200) loss: 1.615793\n",
        "(Iteration 91 / 200) loss: 1.575119"
       ]
      },
      {
       "output_type": "stream",
       "stream": "stdout",
       "text": [
        "\n",
        "(Iteration 101 / 200) loss: 1.438359"
       ]
      },
      {
       "output_type": "stream",
       "stream": "stdout",
       "text": [
        "\n",
        "(Iteration 111 / 200) loss: 1.641422"
       ]
      },
      {
       "output_type": "stream",
       "stream": "stdout",
       "text": [
        "\n",
        "(Epoch 3 / 5) train acc: 0.443000; val_acc: 0.366000"
       ]
      },
      {
       "output_type": "stream",
       "stream": "stdout",
       "text": [
        "\n",
        "(Iteration 121 / 200) loss: 1.616836\n",
        "(Iteration 131 / 200) loss: 1.341405"
       ]
      },
      {
       "output_type": "stream",
       "stream": "stdout",
       "text": [
        "\n",
        "(Iteration 141 / 200) loss: 1.515935"
       ]
      },
      {
       "output_type": "stream",
       "stream": "stdout",
       "text": [
        "\n",
        "(Iteration 151 / 200) loss: 1.645502"
       ]
      },
      {
       "output_type": "stream",
       "stream": "stdout",
       "text": [
        "\n",
        "(Epoch 4 / 5) train acc: 0.494000; val_acc: 0.361000"
       ]
      },
      {
       "output_type": "stream",
       "stream": "stdout",
       "text": [
        "\n",
        "(Iteration 161 / 200) loss: 1.255490\n",
        "(Iteration 171 / 200) loss: 1.371251"
       ]
      },
      {
       "output_type": "stream",
       "stream": "stdout",
       "text": [
        "\n",
        "(Iteration 181 / 200) loss: 1.321453"
       ]
      },
      {
       "output_type": "stream",
       "stream": "stdout",
       "text": [
        "\n",
        "(Iteration 191 / 200) loss: 1.211659"
       ]
      },
      {
       "output_type": "stream",
       "stream": "stdout",
       "text": [
        "\n",
        "(Epoch 5 / 5) train acc: 0.502000; val_acc: 0.383000"
       ]
      },
      {
       "output_type": "stream",
       "stream": "stdout",
       "text": [
        "\n",
        "\n"
       ]
      },
      {
       "metadata": {},
       "output_type": "display_data",
       "png": "[encoded data removed]",
       "text": [
        "<matplotlib.figure.Figure at 0x7f1869c10210>"
       ]
      }
     ],
     "prompt_number": 50
    },
    {
     "cell_type": "markdown",
     "metadata": {},
     "source": [
      "# Train a good model!\n",
      "Train the best fully-connected model that you can on CIFAR-10, storing your best model in the `best_model` variable. We require you to get at least 50% accuracy on the validation set using a fully-connected net.\n",
      "\n",
      "If you are careful it should be possible to get accuracies above 55%, but we don't require it for this part and won't assign extra credit for doing so. Later in the assignment we will ask you to train the best convolutional network that you can on CIFAR-10, and we would prefer that you spend your effort working on convolutional nets rather than fully-connected nets.\n",
      "\n",
      "You might find it useful to complete the `BatchNormalization.ipynb` and `Dropout.ipynb` notebooks before completing this part, since those techniques can help you train powerful models."
     ]
    },
    {
     "cell_type": "code",
     "collapsed": false,
     "input": [
      "best_model = None\n",
      "################################################################################\n",
      "# TODO: Train the best FullyConnectedNet that you can on CIFAR-10. You might   #\n",
      "# batch normalization and dropout useful. Store your best model in the         #\n",
      "# best_model variable.                                                         #\n",
      "################################################################################\n",
      "model = FullyConnectedNet([100, 100, 100, 100, 100, 100], weight_scale=5e-2, reg=0.0)\n",
      "solver = Solver(model, data,\n",
      "                  num_epochs=9, batch_size=100,\n",
      "                  update_rule='adam',\n",
      "                  optim_config={\n",
      "                    'learning_rate': 1e-3\n",
      "                  },\n",
      "                  verbose=True)\n",
      "solver.train()\n",
      "best_model = model\n",
      "################################################################################\n",
      "#                              END OF YOUR CODE                                #\n",
      "################################################################################"
     ],
     "language": "python",
     "metadata": {
      "scrolled": false
     },
     "outputs": [
      {
       "output_type": "stream",
       "stream": "stdout",
       "text": [
        "(Iteration 1 / 4410) loss: 2.286723\n",
        "(Epoch 0 / 9) train acc: 0.114000; val_acc: 0.111000\n",
        "(Iteration 11 / 4410) loss: 2.303998"
       ]
      },
      {
       "output_type": "stream",
       "stream": "stdout",
       "text": [
        "\n",
        "(Iteration 21 / 4410) loss: 2.162788"
       ]
      },
      {
       "output_type": "stream",
       "stream": "stdout",
       "text": [
        "\n",
        "(Iteration 31 / 4410) loss: 1.965630"
       ]
      },
      {
       "output_type": "stream",
       "stream": "stdout",
       "text": [
        "\n",
        "(Iteration 41 / 4410) loss: 2.007048"
       ]
      },
      {
       "output_type": "stream",
       "stream": "stdout",
       "text": [
        "\n",
        "(Iteration 51 / 4410) loss: 2.040654"
       ]
      },
      {
       "output_type": "stream",
       "stream": "stdout",
       "text": [
        "\n",
        "(Iteration 61 / 4410) loss: 1.910473"
       ]
      },
      {
       "output_type": "stream",
       "stream": "stdout",
       "text": [
        "\n",
        "(Iteration 71 / 4410) loss: 1.963044"
       ]
      },
      {
       "output_type": "stream",
       "stream": "stdout",
       "text": [
        "\n",
        "(Iteration 81 / 4410) loss: 1.872317"
       ]
      },
      {
       "output_type": "stream",
       "stream": "stdout",
       "text": [
        "\n",
        "(Iteration 91 / 4410) loss: 1.793239"
       ]
      },
      {
       "output_type": "stream",
       "stream": "stdout",
       "text": [
        "\n",
        "(Iteration 101 / 4410) loss: 1.894500"
       ]
      },
      {
       "output_type": "stream",
       "stream": "stdout",
       "text": [
        "\n",
        "(Iteration 111 / 4410) loss: 1.901977"
       ]
      },
      {
       "output_type": "stream",
       "stream": "stdout",
       "text": [
        "\n",
        "(Iteration 121 / 4410) loss: 1.961350"
       ]
      },
      {
       "output_type": "stream",
       "stream": "stdout",
       "text": [
        "\n",
        "(Iteration 131 / 4410) loss: 1.774678"
       ]
      },
      {
       "output_type": "stream",
       "stream": "stdout",
       "text": [
        "\n",
        "(Iteration 141 / 4410) loss: 1.813501"
       ]
      },
      {
       "output_type": "stream",
       "stream": "stdout",
       "text": [
        "\n",
        "(Iteration 151 / 4410) loss: 1.973811"
       ]
      },
      {
       "output_type": "stream",
       "stream": "stdout",
       "text": [
        "\n",
        "(Iteration 161 / 4410) loss: 1.769284"
       ]
      },
      {
       "output_type": "stream",
       "stream": "stdout",
       "text": [
        "\n",
        "(Iteration 171 / 4410) loss: 1.728199"
       ]
      },
      {
       "output_type": "stream",
       "stream": "stdout",
       "text": [
        "\n",
        "(Iteration 181 / 4410) loss: 1.938915"
       ]
      },
      {
       "output_type": "stream",
       "stream": "stdout",
       "text": [
        "\n",
        "(Iteration 191 / 4410) loss: 1.768809"
       ]
      },
      {
       "output_type": "stream",
       "stream": "stdout",
       "text": [
        "\n",
        "(Iteration 201 / 4410) loss: 1.872627"
       ]
      },
      {
       "output_type": "stream",
       "stream": "stdout",
       "text": [
        "\n",
        "(Iteration 211 / 4410) loss: 1.944243"
       ]
      },
      {
       "output_type": "stream",
       "stream": "stdout",
       "text": [
        "\n",
        "(Iteration 221 / 4410) loss: 1.754079"
       ]
      },
      {
       "output_type": "stream",
       "stream": "stdout",
       "text": [
        "\n",
        "(Iteration 231 / 4410) loss: 1.768026"
       ]
      },
      {
       "output_type": "stream",
       "stream": "stdout",
       "text": [
        "\n",
        "(Iteration 241 / 4410) loss: 1.998541"
       ]
      },
      {
       "output_type": "stream",
       "stream": "stdout",
       "text": [
        "\n",
        "(Iteration 251 / 4410) loss: 1.989238"
       ]
      },
      {
       "output_type": "stream",
       "stream": "stdout",
       "text": [
        "\n",
        "(Iteration 261 / 4410) loss: 1.715363"
       ]
      },
      {
       "output_type": "stream",
       "stream": "stdout",
       "text": [
        "\n",
        "(Iteration 271 / 4410) loss: 1.825935"
       ]
      },
      {
       "output_type": "stream",
       "stream": "stdout",
       "text": [
        "\n",
        "(Iteration 281 / 4410) loss: 1.598158"
       ]
      },
      {
       "output_type": "stream",
       "stream": "stdout",
       "text": [
        "\n",
        "(Iteration 291 / 4410) loss: 1.828094"
       ]
      },
      {
       "output_type": "stream",
       "stream": "stdout",
       "text": [
        "\n",
        "(Iteration 301 / 4410) loss: 1.667906"
       ]
      },
      {
       "output_type": "stream",
       "stream": "stdout",
       "text": [
        "\n",
        "(Iteration 311 / 4410) loss: 1.660889"
       ]
      },
      {
       "output_type": "stream",
       "stream": "stdout",
       "text": [
        "\n",
        "(Iteration 321 / 4410) loss: 1.698709"
       ]
      },
      {
       "output_type": "stream",
       "stream": "stdout",
       "text": [
        "\n",
        "(Iteration 331 / 4410) loss: 1.689470"
       ]
      },
      {
       "output_type": "stream",
       "stream": "stdout",
       "text": [
        "\n",
        "(Iteration 341 / 4410) loss: 1.664805"
       ]
      },
      {
       "output_type": "stream",
       "stream": "stdout",
       "text": [
        "\n",
        "(Iteration 351 / 4410) loss: 1.826604"
       ]
      },
      {
       "output_type": "stream",
       "stream": "stdout",
       "text": [
        "\n",
        "(Iteration 361 / 4410) loss: 1.575124"
       ]
      },
      {
       "output_type": "stream",
       "stream": "stdout",
       "text": [
        "\n",
        "(Iteration 371 / 4410) loss: 1.577005"
       ]
      },
      {
       "output_type": "stream",
       "stream": "stdout",
       "text": [
        "\n",
        "(Iteration 381 / 4410) loss: 1.714388"
       ]
      },
      {
       "output_type": "stream",
       "stream": "stdout",
       "text": [
        "\n",
        "(Iteration 391 / 4410) loss: 1.676663"
       ]
      },
      {
       "output_type": "stream",
       "stream": "stdout",
       "text": [
        "\n",
        "(Iteration 401 / 4410) loss: 1.713827"
       ]
      },
      {
       "output_type": "stream",
       "stream": "stdout",
       "text": [
        "\n",
        "(Iteration 411 / 4410) loss: 1.661751"
       ]
      },
      {
       "output_type": "stream",
       "stream": "stdout",
       "text": [
        "\n",
        "(Iteration 421 / 4410) loss: 1.546014"
       ]
      },
      {
       "output_type": "stream",
       "stream": "stdout",
       "text": [
        "\n",
        "(Iteration 431 / 4410) loss: 1.823786"
       ]
      },
      {
       "output_type": "stream",
       "stream": "stdout",
       "text": [
        "\n",
        "(Iteration 441 / 4410) loss: 1.641705"
       ]
      },
      {
       "output_type": "stream",
       "stream": "stdout",
       "text": [
        "\n",
        "(Iteration 451 / 4410) loss: 1.513060"
       ]
      },
      {
       "output_type": "stream",
       "stream": "stdout",
       "text": [
        "\n",
        "(Iteration 461 / 4410) loss: 1.646854"
       ]
      },
      {
       "output_type": "stream",
       "stream": "stdout",
       "text": [
        "\n",
        "(Iteration 471 / 4410) loss: 1.632613"
       ]
      },
      {
       "output_type": "stream",
       "stream": "stdout",
       "text": [
        "\n",
        "(Iteration 481 / 4410) loss: 1.579499"
       ]
      },
      {
       "output_type": "stream",
       "stream": "stdout",
       "text": [
        "\n",
        "(Epoch 1 / 9) train acc: 0.392000; val_acc: 0.413000"
       ]
      },
      {
       "output_type": "stream",
       "stream": "stdout",
       "text": [
        "\n",
        "(Iteration 491 / 4410) loss: 1.611749\n",
        "(Iteration 501 / 4410) loss: 1.843578"
       ]
      },
      {
       "output_type": "stream",
       "stream": "stdout",
       "text": [
        "\n",
        "(Iteration 511 / 4410) loss: 1.554225"
       ]
      },
      {
       "output_type": "stream",
       "stream": "stdout",
       "text": [
        "\n",
        "(Iteration 521 / 4410) loss: 1.642802"
       ]
      },
      {
       "output_type": "stream",
       "stream": "stdout",
       "text": [
        "\n",
        "(Iteration 531 / 4410) loss: 1.513283"
       ]
      },
      {
       "output_type": "stream",
       "stream": "stdout",
       "text": [
        "\n",
        "(Iteration 541 / 4410) loss: 1.510997"
       ]
      },
      {
       "output_type": "stream",
       "stream": "stdout",
       "text": [
        "\n",
        "(Iteration 551 / 4410) loss: 1.541971"
       ]
      },
      {
       "output_type": "stream",
       "stream": "stdout",
       "text": [
        "\n",
        "(Iteration 561 / 4410) loss: 1.454914"
       ]
      },
      {
       "output_type": "stream",
       "stream": "stdout",
       "text": [
        "\n",
        "(Iteration 571 / 4410) loss: 1.564528"
       ]
      },
      {
       "output_type": "stream",
       "stream": "stdout",
       "text": [
        "\n",
        "(Iteration 581 / 4410) loss: 1.721313"
       ]
      },
      {
       "output_type": "stream",
       "stream": "stdout",
       "text": [
        "\n",
        "(Iteration 591 / 4410) loss: 1.814168"
       ]
      },
      {
       "output_type": "stream",
       "stream": "stdout",
       "text": [
        "\n",
        "(Iteration 601 / 4410) loss: 1.640396"
       ]
      },
      {
       "output_type": "stream",
       "stream": "stdout",
       "text": [
        "\n",
        "(Iteration 611 / 4410) loss: 1.571542"
       ]
      },
      {
       "output_type": "stream",
       "stream": "stdout",
       "text": [
        "\n",
        "(Iteration 621 / 4410) loss: 1.525688"
       ]
      },
      {
       "output_type": "stream",
       "stream": "stdout",
       "text": [
        "\n",
        "(Iteration 631 / 4410) loss: 1.667080"
       ]
      },
      {
       "output_type": "stream",
       "stream": "stdout",
       "text": [
        "\n",
        "(Iteration 641 / 4410) loss: 1.759681"
       ]
      },
      {
       "output_type": "stream",
       "stream": "stdout",
       "text": [
        "\n",
        "(Iteration 651 / 4410) loss: 1.748250"
       ]
      },
      {
       "output_type": "stream",
       "stream": "stdout",
       "text": [
        "\n",
        "(Iteration 661 / 4410) loss: 1.762288"
       ]
      },
      {
       "output_type": "stream",
       "stream": "stdout",
       "text": [
        "\n",
        "(Iteration 671 / 4410) loss: 1.564588"
       ]
      },
      {
       "output_type": "stream",
       "stream": "stdout",
       "text": [
        "\n",
        "(Iteration 681 / 4410) loss: 1.580759"
       ]
      },
      {
       "output_type": "stream",
       "stream": "stdout",
       "text": [
        "\n",
        "(Iteration 691 / 4410) loss: 1.532655"
       ]
      },
      {
       "output_type": "stream",
       "stream": "stdout",
       "text": [
        "\n",
        "(Iteration 701 / 4410) loss: 1.597832"
       ]
      },
      {
       "output_type": "stream",
       "stream": "stdout",
       "text": [
        "\n",
        "(Iteration 711 / 4410) loss: 1.613392"
       ]
      },
      {
       "output_type": "stream",
       "stream": "stdout",
       "text": [
        "\n",
        "(Iteration 721 / 4410) loss: 1.401394"
       ]
      },
      {
       "output_type": "stream",
       "stream": "stdout",
       "text": [
        "\n",
        "(Iteration 731 / 4410) loss: 1.555529"
       ]
      },
      {
       "output_type": "stream",
       "stream": "stdout",
       "text": [
        "\n",
        "(Iteration 741 / 4410) loss: 1.492791"
       ]
      },
      {
       "output_type": "stream",
       "stream": "stdout",
       "text": [
        "\n",
        "(Iteration 751 / 4410) loss: 1.417278"
       ]
      },
      {
       "output_type": "stream",
       "stream": "stdout",
       "text": [
        "\n",
        "(Iteration 761 / 4410) loss: 1.528171"
       ]
      },
      {
       "output_type": "stream",
       "stream": "stdout",
       "text": [
        "\n",
        "(Iteration 771 / 4410) loss: 1.568755"
       ]
      },
      {
       "output_type": "stream",
       "stream": "stdout",
       "text": [
        "\n",
        "(Iteration 781 / 4410) loss: 1.484587"
       ]
      },
      {
       "output_type": "stream",
       "stream": "stdout",
       "text": [
        "\n",
        "(Iteration 791 / 4410) loss: 1.301228"
       ]
      },
      {
       "output_type": "stream",
       "stream": "stdout",
       "text": [
        "\n",
        "(Iteration 801 / 4410) loss: 1.423959"
       ]
      },
      {
       "output_type": "stream",
       "stream": "stdout",
       "text": [
        "\n",
        "(Iteration 811 / 4410) loss: 1.663010"
       ]
      },
      {
       "output_type": "stream",
       "stream": "stdout",
       "text": [
        "\n",
        "(Iteration 821 / 4410) loss: 1.547269"
       ]
      },
      {
       "output_type": "stream",
       "stream": "stdout",
       "text": [
        "\n",
        "(Iteration 831 / 4410) loss: 1.511785"
       ]
      },
      {
       "output_type": "stream",
       "stream": "stdout",
       "text": [
        "\n",
        "(Iteration 841 / 4410) loss: 1.461704"
       ]
      },
      {
       "output_type": "stream",
       "stream": "stdout",
       "text": [
        "\n",
        "(Iteration 851 / 4410) loss: 1.676116"
       ]
      },
      {
       "output_type": "stream",
       "stream": "stdout",
       "text": [
        "\n",
        "(Iteration 861 / 4410) loss: 1.529424"
       ]
      },
      {
       "output_type": "stream",
       "stream": "stdout",
       "text": [
        "\n",
        "(Iteration 871 / 4410) loss: 1.498396"
       ]
      },
      {
       "output_type": "stream",
       "stream": "stdout",
       "text": [
        "\n",
        "(Iteration 881 / 4410) loss: 1.746386"
       ]
      },
      {
       "output_type": "stream",
       "stream": "stdout",
       "text": [
        "\n",
        "(Iteration 891 / 4410) loss: 1.577568"
       ]
      },
      {
       "output_type": "stream",
       "stream": "stdout",
       "text": [
        "\n",
        "(Iteration 901 / 4410) loss: 1.441560"
       ]
      },
      {
       "output_type": "stream",
       "stream": "stdout",
       "text": [
        "\n",
        "(Iteration 911 / 4410) loss: 1.503090"
       ]
      },
      {
       "output_type": "stream",
       "stream": "stdout",
       "text": [
        "\n",
        "(Iteration 921 / 4410) loss: 1.555795"
       ]
      },
      {
       "output_type": "stream",
       "stream": "stdout",
       "text": [
        "\n",
        "(Iteration 931 / 4410) loss: 1.569170"
       ]
      },
      {
       "output_type": "stream",
       "stream": "stdout",
       "text": [
        "\n",
        "(Iteration 941 / 4410) loss: 1.472806"
       ]
      },
      {
       "output_type": "stream",
       "stream": "stdout",
       "text": [
        "\n",
        "(Iteration 951 / 4410) loss: 1.466971"
       ]
      },
      {
       "output_type": "stream",
       "stream": "stdout",
       "text": [
        "\n",
        "(Iteration 961 / 4410) loss: 1.416373"
       ]
      },
      {
       "output_type": "stream",
       "stream": "stdout",
       "text": [
        "\n",
        "(Iteration 971 / 4410) loss: 1.451119"
       ]
      },
      {
       "output_type": "stream",
       "stream": "stdout",
       "text": [
        "\n",
        "(Epoch 2 / 9) train acc: 0.477000; val_acc: 0.461000"
       ]
      },
      {
       "output_type": "stream",
       "stream": "stdout",
       "text": [
        "\n",
        "(Iteration 981 / 4410) loss: 1.503613\n",
        "(Iteration 991 / 4410) loss: 1.606219"
       ]
      },
      {
       "output_type": "stream",
       "stream": "stdout",
       "text": [
        "\n",
        "(Iteration 1001 / 4410) loss: 1.546119"
       ]
      },
      {
       "output_type": "stream",
       "stream": "stdout",
       "text": [
        "\n",
        "(Iteration 1011 / 4410) loss: 1.475398"
       ]
      },
      {
       "output_type": "stream",
       "stream": "stdout",
       "text": [
        "\n",
        "(Iteration 1021 / 4410) loss: 1.482992"
       ]
      },
      {
       "output_type": "stream",
       "stream": "stdout",
       "text": [
        "\n",
        "(Iteration 1031 / 4410) loss: 1.467609"
       ]
      },
      {
       "output_type": "stream",
       "stream": "stdout",
       "text": [
        "\n",
        "(Iteration 1041 / 4410) loss: 1.601664"
       ]
      },
      {
       "output_type": "stream",
       "stream": "stdout",
       "text": [
        "\n",
        "(Iteration 1051 / 4410) loss: 1.499325"
       ]
      },
      {
       "output_type": "stream",
       "stream": "stdout",
       "text": [
        "\n",
        "(Iteration 1061 / 4410) loss: 1.585911"
       ]
      },
      {
       "output_type": "stream",
       "stream": "stdout",
       "text": [
        "\n",
        "(Iteration 1071 / 4410) loss: 1.397225"
       ]
      },
      {
       "output_type": "stream",
       "stream": "stdout",
       "text": [
        "\n",
        "(Iteration 1081 / 4410) loss: 1.583882"
       ]
      },
      {
       "output_type": "stream",
       "stream": "stdout",
       "text": [
        "\n",
        "(Iteration 1091 / 4410) loss: 1.673725"
       ]
      },
      {
       "output_type": "stream",
       "stream": "stdout",
       "text": [
        "\n",
        "(Iteration 1101 / 4410) loss: 1.387490"
       ]
      },
      {
       "output_type": "stream",
       "stream": "stdout",
       "text": [
        "\n",
        "(Iteration 1111 / 4410) loss: 1.501062"
       ]
      },
      {
       "output_type": "stream",
       "stream": "stdout",
       "text": [
        "\n",
        "(Iteration 1121 / 4410) loss: 1.337516"
       ]
      },
      {
       "output_type": "stream",
       "stream": "stdout",
       "text": [
        "\n",
        "(Iteration 1131 / 4410) loss: 1.600633"
       ]
      },
      {
       "output_type": "stream",
       "stream": "stdout",
       "text": [
        "\n",
        "(Iteration 1141 / 4410) loss: 1.369621"
       ]
      },
      {
       "output_type": "stream",
       "stream": "stdout",
       "text": [
        "\n",
        "(Iteration 1151 / 4410) loss: 1.323109"
       ]
      },
      {
       "output_type": "stream",
       "stream": "stdout",
       "text": [
        "\n",
        "(Iteration 1161 / 4410) loss: 1.388342"
       ]
      },
      {
       "output_type": "stream",
       "stream": "stdout",
       "text": [
        "\n",
        "(Iteration 1171 / 4410) loss: 1.443523"
       ]
      },
      {
       "output_type": "stream",
       "stream": "stdout",
       "text": [
        "\n",
        "(Iteration 1181 / 4410) loss: 1.541193"
       ]
      },
      {
       "output_type": "stream",
       "stream": "stdout",
       "text": [
        "\n",
        "(Iteration 1191 / 4410) loss: 1.442945"
       ]
      },
      {
       "output_type": "stream",
       "stream": "stdout",
       "text": [
        "\n",
        "(Iteration 1201 / 4410) loss: 1.436911"
       ]
      },
      {
       "output_type": "stream",
       "stream": "stdout",
       "text": [
        "\n",
        "(Iteration 1211 / 4410) loss: 1.352899"
       ]
      },
      {
       "output_type": "stream",
       "stream": "stdout",
       "text": [
        "\n",
        "(Iteration 1221 / 4410) loss: 1.522566"
       ]
      },
      {
       "output_type": "stream",
       "stream": "stdout",
       "text": [
        "\n",
        "(Iteration 1231 / 4410) loss: 1.415588"
       ]
      },
      {
       "output_type": "stream",
       "stream": "stdout",
       "text": [
        "\n",
        "(Iteration 1241 / 4410) loss: 1.626583"
       ]
      },
      {
       "output_type": "stream",
       "stream": "stdout",
       "text": [
        "\n",
        "(Iteration 1251 / 4410) loss: 1.241555"
       ]
      },
      {
       "output_type": "stream",
       "stream": "stdout",
       "text": [
        "\n",
        "(Iteration 1261 / 4410) loss: 1.503903"
       ]
      },
      {
       "output_type": "stream",
       "stream": "stdout",
       "text": [
        "\n",
        "(Iteration 1271 / 4410) loss: 1.534933"
       ]
      },
      {
       "output_type": "stream",
       "stream": "stdout",
       "text": [
        "\n",
        "(Iteration 1281 / 4410) loss: 1.600653"
       ]
      },
      {
       "output_type": "stream",
       "stream": "stdout",
       "text": [
        "\n",
        "(Iteration 1291 / 4410) loss: 1.594676"
       ]
      },
      {
       "output_type": "stream",
       "stream": "stdout",
       "text": [
        "\n",
        "(Iteration 1301 / 4410) loss: 1.533106"
       ]
      },
      {
       "output_type": "stream",
       "stream": "stdout",
       "text": [
        "\n",
        "(Iteration 1311 / 4410) loss: 1.522917"
       ]
      },
      {
       "output_type": "stream",
       "stream": "stdout",
       "text": [
        "\n",
        "(Iteration 1321 / 4410) loss: 1.450723"
       ]
      },
      {
       "output_type": "stream",
       "stream": "stdout",
       "text": [
        "\n",
        "(Iteration 1331 / 4410) loss: 1.315235"
       ]
      },
      {
       "output_type": "stream",
       "stream": "stdout",
       "text": [
        "\n",
        "(Iteration 1341 / 4410) loss: 1.387470"
       ]
      },
      {
       "output_type": "stream",
       "stream": "stdout",
       "text": [
        "\n",
        "(Iteration 1351 / 4410) loss: 1.473342"
       ]
      },
      {
       "output_type": "stream",
       "stream": "stdout",
       "text": [
        "\n",
        "(Iteration 1361 / 4410) loss: 1.512527"
       ]
      },
      {
       "output_type": "stream",
       "stream": "stdout",
       "text": [
        "\n",
        "(Iteration 1371 / 4410) loss: 1.521765"
       ]
      },
      {
       "output_type": "stream",
       "stream": "stdout",
       "text": [
        "\n",
        "(Iteration 1381 / 4410) loss: 1.363750"
       ]
      },
      {
       "output_type": "stream",
       "stream": "stdout",
       "text": [
        "\n",
        "(Iteration 1391 / 4410) loss: 1.451609"
       ]
      },
      {
       "output_type": "stream",
       "stream": "stdout",
       "text": [
        "\n",
        "(Iteration 1401 / 4410) loss: 1.587318"
       ]
      },
      {
       "output_type": "stream",
       "stream": "stdout",
       "text": [
        "\n",
        "(Iteration 1411 / 4410) loss: 1.350915"
       ]
      },
      {
       "output_type": "stream",
       "stream": "stdout",
       "text": [
        "\n",
        "(Iteration 1421 / 4410) loss: 1.519690"
       ]
      },
      {
       "output_type": "stream",
       "stream": "stdout",
       "text": [
        "\n",
        "(Iteration 1431 / 4410) loss: 1.352176"
       ]
      },
      {
       "output_type": "stream",
       "stream": "stdout",
       "text": [
        "\n",
        "(Iteration 1441 / 4410) loss: 1.352210"
       ]
      },
      {
       "output_type": "stream",
       "stream": "stdout",
       "text": [
        "\n",
        "(Iteration 1451 / 4410) loss: 1.450718"
       ]
      },
      {
       "output_type": "stream",
       "stream": "stdout",
       "text": [
        "\n",
        "(Iteration 1461 / 4410) loss: 1.513178"
       ]
      },
      {
       "output_type": "stream",
       "stream": "stdout",
       "text": [
        "\n",
        "(Epoch 3 / 9) train acc: 0.491000; val_acc: 0.468000"
       ]
      },
      {
       "output_type": "stream",
       "stream": "stdout",
       "text": [
        "\n",
        "(Iteration 1471 / 4410) loss: 1.314771\n",
        "(Iteration 1481 / 4410) loss: 1.598613"
       ]
      },
      {
       "output_type": "stream",
       "stream": "stdout",
       "text": [
        "\n",
        "(Iteration 1491 / 4410) loss: 1.527493"
       ]
      },
      {
       "output_type": "stream",
       "stream": "stdout",
       "text": [
        "\n",
        "(Iteration 1501 / 4410) loss: 1.381903"
       ]
      },
      {
       "output_type": "stream",
       "stream": "stdout",
       "text": [
        "\n",
        "(Iteration 1511 / 4410) loss: 1.401567"
       ]
      },
      {
       "output_type": "stream",
       "stream": "stdout",
       "text": [
        "\n",
        "(Iteration 1521 / 4410) loss: 1.277477"
       ]
      },
      {
       "output_type": "stream",
       "stream": "stdout",
       "text": [
        "\n",
        "(Iteration 1531 / 4410) loss: 1.484695"
       ]
      },
      {
       "output_type": "stream",
       "stream": "stdout",
       "text": [
        "\n",
        "(Iteration 1541 / 4410) loss: 1.485024"
       ]
      },
      {
       "output_type": "stream",
       "stream": "stdout",
       "text": [
        "\n",
        "(Iteration 1551 / 4410) loss: 1.664227"
       ]
      },
      {
       "output_type": "stream",
       "stream": "stdout",
       "text": [
        "\n",
        "(Iteration 1561 / 4410) loss: 1.402072"
       ]
      },
      {
       "output_type": "stream",
       "stream": "stdout",
       "text": [
        "\n",
        "(Iteration 1571 / 4410) loss: 1.588259"
       ]
      },
      {
       "output_type": "stream",
       "stream": "stdout",
       "text": [
        "\n",
        "(Iteration 1581 / 4410) loss: 1.473811"
       ]
      },
      {
       "output_type": "stream",
       "stream": "stdout",
       "text": [
        "\n",
        "(Iteration 1591 / 4410) loss: 1.385525"
       ]
      },
      {
       "output_type": "stream",
       "stream": "stdout",
       "text": [
        "\n",
        "(Iteration 1601 / 4410) loss: 1.395140"
       ]
      },
      {
       "output_type": "stream",
       "stream": "stdout",
       "text": [
        "\n",
        "(Iteration 1611 / 4410) loss: 1.645137"
       ]
      },
      {
       "output_type": "stream",
       "stream": "stdout",
       "text": [
        "\n",
        "(Iteration 1621 / 4410) loss: 1.267810"
       ]
      },
      {
       "output_type": "stream",
       "stream": "stdout",
       "text": [
        "\n",
        "(Iteration 1631 / 4410) loss: 1.425876"
       ]
      },
      {
       "output_type": "stream",
       "stream": "stdout",
       "text": [
        "\n",
        "(Iteration 1641 / 4410) loss: 1.289476"
       ]
      },
      {
       "output_type": "stream",
       "stream": "stdout",
       "text": [
        "\n",
        "(Iteration 1651 / 4410) loss: 1.325659"
       ]
      },
      {
       "output_type": "stream",
       "stream": "stdout",
       "text": [
        "\n",
        "(Iteration 1661 / 4410) loss: 1.340536"
       ]
      },
      {
       "output_type": "stream",
       "stream": "stdout",
       "text": [
        "\n",
        "(Iteration 1671 / 4410) loss: 1.546205"
       ]
      },
      {
       "output_type": "stream",
       "stream": "stdout",
       "text": [
        "\n",
        "(Iteration 1681 / 4410) loss: 1.503171"
       ]
      },
      {
       "output_type": "stream",
       "stream": "stdout",
       "text": [
        "\n",
        "(Iteration 1691 / 4410) loss: 1.461785"
       ]
      },
      {
       "output_type": "stream",
       "stream": "stdout",
       "text": [
        "\n",
        "(Iteration 1701 / 4410) loss: 1.390914"
       ]
      },
      {
       "output_type": "stream",
       "stream": "stdout",
       "text": [
        "\n",
        "(Iteration 1711 / 4410) loss: 1.339885"
       ]
      },
      {
       "output_type": "stream",
       "stream": "stdout",
       "text": [
        "\n",
        "(Iteration 1721 / 4410) loss: 1.370885"
       ]
      },
      {
       "output_type": "stream",
       "stream": "stdout",
       "text": [
        "\n",
        "(Iteration 1731 / 4410) loss: 1.394855"
       ]
      },
      {
       "output_type": "stream",
       "stream": "stdout",
       "text": [
        "\n",
        "(Iteration 1741 / 4410) loss: 1.313288"
       ]
      },
      {
       "output_type": "stream",
       "stream": "stdout",
       "text": [
        "\n",
        "(Iteration 1751 / 4410) loss: 1.297876"
       ]
      },
      {
       "output_type": "stream",
       "stream": "stdout",
       "text": [
        "\n",
        "(Iteration 1761 / 4410) loss: 1.182836"
       ]
      },
      {
       "output_type": "stream",
       "stream": "stdout",
       "text": [
        "\n",
        "(Iteration 1771 / 4410) loss: 1.299851"
       ]
      },
      {
       "output_type": "stream",
       "stream": "stdout",
       "text": [
        "\n",
        "(Iteration 1781 / 4410) loss: 1.393404"
       ]
      },
      {
       "output_type": "stream",
       "stream": "stdout",
       "text": [
        "\n",
        "(Iteration 1791 / 4410) loss: 1.351211"
       ]
      },
      {
       "output_type": "stream",
       "stream": "stdout",
       "text": [
        "\n",
        "(Iteration 1801 / 4410) loss: 1.360529"
       ]
      },
      {
       "output_type": "stream",
       "stream": "stdout",
       "text": [
        "\n",
        "(Iteration 1811 / 4410) loss: 1.207353"
       ]
      },
      {
       "output_type": "stream",
       "stream": "stdout",
       "text": [
        "\n",
        "(Iteration 1821 / 4410) loss: 1.361715"
       ]
      },
      {
       "output_type": "stream",
       "stream": "stdout",
       "text": [
        "\n",
        "(Iteration 1831 / 4410) loss: 1.288737"
       ]
      },
      {
       "output_type": "stream",
       "stream": "stdout",
       "text": [
        "\n",
        "(Iteration 1841 / 4410) loss: 1.399591"
       ]
      },
      {
       "output_type": "stream",
       "stream": "stdout",
       "text": [
        "\n",
        "(Iteration 1851 / 4410) loss: 1.415243"
       ]
      },
      {
       "output_type": "stream",
       "stream": "stdout",
       "text": [
        "\n",
        "(Iteration 1861 / 4410) loss: 1.481290"
       ]
      },
      {
       "output_type": "stream",
       "stream": "stdout",
       "text": [
        "\n",
        "(Iteration 1871 / 4410) loss: 1.167633"
       ]
      },
      {
       "output_type": "stream",
       "stream": "stdout",
       "text": [
        "\n",
        "(Iteration 1881 / 4410) loss: 1.477387"
       ]
      },
      {
       "output_type": "stream",
       "stream": "stdout",
       "text": [
        "\n",
        "(Iteration 1891 / 4410) loss: 1.276544"
       ]
      },
      {
       "output_type": "stream",
       "stream": "stdout",
       "text": [
        "\n",
        "(Iteration 1901 / 4410) loss: 1.463876"
       ]
      },
      {
       "output_type": "stream",
       "stream": "stdout",
       "text": [
        "\n",
        "(Iteration 1911 / 4410) loss: 1.217814"
       ]
      },
      {
       "output_type": "stream",
       "stream": "stdout",
       "text": [
        "\n",
        "(Iteration 1921 / 4410) loss: 1.549293"
       ]
      },
      {
       "output_type": "stream",
       "stream": "stdout",
       "text": [
        "\n",
        "(Iteration 1931 / 4410) loss: 1.271919"
       ]
      },
      {
       "output_type": "stream",
       "stream": "stdout",
       "text": [
        "\n",
        "(Iteration 1941 / 4410) loss: 1.414306"
       ]
      },
      {
       "output_type": "stream",
       "stream": "stdout",
       "text": [
        "\n",
        "(Iteration 1951 / 4410) loss: 1.253038"
       ]
      },
      {
       "output_type": "stream",
       "stream": "stdout",
       "text": [
        "\n",
        "(Epoch 4 / 9) train acc: 0.477000; val_acc: 0.480000"
       ]
      },
      {
       "output_type": "stream",
       "stream": "stdout",
       "text": [
        "\n",
        "(Iteration 1961 / 4410) loss: 1.075035\n",
        "(Iteration 1971 / 4410) loss: 1.357586"
       ]
      },
      {
       "output_type": "stream",
       "stream": "stdout",
       "text": [
        "\n",
        "(Iteration 1981 / 4410) loss: 1.309349"
       ]
      },
      {
       "output_type": "stream",
       "stream": "stdout",
       "text": [
        "\n",
        "(Iteration 1991 / 4410) loss: 1.256344"
       ]
      },
      {
       "output_type": "stream",
       "stream": "stdout",
       "text": [
        "\n",
        "(Iteration 2001 / 4410) loss: 1.424581"
       ]
      },
      {
       "output_type": "stream",
       "stream": "stdout",
       "text": [
        "\n",
        "(Iteration 2011 / 4410) loss: 1.481885"
       ]
      },
      {
       "output_type": "stream",
       "stream": "stdout",
       "text": [
        "\n",
        "(Iteration 2021 / 4410) loss: 1.235449"
       ]
      },
      {
       "output_type": "stream",
       "stream": "stdout",
       "text": [
        "\n",
        "(Iteration 2031 / 4410) loss: 1.612234"
       ]
      },
      {
       "output_type": "stream",
       "stream": "stdout",
       "text": [
        "\n",
        "(Iteration 2041 / 4410) loss: 1.385287"
       ]
      },
      {
       "output_type": "stream",
       "stream": "stdout",
       "text": [
        "\n",
        "(Iteration 2051 / 4410) loss: 1.481985"
       ]
      },
      {
       "output_type": "stream",
       "stream": "stdout",
       "text": [
        "\n",
        "(Iteration 2061 / 4410) loss: 1.274253"
       ]
      },
      {
       "output_type": "stream",
       "stream": "stdout",
       "text": [
        "\n",
        "(Iteration 2071 / 4410) loss: 1.247100"
       ]
      },
      {
       "output_type": "stream",
       "stream": "stdout",
       "text": [
        "\n",
        "(Iteration 2081 / 4410) loss: 1.201341"
       ]
      },
      {
       "output_type": "stream",
       "stream": "stdout",
       "text": [
        "\n",
        "(Iteration 2091 / 4410) loss: 1.345607"
       ]
      },
      {
       "output_type": "stream",
       "stream": "stdout",
       "text": [
        "\n",
        "(Iteration 2101 / 4410) loss: 1.473711"
       ]
      },
      {
       "output_type": "stream",
       "stream": "stdout",
       "text": [
        "\n",
        "(Iteration 2111 / 4410) loss: 1.235305"
       ]
      },
      {
       "output_type": "stream",
       "stream": "stdout",
       "text": [
        "\n",
        "(Iteration 2121 / 4410) loss: 1.415717"
       ]
      },
      {
       "output_type": "stream",
       "stream": "stdout",
       "text": [
        "\n",
        "(Iteration 2131 / 4410) loss: 1.409172"
       ]
      },
      {
       "output_type": "stream",
       "stream": "stdout",
       "text": [
        "\n",
        "(Iteration 2141 / 4410) loss: 1.392312"
       ]
      },
      {
       "output_type": "stream",
       "stream": "stdout",
       "text": [
        "\n",
        "(Iteration 2151 / 4410) loss: 1.589891"
       ]
      },
      {
       "output_type": "stream",
       "stream": "stdout",
       "text": [
        "\n",
        "(Iteration 2161 / 4410) loss: 1.317819"
       ]
      },
      {
       "output_type": "stream",
       "stream": "stdout",
       "text": [
        "\n",
        "(Iteration 2171 / 4410) loss: 1.202989"
       ]
      },
      {
       "output_type": "stream",
       "stream": "stdout",
       "text": [
        "\n",
        "(Iteration 2181 / 4410) loss: 1.414234"
       ]
      },
      {
       "output_type": "stream",
       "stream": "stdout",
       "text": [
        "\n",
        "(Iteration 2191 / 4410) loss: 1.395973"
       ]
      },
      {
       "output_type": "stream",
       "stream": "stdout",
       "text": [
        "\n",
        "(Iteration 2201 / 4410) loss: 1.320718"
       ]
      },
      {
       "output_type": "stream",
       "stream": "stdout",
       "text": [
        "\n",
        "(Iteration 2211 / 4410) loss: 1.272932"
       ]
      },
      {
       "output_type": "stream",
       "stream": "stdout",
       "text": [
        "\n",
        "(Iteration 2221 / 4410) loss: 1.449747"
       ]
      },
      {
       "output_type": "stream",
       "stream": "stdout",
       "text": [
        "\n",
        "(Iteration 2231 / 4410) loss: 1.231004"
       ]
      },
      {
       "output_type": "stream",
       "stream": "stdout",
       "text": [
        "\n",
        "(Iteration 2241 / 4410) loss: 1.308689"
       ]
      },
      {
       "output_type": "stream",
       "stream": "stdout",
       "text": [
        "\n",
        "(Iteration 2251 / 4410) loss: 1.171873"
       ]
      },
      {
       "output_type": "stream",
       "stream": "stdout",
       "text": [
        "\n",
        "(Iteration 2261 / 4410) loss: 1.308673"
       ]
      },
      {
       "output_type": "stream",
       "stream": "stdout",
       "text": [
        "\n",
        "(Iteration 2271 / 4410) loss: 1.289103"
       ]
      },
      {
       "output_type": "stream",
       "stream": "stdout",
       "text": [
        "\n",
        "(Iteration 2281 / 4410) loss: 1.407631"
       ]
      },
      {
       "output_type": "stream",
       "stream": "stdout",
       "text": [
        "\n",
        "(Iteration 2291 / 4410) loss: 1.287681"
       ]
      },
      {
       "output_type": "stream",
       "stream": "stdout",
       "text": [
        "\n",
        "(Iteration 2301 / 4410) loss: 1.352145"
       ]
      },
      {
       "output_type": "stream",
       "stream": "stdout",
       "text": [
        "\n",
        "(Iteration 2311 / 4410) loss: 1.176729"
       ]
      },
      {
       "output_type": "stream",
       "stream": "stdout",
       "text": [
        "\n",
        "(Iteration 2321 / 4410) loss: 1.482797"
       ]
      },
      {
       "output_type": "stream",
       "stream": "stdout",
       "text": [
        "\n",
        "(Iteration 2331 / 4410) loss: 1.344652"
       ]
      },
      {
       "output_type": "stream",
       "stream": "stdout",
       "text": [
        "\n",
        "(Iteration 2341 / 4410) loss: 1.319714"
       ]
      },
      {
       "output_type": "stream",
       "stream": "stdout",
       "text": [
        "\n",
        "(Iteration 2351 / 4410) loss: 1.347725"
       ]
      },
      {
       "output_type": "stream",
       "stream": "stdout",
       "text": [
        "\n",
        "(Iteration 2361 / 4410) loss: 1.232296"
       ]
      },
      {
       "output_type": "stream",
       "stream": "stdout",
       "text": [
        "\n",
        "(Iteration 2371 / 4410) loss: 1.171050"
       ]
      },
      {
       "output_type": "stream",
       "stream": "stdout",
       "text": [
        "\n",
        "(Iteration 2381 / 4410) loss: 1.323170"
       ]
      },
      {
       "output_type": "stream",
       "stream": "stdout",
       "text": [
        "\n",
        "(Iteration 2391 / 4410) loss: 1.400937"
       ]
      },
      {
       "output_type": "stream",
       "stream": "stdout",
       "text": [
        "\n",
        "(Iteration 2401 / 4410) loss: 1.251591"
       ]
      },
      {
       "output_type": "stream",
       "stream": "stdout",
       "text": [
        "\n",
        "(Iteration 2411 / 4410) loss: 1.326241"
       ]
      },
      {
       "output_type": "stream",
       "stream": "stdout",
       "text": [
        "\n",
        "(Iteration 2421 / 4410) loss: 1.396982"
       ]
      },
      {
       "output_type": "stream",
       "stream": "stdout",
       "text": [
        "\n",
        "(Iteration 2431 / 4410) loss: 1.402557"
       ]
      },
      {
       "output_type": "stream",
       "stream": "stdout",
       "text": [
        "\n",
        "(Iteration 2441 / 4410) loss: 1.354922"
       ]
      },
      {
       "output_type": "stream",
       "stream": "stdout",
       "text": [
        "\n",
        "(Epoch 5 / 9) train acc: 0.551000; val_acc: 0.512000"
       ]
      },
      {
       "output_type": "stream",
       "stream": "stdout",
       "text": [
        "\n",
        "(Iteration 2451 / 4410) loss: 1.290216\n",
        "(Iteration 2461 / 4410) loss: 1.341397"
       ]
      },
      {
       "output_type": "stream",
       "stream": "stdout",
       "text": [
        "\n",
        "(Iteration 2471 / 4410) loss: 1.275478"
       ]
      },
      {
       "output_type": "stream",
       "stream": "stdout",
       "text": [
        "\n",
        "(Iteration 2481 / 4410) loss: 1.433092"
       ]
      },
      {
       "output_type": "stream",
       "stream": "stdout",
       "text": [
        "\n",
        "(Iteration 2491 / 4410) loss: 1.560365"
       ]
      },
      {
       "output_type": "stream",
       "stream": "stdout",
       "text": [
        "\n",
        "(Iteration 2501 / 4410) loss: 1.399705"
       ]
      },
      {
       "output_type": "stream",
       "stream": "stdout",
       "text": [
        "\n",
        "(Iteration 2511 / 4410) loss: 1.143301"
       ]
      },
      {
       "output_type": "stream",
       "stream": "stdout",
       "text": [
        "\n",
        "(Iteration 2521 / 4410) loss: 1.104142"
       ]
      },
      {
       "output_type": "stream",
       "stream": "stdout",
       "text": [
        "\n",
        "(Iteration 2531 / 4410) loss: 1.317910"
       ]
      }
     ]
    },
    {
     "cell_type": "markdown",
     "metadata": {},
     "source": [
      "# Test you model\n",
      "Run your best model on the validation and test sets. You should achieve above 50% accuracy on the validation set."
     ]
    },
    {
     "cell_type": "code",
     "collapsed": false,
     "input": [
      "X_test = data['X_test']\n",
      "y_test = data['y_test']\n",
      "X_val = data['X_val']\n",
      "y_val = data['y_val']"
     ],
     "language": "python",
     "metadata": {},
     "outputs": [],
     "prompt_number": 53
    },
    {
     "cell_type": "code",
     "collapsed": false,
     "input": [
      "y_test_pred = np.argmax(best_model.loss(X_test), axis=1)\n",
      "y_val_pred = np.argmax(best_model.loss(X_val), axis=1)\n",
      "print 'Validation set accuracy: ', (y_val_pred == y_val).mean()\n",
      "print 'Test set accuracy: ', (y_test_pred == y_test).mean()"
     ],
     "language": "python",
     "metadata": {},
     "outputs": [
      {
       "output_type": "stream",
       "stream": "stdout",
       "text": [
        "Validation set accuracy:  0.471\n",
        "Test set accuracy:  0.463\n"
       ]
      }
     ],
     "prompt_number": 71
    },
    {
     "cell_type": "code",
     "collapsed": false,
     "input": [],
     "language": "python",
     "metadata": {},
     "outputs": []
    }
   ],
   "metadata": {}
  }
 ]
}