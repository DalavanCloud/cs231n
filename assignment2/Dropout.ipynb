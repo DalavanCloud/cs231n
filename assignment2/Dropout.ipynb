{
 "metadata": {
  "kernelspec": {
   "display_name": "Python 2",
   "language": "python",
   "name": "python2"
  },
  "language_info": {
   "codemirror_mode": {
    "name": "ipython",
    "version": 2
   },
   "file_extension": ".py",
   "mimetype": "text/x-python",
   "name": "python",
   "nbconvert_exporter": "python",
   "pygments_lexer": "ipython2",
   "version": "2.7.6"
  },
  "name": "",
  "signature": "sha256:0a43baa24dc879982a2b4eeaa759fcf26d00b2c7dafd3f258195b5c273e55808"
 },
 "nbformat": 3,
 "nbformat_minor": 0,
 "worksheets": [
  {
   "cells": [
    {
     "cell_type": "markdown",
     "metadata": {},
     "source": [
      "# Dropout\n",
      "Dropout [1] is a technique for regularizing neural networks by randomly setting some features to zero during the forward pass. In this exercise you will implement a dropout layer and modify your fully-connected network to optionally use dropout.\n",
      "\n",
      "[1] Geoffrey E. Hinton et al, \"Improving neural networks by preventing co-adaptation of feature detectors\", arXiv 2012"
     ]
    },
    {
     "cell_type": "code",
     "collapsed": false,
     "input": [
      "# As usual, a bit of setup\n",
      "\n",
      "import time\n",
      "import numpy as np\n",
      "import matplotlib.pyplot as plt\n",
      "from cs231n.classifiers.fc_net import *\n",
      "from cs231n.data_utils import get_CIFAR10_data\n",
      "from cs231n.gradient_check import eval_numerical_gradient, eval_numerical_gradient_array\n",
      "from cs231n.solver import Solver\n",
      "\n",
      "%matplotlib inline\n",
      "plt.rcParams['figure.figsize'] = (10.0, 8.0) # set default size of plots\n",
      "plt.rcParams['image.interpolation'] = 'nearest'\n",
      "plt.rcParams['image.cmap'] = 'gray'\n",
      "\n",
      "# for auto-reloading external modules\n",
      "# see http://stackoverflow.com/questions/1907993/autoreload-of-modules-in-ipython\n",
      "%load_ext autoreload\n",
      "%autoreload 2\n",
      "\n",
      "def rel_error(x, y):\n",
      "  \"\"\" returns relative error \"\"\"\n",
      "  return np.max(np.abs(x - y) / (np.maximum(1e-8, np.abs(x) + np.abs(y))))"
     ],
     "language": "python",
     "metadata": {},
     "outputs": [],
     "prompt_number": 1
    },
    {
     "cell_type": "code",
     "collapsed": false,
     "input": [
      "# Load the (preprocessed) CIFAR10 data.\n",
      "\n",
      "data = get_CIFAR10_data()\n",
      "for k, v in data.iteritems():\n",
      "  print '%s: ' % k, v.shape"
     ],
     "language": "python",
     "metadata": {},
     "outputs": [
      {
       "output_type": "stream",
       "stream": "stdout",
       "text": [
        "X_val:  (1000, 3, 32, 32)\n",
        "X_train:  (49000, 3, 32, 32)\n",
        "X_test:  (1000, 3, 32, 32)\n",
        "y_val:  (1000,)\n",
        "y_train:  (49000,)\n",
        "y_test:  (1000,)\n"
       ]
      }
     ],
     "prompt_number": 2
    },
    {
     "cell_type": "markdown",
     "metadata": {},
     "source": [
      "# Dropout forward pass\n",
      "In the file `cs231n/layers.py`, implement the forward pass for dropout. Since dropout behaves differently during training and testing, make sure to implement the operation for both modes.\n",
      "\n",
      "Once you have done so, run the cell below to test your implementation."
     ]
    },
    {
     "cell_type": "code",
     "collapsed": false,
     "input": [
      "x = np.random.randn(500, 500) + 10\n",
      "\n",
      "for p in [0.3, 0.6, 0.75]:\n",
      "  out, _ = dropout_forward(x, {'mode': 'train', 'p': p})\n",
      "  out_test, _ = dropout_forward(x, {'mode': 'test', 'p': p})\n",
      "\n",
      "  print 'Running tests with p = ', p\n",
      "  print 'Mean of input: ', x.mean()\n",
      "  print 'Mean of train-time output: ', out.mean()\n",
      "  print 'Mean of test-time output: ', out_test.mean()\n",
      "  print 'Fraction of train-time output set to zero: ', (out == 0).mean()\n",
      "  print 'Fraction of test-time output set to zero: ', (out_test == 0).mean()\n",
      "  print"
     ],
     "language": "python",
     "metadata": {},
     "outputs": [
      {
       "output_type": "stream",
       "stream": "stdout",
       "text": [
        "Running tests with p =  0.3\n",
        "Mean of input:  10.0001471969\n",
        "Mean of train-time output:  9.99102742104\n",
        "Mean of test-time output:  10.0001471969\n",
        "Fraction of train-time output set to zero:  0.300508\n",
        "Fraction of test-time output set to zero:  0.0\n",
        "\n",
        "Running tests with p =  0.6\n",
        "Mean of input:  10.0001471969\n",
        "Mean of train-time output:  10.0153395754\n",
        "Mean of test-time output:  10.0001471969\n",
        "Fraction of train-time output set to zero:  0.599528\n",
        "Fraction of test-time output set to zero:  0.0\n",
        "\n",
        "Running tests with p =  0.75\n",
        "Mean of input:  10.0001471969\n",
        "Mean of train-time output:  10.0228768297\n",
        "Mean of test-time output:  10.0001471969\n",
        "Fraction of train-time output set to zero:  0.74938\n",
        "Fraction of test-time output set to zero:  0.0\n",
        "\n"
       ]
      }
     ],
     "prompt_number": 3
    },
    {
     "cell_type": "markdown",
     "metadata": {},
     "source": [
      "# Dropout backward pass\n",
      "In the file `cs231n/layers.py`, implement the backward pass for dropout. After doing so, run the following cell to numerically gradient-check your implementation."
     ]
    },
    {
     "cell_type": "code",
     "collapsed": false,
     "input": [
      "x = np.random.randn(10, 10) + 10\n",
      "dout = np.random.randn(*x.shape)\n",
      "\n",
      "dropout_param = {'mode': 'train', 'p': 0.8, 'seed': 123}\n",
      "out, cache = dropout_forward(x, dropout_param)\n",
      "dx = dropout_backward(dout, cache)\n",
      "dx_num = eval_numerical_gradient_array(lambda xx: dropout_forward(xx, dropout_param)[0], x, dout)\n",
      "\n",
      "print 'dx relative error: ', rel_error(dx, dx_num)"
     ],
     "language": "python",
     "metadata": {},
     "outputs": [
      {
       "output_type": "stream",
       "stream": "stdout",
       "text": [
        "dx relative error:  1.89290670132e-11\n"
       ]
      }
     ],
     "prompt_number": 4
    },
    {
     "cell_type": "markdown",
     "metadata": {},
     "source": [
      "# Fully-connected nets with Dropout\n",
      "In the file `cs231n/classifiers/fc_net.py`, modify your implementation to use dropout. Specificially, if the constructor the the net receives a nonzero value for the `dropout` parameter, then the net should add dropout immediately after every ReLU nonlinearity. After doing so, run the following to numerically gradient-check your implementation."
     ]
    },
    {
     "cell_type": "code",
     "collapsed": false,
     "input": [
      "N, D, H1, H2, C = 2, 15, 20, 30, 10\n",
      "X = np.random.randn(N, D)\n",
      "y = np.random.randint(C, size=(N,))\n",
      "\n",
      "for dropout in [0, 0.25, 0.5]:\n",
      "  print 'Running check with dropout = ', dropout\n",
      "  model = FullyConnectedNet([H1, H2], input_dim=D, num_classes=C,\n",
      "                            weight_scale=5e-2, dtype=np.float64,\n",
      "                            dropout=dropout, seed=123)\n",
      "\n",
      "  loss, grads = model.loss(X, y)\n",
      "  print 'Initial loss: ', loss\n",
      "\n",
      "  for name in sorted(grads):\n",
      "    f = lambda _: model.loss(X, y)[0]\n",
      "    grad_num = eval_numerical_gradient(f, model.params[name], verbose=False, h=1e-5)\n",
      "    print '%s relative error: %.2e' % (name, rel_error(grad_num, grads[name]))\n",
      "  print"
     ],
     "language": "python",
     "metadata": {},
     "outputs": [
      {
       "output_type": "stream",
       "stream": "stdout",
       "text": [
        "Running check with dropout =  0\n",
        "Initial loss: "
       ]
      },
      {
       "output_type": "stream",
       "stream": "stdout",
       "text": [
        " 2.3051948274\n",
        "W1 relative error: 2.53e-07"
       ]
      },
      {
       "output_type": "stream",
       "stream": "stdout",
       "text": [
        "\n",
        "W2 relative error: 1.50e-05"
       ]
      },
      {
       "output_type": "stream",
       "stream": "stdout",
       "text": [
        "\n",
        "W3 relative error: 2.75e-07"
       ]
      },
      {
       "output_type": "stream",
       "stream": "stdout",
       "text": [
        "\n",
        "b1 relative error: 2.94e-06\n",
        "b2 relative error: 5.05e-08\n",
        "b3 relative error: 1.17e-10\n",
        "\n",
        "Running check with dropout =  0.25\n",
        "Initial loss:  2.30520775465\n",
        "W1 relative error: 2.61e-07"
       ]
      },
      {
       "output_type": "stream",
       "stream": "stdout",
       "text": [
        "\n",
        "W2 relative error: 5.02e-07"
       ]
      },
      {
       "output_type": "stream",
       "stream": "stdout",
       "text": [
        "\n",
        "W3 relative error: 4.46e-08"
       ]
      },
      {
       "output_type": "stream",
       "stream": "stdout",
       "text": [
        "\n",
        "b1 relative error: 7.40e-08\n",
        "b2 relative error: 7.15e-10\n",
        "b3 relative error: 1.00e-10\n",
        "\n",
        "Running check with dropout =  0.5\n",
        "Initial loss:  2.30356675866\n",
        "W1 relative error: 1.14e-06"
       ]
      },
      {
       "output_type": "stream",
       "stream": "stdout",
       "text": [
        "\n",
        "W2 relative error: 1.85e-07"
       ]
      },
      {
       "output_type": "stream",
       "stream": "stdout",
       "text": [
        "\n",
        "W3 relative error: 6.60e-09"
       ]
      },
      {
       "output_type": "stream",
       "stream": "stdout",
       "text": [
        "\n",
        "b1 relative error: 7.72e-08\n",
        "b2 relative error: 1.20e-09\n",
        "b3 relative error: 1.46e-10\n",
        "\n"
       ]
      }
     ],
     "prompt_number": 5
    },
    {
     "cell_type": "markdown",
     "metadata": {},
     "source": [
      "# Regularization experiment\n",
      "As an experiment, we will train a pair of two-layer networks on 500 training examples: one will use no dropout, and one will use a dropout probability of 0.75. We will then visualize the training and validation accuracies of the two networks over time."
     ]
    },
    {
     "cell_type": "code",
     "collapsed": false,
     "input": [
      "# Train two identical nets, one with dropout and one without\n",
      "\n",
      "num_train = 500\n",
      "small_data = {\n",
      "  'X_train': data['X_train'][:num_train],\n",
      "  'y_train': data['y_train'][:num_train],\n",
      "  'X_val': data['X_val'],\n",
      "  'y_val': data['y_val'],\n",
      "}\n",
      "\n",
      "solvers = {}\n",
      "dropout_choices = [0, 0.75]\n",
      "for dropout in dropout_choices:\n",
      "  model = FullyConnectedNet([500], dropout=dropout)\n",
      "  print dropout\n",
      "\n",
      "  solver = Solver(model, small_data,\n",
      "                  num_epochs=50, batch_size=100,\n",
      "                  update_rule='adam',\n",
      "                  optim_config={\n",
      "                    'learning_rate': 5e-4,\n",
      "                  },\n",
      "                  verbose=True, print_every=100)\n",
      "  solver.train()\n",
      "  solvers[dropout] = solver"
     ],
     "language": "python",
     "metadata": {
      "scrolled": false
     },
     "outputs": [
      {
       "output_type": "stream",
       "stream": "stdout",
       "text": [
        "0\n",
        "(Iteration 1 / 250) loss: 7.268300"
       ]
      },
      {
       "output_type": "stream",
       "stream": "stdout",
       "text": [
        "\n",
        "(Epoch 0 / 50) train acc: 0.228000; val_acc: 0.160000"
       ]
      },
      {
       "output_type": "stream",
       "stream": "stdout",
       "text": [
        "\n",
        "(Epoch 1 / 50) train acc: 0.268000; val_acc: 0.174000"
       ]
      },
      {
       "output_type": "stream",
       "stream": "stdout",
       "text": [
        "\n",
        "(Epoch 2 / 50) train acc: 0.356000; val_acc: 0.221000"
       ]
      },
      {
       "output_type": "stream",
       "stream": "stdout",
       "text": [
        "\n",
        "(Epoch 3 / 50) train acc: 0.366000; val_acc: 0.180000"
       ]
      },
      {
       "output_type": "stream",
       "stream": "stdout",
       "text": [
        "\n",
        "(Epoch 4 / 50) train acc: 0.504000; val_acc: 0.257000"
       ]
      },
      {
       "output_type": "stream",
       "stream": "stdout",
       "text": [
        "\n",
        "(Epoch 5 / 50) train acc: 0.574000; val_acc: 0.249000"
       ]
      },
      {
       "output_type": "stream",
       "stream": "stdout",
       "text": [
        "\n",
        "(Epoch 6 / 50) train acc: 0.604000; val_acc: 0.278000"
       ]
      },
      {
       "output_type": "stream",
       "stream": "stdout",
       "text": [
        "\n",
        "(Epoch 7 / 50) train acc: 0.714000; val_acc: 0.284000"
       ]
      },
      {
       "output_type": "stream",
       "stream": "stdout",
       "text": [
        "\n",
        "(Epoch 8 / 50) train acc: 0.748000; val_acc: 0.266000"
       ]
      },
      {
       "output_type": "stream",
       "stream": "stdout",
       "text": [
        "\n",
        "(Epoch 9 / 50) train acc: 0.790000; val_acc: 0.268000"
       ]
      },
      {
       "output_type": "stream",
       "stream": "stdout",
       "text": [
        "\n",
        "(Epoch 10 / 50) train acc: 0.830000; val_acc: 0.289000"
       ]
      },
      {
       "output_type": "stream",
       "stream": "stdout",
       "text": [
        "\n",
        "(Epoch 11 / 50) train acc: 0.880000; val_acc: 0.265000"
       ]
      },
      {
       "output_type": "stream",
       "stream": "stdout",
       "text": [
        "\n",
        "(Epoch 12 / 50) train acc: 0.894000; val_acc: 0.278000"
       ]
      },
      {
       "output_type": "stream",
       "stream": "stdout",
       "text": [
        "\n",
        "(Epoch 13 / 50) train acc: 0.920000; val_acc: 0.284000"
       ]
      },
      {
       "output_type": "stream",
       "stream": "stdout",
       "text": [
        "\n",
        "(Epoch 14 / 50) train acc: 0.914000; val_acc: 0.301000"
       ]
      },
      {
       "output_type": "stream",
       "stream": "stdout",
       "text": [
        "\n",
        "(Epoch 15 / 50) train acc: 0.940000; val_acc: 0.268000"
       ]
      },
      {
       "output_type": "stream",
       "stream": "stdout",
       "text": [
        "\n",
        "(Epoch 16 / 50) train acc: 0.950000; val_acc: 0.277000"
       ]
      },
      {
       "output_type": "stream",
       "stream": "stdout",
       "text": [
        "\n",
        "(Epoch 17 / 50) train acc: 0.946000; val_acc: 0.265000"
       ]
      },
      {
       "output_type": "stream",
       "stream": "stdout",
       "text": [
        "\n",
        "(Epoch 18 / 50) train acc: 0.968000; val_acc: 0.265000"
       ]
      },
      {
       "output_type": "stream",
       "stream": "stdout",
       "text": [
        "\n",
        "(Epoch 19 / 50) train acc: 0.944000; val_acc: 0.262000"
       ]
      },
      {
       "output_type": "stream",
       "stream": "stdout",
       "text": [
        "\n",
        "(Epoch 20 / 50) train acc: 0.974000; val_acc: 0.269000"
       ]
      },
      {
       "output_type": "stream",
       "stream": "stdout",
       "text": [
        "\n",
        "(Iteration 101 / 250) loss: 0.845250"
       ]
      },
      {
       "output_type": "stream",
       "stream": "stdout",
       "text": [
        "\n",
        "(Epoch 21 / 50) train acc: 0.940000; val_acc: 0.260000"
       ]
      },
      {
       "output_type": "stream",
       "stream": "stdout",
       "text": [
        "\n",
        "(Epoch 22 / 50) train acc: 0.968000; val_acc: 0.286000"
       ]
      },
      {
       "output_type": "stream",
       "stream": "stdout",
       "text": [
        "\n",
        "(Epoch 23 / 50) train acc: 0.974000; val_acc: 0.284000"
       ]
      },
      {
       "output_type": "stream",
       "stream": "stdout",
       "text": [
        "\n",
        "(Epoch 24 / 50) train acc: 0.994000; val_acc: 0.285000"
       ]
      },
      {
       "output_type": "stream",
       "stream": "stdout",
       "text": [
        "\n",
        "(Epoch 25 / 50) train acc: 0.964000; val_acc: 0.281000"
       ]
      },
      {
       "output_type": "stream",
       "stream": "stdout",
       "text": [
        "\n",
        "(Epoch 26 / 50) train acc: 0.992000; val_acc: 0.277000"
       ]
      },
      {
       "output_type": "stream",
       "stream": "stdout",
       "text": [
        "\n",
        "(Epoch 27 / 50) train acc: 0.982000; val_acc: 0.284000"
       ]
      },
      {
       "output_type": "stream",
       "stream": "stdout",
       "text": [
        "\n",
        "(Epoch 28 / 50) train acc: 0.990000; val_acc: 0.290000"
       ]
      },
      {
       "output_type": "stream",
       "stream": "stdout",
       "text": [
        "\n",
        "(Epoch 29 / 50) train acc: 0.982000; val_acc: 0.302000"
       ]
      },
      {
       "output_type": "stream",
       "stream": "stdout",
       "text": [
        "\n",
        "(Epoch 30 / 50) train acc: 0.986000; val_acc: 0.293000"
       ]
      },
      {
       "output_type": "stream",
       "stream": "stdout",
       "text": [
        "\n",
        "(Epoch 31 / 50) train acc: 0.990000; val_acc: 0.290000"
       ]
      },
      {
       "output_type": "stream",
       "stream": "stdout",
       "text": [
        "\n",
        "(Epoch 32 / 50) train acc: 0.986000; val_acc: 0.288000"
       ]
      },
      {
       "output_type": "stream",
       "stream": "stdout",
       "text": [
        "\n",
        "(Epoch 33 / 50) train acc: 0.996000; val_acc: 0.284000"
       ]
      },
      {
       "output_type": "stream",
       "stream": "stdout",
       "text": [
        "\n",
        "(Epoch 34 / 50) train acc: 0.996000; val_acc: 0.287000"
       ]
      },
      {
       "output_type": "stream",
       "stream": "stdout",
       "text": [
        "\n",
        "(Epoch 35 / 50) train acc: 0.996000; val_acc: 0.294000"
       ]
      },
      {
       "output_type": "stream",
       "stream": "stdout",
       "text": [
        "\n",
        "(Epoch 36 / 50) train acc: 0.996000; val_acc: 0.294000"
       ]
      },
      {
       "output_type": "stream",
       "stream": "stdout",
       "text": [
        "\n",
        "(Epoch 37 / 50) train acc: 0.994000; val_acc: 0.296000"
       ]
      },
      {
       "output_type": "stream",
       "stream": "stdout",
       "text": [
        "\n",
        "(Epoch 38 / 50) train acc: 1.000000; val_acc: 0.290000"
       ]
      },
      {
       "output_type": "stream",
       "stream": "stdout",
       "text": [
        "\n",
        "(Epoch 39 / 50) train acc: 1.000000; val_acc: 0.288000"
       ]
      },
      {
       "output_type": "stream",
       "stream": "stdout",
       "text": [
        "\n",
        "(Epoch 40 / 50) train acc: 1.000000; val_acc: 0.288000"
       ]
      },
      {
       "output_type": "stream",
       "stream": "stdout",
       "text": [
        "\n",
        "(Iteration 201 / 250) loss: 0.000001"
       ]
      },
      {
       "output_type": "stream",
       "stream": "stdout",
       "text": [
        "\n",
        "(Epoch 41 / 50) train acc: 1.000000; val_acc: 0.296000"
       ]
      },
      {
       "output_type": "stream",
       "stream": "stdout",
       "text": [
        "\n",
        "(Epoch 42 / 50) train acc: 1.000000; val_acc: 0.294000"
       ]
      },
      {
       "output_type": "stream",
       "stream": "stdout",
       "text": [
        "\n",
        "(Epoch 43 / 50) train acc: 1.000000; val_acc: 0.293000"
       ]
      },
      {
       "output_type": "stream",
       "stream": "stdout",
       "text": [
        "\n",
        "(Epoch 44 / 50) train acc: 1.000000; val_acc: 0.294000"
       ]
      },
      {
       "output_type": "stream",
       "stream": "stdout",
       "text": [
        "\n",
        "(Epoch 45 / 50) train acc: 1.000000; val_acc: 0.294000"
       ]
      },
      {
       "output_type": "stream",
       "stream": "stdout",
       "text": [
        "\n",
        "(Epoch 46 / 50) train acc: 1.000000; val_acc: 0.296000"
       ]
      },
      {
       "output_type": "stream",
       "stream": "stdout",
       "text": [
        "\n",
        "(Epoch 47 / 50) train acc: 1.000000; val_acc: 0.295000"
       ]
      },
      {
       "output_type": "stream",
       "stream": "stdout",
       "text": [
        "\n",
        "(Epoch 48 / 50) train acc: 1.000000; val_acc: 0.293000"
       ]
      },
      {
       "output_type": "stream",
       "stream": "stdout",
       "text": [
        "\n",
        "(Epoch 49 / 50) train acc: 1.000000; val_acc: 0.293000"
       ]
      },
      {
       "output_type": "stream",
       "stream": "stdout",
       "text": [
        "\n",
        "(Epoch 50 / 50) train acc: 1.000000; val_acc: 0.294000"
       ]
      },
      {
       "output_type": "stream",
       "stream": "stdout",
       "text": [
        "\n",
        "0.75"
       ]
      },
      {
       "output_type": "stream",
       "stream": "stdout",
       "text": [
        "\n",
        "(Iteration 1 / 250) loss: 17.404069"
       ]
      },
      {
       "output_type": "stream",
       "stream": "stdout",
       "text": [
        "\n",
        "(Epoch 0 / 50) train acc: 0.218000; val_acc: 0.192000"
       ]
      },
      {
       "output_type": "stream",
       "stream": "stdout",
       "text": [
        "\n",
        "(Epoch 1 / 50) train acc: 0.320000; val_acc: 0.191000"
       ]
      },
      {
       "output_type": "stream",
       "stream": "stdout",
       "text": [
        "\n",
        "(Epoch 2 / 50) train acc: 0.360000; val_acc: 0.239000"
       ]
      },
      {
       "output_type": "stream",
       "stream": "stdout",
       "text": [
        "\n",
        "(Epoch 3 / 50) train acc: 0.376000; val_acc: 0.236000"
       ]
      },
      {
       "output_type": "stream",
       "stream": "stdout",
       "text": [
        "\n",
        "(Epoch 4 / 50) train acc: 0.434000; val_acc: 0.228000"
       ]
      },
      {
       "output_type": "stream",
       "stream": "stdout",
       "text": [
        "\n",
        "(Epoch 5 / 50) train acc: 0.472000; val_acc: 0.293000"
       ]
      },
      {
       "output_type": "stream",
       "stream": "stdout",
       "text": [
        "\n",
        "(Epoch 6 / 50) train acc: 0.516000; val_acc: 0.269000"
       ]
      },
      {
       "output_type": "stream",
       "stream": "stdout",
       "text": [
        "\n",
        "(Epoch 7 / 50) train acc: 0.552000; val_acc: 0.293000"
       ]
      },
      {
       "output_type": "stream",
       "stream": "stdout",
       "text": [
        "\n",
        "(Epoch 8 / 50) train acc: 0.532000; val_acc: 0.267000"
       ]
      },
      {
       "output_type": "stream",
       "stream": "stdout",
       "text": [
        "\n",
        "(Epoch 9 / 50) train acc: 0.604000; val_acc: 0.279000"
       ]
      },
      {
       "output_type": "stream",
       "stream": "stdout",
       "text": [
        "\n",
        "(Epoch 10 / 50) train acc: 0.614000; val_acc: 0.331000"
       ]
      },
      {
       "output_type": "stream",
       "stream": "stdout",
       "text": [
        "\n",
        "(Epoch 11 / 50) train acc: 0.668000; val_acc: 0.305000"
       ]
      },
      {
       "output_type": "stream",
       "stream": "stdout",
       "text": [
        "\n",
        "(Epoch 12 / 50) train acc: 0.718000; val_acc: 0.337000"
       ]
      },
      {
       "output_type": "stream",
       "stream": "stdout",
       "text": [
        "\n",
        "(Epoch 13 / 50) train acc: 0.716000; val_acc: 0.322000"
       ]
      },
      {
       "output_type": "stream",
       "stream": "stdout",
       "text": [
        "\n",
        "(Epoch 14 / 50) train acc: 0.704000; val_acc: 0.280000"
       ]
      },
      {
       "output_type": "stream",
       "stream": "stdout",
       "text": [
        "\n",
        "(Epoch 15 / 50) train acc: 0.726000; val_acc: 0.303000"
       ]
      },
      {
       "output_type": "stream",
       "stream": "stdout",
       "text": [
        "\n",
        "(Epoch 16 / 50) train acc: 0.774000; val_acc: 0.310000"
       ]
      },
      {
       "output_type": "stream",
       "stream": "stdout",
       "text": [
        "\n",
        "(Epoch 17 / 50) train acc: 0.764000; val_acc: 0.300000"
       ]
      },
      {
       "output_type": "stream",
       "stream": "stdout",
       "text": [
        "\n",
        "(Epoch 18 / 50) train acc: 0.806000; val_acc: 0.312000"
       ]
      },
      {
       "output_type": "stream",
       "stream": "stdout",
       "text": [
        "\n",
        "(Epoch 19 / 50) train acc: 0.838000; val_acc: 0.309000"
       ]
      },
      {
       "output_type": "stream",
       "stream": "stdout",
       "text": [
        "\n",
        "(Epoch 20 / 50) train acc: 0.832000; val_acc: 0.330000"
       ]
      },
      {
       "output_type": "stream",
       "stream": "stdout",
       "text": [
        "\n",
        "(Iteration 101 / 250) loss: 74.278079"
       ]
      },
      {
       "output_type": "stream",
       "stream": "stdout",
       "text": [
        "\n",
        "(Epoch 21 / 50) train acc: 0.848000; val_acc: 0.313000"
       ]
      },
      {
       "output_type": "stream",
       "stream": "stdout",
       "text": [
        "\n",
        "(Epoch 22 / 50) train acc: 0.860000; val_acc: 0.315000"
       ]
      },
      {
       "output_type": "stream",
       "stream": "stdout",
       "text": [
        "\n",
        "(Epoch 23 / 50) train acc: 0.870000; val_acc: 0.326000"
       ]
      },
      {
       "output_type": "stream",
       "stream": "stdout",
       "text": [
        "\n",
        "(Epoch 24 / 50) train acc: 0.888000; val_acc: 0.309000"
       ]
      },
      {
       "output_type": "stream",
       "stream": "stdout",
       "text": [
        "\n",
        "(Epoch 25 / 50) train acc: 0.918000; val_acc: 0.311000"
       ]
      },
      {
       "output_type": "stream",
       "stream": "stdout",
       "text": [
        "\n",
        "(Epoch 26 / 50) train acc: 0.936000; val_acc: 0.316000"
       ]
      },
      {
       "output_type": "stream",
       "stream": "stdout",
       "text": [
        "\n",
        "(Epoch 27 / 50) train acc: 0.914000; val_acc: 0.321000"
       ]
      },
      {
       "output_type": "stream",
       "stream": "stdout",
       "text": [
        "\n",
        "(Epoch 28 / 50) train acc: 0.920000; val_acc: 0.321000"
       ]
      },
      {
       "output_type": "stream",
       "stream": "stdout",
       "text": [
        "\n",
        "(Epoch 29 / 50) train acc: 0.944000; val_acc: 0.325000"
       ]
      },
      {
       "output_type": "stream",
       "stream": "stdout",
       "text": [
        "\n",
        "(Epoch 30 / 50) train acc: 0.948000; val_acc: 0.316000"
       ]
      },
      {
       "output_type": "stream",
       "stream": "stdout",
       "text": [
        "\n",
        "(Epoch 31 / 50) train acc: 0.942000; val_acc: 0.316000"
       ]
      },
      {
       "output_type": "stream",
       "stream": "stdout",
       "text": [
        "\n",
        "(Epoch 32 / 50) train acc: 0.916000; val_acc: 0.313000"
       ]
      },
      {
       "output_type": "stream",
       "stream": "stdout",
       "text": [
        "\n",
        "(Epoch 33 / 50) train acc: 0.948000; val_acc: 0.323000"
       ]
      },
      {
       "output_type": "stream",
       "stream": "stdout",
       "text": [
        "\n",
        "(Epoch 34 / 50) train acc: 0.952000; val_acc: 0.323000"
       ]
      },
      {
       "output_type": "stream",
       "stream": "stdout",
       "text": [
        "\n",
        "(Epoch 35 / 50) train acc: 0.964000; val_acc: 0.318000"
       ]
      },
      {
       "output_type": "stream",
       "stream": "stdout",
       "text": [
        "\n",
        "(Epoch 36 / 50) train acc: 0.958000; val_acc: 0.333000"
       ]
      },
      {
       "output_type": "stream",
       "stream": "stdout",
       "text": [
        "\n",
        "(Epoch 37 / 50) train acc: 0.968000; val_acc: 0.328000"
       ]
      },
      {
       "output_type": "stream",
       "stream": "stdout",
       "text": [
        "\n",
        "(Epoch 38 / 50) train acc: 0.974000; val_acc: 0.318000"
       ]
      },
      {
       "output_type": "stream",
       "stream": "stdout",
       "text": [
        "\n",
        "(Epoch 39 / 50) train acc: 0.968000; val_acc: 0.331000"
       ]
      },
      {
       "output_type": "stream",
       "stream": "stdout",
       "text": [
        "\n",
        "(Epoch 40 / 50) train acc: 0.972000; val_acc: 0.336000"
       ]
      },
      {
       "output_type": "stream",
       "stream": "stdout",
       "text": [
        "\n",
        "(Iteration 201 / 250) loss: 19.239084"
       ]
      },
      {
       "output_type": "stream",
       "stream": "stdout",
       "text": [
        "\n",
        "(Epoch 41 / 50) train acc: 0.976000; val_acc: 0.334000"
       ]
      },
      {
       "output_type": "stream",
       "stream": "stdout",
       "text": [
        "\n",
        "(Epoch 42 / 50) train acc: 0.976000; val_acc: 0.316000"
       ]
      },
      {
       "output_type": "stream",
       "stream": "stdout",
       "text": [
        "\n",
        "(Epoch 43 / 50) train acc: 0.972000; val_acc: 0.313000"
       ]
      },
      {
       "output_type": "stream",
       "stream": "stdout",
       "text": [
        "\n",
        "(Epoch 44 / 50) train acc: 0.976000; val_acc: 0.329000"
       ]
      },
      {
       "output_type": "stream",
       "stream": "stdout",
       "text": [
        "\n",
        "(Epoch 45 / 50) train acc: 0.990000; val_acc: 0.322000"
       ]
      },
      {
       "output_type": "stream",
       "stream": "stdout",
       "text": [
        "\n",
        "(Epoch 46 / 50) train acc: 0.988000; val_acc: 0.314000"
       ]
      },
      {
       "output_type": "stream",
       "stream": "stdout",
       "text": [
        "\n",
        "(Epoch 47 / 50) train acc: 0.988000; val_acc: 0.322000"
       ]
      },
      {
       "output_type": "stream",
       "stream": "stdout",
       "text": [
        "\n",
        "(Epoch 48 / 50) train acc: 0.998000; val_acc: 0.336000"
       ]
      }
     ]
    },
    {
     "cell_type": "code",
     "collapsed": false,
     "input": [
      "# Plot train and validation accuracies of the two models\n",
      "\n",
      "train_accs = []\n",
      "val_accs = []\n",
      "for dropout in dropout_choices:\n",
      "  solver = solvers[dropout]\n",
      "  train_accs.append(solver.train_acc_history[-1])\n",
      "  val_accs.append(solver.val_acc_history[-1])\n",
      "\n",
      "plt.subplot(3, 1, 1)\n",
      "for dropout in dropout_choices:\n",
      "  plt.plot(solvers[dropout].train_acc_history, 'o', label='%.2f dropout' % dropout)\n",
      "plt.title('Train accuracy')\n",
      "plt.xlabel('Epoch')\n",
      "plt.ylabel('Accuracy')\n",
      "plt.legend(ncol=2, loc='lower right')\n",
      "  \n",
      "plt.subplot(3, 1, 2)\n",
      "for dropout in dropout_choices:\n",
      "  plt.plot(solvers[dropout].val_acc_history, 'o', label='%.2f dropout' % dropout)\n",
      "plt.title('Val accuracy')\n",
      "plt.xlabel('Epoch')\n",
      "plt.ylabel('Accuracy')\n",
      "plt.legend(ncol=2, loc='lower right')\n",
      "\n",
      "plt.gcf().set_size_inches(15, 15)\n",
      "plt.show()"
     ],
     "language": "python",
     "metadata": {},
     "outputs": [
      {
       "metadata": {},
       "output_type": "display_data",
       "png": "[encoded data removed]",
       "text": [
        "<matplotlib.figure.Figure at 0x7f31e7b4fe10>"
       ]
      }
     ],
     "prompt_number": 30
    },
    {
     "cell_type": "markdown",
     "metadata": {},
     "source": [
      "# Question\n",
      "Explain what you see in this experiment. What does it suggest about dropout?"
     ]
    },
    {
     "cell_type": "markdown",
     "metadata": {},
     "source": [
      "# Answer\n"
     ]
    }
   ],
   "metadata": {}
  }
 ]
}