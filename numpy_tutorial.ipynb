{
 "metadata": {
  "name": "",
  "signature": "sha256:5e30a29940230af969470f8f6df89cf5bcaec30fcecbe347375bbefaece55bf5"
 },
 "nbformat": 3,
 "nbformat_minor": 0,
 "worksheets": [
  {
   "cells": [
    {
     "cell_type": "markdown",
     "metadata": {},
     "source": [
      "## Python"
     ]
    },
    {
     "cell_type": "code",
     "collapsed": false,
     "input": [
      "def quicksort(arr):\n",
      "    if len(arr) <= 1:\n",
      "        return arr\n",
      "    pivot = arr[len(arr)/2]\n",
      "    left = [x for x in arr if x < pivot]\n",
      "    middle = [x for x in arr if x == pivot]\n",
      "    right = [x for x in arr if x > pivot]\n",
      "    return quicksort(left) + middle + quicksort(right)\n",
      "print quicksort([3,6,8,10,1,2,1])"
     ],
     "language": "python",
     "metadata": {},
     "outputs": [
      {
       "output_type": "stream",
       "stream": "stdout",
       "text": [
        "[1, 1, 2, 3, 6, 8, 10]\n"
       ]
      }
     ],
     "prompt_number": 1
    },
    {
     "cell_type": "markdown",
     "metadata": {},
     "source": [
      "## Basic data types\n",
      "#### Numbers: \u6574\u6570\u548c\u6d6e\u70b9\u6570"
     ]
    },
    {
     "cell_type": "code",
     "collapsed": false,
     "input": [
      "x = 3\n",
      "print type(x)\n",
      "print x\n",
      "print x + 1\n",
      "print x - 1\n",
      "print x * 2\n",
      "print x ** 2\n",
      "x += 1\n",
      "print x\n",
      "x *= 2\n",
      "print x\n",
      "y = 2.5\n",
      "print type(y)\n",
      "print y, y + 1, y * 2, y ** 2"
     ],
     "language": "python",
     "metadata": {},
     "outputs": [
      {
       "output_type": "stream",
       "stream": "stdout",
       "text": [
        "<type 'int'>\n",
        "3\n",
        "4\n",
        "2\n",
        "6\n",
        "9\n",
        "4\n",
        "8\n",
        "<type 'float'>\n",
        "2.5 3.5 5.0 6.25\n"
       ]
      }
     ],
     "prompt_number": 2
    },
    {
     "cell_type": "markdown",
     "metadata": {},
     "source": [
      "#### Boolean: python \u4f7f\u7528 \u82f1\u6587\u5355\u8bcd\u4f5c\u4e3a\u903b\u8f91\u8fd0\u7b97\u7b26\u53f7"
     ]
    },
    {
     "cell_type": "code",
     "collapsed": false,
     "input": [
      "t = True\n",
      "f = False\n",
      "print type(t)\n",
      "print t and f\n",
      "print t or f\n",
      "print not t\n",
      "print t != f"
     ],
     "language": "python",
     "metadata": {},
     "outputs": [
      {
       "output_type": "stream",
       "stream": "stdout",
       "text": [
        "<type 'bool'>\n",
        "False\n",
        "True\n",
        "False\n",
        "True\n"
       ]
      }
     ],
     "prompt_number": 3
    },
    {
     "cell_type": "markdown",
     "metadata": {},
     "source": [
      "#### Strings: python\u5f88\u597d\u5730\u652f\u6301\u5b57\u7b26\u4e32"
     ]
    },
    {
     "cell_type": "code",
     "collapsed": false,
     "input": [
      "hello = 'hello'\n",
      "world = 'world'\n",
      "print hello\n",
      "print len(hello)\n",
      "hw = hello + ' ' + world\n",
      "print hw\n",
      "hw12 = '%s %s %d' % (hello, world, 12)\n",
      "print hw12"
     ],
     "language": "python",
     "metadata": {},
     "outputs": [
      {
       "output_type": "stream",
       "stream": "stdout",
       "text": [
        "hello\n",
        "5\n",
        "hello world\n",
        "hello world 12\n"
       ]
      }
     ],
     "prompt_number": 4
    },
    {
     "cell_type": "code",
     "collapsed": false,
     "input": [
      "# string object \u7684 \u65b9\u6cd5\n",
      "s = 'hello'\n",
      "print s.capitalize()\n",
      "print s.upper()\n",
      "print s.rjust(7)\n",
      "print s.center(7)\n",
      "print s.replace('l','(ell)')\n",
      "print '  world '.strip()"
     ],
     "language": "python",
     "metadata": {},
     "outputs": [
      {
       "output_type": "stream",
       "stream": "stdout",
       "text": [
        "Hello\n",
        "HELLO\n",
        "  hello\n",
        " hello \n",
        "he(ell)(ell)o\n",
        "world\n"
       ]
      }
     ],
     "prompt_number": 5
    },
    {
     "cell_type": "markdown",
     "metadata": {},
     "source": [
      "## Containers\n",
      "python \u5305\u542b\u591a\u79cd\u5185\u7f6e\u7c7b\u578b\uff1a list, dictionary, set, and tuple"
     ]
    },
    {
     "cell_type": "markdown",
     "metadata": {},
     "source": [
      "### Lists\n",
      "list \u548c \u4f20\u7edf\u6570\u7ec4\u76f8\u4f3c\uff0c\u4f46\u662f\u53ef\u4ee5\u6539\u53d8\u5927\u5c0f\uff0c\u5e76\u4e14\uff0c\u80fd\u591f\u5bb9\u7eb3\u591a\u79cd\u4e0d\u540c\u7c7b\u578b\u7684\u6570\u636e\u3002"
     ]
    },
    {
     "cell_type": "code",
     "collapsed": false,
     "input": [
      "xs = [3, 1, 2]\n",
      "print xs, xs[2]\n",
      "print xs[-1]\n",
      "xs[2] = 'foo'\n",
      "print xs\n",
      "xs.append('bar')\n",
      "print xs\n",
      "x = xs.pop()\n",
      "print x, xs"
     ],
     "language": "python",
     "metadata": {},
     "outputs": [
      {
       "output_type": "stream",
       "stream": "stdout",
       "text": [
        "[3, 1, 2] 2\n",
        "2\n",
        "[3, 1, 'foo']\n",
        "[3, 1, 'foo', 'bar']\n",
        "bar [3, 1, 'foo']\n"
       ]
      }
     ],
     "prompt_number": 6
    },
    {
     "cell_type": "markdown",
     "metadata": {},
     "source": [
      "#### Slicing:\u8bbf\u95eesublist "
     ]
    },
    {
     "cell_type": "code",
     "collapsed": false,
     "input": [
      "nums = range(5)\n",
      "print nums\n",
      "print nums[2:4]\n",
      "print nums[2:]\n",
      "print nums[:2]\n",
      "print nums[:]\n",
      "print nums[:-1]\n",
      "nums[2:4] = [8, 9]\n",
      "print nums"
     ],
     "language": "python",
     "metadata": {},
     "outputs": [
      {
       "output_type": "stream",
       "stream": "stdout",
       "text": [
        "[0, 1, 2, 3, 4]\n",
        "[2, 3]\n",
        "[2, 3, 4]\n",
        "[0, 1]\n",
        "[0, 1, 2, 3, 4]\n",
        "[0, 1, 2, 3]\n",
        "[0, 1, 8, 9, 4]\n"
       ]
      }
     ],
     "prompt_number": 7
    },
    {
     "cell_type": "code",
     "collapsed": false,
     "input": [
      "nums[2:4] = [10,11,12]\n",
      "print nums"
     ],
     "language": "python",
     "metadata": {},
     "outputs": [
      {
       "output_type": "stream",
       "stream": "stdout",
       "text": [
        "[0, 1, 10, 11, 12, 4]\n"
       ]
      }
     ],
     "prompt_number": 8
    },
    {
     "cell_type": "markdown",
     "metadata": {},
     "source": [
      "#### Loops: \u904d\u5386list\u7684\u5143\u7d20"
     ]
    },
    {
     "cell_type": "code",
     "collapsed": false,
     "input": [
      "animals = ['cat', 'dog', 'monkey']\n",
      "for animal in animals:\n",
      "    print animal"
     ],
     "language": "python",
     "metadata": {},
     "outputs": [
      {
       "output_type": "stream",
       "stream": "stdout",
       "text": [
        "cat\n",
        "dog\n",
        "monkey\n"
       ]
      }
     ],
     "prompt_number": 9
    },
    {
     "cell_type": "code",
     "collapsed": false,
     "input": [
      "# \u8bbf\u95eelist \u4e2d\uff0c\u5143\u7d20\u7684\u7d22\u5f15\uff0c\u53ef\u4ee5\u4f7f\u7528enumerate\u51fd\u6570\n",
      "animals = ['cat', 'dog', 'monkey']\n",
      "for idx, animal in enumerate(animals):\n",
      "    print '#%d: %s' % (idx + 1, animal)"
     ],
     "language": "python",
     "metadata": {},
     "outputs": [
      {
       "output_type": "stream",
       "stream": "stdout",
       "text": [
        "#1: cat\n",
        "#2: dog\n",
        "#3: monkey\n"
       ]
      }
     ],
     "prompt_number": 10
    },
    {
     "cell_type": "markdown",
     "metadata": {},
     "source": [
      "#### list comprehensions"
     ]
    },
    {
     "cell_type": "code",
     "collapsed": false,
     "input": [
      "nums = [0, 1, 2, 3, 4]\n",
      "squares = []\n",
      "for x in nums:\n",
      "    squares.append(x ** 2)\n",
      "print squares"
     ],
     "language": "python",
     "metadata": {},
     "outputs": [
      {
       "output_type": "stream",
       "stream": "stdout",
       "text": [
        "[0, 1, 4, 9, 16]\n"
       ]
      }
     ],
     "prompt_number": 11
    },
    {
     "cell_type": "code",
     "collapsed": false,
     "input": [
      "nums = [0, 1, 2, 3, 4]\n",
      "even_squares = [x ** 2 for x in nums if x % 2 == 0]\n",
      "print even_squares"
     ],
     "language": "python",
     "metadata": {},
     "outputs": [
      {
       "output_type": "stream",
       "stream": "stdout",
       "text": [
        "[0, 4, 16]\n"
       ]
      }
     ],
     "prompt_number": 12
    },
    {
     "cell_type": "markdown",
     "metadata": {},
     "source": [
      "## Dictionaries\n",
      "dictionary stores (key, value) pairs, \u548c Map\u76f8\u4f3c\u3002"
     ]
    },
    {
     "cell_type": "code",
     "collapsed": false,
     "input": [
      "d = {'cat': 'cute', 'dog': 'furry'}\n",
      "print d['cat']\n",
      "print 'cat' in d\n",
      "d['fish'] = 'wet'\n",
      "print d['fish']"
     ],
     "language": "python",
     "metadata": {},
     "outputs": [
      {
       "output_type": "stream",
       "stream": "stdout",
       "text": [
        "cute\n",
        "True\n",
        "wet\n"
       ]
      }
     ],
     "prompt_number": 13
    },
    {
     "cell_type": "code",
     "collapsed": false,
     "input": [
      "print d['monkey']"
     ],
     "language": "python",
     "metadata": {},
     "outputs": [
      {
       "ename": "KeyError",
       "evalue": "'monkey'",
       "output_type": "pyerr",
       "traceback": [
        "\u001b[0;31m---------------------------------------------------------------------------\u001b[0m\n\u001b[0;31mKeyError\u001b[0m                                  Traceback (most recent call last)",
        "\u001b[0;32m<ipython-input-14-422a127ca156>\u001b[0m in \u001b[0;36m<module>\u001b[0;34m()\u001b[0m\n\u001b[0;32m----> 1\u001b[0;31m \u001b[0;32mprint\u001b[0m \u001b[0md\u001b[0m\u001b[0;34m[\u001b[0m\u001b[0;34m'monkey'\u001b[0m\u001b[0;34m]\u001b[0m\u001b[0;34m\u001b[0m\u001b[0m\n\u001b[0m",
        "\u001b[0;31mKeyError\u001b[0m: 'monkey'"
       ]
      }
     ],
     "prompt_number": 14
    },
    {
     "cell_type": "code",
     "collapsed": false,
     "input": [
      "print d.get('monkey', 'N/A')"
     ],
     "language": "python",
     "metadata": {},
     "outputs": [
      {
       "output_type": "stream",
       "stream": "stdout",
       "text": [
        "N/A\n"
       ]
      }
     ],
     "prompt_number": 16
    },
    {
     "cell_type": "code",
     "collapsed": false,
     "input": [
      "print d.get('fish', 'N/A')"
     ],
     "language": "python",
     "metadata": {},
     "outputs": [
      {
       "output_type": "stream",
       "stream": "stdout",
       "text": [
        "wet\n"
       ]
      }
     ],
     "prompt_number": 17
    },
    {
     "cell_type": "code",
     "collapsed": false,
     "input": [
      "del d['fish']"
     ],
     "language": "python",
     "metadata": {},
     "outputs": [],
     "prompt_number": 18
    },
    {
     "cell_type": "code",
     "collapsed": false,
     "input": [
      "print d"
     ],
     "language": "python",
     "metadata": {},
     "outputs": [
      {
       "output_type": "stream",
       "stream": "stdout",
       "text": [
        "{'dog': 'furry', 'cat': 'cute'}\n"
       ]
      }
     ],
     "prompt_number": 19
    },
    {
     "cell_type": "code",
     "collapsed": false,
     "input": [
      "for animal in d:\n",
      "    print animal"
     ],
     "language": "python",
     "metadata": {},
     "outputs": [
      {
       "output_type": "stream",
       "stream": "stdout",
       "text": [
        "dog\n",
        "cat\n"
       ]
      }
     ],
     "prompt_number": 23
    },
    {
     "cell_type": "code",
     "collapsed": false,
     "input": [
      "for animal, name in d.iteritems():\n",
      "    print animal, name"
     ],
     "language": "python",
     "metadata": {},
     "outputs": [
      {
       "output_type": "stream",
       "stream": "stdout",
       "text": [
        "dog furry\n",
        "cat cute\n"
       ]
      }
     ],
     "prompt_number": 24
    },
    {
     "cell_type": "markdown",
     "metadata": {},
     "source": [
      "## Sets\n",
      "set\u662f\u65e0\u5e8f\u7684\u5143\u7d20\u96c6\u5408\u3002"
     ]
    },
    {
     "cell_type": "code",
     "collapsed": false,
     "input": [
      "animals = {'cat', 'dog'}\n",
      "print 'cat' in animals\n",
      "print 'fish' in animals\n",
      "animals.add('fish')\n",
      "print 'fish' in animals\n",
      "animals.add('cat')\n",
      "print len(animals)\n",
      "animals.remove('cat')\n",
      "print len(animals)"
     ],
     "language": "python",
     "metadata": {},
     "outputs": [
      {
       "output_type": "stream",
       "stream": "stdout",
       "text": [
        "True\n",
        "False\n",
        "True\n",
        "3\n",
        "2\n"
       ]
      }
     ],
     "prompt_number": 25
    },
    {
     "cell_type": "markdown",
     "metadata": {},
     "source": [
      "## Tuples\n",
      "tuple\u662f\u4e0d\u53ef\u53d8\u7684list\u3002tuple\u53ef\u4ee5\u4f5c\u4e3adict\u7684key\u503c\uff0c\u4e5f\u53ef\u4ee5\u4f5c\u4e3aset\u7684\u5143\u7d20\uff0c\u4f46\u662flist\u4e0d\u53ef\u4ee5\u3002"
     ]
    },
    {
     "cell_type": "code",
     "collapsed": false,
     "input": [
      "d = {(x, x+1): x for x in range(10)}\n",
      "t = (5, 6)\n",
      "print type(t)\n",
      "print d[t]\n",
      "print d[(1, 2)]"
     ],
     "language": "python",
     "metadata": {},
     "outputs": [
      {
       "output_type": "stream",
       "stream": "stdout",
       "text": [
        "<type 'tuple'>\n",
        "5\n",
        "1\n"
       ]
      }
     ],
     "prompt_number": 26
    },
    {
     "cell_type": "markdown",
     "metadata": {},
     "source": [
      "## Function \n",
      "python \u5b9a\u4e49\u51fd\u6570\u4f7f\u7528def\u3002"
     ]
    },
    {
     "cell_type": "code",
     "collapsed": false,
     "input": [
      "def sign(x):\n",
      "    if x > 0:\n",
      "        return 'positive'\n",
      "    elif x < 0:\n",
      "        return 'negative'\n",
      "    else:\n",
      "        return 'zero'\n",
      "\n",
      "for x in [-1, 0, 1]:\n",
      "    print sign(x)"
     ],
     "language": "python",
     "metadata": {},
     "outputs": [
      {
       "output_type": "stream",
       "stream": "stdout",
       "text": [
        "negative\n",
        "zero\n",
        "positive\n"
       ]
      }
     ],
     "prompt_number": 27
    },
    {
     "cell_type": "code",
     "collapsed": false,
     "input": [
      "def hello(name, loud=False):\n",
      "    if loud:\n",
      "        print 'HELLO, %s' % name.upper()\n",
      "    else:\n",
      "        print 'Hello, %s' % name\n",
      "hello('Bob')\n",
      "hello('Fred', loud=True)"
     ],
     "language": "python",
     "metadata": {},
     "outputs": [
      {
       "output_type": "stream",
       "stream": "stdout",
       "text": [
        "Hello, Bob\n",
        "HELLO, FRED\n"
       ]
      }
     ],
     "prompt_number": 28
    },
    {
     "cell_type": "markdown",
     "metadata": {},
     "source": [
      "## Classes"
     ]
    },
    {
     "cell_type": "code",
     "collapsed": false,
     "input": [
      "class Greeter(object):\n",
      "    def __init__(self, name):\n",
      "        self.name = name\n",
      "    def greet(self, loud=False):\n",
      "        if loud:\n",
      "            print 'Hello, %s' % self.name.upper()\n",
      "        else:\n",
      "            print 'Hello, %s' % self.name\n",
      "g = Greeter('Fred')\n",
      "g.greet()\n",
      "g.greet(loud=True)"
     ],
     "language": "python",
     "metadata": {},
     "outputs": [
      {
       "output_type": "stream",
       "stream": "stdout",
       "text": [
        "Hello, Fred\n",
        "Hello, FRED\n"
       ]
      }
     ],
     "prompt_number": 29
    },
    {
     "cell_type": "markdown",
     "metadata": {},
     "source": [
      "# Numpy\n",
      "numpy \u662f python \u4e2d\u79d1\u5b66\u8ba1\u7b97\u7684\u6838\u5fc3\u5e93\u3002\u8be5\u5e93\u63d0\u4f9b\u4e86\u9ad8\u6027\u80fd\u7684\u591a\u7ef4\u6570\u7ec4\u5bf9\u8c61\uff0c\u548c\u64cd\u4f5c\u8be5\u6570\u7ec4\u5bf9\u8c61\u7684\u591a\u4e2a\u51fd\u6570\u3002"
     ]
    },
    {
     "cell_type": "markdown",
     "metadata": {},
     "source": [
      "## Arrays\n",
      "numpy array \u662f\u4e00\u7ec4\u7f51\u683c\u503c\uff0c\u6240\u6709\u7684\u503c\u90fd\u662f\u540c\u4e00\u4e2a\u7c7b\u578b\uff0c\u5e76\u4e14\u6bcf\u4e2a\u6570\u636e\u901a\u8fc7\u4e00\u7ec4\u975e\u8d1f\u6570tuple\u7d22\u5f15\u3002\u7ef4\u5ea6\u7684\u4e2a\u6570\u662f\u8be5\u6570\u7ec4\u7684rank\uff1b\u6570\u7ec4\u7684\u5f62\u72b6\u662f\u4e00\u4e2atuple\uff0c\u6bcf\u4e2a\u4f4d\u7f6e\u7684\u6570\u5b57\u662f\u8be5\u7ef4\u5ea6\u4e0a\u7684\u5927\u5c0f\u3002"
     ]
    },
    {
     "cell_type": "code",
     "collapsed": false,
     "input": [
      "#\u53ef\u4ee5\u901a\u8fc7\u7528python\u7684list\u5bf9\u8c61\u521d\u59cb\u5316np.array\n",
      "import numpy as np\n",
      "\n",
      "a = np.array([1, 2, 3])\n",
      "print type(a)\n",
      "print a.shape\n",
      "print a[0], a[1], a[2]\n",
      "a[0] = 5\n",
      "print a"
     ],
     "language": "python",
     "metadata": {},
     "outputs": [
      {
       "output_type": "stream",
       "stream": "stdout",
       "text": [
        "<type 'numpy.ndarray'>\n",
        "(3,)\n",
        "1 2 3\n",
        "[5 2 3]\n"
       ]
      }
     ],
     "prompt_number": 35
    },
    {
     "cell_type": "code",
     "collapsed": false,
     "input": [
      "b = np.array([[1,2,3], [4,5,6]])\n",
      "print b.shape\n",
      "print b[0,0], b[0,1]"
     ],
     "language": "python",
     "metadata": {},
     "outputs": [
      {
       "output_type": "stream",
       "stream": "stdout",
       "text": [
        "(2, 3)\n",
        "1 2\n"
       ]
      }
     ],
     "prompt_number": 36
    },
    {
     "cell_type": "code",
     "collapsed": false,
     "input": [
      "#\u5176\u4ed6\u521d\u59cb\u5316np.array\u7684\u65b9\u6cd5\n",
      "import numpy as np\n",
      "a = np.zeros((2,2))\n",
      "print a"
     ],
     "language": "python",
     "metadata": {},
     "outputs": [
      {
       "output_type": "stream",
       "stream": "stdout",
       "text": [
        "[[ 0.  0.]\n",
        " [ 0.  0.]]\n"
       ]
      }
     ],
     "prompt_number": 37
    },
    {
     "cell_type": "code",
     "collapsed": false,
     "input": [
      "b = np.ones((1, 2))\n",
      "print b\n",
      "\n",
      "c = np.full((2,2), 7)\n",
      "print c\n",
      "\n",
      "d = np.eye(2)\n",
      "print d\n",
      "\n",
      "e = np.random.random((2, 2))\n",
      "print e"
     ],
     "language": "python",
     "metadata": {},
     "outputs": [
      {
       "output_type": "stream",
       "stream": "stdout",
       "text": [
        "[[ 1.  1.]]\n",
        "[[ 7.  7.]\n",
        " [ 7.  7.]]\n",
        "[[ 1.  0.]\n",
        " [ 0.  1.]]\n",
        "[[ 0.87671829  0.98716832]\n",
        " [ 0.90587554  0.8744098 ]]\n"
       ]
      },
      {
       "output_type": "stream",
       "stream": "stderr",
       "text": [
        "/usr/local/lib/python2.7/dist-packages/numpy/core/numeric.py:301: FutureWarning: in the future, full((2, 2), 7) will return an array of dtype('int64')\n",
        "  format(shape, fill_value, array(fill_value).dtype), FutureWarning)\n"
       ]
      }
     ],
     "prompt_number": 38
    },
    {
     "cell_type": "markdown",
     "metadata": {},
     "source": [
      "## Array indexing\n",
      "Numpy \u63d0\u4f9b\u4e86\u591a\u79cdindex\u6570\u7ec4\u7684\u65b9\u6cd5\u3002"
     ]
    },
    {
     "cell_type": "markdown",
     "metadata": {},
     "source": [
      "#### Slicing: \u548cpython list \u76f8\u4f3c\uff0cnumpy \u6570\u7ec4\u80fd\u591f\u4f7f\u7528sliced. \u56e0\u4e3aarray\u53ef\u80fd\u662f\u591a\u7ef4\u6570\u7ec4\uff0c"
     ]
    },
    {
     "cell_type": "code",
     "collapsed": false,
     "input": [
      "import numpy as np\n",
      "a = np.array([[1,2,3,4], [5,6,7,8], [9,10,11,12]])\n",
      "b = a[:2, 1:3]"
     ],
     "language": "python",
     "metadata": {},
     "outputs": [],
     "prompt_number": 1
    },
    {
     "cell_type": "code",
     "collapsed": false,
     "input": [
      "print a[0, 1]\n",
      "b[0, 0] = 77\n",
      "print a[0, 1]"
     ],
     "language": "python",
     "metadata": {},
     "outputs": [
      {
       "output_type": "stream",
       "stream": "stdout",
       "text": [
        "2\n",
        "77\n"
       ]
      }
     ],
     "prompt_number": 4
    },
    {
     "cell_type": "code",
     "collapsed": false,
     "input": [
      "import numpy as np\n",
      "a = np.array([[1,2,3,4], [5,6,7,8], [9,10,11,12]])\n",
      "row_r1 = a[1, :]\n",
      "row_r2 = a[1:2, :]\n",
      "print row_r1, row_r1.shape\n",
      "print row_r2, row_r2.shape\n",
      "\n",
      "col_r1 = a[:, 1]\n",
      "col_r2 = a[:, 1:2]\n",
      "print col_r1, col_r1.shape\n",
      "print col_r2, col_r2.shape"
     ],
     "language": "python",
     "metadata": {},
     "outputs": [
      {
       "output_type": "stream",
       "stream": "stdout",
       "text": [
        "[5 6 7 8] (4,)\n",
        "[[5 6 7 8]] (1, 4)\n",
        "[ 2  6 10] (3,)\n",
        "[[ 2]\n",
        " [ 6]\n",
        " [10]] (3, 1)\n"
       ]
      }
     ],
     "prompt_number": 5
    },
    {
     "cell_type": "code",
     "collapsed": false,
     "input": [
      "import numpy as np\n",
      "a = np.array([[1,2], [3,4], [5,6]])\n",
      "print a[[0,1,2], [0,1,0]]\n",
      "print np.array([a[0,0], a[1, 1], a[2, 0]])\n"
     ],
     "language": "python",
     "metadata": {},
     "outputs": [
      {
       "output_type": "stream",
       "stream": "stdout",
       "text": [
        "[1 4 5]\n",
        "[1 4 5]\n"
       ]
      }
     ],
     "prompt_number": 6
    },
    {
     "cell_type": "code",
     "collapsed": false,
     "input": [
      "import numpy as np\n",
      "a = np.array([[1,2,3], [4,5,6], [7,8,9], [10,11,12]])\n",
      "print a\n",
      "b = np.array([0,2,0,1])\n",
      "print a[np.arange(4), b]\n",
      "a[np.arange(4), b] += 10\n",
      "print a"
     ],
     "language": "python",
     "metadata": {},
     "outputs": [
      {
       "output_type": "stream",
       "stream": "stdout",
       "text": [
        "[[ 1  2  3]\n",
        " [ 4  5  6]\n",
        " [ 7  8  9]\n",
        " [10 11 12]]\n",
        "[ 1  6  7 11]\n",
        "[[11  2  3]\n",
        " [ 4  5 16]\n",
        " [17  8  9]\n",
        " [10 21 12]]\n"
       ]
      }
     ],
     "prompt_number": 7
    },
    {
     "cell_type": "markdown",
     "metadata": {},
     "source": [
      "#### Boolean array indexing:\n",
      "Boolean array indexing \u9009\u62e9\u4efb\u610f\u6ee1\u8db3\u7279\u5b9a\u6761\u4ef6\u7684\u5143\u7d20"
     ]
    },
    {
     "cell_type": "code",
     "collapsed": false,
     "input": [
      "import numpy as np\n",
      "a = np.array([[1,2], [3,4], [5,6]])\n",
      "bool_idx = (a > 2)\n",
      "print bool_idx\n",
      "print a[bool_idx]\n",
      "print a[a > 2]"
     ],
     "language": "python",
     "metadata": {},
     "outputs": [
      {
       "output_type": "stream",
       "stream": "stdout",
       "text": [
        "[[False False]\n",
        " [ True  True]\n",
        " [ True  True]]\n",
        "[3 4 5 6]\n",
        "[3 4 5 6]\n"
       ]
      }
     ],
     "prompt_number": 8
    },
    {
     "cell_type": "markdown",
     "metadata": {},
     "source": [
      "## Datatypes\n",
      "\u5f53\u521b\u9020array\u65f6\uff0cNumpy\u5c3d\u91cf\u731c\u6d4b\u6570\u636e\u7c7b\u578b\uff0c\u4f46\u662f\u6784\u9020array\u7684\u6784\u9020\u51fd\u6570\u6709\u4e00\u4e2a\u53ef\u9009\u7684\u663e\u793a\u7684\u6570\u636e\u7c7b\u578b\u3002"
     ]
    },
    {
     "cell_type": "code",
     "collapsed": false,
     "input": [
      "import numpy as np\n",
      "x = np.array([1,2])\n",
      "print x.dtype\n",
      "\n",
      "x = np.array([1.0, 2.0])\n",
      "print x.dtype\n",
      "\n",
      "x = np.array([1, 2], dtype=np.int64)\n",
      "print x.dtype"
     ],
     "language": "python",
     "metadata": {},
     "outputs": [
      {
       "output_type": "stream",
       "stream": "stdout",
       "text": [
        "int64\n",
        "float64\n",
        "int64\n"
       ]
      }
     ],
     "prompt_number": 9
    },
    {
     "cell_type": "markdown",
     "metadata": {},
     "source": [
      "## Array math\n",
      "\u57fa\u672c\u7684\u6570\u5b66\u51fd\u6570elementwise \u64cd\u4f5carray\u3002\u53ef\u4ee5\u4f7f\u7528\u8fd0\u7b97\u7b26\u91cd\u8f7d\u548cnumpy\u63d0\u4f9b\u7684\u51fd\u6570\u3002"
     ]
    },
    {
     "cell_type": "code",
     "collapsed": false,
     "input": [
      "import numpy as np\n",
      "\n",
      "x = np.array([[1,2], [3,4]], dtype=np.float64)\n",
      "y = np.array([[5,6], [7,8]], dtype=np.float64)\n",
      "\n",
      "print x + y\n",
      "print np.add(x, y)"
     ],
     "language": "python",
     "metadata": {},
     "outputs": [
      {
       "output_type": "stream",
       "stream": "stdout",
       "text": [
        "[[  6.   8.]\n",
        " [ 10.  12.]]\n",
        "[[  6.   8.]\n",
        " [ 10.  12.]]\n"
       ]
      }
     ],
     "prompt_number": 10
    },
    {
     "cell_type": "code",
     "collapsed": false,
     "input": [
      "print x - y\n",
      "print np.subtract(x, y)"
     ],
     "language": "python",
     "metadata": {},
     "outputs": [
      {
       "output_type": "stream",
       "stream": "stdout",
       "text": [
        "[[-4. -4.]\n",
        " [-4. -4.]]\n",
        "[[-4. -4.]\n",
        " [-4. -4.]]\n"
       ]
      }
     ],
     "prompt_number": 11
    },
    {
     "cell_type": "markdown",
     "metadata": {},
     "source": [
      "\u77e9\u9635\u548c\u5411\u91cf\u7684\u4e58\u6cd5\u4f7f\u7528dot"
     ]
    },
    {
     "cell_type": "code",
     "collapsed": false,
     "input": [
      "import numpy as np\n",
      "\n",
      "x = np.array([[1,2], [3,4]])\n",
      "y = np.array([[5,6],[7,8]])\n",
      "\n",
      "v = np.array([9,10])\n",
      "w = np.array([11,12])\n",
      "\n",
      "print v.dot(w)\n",
      "print np.dot(v,w)"
     ],
     "language": "python",
     "metadata": {},
     "outputs": [
      {
       "output_type": "stream",
       "stream": "stdout",
       "text": [
        "219\n",
        "219\n"
       ]
      }
     ],
     "prompt_number": 12
    },
    {
     "cell_type": "code",
     "collapsed": false,
     "input": [
      "print x.dot(v)\n",
      "print v.dot(x)"
     ],
     "language": "python",
     "metadata": {},
     "outputs": [
      {
       "output_type": "stream",
       "stream": "stdout",
       "text": [
        "[29 67]\n",
        "[39 58]\n"
       ]
      }
     ],
     "prompt_number": 13
    },
    {
     "cell_type": "code",
     "collapsed": false,
     "input": [
      "print np.dot(x,v).shape"
     ],
     "language": "python",
     "metadata": {},
     "outputs": [
      {
       "output_type": "stream",
       "stream": "stdout",
       "text": [
        "(2,)\n"
       ]
      }
     ],
     "prompt_number": 16
    },
    {
     "cell_type": "markdown",
     "metadata": {},
     "source": [
      "numpy \u63d0\u4f9b\u4e86\u5f88\u591a\u6709\u7528\u7684\u8ba1\u7b97\u51fd\u6570\uff1a"
     ]
    },
    {
     "cell_type": "code",
     "collapsed": false,
     "input": [
      "import numpy as np\n",
      "x = np.array([[1,2], [3,4]])\n",
      "print np.sum(x)\n",
      "print np.sum(x, axis=0)\n",
      "print np.sum(x, axis=1)"
     ],
     "language": "python",
     "metadata": {},
     "outputs": [
      {
       "output_type": "stream",
       "stream": "stdout",
       "text": [
        "10\n",
        "[4 6]\n",
        "[3 7]\n"
       ]
      }
     ],
     "prompt_number": 17
    },
    {
     "cell_type": "code",
     "collapsed": false,
     "input": [
      "import numpy as np\n",
      "\n",
      "x = np.array([[1,2], [3,4]])\n",
      "print x\n",
      "print x.T"
     ],
     "language": "python",
     "metadata": {},
     "outputs": [
      {
       "output_type": "stream",
       "stream": "stdout",
       "text": [
        "[[1 2]\n",
        " [3 4]]\n",
        "[[1 3]\n",
        " [2 4]]\n"
       ]
      }
     ],
     "prompt_number": 18
    },
    {
     "cell_type": "markdown",
     "metadata": {},
     "source": [
      "## Broadcasting\n"
     ]
    },
    {
     "cell_type": "code",
     "collapsed": false,
     "input": [
      "import numpy as np\n",
      "\n",
      "x = np.array([[1,2,3], [4,5,6], [7,8,9], [10,11,12]])\n",
      "v = np.array([[1,0,1]])\n",
      "y = x + v\n",
      "print y"
     ],
     "language": "python",
     "metadata": {},
     "outputs": [
      {
       "output_type": "stream",
       "stream": "stdout",
       "text": [
        "[[ 2  2  4]\n",
        " [ 5  5  7]\n",
        " [ 8  8 10]\n",
        " [11 11 13]]\n"
       ]
      }
     ],
     "prompt_number": 20
    },
    {
     "cell_type": "markdown",
     "metadata": {},
     "source": [
      "# Scipy\n",
      "Numpy\u63d0\u4f9b\u4e86\u9ad8\u6027\u80fd\u7684\u591a\u7ef4\u6570\u7ec4\uff0c\u548c\u57fa\u672c\u7684\u64cd\u4f5c\u548c\u8ba1\u7b97\u591a\u7ef4\u6570\u7ec4\u7684\u5de5\u5177\u3002Scipy\u63d0\u4f9b\u4e86\u5927\u91cf\u64cd\u4f5c\u8fd9\u4e9b\u9ad8\u7ef4\u6570\u7ec4\u7684\u51fd\u6570\u548c\u4e00\u4e9b\u79d1\u5b66\u8ba1\u7b97\u548c\u5de5\u7a0b\u8ba1\u7b97\u7684\u5de5\u5177\u3002\n",
      "## Image operations"
     ]
    },
    {
     "cell_type": "code",
     "collapsed": false,
     "input": [
      "from scipy.misc import imread, imsave, imresize\n",
      "\n",
      "img = imread('cat.jpg')\n",
      "print img.dtype, img.shape\n",
      "img_tinted = img * [1, 0.95, 0.9]\n",
      "img_tinted = imresize(img_tinted, (300, 300))\n",
      "imsave('cat_tinted.jpg', img_tinted)"
     ],
     "language": "python",
     "metadata": {},
     "outputs": [
      {
       "output_type": "stream",
       "stream": "stdout",
       "text": [
        "uint8 (400, 248, 3)\n"
       ]
      }
     ],
     "prompt_number": 24
    },
    {
     "cell_type": "markdown",
     "metadata": {},
     "source": [
      "## Matlab files\n",
      "\u51fd\u6570scipy.io.loadmat \u548c scipy.io.savemat \u5141\u8bb8\u6211\u4eec\u8bfb\u53d6\u548c\u5199matlab\u6587\u4ef6\u3002\u51fd\u6570scipy.spatial.distance.pdist\u53ef\u4ee5\u8ba1\u7b97\u88ab\u7ed9\u96c6\u5408\u91cc\u6240\u6709\u70b9\u7684\u8ddd\u79bb\u3002"
     ]
    },
    {
     "cell_type": "code",
     "collapsed": false,
     "input": [
      "import numpy as np\n",
      "from scipy.spatial.distance import pdist, squareform\n",
      "\n",
      "x = np.array([[0,1], [1,0], [2,0]])\n",
      "print x\n",
      "\n",
      "d = squareform(pdist(x, 'euclidean'))\n",
      "print d"
     ],
     "language": "python",
     "metadata": {},
     "outputs": [
      {
       "output_type": "stream",
       "stream": "stdout",
       "text": [
        "[[0 1]\n",
        " [1 0]\n",
        " [2 0]]\n",
        "[[ 0.          1.41421356  2.23606798]\n",
        " [ 1.41421356  0.          1.        ]\n",
        " [ 2.23606798  1.          0.        ]]\n"
       ]
      }
     ],
     "prompt_number": 25
    },
    {
     "cell_type": "markdown",
     "metadata": {},
     "source": [
      "# Matplotlib\n",
      "matplotlib \u662f\u4e00\u4e2a\u753b\u56fe\u5e93\u3002matplotlib.pyplot\u63d0\u4f9b\u4e86\u548cmatlab\u76f8\u4f3c\u7684\u753b\u56fe\u7cfb\u7edf\u3002\n",
      "## Plotting\n",
      "plot\u51fd\u6570\u7279\u5730\u753b2D\u6570\u636e"
     ]
    },
    {
     "cell_type": "code",
     "collapsed": false,
     "input": [
      "%matplotlib inline\n",
      "import numpy as np\n",
      "import matplotlib.pyplot as plt\n",
      "x = np.arange(0, 3 * np.pi, 0.1)\n",
      "y = np.sin(x)\n",
      "\n",
      "plt.plot(x, y)\n",
      "plt.show()"
     ],
     "language": "python",
     "metadata": {},
     "outputs": [
      {
       "metadata": {},
       "output_type": "display_data",
       "png": "[encoded data removed]",
       "text": [
        "<matplotlib.figure.Figure at 0x7f5105d08bd0>"
       ]
      }
     ],
     "prompt_number": 28
    },
    {
     "cell_type": "code",
     "collapsed": false,
     "input": [
      "%matplotlib inline\n",
      "import numpy as np\n",
      "import matplotlib.pyplot as plt\n",
      "\n",
      "x = np.arange(0, 3 * np.pi, 0.1)\n",
      "y_sin = np.sin(x)\n",
      "y_cos = np.cos(x)\n",
      "\n",
      "plt.plot(x, y_sin)\n",
      "plt.plot(x, y_cos)\n",
      "plt.xlabel('x axis label')\n",
      "plt.ylabel('y axis label')\n",
      "plt.title('Sine and Cosine')\n",
      "plt.legend(['Sine', 'Cosine'])\n",
      "plt.show()"
     ],
     "language": "python",
     "metadata": {},
     "outputs": [
      {
       "metadata": {},
       "output_type": "display_data",
       "png": "[encoded data removed]",
       "text": [
        "<matplotlib.figure.Figure at 0x7f50fef02250>"
       ]
      }
     ],
     "prompt_number": 29
    },
    {
     "cell_type": "markdown",
     "metadata": {},
     "source": [
      "## Subplots"
     ]
    },
    {
     "cell_type": "code",
     "collapsed": false,
     "input": [
      "%matplotlib inline\n",
      "import numpy as np\n",
      "import matplotlib.pyplot as plt\n",
      "\n",
      "x = np.arange(0, 3 * np.pi, 0.1)\n",
      "y_sin = np.sin(x)\n",
      "y_cos = np.cos(x)\n",
      "\n",
      "plt.subplot(2, 1, 1)\n",
      "plt.plot(x, y_sin)\n",
      "plt.title('Sine')\n",
      "\n",
      "plt.subplot(2, 1, 2)\n",
      "plt.plot(x, y_cos)\n",
      "plt.title('Cosine')\n",
      "\n",
      "plt.show()"
     ],
     "language": "python",
     "metadata": {},
     "outputs": [
      {
       "metadata": {},
       "output_type": "display_data",
       "png": "[encoded data removed]",
       "text": [
        "<matplotlib.figure.Figure at 0x7f50fee97450>"
       ]
      }
     ],
     "prompt_number": 30
    },
    {
     "cell_type": "markdown",
     "metadata": {},
     "source": [
      "## Images"
     ]
    },
    {
     "cell_type": "code",
     "collapsed": false,
     "input": [
      "%matplotlib inline\n",
      "import numpy as np\n",
      "from scipy.misc import imread, imresize\n",
      "import matplotlib.pyplot as plt\n",
      "\n",
      "img = imread('cat.jpg')\n",
      "img_tinted = img * [1, 0.95, 0.9]\n",
      "\n",
      "plt.subplot(1, 2, 1)\n",
      "plt.imshow(img)\n",
      "\n",
      "plt.subplot(1, 2, 2)\n",
      "plt.imshow(np.uint8(img_tinted))\n",
      "plt.show()"
     ],
     "language": "python",
     "metadata": {},
     "outputs": [
      {
       "metadata": {},
       "output_type": "display_data",
       "png": "[encoded data removed]",
       "text": [
        "<matplotlib.figure.Figure at 0x7f5101766690>"
       ]
      }
     ],
     "prompt_number": 33
    },
    {
     "cell_type": "code",
     "collapsed": false,
     "input": [],
     "language": "python",
     "metadata": {},
     "outputs": []
    }
   ],
   "metadata": {}
  }
 ]
}