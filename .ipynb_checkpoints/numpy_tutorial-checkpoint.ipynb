{
 "metadata": {
  "name": "",
  "signature": "sha256:1963126f02f09d479a7b74260cd383d300fc0b3cfb4372cf69644bfcb53b2afc"
 },
 "nbformat": 3,
 "nbformat_minor": 0,
 "worksheets": [
  {
   "cells": [
    {
     "cell_type": "markdown",
     "metadata": {},
     "source": [
      "## Python"
     ]
    },
    {
     "cell_type": "code",
     "collapsed": false,
     "input": [
      "def quicksort(arr):\n",
      "    if len(arr) <= 1:\n",
      "        return arr\n",
      "    pivot = arr[len(arr)/2]\n",
      "    left = [x for x in arr if x < pivot]\n",
      "    middle = [x for x in arr if x == pivot]\n",
      "    right = [x for x in arr if x > pivot]\n",
      "    return quicksort(left) + middle + quicksort(right)\n",
      "print quicksort([3,6,8,10,1,2,1])"
     ],
     "language": "python",
     "metadata": {},
     "outputs": [
      {
       "output_type": "stream",
       "stream": "stdout",
       "text": [
        "[1, 1, 2, 3, 6, 8, 10]\n"
       ]
      }
     ],
     "prompt_number": 1
    },
    {
     "cell_type": "markdown",
     "metadata": {},
     "source": [
      "## Basic data types\n",
      "#### Numbers: \u6574\u6570\u548c\u6d6e\u70b9\u6570"
     ]
    },
    {
     "cell_type": "code",
     "collapsed": false,
     "input": [
      "x = 3\n",
      "print type(x)\n",
      "print x\n",
      "print x + 1\n",
      "print x - 1\n",
      "print x * 2\n",
      "print x ** 2\n",
      "x += 1\n",
      "print x\n",
      "x *= 2\n",
      "print x\n",
      "y = 2.5\n",
      "print type(y)\n",
      "print y, y + 1, y * 2, y ** 2"
     ],
     "language": "python",
     "metadata": {},
     "outputs": [
      {
       "output_type": "stream",
       "stream": "stdout",
       "text": [
        "<type 'int'>\n",
        "3\n",
        "4\n",
        "2\n",
        "6\n",
        "9\n",
        "4\n",
        "8\n",
        "<type 'float'>\n",
        "2.5 3.5 5.0 6.25\n"
       ]
      }
     ],
     "prompt_number": 2
    },
    {
     "cell_type": "markdown",
     "metadata": {},
     "source": [
      "#### Boolean: python \u4f7f\u7528 \u82f1\u6587\u5355\u8bcd\u4f5c\u4e3a\u903b\u8f91\u8fd0\u7b97\u7b26\u53f7"
     ]
    },
    {
     "cell_type": "code",
     "collapsed": false,
     "input": [
      "t = True\n",
      "f = False\n",
      "print type(t)\n",
      "print t and f\n",
      "print t or f\n",
      "print not t\n",
      "print t != f"
     ],
     "language": "python",
     "metadata": {},
     "outputs": [
      {
       "output_type": "stream",
       "stream": "stdout",
       "text": [
        "<type 'bool'>\n",
        "False\n",
        "True\n",
        "False\n",
        "True\n"
       ]
      }
     ],
     "prompt_number": 3
    },
    {
     "cell_type": "markdown",
     "metadata": {},
     "source": [
      "#### Strings: python\u5f88\u597d\u5730\u652f\u6301\u5b57\u7b26\u4e32"
     ]
    },
    {
     "cell_type": "code",
     "collapsed": false,
     "input": [
      "hello = 'hello'\n",
      "world = 'world'\n",
      "print hello\n",
      "print len(hello)\n",
      "hw = hello + ' ' + world\n",
      "print hw\n",
      "hw12 = '%s %s %d' % (hello, world, 12)\n",
      "print hw12"
     ],
     "language": "python",
     "metadata": {},
     "outputs": [
      {
       "output_type": "stream",
       "stream": "stdout",
       "text": [
        "hello\n",
        "5\n",
        "hello world\n",
        "hello world 12\n"
       ]
      }
     ],
     "prompt_number": 4
    },
    {
     "cell_type": "code",
     "collapsed": false,
     "input": [
      "# string object \u7684 \u65b9\u6cd5\n",
      "s = 'hello'\n",
      "print s.capitalize()\n",
      "print s.upper()\n",
      "print s.rjust(7)\n",
      "print s.center(7)\n",
      "print s.replace('l','(ell)')\n",
      "print '  world '.strip()"
     ],
     "language": "python",
     "metadata": {},
     "outputs": [
      {
       "output_type": "stream",
       "stream": "stdout",
       "text": [
        "Hello\n",
        "HELLO\n",
        "  hello\n",
        " hello \n",
        "he(ell)(ell)o\n",
        "world\n"
       ]
      }
     ],
     "prompt_number": 5
    },
    {
     "cell_type": "markdown",
     "metadata": {},
     "source": [
      "## Containers\n",
      "python \u5305\u542b\u591a\u79cd\u5185\u7f6e\u7c7b\u578b\uff1a list, dictionary, set, and tuple"
     ]
    },
    {
     "cell_type": "markdown",
     "metadata": {},
     "source": [
      "### Lists\n",
      "list \u548c \u4f20\u7edf\u6570\u7ec4\u76f8\u4f3c\uff0c\u4f46\u662f\u53ef\u4ee5\u6539\u53d8\u5927\u5c0f\uff0c\u5e76\u4e14\uff0c\u80fd\u591f\u5bb9\u7eb3\u591a\u79cd\u4e0d\u540c\u7c7b\u578b\u7684\u6570\u636e\u3002"
     ]
    },
    {
     "cell_type": "code",
     "collapsed": false,
     "input": [
      "xs = [3, 1, 2]\n",
      "print xs, xs[2]\n",
      "print xs[-1]\n",
      "xs[2] = 'foo'\n",
      "print xs\n",
      "xs.append('bar')\n",
      "print xs\n",
      "x = xs.pop()\n",
      "print x, xs"
     ],
     "language": "python",
     "metadata": {},
     "outputs": [
      {
       "output_type": "stream",
       "stream": "stdout",
       "text": [
        "[3, 1, 2] 2\n",
        "2\n",
        "[3, 1, 'foo']\n",
        "[3, 1, 'foo', 'bar']\n",
        "bar [3, 1, 'foo']\n"
       ]
      }
     ],
     "prompt_number": 6
    },
    {
     "cell_type": "markdown",
     "metadata": {},
     "source": [
      "#### Slicing:\u8bbf\u95eesublist "
     ]
    },
    {
     "cell_type": "code",
     "collapsed": false,
     "input": [
      "nums = range(5)\n",
      "print nums\n",
      "print nums[2:4]\n",
      "print nums[2:]\n",
      "print nums[:2]\n",
      "print nums[:]\n",
      "print nums[:-1]\n",
      "nums[2:4] = [8, 9]\n",
      "print nums"
     ],
     "language": "python",
     "metadata": {},
     "outputs": [
      {
       "output_type": "stream",
       "stream": "stdout",
       "text": [
        "[0, 1, 2, 3, 4]\n",
        "[2, 3]\n",
        "[2, 3, 4]\n",
        "[0, 1]\n",
        "[0, 1, 2, 3, 4]\n",
        "[0, 1, 2, 3]\n",
        "[0, 1, 8, 9, 4]\n"
       ]
      }
     ],
     "prompt_number": 7
    },
    {
     "cell_type": "code",
     "collapsed": false,
     "input": [
      "nums[2:4] = [10,11,12]\n",
      "print nums"
     ],
     "language": "python",
     "metadata": {},
     "outputs": [
      {
       "output_type": "stream",
       "stream": "stdout",
       "text": [
        "[0, 1, 10, 11, 12, 4]\n"
       ]
      }
     ],
     "prompt_number": 8
    },
    {
     "cell_type": "markdown",
     "metadata": {},
     "source": [
      "#### Loops: \u904d\u5386list\u7684\u5143\u7d20"
     ]
    },
    {
     "cell_type": "code",
     "collapsed": false,
     "input": [
      "animals = ['cat', 'dog', 'monkey']\n",
      "for animal in animals:\n",
      "    print animal"
     ],
     "language": "python",
     "metadata": {},
     "outputs": [
      {
       "output_type": "stream",
       "stream": "stdout",
       "text": [
        "cat\n",
        "dog\n",
        "monkey\n"
       ]
      }
     ],
     "prompt_number": 9
    },
    {
     "cell_type": "code",
     "collapsed": false,
     "input": [
      "# \u8bbf\u95eelist \u4e2d\uff0c\u5143\u7d20\u7684\u7d22\u5f15\uff0c\u53ef\u4ee5\u4f7f\u7528enumerate\u51fd\u6570\n",
      "animals = ['cat', 'dog', 'monkey']\n",
      "for idx, animal in enumerate(animals):\n",
      "    print '#%d: %s' % (idx + 1, animal)"
     ],
     "language": "python",
     "metadata": {},
     "outputs": [
      {
       "output_type": "stream",
       "stream": "stdout",
       "text": [
        "#1: cat\n",
        "#2: dog\n",
        "#3: monkey\n"
       ]
      }
     ],
     "prompt_number": 10
    },
    {
     "cell_type": "markdown",
     "metadata": {},
     "source": [
      "#### list comprehensions"
     ]
    },
    {
     "cell_type": "code",
     "collapsed": false,
     "input": [
      "nums = [0, 1, 2, 3, 4]\n",
      "squares = []\n",
      "for x in nums:\n",
      "    squares.append(x ** 2)\n",
      "print squares"
     ],
     "language": "python",
     "metadata": {},
     "outputs": [
      {
       "output_type": "stream",
       "stream": "stdout",
       "text": [
        "[0, 1, 4, 9, 16]\n"
       ]
      }
     ],
     "prompt_number": 11
    },
    {
     "cell_type": "code",
     "collapsed": false,
     "input": [
      "nums = [0, 1, 2, 3, 4]\n",
      "even_squares = [x ** 2 for x in nums if x % 2 == 0]\n",
      "print even_squares"
     ],
     "language": "python",
     "metadata": {},
     "outputs": [
      {
       "output_type": "stream",
       "stream": "stdout",
       "text": [
        "[0, 4, 16]\n"
       ]
      }
     ],
     "prompt_number": 12
    },
    {
     "cell_type": "markdown",
     "metadata": {},
     "source": [
      "## Dictionaries\n",
      "dictionary stores (key, value) pairs, \u548c Map\u76f8\u4f3c\u3002"
     ]
    },
    {
     "cell_type": "code",
     "collapsed": false,
     "input": [
      "d = {'cat': 'cute', 'dog': 'furry'}\n",
      "print d['cat']\n",
      "print 'cat' in d\n",
      "d['fish'] = 'wet'\n",
      "print d['fish']"
     ],
     "language": "python",
     "metadata": {},
     "outputs": [
      {
       "output_type": "stream",
       "stream": "stdout",
       "text": [
        "cute\n",
        "True\n",
        "wet\n"
       ]
      }
     ],
     "prompt_number": 13
    },
    {
     "cell_type": "code",
     "collapsed": false,
     "input": [
      "print d['monkey']"
     ],
     "language": "python",
     "metadata": {},
     "outputs": [
      {
       "ename": "KeyError",
       "evalue": "'monkey'",
       "output_type": "pyerr",
       "traceback": [
        "\u001b[0;31m---------------------------------------------------------------------------\u001b[0m\n\u001b[0;31mKeyError\u001b[0m                                  Traceback (most recent call last)",
        "\u001b[0;32m<ipython-input-14-422a127ca156>\u001b[0m in \u001b[0;36m<module>\u001b[0;34m()\u001b[0m\n\u001b[0;32m----> 1\u001b[0;31m \u001b[0;32mprint\u001b[0m \u001b[0md\u001b[0m\u001b[0;34m[\u001b[0m\u001b[0;34m'monkey'\u001b[0m\u001b[0;34m]\u001b[0m\u001b[0;34m\u001b[0m\u001b[0m\n\u001b[0m",
        "\u001b[0;31mKeyError\u001b[0m: 'monkey'"
       ]
      }
     ],
     "prompt_number": 14
    },
    {
     "cell_type": "code",
     "collapsed": false,
     "input": [
      "print d.get('monkey', 'N/A')"
     ],
     "language": "python",
     "metadata": {},
     "outputs": [
      {
       "output_type": "stream",
       "stream": "stdout",
       "text": [
        "N/A\n"
       ]
      }
     ],
     "prompt_number": 16
    },
    {
     "cell_type": "code",
     "collapsed": false,
     "input": [
      "print d.get('fish', 'N/A')"
     ],
     "language": "python",
     "metadata": {},
     "outputs": [
      {
       "output_type": "stream",
       "stream": "stdout",
       "text": [
        "wet\n"
       ]
      }
     ],
     "prompt_number": 17
    },
    {
     "cell_type": "code",
     "collapsed": false,
     "input": [
      "del d['fish']"
     ],
     "language": "python",
     "metadata": {},
     "outputs": [],
     "prompt_number": 18
    },
    {
     "cell_type": "code",
     "collapsed": false,
     "input": [
      "print d"
     ],
     "language": "python",
     "metadata": {},
     "outputs": [
      {
       "output_type": "stream",
       "stream": "stdout",
       "text": [
        "{'dog': 'furry', 'cat': 'cute'}\n"
       ]
      }
     ],
     "prompt_number": 19
    },
    {
     "cell_type": "code",
     "collapsed": false,
     "input": [
      "for animal in d:\n",
      "    print animal"
     ],
     "language": "python",
     "metadata": {},
     "outputs": [
      {
       "output_type": "stream",
       "stream": "stdout",
       "text": [
        "dog\n",
        "cat\n"
       ]
      }
     ],
     "prompt_number": 23
    },
    {
     "cell_type": "code",
     "collapsed": false,
     "input": [
      "for animal, name in d.iteritems():\n",
      "    print animal, name"
     ],
     "language": "python",
     "metadata": {},
     "outputs": [
      {
       "output_type": "stream",
       "stream": "stdout",
       "text": [
        "dog furry\n",
        "cat cute\n"
       ]
      }
     ],
     "prompt_number": 24
    },
    {
     "cell_type": "markdown",
     "metadata": {},
     "source": [
      "## Sets\n",
      "set\u662f\u65e0\u5e8f\u7684\u5143\u7d20\u96c6\u5408\u3002"
     ]
    },
    {
     "cell_type": "code",
     "collapsed": false,
     "input": [
      "animals = {'cat', 'dog'}\n",
      "print 'cat' in animals\n",
      "print 'fish' in animals\n",
      "animals.add('fish')\n",
      "print 'fish' in animals\n",
      "animals.add('cat')\n",
      "print len(animals)\n",
      "animals.remove('cat')\n",
      "print len(animals)"
     ],
     "language": "python",
     "metadata": {},
     "outputs": [
      {
       "output_type": "stream",
       "stream": "stdout",
       "text": [
        "True\n",
        "False\n",
        "True\n",
        "3\n",
        "2\n"
       ]
      }
     ],
     "prompt_number": 25
    },
    {
     "cell_type": "markdown",
     "metadata": {},
     "source": [
      "## T"
     ]
    }
   ],
   "metadata": {}
  }
 ]
}